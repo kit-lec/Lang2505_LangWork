{
 "cells": [
  {
   "cell_type": "code",
   "execution_count": 1,
   "id": "6a5dbf62-6ab7-4f0e-8ac6-3d3002d67792",
   "metadata": {},
   "outputs": [
    {
     "name": "stdout",
     "output_type": "stream",
     "text": [
      "hello\n"
     ]
    }
   ],
   "source": [
    "print('hello')"
   ]
  },
  {
   "cell_type": "code",
   "execution_count": 2,
   "id": "fef518b4-7f63-4eb4-811a-ccdeb765acee",
   "metadata": {},
   "outputs": [
    {
     "data": {
      "text/plain": [
       "'HelloJupyter'"
      ]
     },
     "execution_count": 2,
     "metadata": {},
     "output_type": "execute_result"
    }
   ],
   "source": [
    "\"Hello\" + \"Jupyter\""
   ]
  },
  {
   "cell_type": "code",
   "execution_count": 3,
   "id": "a737aea3-49a2-4aa9-a81d-3a54a7efd442",
   "metadata": {},
   "outputs": [
    {
     "data": {
      "text/plain": [
       "100"
      ]
     },
     "execution_count": 3,
     "metadata": {},
     "output_type": "execute_result"
    }
   ],
   "source": [
    "100"
   ]
  },
  {
   "cell_type": "code",
   "execution_count": 4,
   "id": "2f23147a-f7ff-471d-a31a-8dd83c7f53f5",
   "metadata": {},
   "outputs": [
    {
     "data": {
      "text/plain": [
       "'Python'"
      ]
     },
     "execution_count": 4,
     "metadata": {},
     "output_type": "execute_result"
    }
   ],
   "source": [
    "\"Python\""
   ]
  },
  {
   "cell_type": "code",
   "execution_count": 5,
   "id": "8523c3ed-81d8-4157-8ee6-293dd3e037e8",
   "metadata": {},
   "outputs": [
    {
     "data": {
      "text/plain": [
       "200"
      ]
     },
     "execution_count": 5,
     "metadata": {},
     "output_type": "execute_result"
    }
   ],
   "source": [
    "200"
   ]
  },
  {
   "cell_type": "markdown",
   "id": "c29341bb-8d1d-419c-a4bf-02c8bad8b85d",
   "metadata": {},
   "source": [
    "# 제목1\n",
    "## 제목2"
   ]
  },
  {
   "cell_type": "code",
   "execution_count": 6,
   "id": "9afbd8a3-869d-4e44-873b-ca68c6ed0f00",
   "metadata": {},
   "outputs": [
    {
     "name": "stdout",
     "output_type": "stream",
     "text": [
      "py code\n"
     ]
    }
   ],
   "source": [
    "# 이것을 파이썬 코드 주석\n",
    "print('py code')"
   ]
  },
  {
   "cell_type": "code",
   "execution_count": null,
   "id": "88019782-baeb-41cd-8b4b-1e8c0f315925",
   "metadata": {},
   "outputs": [],
   "source": []
  },
  {
   "cell_type": "code",
   "execution_count": null,
   "id": "24f86f82-165c-4543-a948-b8a5c0d2a9d2",
   "metadata": {},
   "outputs": [],
   "source": []
  },
  {
   "cell_type": "code",
   "execution_count": null,
   "id": "9259c7b4-a54b-4fab-8ae6-84b8ae0f2c1b",
   "metadata": {},
   "outputs": [],
   "source": []
  },
  {
   "cell_type": "code",
   "execution_count": null,
   "id": "7cdc1c10-67f8-4f47-825b-205667b3a39d",
   "metadata": {},
   "outputs": [],
   "source": []
  },
  {
   "cell_type": "code",
   "execution_count": null,
   "id": "b48fedd5-a25a-475a-8869-2c5adc1c036c",
   "metadata": {},
   "outputs": [],
   "source": []
  },
  {
   "cell_type": "code",
   "execution_count": null,
   "id": "709474e6-ff24-462d-b3da-79a7e12dc6d7",
   "metadata": {},
   "outputs": [],
   "source": []
  },
  {
   "cell_type": "code",
   "execution_count": null,
   "id": "5d6038de-6887-4af1-94a2-3d3a1b6211f8",
   "metadata": {},
   "outputs": [],
   "source": []
  },
  {
   "cell_type": "code",
   "execution_count": null,
   "id": "c2018891-e36b-48bc-a971-a8f567ad29fd",
   "metadata": {},
   "outputs": [],
   "source": []
  },
  {
   "cell_type": "code",
   "execution_count": null,
   "id": "763d30dd-552b-4fdb-b7c6-e757ad57909c",
   "metadata": {},
   "outputs": [],
   "source": []
  },
  {
   "cell_type": "code",
   "execution_count": null,
   "id": "aff8d98f-f022-4ec2-a73a-0d47e5a5d76f",
   "metadata": {},
   "outputs": [],
   "source": []
  },
  {
   "cell_type": "code",
   "execution_count": null,
   "id": "3cb68df5-eb2a-45ef-8327-94c68f55cc8f",
   "metadata": {},
   "outputs": [],
   "source": []
  },
  {
   "cell_type": "code",
   "execution_count": null,
   "id": "c42bdea5-94dc-41f7-88fc-928e1f62b62e",
   "metadata": {},
   "outputs": [],
   "source": []
  },
  {
   "cell_type": "code",
   "execution_count": null,
   "id": "11cc083d-6a16-45cf-90e9-c2ae86820af6",
   "metadata": {},
   "outputs": [],
   "source": []
  },
  {
   "cell_type": "code",
   "execution_count": null,
   "id": "aa4d6590-e4cd-4a52-b0fd-734e14925d37",
   "metadata": {},
   "outputs": [],
   "source": []
  },
  {
   "cell_type": "code",
   "execution_count": null,
   "id": "f2529e2c-0cde-42b0-9e0c-9775205f9cbd",
   "metadata": {},
   "outputs": [],
   "source": []
  },
  {
   "cell_type": "code",
   "execution_count": null,
   "id": "8249bc26-a3ac-404c-9efd-1b53f6b33811",
   "metadata": {},
   "outputs": [],
   "source": []
  },
  {
   "cell_type": "code",
   "execution_count": null,
   "id": "c24f600b-76a4-4166-be39-557ffa8d2940",
   "metadata": {},
   "outputs": [],
   "source": []
  },
  {
   "cell_type": "code",
   "execution_count": null,
   "id": "a68da510-eac5-42d3-bcb9-413648b6bc07",
   "metadata": {},
   "outputs": [],
   "source": []
  },
  {
   "cell_type": "code",
   "execution_count": null,
   "id": "29fe40ee-6b7b-4734-98f8-8d27de5375fb",
   "metadata": {},
   "outputs": [],
   "source": []
  },
  {
   "cell_type": "code",
   "execution_count": null,
   "id": "4e0dafed-c1f8-4bf5-8327-4efdbcf0d6a4",
   "metadata": {},
   "outputs": [],
   "source": []
  },
  {
   "cell_type": "code",
   "execution_count": null,
   "id": "50262192-bb49-4e99-9583-dc979aa8e74c",
   "metadata": {},
   "outputs": [],
   "source": []
  },
  {
   "cell_type": "code",
   "execution_count": null,
   "id": "f10907fa-769a-4d90-adb0-e95cf20a6526",
   "metadata": {},
   "outputs": [],
   "source": []
  },
  {
   "cell_type": "code",
   "execution_count": null,
   "id": "b301bdb7-f50b-4bd5-a2f9-55b99d494e3f",
   "metadata": {},
   "outputs": [],
   "source": []
  },
  {
   "cell_type": "code",
   "execution_count": null,
   "id": "215c5318-c726-430b-b158-352356c1e637",
   "metadata": {},
   "outputs": [],
   "source": []
  },
  {
   "cell_type": "code",
   "execution_count": null,
   "id": "5c1d5d30-a9ad-4986-90c3-149e27e1a772",
   "metadata": {},
   "outputs": [],
   "source": []
  },
  {
   "cell_type": "code",
   "execution_count": null,
   "id": "8f0005f2-ca1c-48c7-b8d6-a01b2b3ab2c0",
   "metadata": {},
   "outputs": [],
   "source": []
  }
 ],
 "metadata": {
  "kernelspec": {
   "display_name": "Python 3 (ipykernel)",
   "language": "python",
   "name": "python3"
  },
  "language_info": {
   "codemirror_mode": {
    "name": "ipython",
    "version": 3
   },
   "file_extension": ".py",
   "mimetype": "text/x-python",
   "name": "python",
   "nbconvert_exporter": "python",
   "pygments_lexer": "ipython3",
   "version": "3.12.7"
  }
 },
 "nbformat": 4,
 "nbformat_minor": 5
}
