{
 "cells": [
  {
   "cell_type": "markdown",
   "id": "2781b83e-8c9d-4ad8-a1cc-ae4be6b34845",
   "metadata": {},
   "source": [
    "# Audio Extraction"
   ]
  },
  {
   "cell_type": "code",
   "execution_count": 1,
   "id": "262d2cd2-3fb9-46af-a8f6-b43884540b3a",
   "metadata": {},
   "outputs": [
    {
     "name": "stdout",
     "output_type": "stream",
     "text": [
      "\tOPENAI_API_KEY=sk-proj-iKU13YeoxNgF\n"
     ]
    }
   ],
   "source": [
    "import os\n",
    "from dotenv import load_dotenv\n",
    "load_dotenv()\n",
    "print(f'\\tOPENAI_API_KEY={os.getenv(\"OPENAI_API_KEY\")[:20]}')"
   ]
  },
  {
   "cell_type": "markdown",
   "id": "ec41f2b0-c6da-46fa-95fe-9f674e9ff017",
   "metadata": {},
   "source": [
    "## ffmpeg 사용: mp4 -> mp3 오디오 추출"
   ]
  },
  {
   "cell_type": "code",
   "execution_count": 2,
   "id": "6074e314-d3b9-4a32-88c6-ab88e5c0e845",
   "metadata": {},
   "outputs": [
    {
     "name": "stderr",
     "output_type": "stream",
     "text": [
      "ffmpeg version 2025-07-28-git-dc8e753f32-full_build-www.gyan.dev Copyright (c) 2000-2025 the FFmpeg developers\n",
      "  built with gcc 15.1.0 (Rev6, Built by MSYS2 project)\n",
      "  configuration: --enable-gpl --enable-version3 --enable-static --disable-w32threads --disable-autodetect --enable-fontconfig --enable-iconv --enable-gnutls --enable-lcms2 --enable-libxml2 --enable-gmp --enable-bzlib --enable-lzma --enable-libsnappy --enable-zlib --enable-librist --enable-libsrt --enable-libssh --enable-libzmq --enable-avisynth --enable-libbluray --enable-libcaca --enable-libdvdnav --enable-libdvdread --enable-sdl2 --enable-libaribb24 --enable-libaribcaption --enable-libdav1d --enable-libdavs2 --enable-libopenjpeg --enable-libquirc --enable-libuavs3d --enable-libxevd --enable-libzvbi --enable-liboapv --enable-libqrencode --enable-librav1e --enable-libsvtav1 --enable-libvvenc --enable-libwebp --enable-libx264 --enable-libx265 --enable-libxavs2 --enable-libxeve --enable-libxvid --enable-libaom --enable-libjxl --enable-libvpx --enable-mediafoundation --enable-libass --enable-frei0r --enable-libfreetype --enable-libfribidi --enable-libharfbuzz --enable-liblensfun --enable-libvidstab --enable-libvmaf --enable-libzimg --enable-amf --enable-cuda-llvm --enable-cuvid --enable-dxva2 --enable-d3d11va --enable-d3d12va --enable-ffnvcodec --enable-libvpl --enable-nvdec --enable-nvenc --enable-vaapi --enable-libshaderc --enable-vulkan --enable-libplacebo --enable-opencl --enable-libcdio --enable-openal --enable-libgme --enable-libmodplug --enable-libopenmpt --enable-libopencore-amrwb --enable-libmp3lame --enable-libshine --enable-libtheora --enable-libtwolame --enable-libvo-amrwbenc --enable-libcodec2 --enable-libilbc --enable-libgsm --enable-liblc3 --enable-libopencore-amrnb --enable-libopus --enable-libspeex --enable-libvorbis --enable-ladspa --enable-libbs2b --enable-libflite --enable-libmysofa --enable-librubberband --enable-libsoxr --enable-chromaprint\n",
      "  libavutil      60.  6.100 / 60.  6.100\n",
      "  libavcodec     62.  8.100 / 62.  8.100\n",
      "  libavformat    62.  1.103 / 62.  1.103\n",
      "  libavdevice    62.  0.100 / 62.  0.100\n",
      "  libavfilter    11.  3.100 / 11.  3.100\n",
      "  libswscale      9.  0.100 /  9.  0.100\n",
      "  libswresample   6.  0.100 /  6.  0.100\n",
      "Input #0, mov,mp4,m4a,3gp,3g2,mj2, from 'D:\\Lang2505\\dataset\\podcast.mp4':\n",
      "  Metadata:\n",
      "    major_brand     : mp42\n",
      "    minor_version   : 0\n",
      "    compatible_brands: isommp42\n",
      "    creation_time   : 2025-02-17T14:10:01.000000Z\n",
      "    encoder         : Google\n",
      "  Duration: 01:13:42.43, start: 0.000000, bitrate: 268 kb/s\n",
      "  Stream #0:0[0x1](und): Video: h264 (Main) (avc1 / 0x31637661), yuv420p(tv, bt709, progressive), 640x360 [SAR 1:1 DAR 16:9], 136 kb/s, 23.98 fps, 23.98 tbr, 24k tbn (default)\n",
      "    Metadata:\n",
      "      creation_time   : 2025-02-17T14:10:01.000000Z\n",
      "      handler_name    : ISO Media file produced by Google Inc. Created on: 02/17/2025.\n",
      "      vendor_id       : [0][0][0][0]\n",
      "  Stream #0:1[0x2](eng): Audio: aac (LC) (mp4a / 0x6134706D), 44100 Hz, stereo, fltp, 128 kb/s (default)\n",
      "    Metadata:\n",
      "      creation_time   : 2025-02-17T14:10:01.000000Z\n",
      "      handler_name    : ISO Media file produced by Google Inc. Created on: 02/17/2025.\n",
      "      vendor_id       : [0][0][0][0]\n",
      "Stream mapping:\n",
      "  Stream #0:1 -> #0:0 (aac (native) -> mp3 (libmp3lame))\n",
      "Press [q] to stop, [?] for help\n",
      "Output #0, mp3, to 'D:\\Lang2505\\dataset\\audio.mp3':\n",
      "  Metadata:\n",
      "    major_brand     : mp42\n",
      "    minor_version   : 0\n",
      "    compatible_brands: isommp42\n",
      "    TSSE            : Lavf62.1.103\n",
      "  Stream #0:0(eng): Audio: mp3, 44100 Hz, stereo, fltp (default)\n",
      "    Metadata:\n",
      "      encoder         : Lavc62.8.100 libmp3lame\n",
      "      creation_time   : 2025-02-17T14:10:01.000000Z\n",
      "      handler_name    : ISO Media file produced by Google Inc. Created on: 02/17/2025.\n",
      "      vendor_id       : [0][0][0][0]\n",
      "size=     768KiB time=00:00:55.22 bitrate= 113.9kbits/s speed= 107x elapsed=0:00:00.51    \n",
      "size=    1792KiB time=00:02:01.44 bitrate= 120.9kbits/s speed= 117x elapsed=0:00:01.03    \n",
      "size=    2816KiB time=00:03:08.63 bitrate= 122.3kbits/s speed= 121x elapsed=0:00:01.55    \n",
      "size=    3840KiB time=00:04:15.97 bitrate= 122.9kbits/s speed= 124x elapsed=0:00:02.07    \n",
      "size=    4864KiB time=00:05:23.00 bitrate= 123.4kbits/s speed= 125x elapsed=0:00:02.58    \n",
      "size=    5888KiB time=00:06:30.71 bitrate= 123.5kbits/s speed= 126x elapsed=0:00:03.10    \n",
      "size=    6912KiB time=00:07:36.43 bitrate= 124.1kbits/s speed= 126x elapsed=0:00:03.61    \n",
      "size=    7936KiB time=00:08:42.92 bitrate= 124.3kbits/s speed= 127x elapsed=0:00:04.13    \n",
      "size=    8960KiB time=00:09:49.27 bitrate= 124.6kbits/s speed= 127x elapsed=0:00:04.64    \n",
      "size=   10240KiB time=00:10:57.94 bitrate= 127.5kbits/s speed= 127x elapsed=0:00:05.16    \n",
      "size=   11264KiB time=00:12:04.24 bitrate= 127.4kbits/s speed= 128x elapsed=0:00:05.67    \n",
      "size=   12288KiB time=00:13:11.11 bitrate= 127.2kbits/s speed= 128x elapsed=0:00:06.19    \n",
      "size=   13312KiB time=00:14:17.94 bitrate= 127.1kbits/s speed= 128x elapsed=0:00:06.70    \n",
      "size=   14336KiB time=00:15:26.69 bitrate= 126.7kbits/s speed= 128x elapsed=0:00:07.22    \n",
      "size=   15360KiB time=00:16:28.44 bitrate= 127.3kbits/s speed= 128x elapsed=0:00:07.74    \n",
      "size=   16384KiB time=00:17:35.71 bitrate= 127.1kbits/s speed= 128x elapsed=0:00:08.25    \n",
      "size=   17408KiB time=00:18:42.32 bitrate= 127.1kbits/s speed= 128x elapsed=0:00:08.77    \n",
      "size=   18432KiB time=00:19:46.56 bitrate= 127.3kbits/s speed= 128x elapsed=0:00:09.28    \n",
      "size=   19456KiB time=00:20:51.81 bitrate= 127.3kbits/s speed= 128x elapsed=0:00:09.79    \n",
      "size=   20480KiB time=00:22:02.73 bitrate= 126.8kbits/s speed= 128x elapsed=0:00:10.32    \n",
      "size=   21504KiB time=00:23:05.84 bitrate= 127.1kbits/s speed= 128x elapsed=0:00:10.82    \n",
      "size=   22528KiB time=00:24:12.33 bitrate= 127.1kbits/s speed= 128x elapsed=0:00:11.34    \n",
      "size=   23552KiB time=00:25:19.41 bitrate= 127.0kbits/s speed= 128x elapsed=0:00:11.87    \n",
      "size=   24576KiB time=00:26:25.73 bitrate= 127.0kbits/s speed= 128x elapsed=0:00:12.38    \n",
      "size=   25600KiB time=00:27:31.41 bitrate= 127.0kbits/s speed= 128x elapsed=0:00:12.89    \n",
      "size=   26624KiB time=00:28:40.26 bitrate= 126.8kbits/s speed= 128x elapsed=0:00:13.41    \n",
      "size=   27904KiB time=00:29:48.00 bitrate= 127.8kbits/s speed= 128x elapsed=0:00:13.93    \n",
      "size=   28928KiB time=00:30:56.07 bitrate= 127.7kbits/s speed= 129x elapsed=0:00:14.44    \n",
      "size=   29952KiB time=00:32:03.47 bitrate= 127.6kbits/s speed= 129x elapsed=0:00:14.96    \n",
      "size=   30976KiB time=00:33:10.79 bitrate= 127.5kbits/s speed= 129x elapsed=0:00:15.47    \n",
      "size=   32000KiB time=00:34:15.96 bitrate= 127.5kbits/s speed= 129x elapsed=0:00:15.98    \n",
      "size=   33024KiB time=00:35:23.12 bitrate= 127.4kbits/s speed= 129x elapsed=0:00:16.50    \n",
      "size=   34048KiB time=00:36:30.00 bitrate= 127.4kbits/s speed= 129x elapsed=0:00:17.01    \n",
      "size=   35072KiB time=00:37:37.63 bitrate= 127.3kbits/s speed= 129x elapsed=0:00:17.53    \n",
      "size=   36096KiB time=00:38:44.48 bitrate= 127.2kbits/s speed= 129x elapsed=0:00:18.04    \n",
      "size=   37120KiB time=00:39:50.72 bitrate= 127.2kbits/s speed= 129x elapsed=0:00:18.57    \n",
      "size=   38144KiB time=00:40:54.57 bitrate= 127.3kbits/s speed= 129x elapsed=0:00:19.08    \n",
      "size=   39168KiB time=00:41:57.36 bitrate= 127.5kbits/s speed= 128x elapsed=0:00:19.59    \n",
      "size=   40192KiB time=00:43:02.30 bitrate= 127.5kbits/s speed= 128x elapsed=0:00:20.12    \n",
      "size=   41216KiB time=00:44:04.03 bitrate= 127.7kbits/s speed= 128x elapsed=0:00:20.63    \n",
      "size=   42240KiB time=00:45:04.19 bitrate= 128.0kbits/s speed= 128x elapsed=0:00:21.14    \n",
      "size=   43264KiB time=00:46:09.79 bitrate= 128.0kbits/s speed= 128x elapsed=0:00:21.65    \n",
      "size=   44288KiB time=00:47:16.61 bitrate= 127.9kbits/s speed= 128x elapsed=0:00:22.17    \n",
      "size=   45312KiB time=00:48:20.24 bitrate= 128.0kbits/s speed= 128x elapsed=0:00:22.69    \n",
      "size=   46336KiB time=00:49:26.12 bitrate= 128.0kbits/s speed= 128x elapsed=0:00:23.20    \n",
      "size=   47360KiB time=00:50:32.79 bitrate= 127.9kbits/s speed= 128x elapsed=0:00:23.71    \n",
      "size=   48128KiB time=00:51:35.61 bitrate= 127.4kbits/s speed= 128x elapsed=0:00:24.23    \n",
      "size=   49408KiB time=00:52:42.64 bitrate= 128.0kbits/s speed= 128x elapsed=0:00:24.76    \n",
      "size=   50432KiB time=00:53:48.26 bitrate= 128.0kbits/s speed= 128x elapsed=0:00:25.27    \n",
      "size=   51456KiB time=00:54:54.12 bitrate= 128.0kbits/s speed= 128x elapsed=0:00:25.78    \n",
      "size=   52224KiB time=00:55:57.51 bitrate= 127.4kbits/s speed= 128x elapsed=0:00:26.30    \n",
      "size=   53248KiB time=00:57:03.97 bitrate= 127.4kbits/s speed= 128x elapsed=0:00:26.81    \n",
      "size=   54528KiB time=00:58:10.63 bitrate= 128.0kbits/s speed= 128x elapsed=0:00:27.33    \n",
      "size=   55296KiB time=00:59:14.48 bitrate= 127.4kbits/s speed= 128x elapsed=0:00:27.84    \n",
      "size=   56320KiB time=01:00:20.59 bitrate= 127.4kbits/s speed= 128x elapsed=0:00:28.36    \n",
      "size=   57344KiB time=01:01:21.56 bitrate= 127.6kbits/s speed= 128x elapsed=0:00:28.87    \n",
      "size=   58368KiB time=01:02:24.70 bitrate= 127.7kbits/s speed= 127x elapsed=0:00:29.39    \n",
      "size=   59392KiB time=01:03:31.39 bitrate= 127.7kbits/s speed= 127x elapsed=0:00:29.90    \n",
      "size=   60416KiB time=01:04:37.95 bitrate= 127.6kbits/s speed= 127x elapsed=0:00:30.42    \n",
      "size=   61440KiB time=01:05:43.73 bitrate= 127.6kbits/s speed= 127x elapsed=0:00:30.93    \n",
      "size=   62464KiB time=01:06:49.37 bitrate= 127.6kbits/s speed= 127x elapsed=0:00:31.46    \n",
      "size=   63488KiB time=01:07:54.81 bitrate= 127.6kbits/s speed= 127x elapsed=0:00:31.97    \n",
      "size=   64512KiB time=01:09:01.55 bitrate= 127.6kbits/s speed= 127x elapsed=0:00:32.49    \n",
      "size=   65536KiB time=01:10:06.89 bitrate= 127.6kbits/s speed= 127x elapsed=0:00:33.00    \n",
      "size=   66560KiB time=01:11:12.14 bitrate= 127.6kbits/s speed= 127x elapsed=0:00:33.51    \n",
      "size=   67584KiB time=01:12:19.41 bitrate= 127.6kbits/s speed= 128x elapsed=0:00:34.03    \n",
      "size=   68608KiB time=01:13:20.79 bitrate= 127.7kbits/s speed= 127x elapsed=0:00:34.55    \n",
      "[out#0/mp3 @ 000001524d656040] video:0KiB audio:69101KiB subtitle:0KiB other streams:0KiB global headers:0KiB muxing overhead: 0.000488%\n",
      "size=   69101KiB time=01:13:42.42 bitrate= 128.0kbits/s speed= 127x elapsed=0:00:34.82    \n"
     ]
    }
   ],
   "source": [
    "!ffmpeg -i D:\\Lang2505\\dataset\\podcast.mp4 -vn D:\\Lang2505\\dataset\\audio.mp3 -y"
   ]
  },
  {
   "cell_type": "code",
   "execution_count": null,
   "id": "48bf3f07-2807-4cc8-83d7-bab5bde1757c",
   "metadata": {},
   "outputs": [],
   "source": [
    "# -i 옵션 : input. 입력 파일 지정 (여러개 지정 가능)\n",
    "# -vn 옵션 : disable video. 비디오는 무시하고 오디오만 추출\n",
    "# -y 옵션 : 덮어쓰기 할때 y/n 사용자 입력 대디하지 않고 yes 로 진행"
   ]
  },
  {
   "cell_type": "markdown",
   "id": "f9221180-e118-460a-b00a-cb4c51ce495e",
   "metadata": {},
   "source": [
    "## 오디오 추출 함수 작성"
   ]
  },
  {
   "cell_type": "code",
   "execution_count": 3,
   "id": "cee4a50e-ba0b-44f3-add5-bc1ce17b1f21",
   "metadata": {},
   "outputs": [],
   "source": [
    "import subprocess"
   ]
  },
  {
   "cell_type": "code",
   "execution_count": 4,
   "id": "4972981d-d9dc-4c31-a1fd-719fe9b7ec64",
   "metadata": {},
   "outputs": [
    {
     "name": "stdout",
     "output_type": "stream",
     "text": [
      "D:\\Lang2505\\dataset\\podcast.mp4\n",
      "D:\\Lang2505\\dataset\\audio.mp3\n"
     ]
    }
   ],
   "source": [
    "base_path = r'D:\\Lang2505\\dataset'  # 동영상 경로\n",
    "out_path = r'D:\\Lang2505\\dataset\\out' # 분할 오디오 추출 경로\n",
    "\n",
    "video_file = 'podcast.mp4'\n",
    "audio_file = 'audio.mp3'\n",
    "\n",
    "src_path = os.path.join(base_path, video_file)\n",
    "dst_path = os.path.join(base_path, audio_file)\n",
    "\n",
    "print(src_path)\n",
    "print(dst_path)"
   ]
  },
  {
   "cell_type": "code",
   "execution_count": 5,
   "id": "5b7d37ba-79e0-438e-b531-91e25bb93c58",
   "metadata": {},
   "outputs": [],
   "source": [
    "# video_path: 동영상 경로\n",
    "# audio_path: 추출한 오디오 경로\n",
    "def extract_audio_from_video(video_path, audio_path):\n",
    "    # CLI 에서 실행할 command 준비\n",
    "    # 커맨드창 (CLI) 에서 명령은 아래와 같다.\n",
    "    #  > ffmpeg -i D:\\dataset\\podcast.mp4 -vn D:\\NLP2501\\dataset\\audio.mp3 -y\n",
    "    command = [\"ffmpeg\", \"-i\", video_path, \"-vn\", audio_path, \"-y\"]  \n",
    "    subprocess.run(command)\n",
    "    "
   ]
  },
  {
   "cell_type": "code",
   "execution_count": 6,
   "id": "2cda8f2d-664a-4c2c-9ac1-1119b144a025",
   "metadata": {},
   "outputs": [],
   "source": [
    "extract_audio_from_video(src_path, dst_path)"
   ]
  },
  {
   "cell_type": "markdown",
   "id": "8d9786a6-2190-4b61-80a0-eb265a302064",
   "metadata": {},
   "source": [
    "# Cutting the Audio"
   ]
  },
  {
   "cell_type": "code",
   "execution_count": null,
   "id": "97da3c81-3b43-47a4-9926-20c1556a4573",
   "metadata": {},
   "outputs": [],
   "source": [
    "# Whisper API 의 최대 입력 오디오길이가 10분.\n",
    "# 원돈 오디오를 10분 단위로 쪼개기"
   ]
  },
  {
   "cell_type": "code",
   "execution_count": null,
   "id": "c98dfb20-e97b-424e-a206-6f9dbde4fa8a",
   "metadata": {},
   "outputs": [],
   "source": [
    "# pydub 패키지\n",
    "#  공식: https://github.com/jiaaro/pydub \n",
    "#  pip install pydub  <- 설치 필요  (사전에 ffmpeg 가 설치되고 경로 설정도 되어 있어야 한다)\n"
   ]
  },
  {
   "cell_type": "code",
   "execution_count": 7,
   "id": "feec5ac2-e61c-4101-92f8-50de123bd6d0",
   "metadata": {},
   "outputs": [],
   "source": [
    "from pydub import AudioSegment"
   ]
  },
  {
   "cell_type": "code",
   "execution_count": 8,
   "id": "b08ab2e7-e7e0-4284-b49e-c5bb5631b1df",
   "metadata": {},
   "outputs": [],
   "source": [
    "track = AudioSegment.from_mp3(dst_path)"
   ]
  },
  {
   "cell_type": "code",
   "execution_count": 20,
   "id": "698ebdfa-ac1b-4a6e-8535-1b9e74559da3",
   "metadata": {},
   "outputs": [],
   "source": [
    "# track"
   ]
  },
  {
   "cell_type": "code",
   "execution_count": 10,
   "id": "96f6c8e4-6a06-4d22-b284-c1e22a10d855",
   "metadata": {},
   "outputs": [
    {
     "data": {
      "text/plain": [
       "4422.426122448979"
      ]
     },
     "execution_count": 10,
     "metadata": {},
     "output_type": "execute_result"
    }
   ],
   "source": [
    "track.duration_seconds"
   ]
  },
  {
   "cell_type": "code",
   "execution_count": 11,
   "id": "a728f961-bbd4-4f1c-b23a-a5ced410673c",
   "metadata": {},
   "outputs": [
    {
     "data": {
      "text/plain": [
       "4422426"
      ]
     },
     "execution_count": 11,
     "metadata": {},
     "output_type": "execute_result"
    }
   ],
   "source": [
    "len(track) # ms"
   ]
  },
  {
   "cell_type": "code",
   "execution_count": 19,
   "id": "3e8df69d-f876-475f-b3ad-ab32c5a4f870",
   "metadata": {},
   "outputs": [],
   "source": [
    "# 오디오의 첫 5분선택\n",
    "five_minutes = 5 * 60 * 1000 # 단위 ms\n",
    "\n",
    "first_five = track[:five_minutes]\n",
    "\n",
    "# first_five"
   ]
  },
  {
   "cell_type": "code",
   "execution_count": 13,
   "id": "f7f260e3-a94a-4a89-b726-f02c336fb65e",
   "metadata": {},
   "outputs": [
    {
     "data": {
      "text/plain": [
       "300.0"
      ]
     },
     "execution_count": 13,
     "metadata": {},
     "output_type": "execute_result"
    }
   ],
   "source": [
    "first_five.duration_seconds"
   ]
  },
  {
   "cell_type": "code",
   "execution_count": 14,
   "id": "ae4d1e52-10ac-43f7-bb35-78ce137d66c5",
   "metadata": {},
   "outputs": [
    {
     "data": {
      "text/plain": [
       "<_io.BufferedRandom name='D:\\\\Lang2505\\\\dataset\\\\out\\\\first_five.mp3'>"
      ]
     },
     "execution_count": 14,
     "metadata": {},
     "output_type": "execute_result"
    }
   ],
   "source": [
    "# export 하기\n",
    "first_five.export(os.path.join(out_path, 'first_five.mp3'), format='mp3')"
   ]
  },
  {
   "cell_type": "markdown",
   "id": "e93e85c8-9c32-449c-a259-95a32f4e3520",
   "metadata": {},
   "source": [
    "## 오디오 파일 분할 "
   ]
  },
  {
   "cell_type": "code",
   "execution_count": 15,
   "id": "ca9520dd-f0fd-41b3-a838-7d777475ef80",
   "metadata": {},
   "outputs": [],
   "source": [
    "ten_minutes = 10 * 60 * 1000"
   ]
  },
  {
   "cell_type": "code",
   "execution_count": 16,
   "id": "c2d841c6-1f78-469f-a74e-4a4bebfcf499",
   "metadata": {},
   "outputs": [
    {
     "data": {
      "text/plain": [
       "7.37071"
      ]
     },
     "execution_count": 16,
     "metadata": {},
     "output_type": "execute_result"
    }
   ],
   "source": [
    "len(track) / ten_minutes"
   ]
  },
  {
   "cell_type": "code",
   "execution_count": 17,
   "id": "d2a88d0e-206e-4e7b-b763-392099f8dce9",
   "metadata": {},
   "outputs": [
    {
     "data": {
      "text/plain": [
       "8"
      ]
     },
     "execution_count": 17,
     "metadata": {},
     "output_type": "execute_result"
    }
   ],
   "source": [
    "import math\n",
    "\n",
    "chunks = math.ceil(len(track) / ten_minutes)\n",
    "\n",
    "chunks  # 쪼개질 덩어리들."
   ]
  },
  {
   "cell_type": "code",
   "execution_count": 21,
   "id": "af0d4d77-022b-4c7c-bc76-2046e49d6e72",
   "metadata": {},
   "outputs": [
    {
     "name": "stdout",
     "output_type": "stream",
     "text": [
      "0 start: 0  end 600000\n",
      "1 start: 600000  end 1200000\n",
      "2 start: 1200000  end 1800000\n",
      "3 start: 1800000  end 2400000\n",
      "4 start: 2400000  end 3000000\n",
      "5 start: 3000000  end 3600000\n",
      "6 start: 3600000  end 4200000\n",
      "7 start: 4200000  end 4800000\n"
     ]
    }
   ],
   "source": [
    "for i in range(chunks):\n",
    "    start_time = i * ten_minutes\n",
    "    end_time = (i + 1) * ten_minutes\n",
    "    print(f\"{i} start: {start_time}  end {end_time}\")    "
   ]
  },
  {
   "cell_type": "code",
   "execution_count": 22,
   "id": "62dbcb88-9ed8-47a4-9bfe-903353b4e68c",
   "metadata": {},
   "outputs": [
    {
     "name": "stdout",
     "output_type": "stream",
     "text": [
      "0 start: 0  end 600000\n",
      "1 start: 600000  end 1200000\n",
      "2 start: 1200000  end 1800000\n",
      "3 start: 1800000  end 2400000\n",
      "4 start: 2400000  end 3000000\n",
      "5 start: 3000000  end 3600000\n",
      "6 start: 3600000  end 4200000\n",
      "7 start: 4200000  end 4800000\n"
     ]
    }
   ],
   "source": [
    "for i in range(chunks):\n",
    "    start_time = i * ten_minutes\n",
    "    end_time = (i + 1) * ten_minutes\n",
    "    print(f\"{i} start: {start_time}  end {end_time}\")  \n",
    "\n",
    "    chunk = track[start_time:end_time]\n",
    "    chunk.export(os.path.join(out_path, f'chunk_{i}.mp3'), format='mp3')"
   ]
  },
  {
   "cell_type": "code",
   "execution_count": 23,
   "id": "2f47e04c-bbd4-46d0-896c-b9097bcd896b",
   "metadata": {},
   "outputs": [
    {
     "name": "stdout",
     "output_type": "stream",
     "text": [
      " D 드라이브의 볼륨: 새 볼륨\n",
      " 볼륨 일련 번호: 02B1-19A2\n",
      "\n",
      " D:\\Lang2505\\dataset\\out 디렉터리\n",
      "\n",
      "2025-07-30  오후 08:02         9,600,774 chunk_0.mp3\n",
      "2025-07-30  오후 08:02         9,600,774 chunk_1.mp3\n",
      "2025-07-30  오후 08:03         9,600,774 chunk_2.mp3\n",
      "2025-07-30  오후 08:03         9,600,774 chunk_3.mp3\n",
      "2025-07-30  오후 08:03         9,600,774 chunk_4.mp3\n",
      "2025-07-30  오후 08:03         9,600,774 chunk_5.mp3\n",
      "2025-07-30  오후 08:03         9,600,774 chunk_6.mp3\n",
      "2025-07-30  오후 08:03         3,559,592 chunk_7.mp3\n",
      "2025-07-30  오후 07:45         4,800,931 first_five.mp3\n",
      "               9개 파일          75,565,941 바이트\n",
      "               0개 디렉터리  461,113,454,592 바이트 남음\n"
     ]
    }
   ],
   "source": [
    "!dir D:\\Lang2505\\dataset\\out\\*.mp3"
   ]
  },
  {
   "cell_type": "markdown",
   "id": "2ba8036e-318f-4d43-8731-218cdfbbd6f3",
   "metadata": {},
   "source": [
    "# Whisper Transcript"
   ]
  },
  {
   "cell_type": "code",
   "execution_count": 24,
   "id": "f47d0194-487d-49fd-8417-f3b5f847e2e5",
   "metadata": {},
   "outputs": [],
   "source": [
    "import openai"
   ]
  },
  {
   "cell_type": "code",
   "execution_count": 27,
   "id": "a00620e8-2c0b-41ce-8d33-8a1359256f0e",
   "metadata": {},
   "outputs": [
    {
     "data": {
      "text/plain": [
       "Transcription(text=\"If success is this lagging indicator of commitment now, how can you be sure that you are paying your dues? The best-selling author and host. The number one health and wellness podcast. On Purpose with Jay Shetty. Society has gone in the direction of becoming addicted to pleasure. Yes. Or pleasure-seeking. Where, from the Stoics' perspective, why did we even ever go down that road? Like, why did we leave wisdom and self-control? Or did we never have it at all and we've always been trying to balance it? Yeah. I mean, I guess that's the big question is, like, why do we take something that we like too far? Yeah. Right. So the Epicureans would say like, look, drinking is great, but if you have a hangover the next day, was it actually so great? And so, you know, if you, if you push the pleasure too far, it becomes not pleasurable, but in the moment that feels very far away, right? Like in the moment you want the thing now, obviously sex is this thing for people, it's like the thing you're attracted to in this moment, you're not thinking about the shame or the regret or the consequences or the pain or the loss. You're not thinking of all those things you're just thinking of right now. So I think a big part of this, this is where the wisdom comes in, the ability to step back and go, what am I going to think about this after I get it? What am I going to think about this later? And realizing that your mind is very good at tricking you. Just as your mind often tells you like, stop, you're too tired. You can't go any further. You actually have a lot less left in the tank. Your mind also tells you, you need this thing. You won't regret it. It's amazing, you know, whatever. And it's, it's really good at putting those blinders on. And so part of, I think any meditative practice, any philosophical practice, any journaling practice is, is being able to argue with yourself a little bit, to step back and have that conversation about, well, is what I think about this true, is the story I'm telling myself about this true, I think nowhere is this more important than for like ambitious people who have told themselves, I will be happy when I accomplish X, right? Like all the things we need to be most disciplined about ambition is one of them, because it tells you this lie that after I become a New York Times bestseller, after I make a million dollars, after I get a gold medal, then I'll be good. The parents will be proud of me. I'll be happy. Then I can relax. And you have to have the perspective, the wisdom to go, was that ever been true ever in my life before? Has that ever been true in history? And then go, oh, okay, no, I can't tell myself that lie. That doesn't mean you don't work really hard to do stuff, but you're not doing it under the false pretenses that it's going to be conditional to your happiness. Yeah. But there's a part of us that, and I, and I love what you're saying, but there's a part of us that always believes that we are the exception, that we will know how to spend money better, that we'll know how to have love in our life better. Like we won't be the one who fumbles off the edge of a cliff. Like we're smarter than all our friends. Even if we don't say that we're wiser than the people who came before us. And that's the, and that's ego is the enemy. But of course, like that, that idea, I think is what misleads us so much. Yes. Yeah. It's, it's like, okay, you're on the medal stand. You've just won the gold medal and you're not feeling happy for yourself. You're thinking, well, I could have done it faster. You're thinking, oh, I got to do it again. Right? Even in that moment, you're not able to think I'm doing it to myself right now, what I will be doing to myself in the future. And that's this sort of insidious thing. And you can understand why from an evolutionary perspective, it drives the species forward. You can also see the immense personal cost that it inflicts on us because it never allows us to be present or content or happy with what we have in that moment. And so I think, again, people think discipline is the, I always push myself to do better, do more. Discipline can also be curbing that very impulse, right? Like ordinary people, when we're talking about discipline, what we're talking about is getting off your butt, working out, resisting eating candy and eating nutritious food instead. It's, you know, managing your screen time. But I think for a lot of more disciplined people or for people who have tasted the rewards of discipline, you have to learn how to be disciplined about discipline, which is maybe the highest level of the whole thing. Yeah, yeah, exactly. Now we're, I guess now we've started talking about discipline as a tool to achieve daily or weekly, monthly, yearly tasks, but you're actually saying that we need to go back a bit. Like, how would you unpack that for how you're defining discipline there? Well, it's like, what's the number one cause of injury for athletes? It's overtraining, right? So like, yeah, you're ordinary person. It's like, you're not training enough. You're not working hard enough. Yeah. But then at a more elite level, at a more accomplished level, actually the trouble is, Hey, the race isn't for six weeks. Like you, do you want to peak now or do you want to peak at the right moment? Right. Or this is just a practice session. You don't have to go all out or, you know, it's a long season. Are you prepared for that? And so, you know, discipline has to be balanced with sustainability, with rest, relaxation, recuperation, recovery, all these other things. And that requires kind of a spiritual discipline on not just, Hey, I can run an hour without getting tired, but like, can I stop myself from doing that? If that's not what I should be doing in this moment. Yeah. And what I like about that is that I feel there's different phases and stages. Like in the first two years of my career where we would have met in New York and we went on a walk once as well, I think. And we were walking around the city and I remember talking about a few of these themes, but it was at that time in my life, I was working probably 18 hour days. Sure. Because I had to, in order to kind of break through that first level, I was still disciplined in the sense that I would make time to eat to some degree and meditate. And I would make some time to do a few things of rest, but generally I was working seven days a week, 18 hours a day. And I'm very grateful I did that. I don't look back and go, Oh, I wasted two years. It was brilliant. But then in the last couple of years, I've taken my evenings back. And so I don't work after 6 PM. It's just a rule. I don't want to work. I don't want to be on the phone. And I was talking to a friend and it's exactly what you said. He was saying to me, he was just like, well, don't you get less done? And I was like, no, I get more done because I know how much I have to get done. I'm far more attentive and focused. And then I'm not working at 9 PM when I can rest and recuperate. And now the next day I'm, I'm better for it. And so I hear that idea that that is also a discipline, although it could be seen as you being lazy in the evening. And I think it's the question of, well, is it easy for you to do that? Yes or no? Right. It's hard. It's actually harder for you. I imagine to say I'm stopping at six than it is to say I'm going to work all night till I fall asleep at my desk. Right. Like, yeah, I could do that. Yeah. If my wife's not around, I can work every weekend and evening. And also it's realizing that you have multiple things that you're trying to do simultaneously. So yeah, sure. Working, continuing to work 18 hour days may help you continue to advance in your career. But if one of the, also the other things you're trying to work on is to stay married or to better yet have a happy marriage or you have children or you have your health or whatever, like you were telling me before we recorded that you like, you got in at 3 a.m. last night. Let's say you're a person who always wakes up very early. Like I'm a person who wakes up early, but then I also have to understand that sleep is a discipline. And so if some changes outside my control mean that I didn't go to bed to a certain time, the fact that I wake up at five, that's bad idea. And it actually requires it. You wouldn't think that sleep discipline would be a thing, but in the military, they talk about that sleep discipline. You got to get your hours because you make bad decisions when you're not rested and other people bear the consequences of those decisions. And so deciding, Hey, I'm going to skip this thing that feels comfortable to me to do, that feels natural for me to do that. I feel like I'm letting some part of myself down by not doing, I actually have to be the bigger, more self-controlled person and say in this moment, I'm not going to do that. Right. And, and I think at the end of the day, self-discipline is the ability to have an emotion and instinct of feeling to do a thing and then to catch yourself and go, is that actually the right thing to do? Yes or no. And sometimes it is, sometimes it's, Hey, it's cold outside and it's 5 a.m. and it's still dark and I don't want to get up, but I have to get up because I've made these commitments. I'm behind you, blah, blah, blah. And other times it is to stay in bed. Right. Just like, you know, sometimes you feel that surge of temper coming on and you have to go, no, that's not a good, like, it's always the ability to step back, put the emotion, the instinct, the opinion to the test. And I think you learn this in meditation. I think you learn this for stoicism in the journaling of going like, here's the thing and I can choose it or not. I can choose to identify it or not. It is not me. The Stoics have this word ascent, right? Not like ascent up a mountain, but A-S-S-E-N-T. Do you ascent to the feeling or not? Do you agree to it, rubber stamp it, approve it, go along with it or not? Do you subscribe? Yeah. Yeah. That's what discipline is about. What do you ascent to and what do you not ascent to? Yeah. I wonder, I want to go out of a tangent. I want to come back to that cause I actually really liked that point. But a few words ago, there was something that you sparked for me. Sometimes I feel like with work, it's doable. Sometimes with even our partner or with friends, it's possible to say no, to be disciplined. I find like, and I want to ask you this from your perspective. What about a sense of dad guilt? Like we talk a lot about mom guilt and you know, if it was speaking to mom, I'd ask.\", logprobs=None, usage={'type': 'duration', 'seconds': 600})"
      ]
     },
     "execution_count": 27,
     "metadata": {},
     "output_type": "execute_result"
    }
   ],
   "source": [
    "transcript = openai.audio.transcriptions.create(\n",
    "    model='whisper-1',\n",
    "    file=open(os.path.join(out_path, 'chunk_0.mp3'), 'rb'),\n",
    "    language='en',\n",
    ")\n",
    "\n",
    "transcript"
   ]
  },
  {
   "cell_type": "code",
   "execution_count": 29,
   "id": "9a60eff6-b696-4595-b333-0a4312b583d6",
   "metadata": {},
   "outputs": [],
   "source": [
    "# first_five"
   ]
  },
  {
   "cell_type": "code",
   "execution_count": 30,
   "id": "88775dbd-3ae0-417f-bc2a-f11c09b30e07",
   "metadata": {},
   "outputs": [
    {
     "data": {
      "text/plain": [
       "\"If success is this lagging indicator of commitment now, how can you be sure that you are paying your dues? The best-selling author and host. The number one health and wellness podcast. On Purpose with Jay Shetty. Society has gone in the direction of becoming addicted to pleasure. Yes. Or pleasure-seeking. Where, from the Stoics' perspective, why did we even ever go down that road? Like, why did we leave wisdom and self-control? Or did we never have it at all and we've always been trying to balance it? Yeah. I mean, I guess that's the big question is, like, why do we take something that we like too far? Yeah. Right. So the Epicureans would say like, look, drinking is great, but if you have a hangover the next day, was it actually so great? And so, you know, if you, if you push the pleasure too far, it becomes not pleasurable, but in the moment that feels very far away, right? Like in the moment you want the thing now, obviously sex is this thing for people, it's like the thing you're attracted to in this moment, you're not thinking about the shame or the regret or the consequences or the pain or the loss. You're not thinking of all those things you're just thinking of right now. So I think a big part of this, this is where the wisdom comes in, the ability to step back and go, what am I going to think about this after I get it? What am I going to think about this later? And realizing that your mind is very good at tricking you. Just as your mind often tells you like, stop, you're too tired. You can't go any further. You actually have a lot less left in the tank. Your mind also tells you, you need this thing. You won't regret it. It's amazing, you know, whatever. And it's, it's really good at putting those blinders on. And so part of, I think any meditative practice, any philosophical practice, any journaling practice is, is being able to argue with yourself a little bit, to step back and have that conversation about, well, is what I think about this true, is the story I'm telling myself about this true, I think nowhere is this more important than for like ambitious people who have told themselves, I will be happy when I accomplish X, right? Like all the things we need to be most disciplined about ambition is one of them, because it tells you this lie that after I become a New York Times bestseller, after I make a million dollars, after I get a gold medal, then I'll be good. The parents will be proud of me. I'll be happy. Then I can relax. And you have to have the perspective, the wisdom to go, was that ever been true ever in my life before? Has that ever been true in history? And then go, oh, okay, no, I can't tell myself that lie. That doesn't mean you don't work really hard to do stuff, but you're not doing it under the false pretenses that it's going to be conditional to your happiness. Yeah. But there's a part of us that, and I, and I love what you're saying, but there's a part of us that always believes that we are the exception, that we will know how to spend money better, that we'll know how to have love in our life better. Like we won't be the one who fumbles off the edge of a cliff. Like we're smarter than all our friends. Even if we don't say that we're wiser than the people who came before us. And that's the, and that's ego is the enemy. But of course, like that, that idea, I think is what misleads us so much. Yes. Yeah. It's, it's like, okay, you're on the medal stand. You've just won the gold medal and you're not feeling happy for yourself. You're thinking, well, I could have done it faster. You're thinking, oh, I got to do it again. Right? Even in that moment, you're not able to think I'm doing it to myself right now, what I will be doing to myself in the future. And that's this sort of insidious thing. And you can understand why from an evolutionary perspective, it drives the species forward. You can also see the immense personal cost that it inflicts on us because it never allows us to be present or content or happy with what we have in that moment. And so I think, again, people think discipline is the, I always push myself to do better, do more. Discipline can also be curbing that very impulse, right? Like ordinary people, when we're talking about discipline, what we're talking about is getting off your butt, working out, resisting eating candy and eating nutritious food instead. It's, you know, managing your screen time. But I think for a lot of more disciplined people or for people who have tasted the rewards of discipline, you have to learn how to be disciplined about discipline, which is maybe the highest level of the whole thing. Yeah, yeah, exactly. Now we're, I guess now we've started talking about discipline as a tool to achieve daily or weekly, monthly, yearly tasks, but you're actually saying that we need to go back a bit. Like, how would you unpack that for how you're defining discipline there? Well, it's like, what's the number one cause of injury for athletes? It's overtraining, right? So like, yeah, you're ordinary person. It's like, you're not training enough. You're not working hard enough. Yeah. But then at a more elite level, at a more accomplished level, actually the trouble is, Hey, the race isn't for six weeks. Like you, do you want to peak now or do you want to peak at the right moment? Right. Or this is just a practice session. You don't have to go all out or, you know, it's a long season. Are you prepared for that? And so, you know, discipline has to be balanced with sustainability, with rest, relaxation, recuperation, recovery, all these other things. And that requires kind of a spiritual discipline on not just, Hey, I can run an hour without getting tired, but like, can I stop myself from doing that? If that's not what I should be doing in this moment. Yeah. And what I like about that is that I feel there's different phases and stages. Like in the first two years of my career where we would have met in New York and we went on a walk once as well, I think. And we were walking around the city and I remember talking about a few of these themes, but it was at that time in my life, I was working probably 18 hour days. Sure. Because I had to, in order to kind of break through that first level, I was still disciplined in the sense that I would make time to eat to some degree and meditate. And I would make some time to do a few things of rest, but generally I was working seven days a week, 18 hours a day. And I'm very grateful I did that. I don't look back and go, Oh, I wasted two years. It was brilliant. But then in the last couple of years, I've taken my evenings back. And so I don't work after 6 PM. It's just a rule. I don't want to work. I don't want to be on the phone. And I was talking to a friend and it's exactly what you said. He was saying to me, he was just like, well, don't you get less done? And I was like, no, I get more done because I know how much I have to get done. I'm far more attentive and focused. And then I'm not working at 9 PM when I can rest and recuperate. And now the next day I'm, I'm better for it. And so I hear that idea that that is also a discipline, although it could be seen as you being lazy in the evening. And I think it's the question of, well, is it easy for you to do that? Yes or no? Right. It's hard. It's actually harder for you. I imagine to say I'm stopping at six than it is to say I'm going to work all night till I fall asleep at my desk. Right. Like, yeah, I could do that. Yeah. If my wife's not around, I can work every weekend and evening. And also it's realizing that you have multiple things that you're trying to do simultaneously. So yeah, sure. Working, continuing to work 18 hour days may help you continue to advance in your career. But if one of the, also the other things you're trying to work on is to stay married or to better yet have a happy marriage or you have children or you have your health or whatever, like you were telling me before we recorded that you like, you got in at 3 a.m. last night. Let's say you're a person who always wakes up very early. Like I'm a person who wakes up early, but then I also have to understand that sleep is a discipline. And so if some changes outside my control mean that I didn't go to bed to a certain time, the fact that I wake up at five, that's bad idea. And it actually requires it. You wouldn't think that sleep discipline would be a thing, but in the military, they talk about that sleep discipline. You got to get your hours because you make bad decisions when you're not rested and other people bear the consequences of those decisions. And so deciding, Hey, I'm going to skip this thing that feels comfortable to me to do, that feels natural for me to do that. I feel like I'm letting some part of myself down by not doing, I actually have to be the bigger, more self-controlled person and say in this moment, I'm not going to do that. Right. And, and I think at the end of the day, self-discipline is the ability to have an emotion and instinct of feeling to do a thing and then to catch yourself and go, is that actually the right thing to do? Yes or no. And sometimes it is, sometimes it's, Hey, it's cold outside and it's 5 a.m. and it's still dark and I don't want to get up, but I have to get up because I've made these commitments. I'm behind you, blah, blah, blah. And other times it is to stay in bed. Right. Just like, you know, sometimes you feel that surge of temper coming on and you have to go, no, that's not a good, like, it's always the ability to step back, put the emotion, the instinct, the opinion to the test. And I think you learn this in meditation. I think you learn this for stoicism in the journaling of going like, here's the thing and I can choose it or not. I can choose to identify it or not. It is not me. The Stoics have this word ascent, right? Not like ascent up a mountain, but A-S-S-E-N-T. Do you ascent to the feeling or not? Do you agree to it, rubber stamp it, approve it, go along with it or not? Do you subscribe? Yeah. Yeah. That's what discipline is about. What do you ascent to and what do you not ascent to? Yeah. I wonder, I want to go out of a tangent. I want to come back to that cause I actually really liked that point. But a few words ago, there was something that you sparked for me. Sometimes I feel like with work, it's doable. Sometimes with even our partner or with friends, it's possible to say no, to be disciplined. I find like, and I want to ask you this from your perspective. What about a sense of dad guilt? Like we talk a lot about mom guilt and you know, if it was speaking to mom, I'd ask.\""
      ]
     },
     "execution_count": 30,
     "metadata": {},
     "output_type": "execute_result"
    }
   ],
   "source": [
    "transcript.text"
   ]
  },
  {
   "cell_type": "code",
   "execution_count": 31,
   "id": "a33ac247-f18e-46cf-8121-f67cc1778bd5",
   "metadata": {},
   "outputs": [
    {
     "name": "stdout",
     "output_type": "stream",
     "text": [
      "D:\\Lang2505\\dataset\\out\\chunk_0.mp3 녹취록 가져오는중...완료\n",
      "D:\\Lang2505\\dataset\\out\\chunk_1.mp3 녹취록 가져오는중...완료\n"
     ]
    }
   ],
   "source": [
    "import openai\n",
    "import glob\n",
    "\n",
    "def transcribe_chunks(chunk_folder, destination):\n",
    "    files = glob.glob(os.path.join(chunk_folder, \"chunk*.mp3\"))\n",
    "    for file in files:\n",
    "        with open(file, \"rb\") as audio_file, open(destination, \"a\") as text_file:  # append mode 로 \n",
    "            print(file, '녹취록 가져오는중...', end='')\n",
    "            # 각 chunk 별로 녹취록 작성.\n",
    "            transcript = openai.audio.transcriptions.create(\n",
    "                model=\"whisper-1\",\n",
    "                file=audio_file,\n",
    "                language=\"en\"\n",
    "            )\n",
    "            \n",
    "            text_file.write(transcript.text)  # 곧바로 텍스트 파일에 저장\n",
    "            print('완료')\n",
    "\n",
    "transcribe_chunks(out_path, os.path.join(out_path, 'transcript.txt'))"
   ]
  },
  {
   "cell_type": "markdown",
   "id": "be15c417-ebc5-44b6-b1c6-9b493598d45c",
   "metadata": {},
   "source": [
    "# glob 관련 이슈 "
   ]
  },
  {
   "cell_type": "code",
   "execution_count": 32,
   "id": "f19d91cc-e458-4f49-8e85-457a09903f54",
   "metadata": {},
   "outputs": [
    {
     "data": {
      "text/plain": [
       "['D:\\\\Lang2505\\\\dataset\\\\out\\\\chunk_0.mp3',\n",
       " 'D:\\\\Lang2505\\\\dataset\\\\out\\\\chunk_1.mp3',\n",
       " 'D:\\\\Lang2505\\\\dataset\\\\out\\\\first_five.mp3']"
      ]
     },
     "execution_count": 32,
     "metadata": {},
     "output_type": "execute_result"
    }
   ],
   "source": [
    "glob.glob(r'D:\\Lang2505\\dataset\\out\\*.mp3')"
   ]
  },
  {
   "cell_type": "code",
   "execution_count": null,
   "id": "1e7db269-95e1-4efb-bdb1-db10407da73b",
   "metadata": {},
   "outputs": [],
   "source": [
    "# glob 은 list 에 정렬되는 순서가 파일이름으로 보장되지 않는다!"
   ]
  },
  {
   "cell_type": "code",
   "execution_count": null,
   "id": "809ff315-7e92-4126-a359-a193cdfc9f90",
   "metadata": {},
   "outputs": [],
   "source": []
  },
  {
   "cell_type": "code",
   "execution_count": null,
   "id": "3970a9f3-a784-445e-85a8-8b49700d53ec",
   "metadata": {},
   "outputs": [],
   "source": []
  },
  {
   "cell_type": "code",
   "execution_count": null,
   "id": "9fc91fad-2ae6-4dec-8160-3b1f913d8dcc",
   "metadata": {},
   "outputs": [],
   "source": []
  },
  {
   "cell_type": "code",
   "execution_count": null,
   "id": "cdfb66b7-b408-4304-8dca-5a6b41192f5d",
   "metadata": {},
   "outputs": [],
   "source": []
  },
  {
   "cell_type": "code",
   "execution_count": null,
   "id": "aec7e81f-565d-4a98-a8c3-4ecf35795cf9",
   "metadata": {},
   "outputs": [],
   "source": []
  },
  {
   "cell_type": "code",
   "execution_count": null,
   "id": "00ea3b82-5f71-4c65-96e8-bae030d954c3",
   "metadata": {},
   "outputs": [],
   "source": []
  },
  {
   "cell_type": "code",
   "execution_count": null,
   "id": "ba3e1357-25e9-436f-ae61-8db853d64d3f",
   "metadata": {},
   "outputs": [],
   "source": []
  },
  {
   "cell_type": "code",
   "execution_count": null,
   "id": "fc3374af-558c-400d-ab7d-5f99496132da",
   "metadata": {},
   "outputs": [],
   "source": []
  },
  {
   "cell_type": "code",
   "execution_count": null,
   "id": "74f46dd2-744a-427d-95af-b943519655d0",
   "metadata": {},
   "outputs": [],
   "source": []
  },
  {
   "cell_type": "code",
   "execution_count": null,
   "id": "93031ebd-4bec-4ef9-8ed4-d0504ea2a053",
   "metadata": {},
   "outputs": [],
   "source": []
  },
  {
   "cell_type": "code",
   "execution_count": null,
   "id": "adbbe1f2-be95-4785-b338-5d2c6c7f3c8b",
   "metadata": {},
   "outputs": [],
   "source": []
  },
  {
   "cell_type": "code",
   "execution_count": null,
   "id": "a0614136-dfd1-49b1-bcdc-1537099bddf6",
   "metadata": {},
   "outputs": [],
   "source": []
  },
  {
   "cell_type": "code",
   "execution_count": null,
   "id": "2cac3767-abe9-4d06-a13c-36df659d77ad",
   "metadata": {},
   "outputs": [],
   "source": []
  },
  {
   "cell_type": "code",
   "execution_count": null,
   "id": "16690ac1-d407-4d76-a212-21a21ca11b4f",
   "metadata": {},
   "outputs": [],
   "source": []
  },
  {
   "cell_type": "code",
   "execution_count": null,
   "id": "cefd31a6-eb80-4b14-bb8f-3d32129c735b",
   "metadata": {},
   "outputs": [],
   "source": []
  },
  {
   "cell_type": "code",
   "execution_count": null,
   "id": "9a0e5b29-ae5e-42c2-b097-ccdf5bd1444d",
   "metadata": {},
   "outputs": [],
   "source": []
  },
  {
   "cell_type": "code",
   "execution_count": null,
   "id": "a209898f-1368-4699-9608-76b256e8901c",
   "metadata": {},
   "outputs": [],
   "source": []
  },
  {
   "cell_type": "code",
   "execution_count": null,
   "id": "970a0ce7-f538-40a3-ac31-3c6f1a946a04",
   "metadata": {},
   "outputs": [],
   "source": []
  },
  {
   "cell_type": "code",
   "execution_count": null,
   "id": "258a2bce-5b0b-4922-96ff-4f47b43cab1b",
   "metadata": {},
   "outputs": [],
   "source": []
  },
  {
   "cell_type": "code",
   "execution_count": null,
   "id": "fe09af57-6508-4d26-a44f-ecd9f2061130",
   "metadata": {},
   "outputs": [],
   "source": []
  }
 ],
 "metadata": {
  "kernelspec": {
   "display_name": "Python 3 (ipykernel)",
   "language": "python",
   "name": "python3"
  },
  "language_info": {
   "codemirror_mode": {
    "name": "ipython",
    "version": 3
   },
   "file_extension": ".py",
   "mimetype": "text/x-python",
   "name": "python",
   "nbconvert_exporter": "python",
   "pygments_lexer": "ipython3",
   "version": "3.12.7"
  }
 },
 "nbformat": 4,
 "nbformat_minor": 5
}
