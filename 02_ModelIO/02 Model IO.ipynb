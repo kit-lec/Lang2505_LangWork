{
 "cells": [
  {
   "cell_type": "markdown",
   "id": "6483310b-2a3d-4dd1-b11c-7472e5a23a29",
   "metadata": {},
   "source": [
    "# Langchain (v0.3) 의 주요 Components\n",
    "https://python.langchain.com/docs/how_to/#components\n",
    "\n",
    "1. Chat models\n",
    "- Chat model 은 '메시지'를 입력받아 출력하는 형태의 언어 모델. \n",
    "\n",
    "1. Messages\n",
    "\n",
    "1. Prompt templates\n",
    "\n",
    "1. Example selectors\n",
    "\n",
    "1. LLMs\n",
    "\n",
    "1. Output parsers\n",
    "\n",
    "1. Document loaders\n",
    "\n",
    "1. Text splitters\n",
    "\n",
    "1. Embedding models\n",
    "\n",
    "1. Vector stores\n",
    "\n",
    "1. Retrievers\n",
    "\n",
    "\n",
    "1. Chains\n",
    "https://python.langchain.com/docs/versions/migrating_chains/\n",
    "\n",
    "\n",
    "1. Agents\n",
    "\n",
    "1. Memory\n",
    "\n",
    "1. Callbakcs\n"
   ]
  },
  {
   "cell_type": "markdown",
   "id": "4fde9acd-3cfc-4831-9258-6823841a6288",
   "metadata": {},
   "source": [
    "# prompts\n",
    "https://python.langchain.com/api_reference/core/prompts.html#module-langchain_core.prompts"
   ]
  },
  {
   "cell_type": "code",
   "execution_count": 1,
   "id": "46377028-e3d7-42c6-8868-f96a755b7c06",
   "metadata": {},
   "outputs": [],
   "source": [
    "\"\"\"\n",
    "prompts class 계층도\n",
    "\n",
    "BasePromptTemplate --> PipelinePromptTemplate\n",
    "                       StringPromptTemplate --> PromptTemplate\n",
    "                                                FewShotPromptTemplate\n",
    "                                                FewShotPromptWithTemplates\n",
    "                       BaseChatPromptTemplate --> AutoGPTPrompt\n",
    "                                                  ChatPromptTemplate --> AgentScratchPadChatPromptTemplate\n",
    "\n",
    "\n",
    "\n",
    "BaseMessagePromptTemplate --> MessagesPlaceholder\n",
    "                              BaseStringMessagePromptTemplate --> ChatMessagePromptTemplate\n",
    "                                                                  HumanMessagePromptTemplate\n",
    "                                                                  AIMessagePromptTemplate\n",
    "                                                                  SystemMessagePromptTemplate\n",
    "\"\"\"\n",
    "None"
   ]
  },
  {
   "cell_type": "markdown",
   "id": "628683de-d8fe-495d-8f9d-fdb6cc8569e4",
   "metadata": {},
   "source": [
    "# FewShotPromptTemplate"
   ]
  },
  {
   "cell_type": "markdown",
   "id": "22bc81ce-7485-41a3-8a0e-baddca44d4e8",
   "metadata": {},
   "source": [
    "## 기본 import"
   ]
  },
  {
   "cell_type": "code",
   "execution_count": 2,
   "id": "12b48361-7356-41b6-a215-09a236a9257c",
   "metadata": {},
   "outputs": [],
   "source": [
    "# v0.3\n",
    "from langchain_openai.chat_models import ChatOpenAI\n",
    "from langchain_core.prompts.prompt import PromptTemplate\n",
    "from langchain_core.callbacks.streaming_stdout import StreamingStdOutCallbackHandler"
   ]
  },
  {
   "cell_type": "code",
   "execution_count": 3,
   "id": "b7af22ec-56f1-49ea-841e-63c1a9f9a260",
   "metadata": {},
   "outputs": [],
   "source": [
    "chat = ChatOpenAI(\n",
    "    temperature=0.1,\n",
    "    streaming=True,\n",
    "    callbacks=[\n",
    "        StreamingStdOutCallbackHandler()\n",
    "    ],\n",
    ")"
   ]
  },
  {
   "cell_type": "code",
   "execution_count": 4,
   "id": "5c7d52a0-5fc1-49d7-bbe7-509c0ff516da",
   "metadata": {},
   "outputs": [
    {
     "data": {
      "text/plain": [
       "'What is the capital of France'"
      ]
     },
     "execution_count": 4,
     "metadata": {},
     "output_type": "execute_result"
    }
   ],
   "source": [
    "# PromptTemplate 사용 방법\n",
    "# 방법1\n",
    "t = PromptTemplate.from_template(\"What is the capital of {country}\")\n",
    "t.format(country='France')"
   ]
  },
  {
   "cell_type": "code",
   "execution_count": 5,
   "id": "431b6d93-eafe-4d41-bf09-f19181b35410",
   "metadata": {},
   "outputs": [
    {
     "data": {
      "text/plain": [
       "'What is the capital of France'"
      ]
     },
     "execution_count": 5,
     "metadata": {},
     "output_type": "execute_result"
    }
   ],
   "source": [
    "# 방법2\n",
    "t2 = PromptTemplate(\n",
    "    template=\"What is the capital of {country}\",\n",
    "    input_variables=['country']\n",
    ")\n",
    "t2.format(country='France')"
   ]
  },
  {
   "cell_type": "markdown",
   "id": "f439dafa-fc3f-4ac3-a68d-441d65e8160f",
   "metadata": {},
   "source": [
    "## 모델에 예제(example) 주기 "
   ]
  },
  {
   "cell_type": "code",
   "execution_count": 6,
   "id": "2db323d3-95aa-4a29-9796-0fecacdb2b82",
   "metadata": {},
   "outputs": [],
   "source": [
    "# 모델에게 '어떻게 대답해야 하는 지에 대한 예제(example)'를 AI 모델에게 주는 것이\n",
    "# prompt 를 사용해서 '어떻게 대답해야 하는지 알려주는 것'보다 훨씬 좋다\n",
    "\n",
    "# FewShotPromptTemplate 이 하는 일이 바로 그거다!\n",
    "# - 이를 통해 예제(샘플)를 형식화(포맷) 할수 있다.\n",
    "# - 이런 예제들을 데이터베이스등에 저장시켜놓고 활용할수도 있다"
   ]
  },
  {
   "cell_type": "code",
   "execution_count": 7,
   "id": "9205ad91-f4a2-403a-972c-5dc5d0967b1b",
   "metadata": {},
   "outputs": [],
   "source": [
    "# v0.3\n",
    "from langchain_core.prompts.few_shot import FewShotPromptTemplate"
   ]
  },
  {
   "cell_type": "code",
   "execution_count": 8,
   "id": "dd7b7345-62fd-49e6-8f83-0ee011c21482",
   "metadata": {},
   "outputs": [],
   "source": [
    "examples = [\n",
    "  {\n",
    "    \"question\": \"What do you know about France?\",\n",
    "\n",
    "    # ↓ 원하는 형식의 답변 이다..\n",
    "    \"answer\": \"\"\"\n",
    "      Here is what I know:\n",
    "      Capital: Paris\n",
    "      Language: French\n",
    "      Food: Wine and Cheese\n",
    "      Currency: Euro\n",
    "      \"\"\",\n",
    "  },\n",
    "  {\n",
    "    \"question\": \"What do you know about Italy?\",\n",
    "    \"answer\": \"\"\"\n",
    "      I know this:\n",
    "      Capital: Rome\n",
    "      Language: Italian\n",
    "      Food: Pizza and Pasta\n",
    "      Currency: Euro\n",
    "      \"\"\",\n",
    "  },\n",
    "  {\n",
    "    \"question\": \"What do you know about Greece?\",\n",
    "    \"answer\": \"\"\"\n",
    "      I know this:\n",
    "      Capital: Athens\n",
    "      Language: Greek\n",
    "      Food: Souvlaki and Feta Cheese\n",
    "      Currency: Euro\n",
    "      \"\"\",\n",
    "  },    \n",
    "]"
   ]
  },
  {
   "cell_type": "code",
   "execution_count": 9,
   "id": "b9481c76-1477-4025-ad37-cc4bcc3c5529",
   "metadata": {},
   "outputs": [
    {
     "name": "stdout",
     "output_type": "stream",
     "text": [
      "France is a country located in Western Europe. It is known for its rich history, culture, and cuisine. The capital city is Paris, which is famous for landmarks such as the Eiffel Tower, Louvre Museum, and Notre-Dame Cathedral.\n",
      "\n",
      "France is the largest country in the European Union by land area and the third-largest in Europe overall. It has a population of around 67 million people. French is the official language, and the currency is the Euro.\n",
      "\n",
      "France is a popular tourist destination, attracting millions of visitors each year to its beautiful cities, countryside, and coastline. The country is also known for its wine and cheese production, fashion industry, and art and literature.\n",
      "\n",
      "France has a long history of political and cultural influence, including the French Revolution, the Enlightenment, and the development of democracy and human rights. It is a founding member of the United Nations, NATO, and the European Union."
     ]
    },
    {
     "data": {
      "text/plain": [
       "AIMessage(content='France is a country located in Western Europe. It is known for its rich history, culture, and cuisine. The capital city is Paris, which is famous for landmarks such as the Eiffel Tower, Louvre Museum, and Notre-Dame Cathedral.\\n\\nFrance is the largest country in the European Union by land area and the third-largest in Europe overall. It has a population of around 67 million people. French is the official language, and the currency is the Euro.\\n\\nFrance is a popular tourist destination, attracting millions of visitors each year to its beautiful cities, countryside, and coastline. The country is also known for its wine and cheese production, fashion industry, and art and literature.\\n\\nFrance has a long history of political and cultural influence, including the French Revolution, the Enlightenment, and the development of democracy and human rights. It is a founding member of the United Nations, NATO, and the European Union.', additional_kwargs={}, response_metadata={'finish_reason': 'stop', 'model_name': 'gpt-3.5-turbo-0125'}, id='run--21acc1f2-a1d4-4a57-9494-a2a96d20efa2-0')"
      ]
     },
     "execution_count": 9,
     "metadata": {},
     "output_type": "execute_result"
    }
   ],
   "source": [
    "# example 없이 전달하면?\n",
    "chat.invoke(\"What do you know about France?\")"
   ]
  },
  {
   "cell_type": "code",
   "execution_count": 10,
   "id": "a366bedd-6291-4b9c-b391-6f9a5c0abf58",
   "metadata": {},
   "outputs": [],
   "source": [
    "example_template = \"\"\"\n",
    "    Human: {question}\n",
    "    AI: {answer}\n",
    "\"\"\""
   ]
  },
  {
   "cell_type": "code",
   "execution_count": 11,
   "id": "392cb81c-a572-443f-9bee-8d018f6729c5",
   "metadata": {},
   "outputs": [
    {
     "data": {
      "text/plain": [
       "PromptTemplate(input_variables=['answer', 'question'], input_types={}, partial_variables={}, template='\\n    Human: {question}\\n    AI: {answer}\\n')"
      ]
     },
     "execution_count": 11,
     "metadata": {},
     "output_type": "execute_result"
    }
   ],
   "source": [
    "example_prompt = PromptTemplate.from_template(example_template)\n",
    "example_prompt"
   ]
  },
  {
   "cell_type": "code",
   "execution_count": 12,
   "id": "00079481-c90d-4378-a885-f80596e950b0",
   "metadata": {},
   "outputs": [
    {
     "data": {
      "text/plain": [
       "FewShotPromptTemplate(input_variables=['country'], input_types={}, partial_variables={}, examples=[{'question': 'What do you know about France?', 'answer': '\\n      Here is what I know:\\n      Capital: Paris\\n      Language: French\\n      Food: Wine and Cheese\\n      Currency: Euro\\n      '}, {'question': 'What do you know about Italy?', 'answer': '\\n      I know this:\\n      Capital: Rome\\n      Language: Italian\\n      Food: Pizza and Pasta\\n      Currency: Euro\\n      '}, {'question': 'What do you know about Greece?', 'answer': '\\n      I know this:\\n      Capital: Athens\\n      Language: Greek\\n      Food: Souvlaki and Feta Cheese\\n      Currency: Euro\\n      '}], example_prompt=PromptTemplate(input_variables=['answer', 'question'], input_types={}, partial_variables={}, template='\\n    Human: {question}\\n    AI: {answer}\\n'), suffix='Human: What do you know abount {country}?')"
      ]
     },
     "execution_count": 12,
     "metadata": {},
     "output_type": "execute_result"
    }
   ],
   "source": [
    "prompt = FewShotPromptTemplate(\n",
    "    example_prompt=example_prompt,\n",
    "    examples = examples,\n",
    "\n",
    "    suffix = \"Human: What do you know abount {country}?\",\n",
    "    input_variables=['country']\n",
    ")\n",
    "\n",
    "prompt"
   ]
  },
  {
   "cell_type": "code",
   "execution_count": 13,
   "id": "43c5e619-5049-4ca0-a4c0-edcd19d09fa9",
   "metadata": {},
   "outputs": [
    {
     "name": "stdout",
     "output_type": "stream",
     "text": [
      "\n",
      "    Human: What do you know about France?\n",
      "    AI: \n",
      "      Here is what I know:\n",
      "      Capital: Paris\n",
      "      Language: French\n",
      "      Food: Wine and Cheese\n",
      "      Currency: Euro\n",
      "      \n",
      "\n",
      "\n",
      "\n",
      "    Human: What do you know about Italy?\n",
      "    AI: \n",
      "      I know this:\n",
      "      Capital: Rome\n",
      "      Language: Italian\n",
      "      Food: Pizza and Pasta\n",
      "      Currency: Euro\n",
      "      \n",
      "\n",
      "\n",
      "\n",
      "    Human: What do you know about Greece?\n",
      "    AI: \n",
      "      I know this:\n",
      "      Capital: Athens\n",
      "      Language: Greek\n",
      "      Food: Souvlaki and Feta Cheese\n",
      "      Currency: Euro\n",
      "      \n",
      "\n",
      "\n",
      "Human: What do you know abount Germany?\n"
     ]
    }
   ],
   "source": [
    "print(prompt.format(country = 'Germany'))"
   ]
  },
  {
   "cell_type": "code",
   "execution_count": 14,
   "id": "ccf4ac75-64dc-4491-8c00-9bcfadbebee6",
   "metadata": {},
   "outputs": [],
   "source": [
    "chain = prompt | chat"
   ]
  },
  {
   "cell_type": "code",
   "execution_count": 15,
   "id": "a9a8b3f2-8f00-4cf6-b6ea-46d22df145a7",
   "metadata": {},
   "outputs": [
    {
     "name": "stdout",
     "output_type": "stream",
     "text": [
      "AI: \n",
      "      Here is what I know:\n",
      "      Capital: Berlin\n",
      "      Language: German\n",
      "      Food: Bratwurst and Sauerkraut\n",
      "      Currency: Euro"
     ]
    },
    {
     "data": {
      "text/plain": [
       "AIMessage(content='AI: \\n      Here is what I know:\\n      Capital: Berlin\\n      Language: German\\n      Food: Bratwurst and Sauerkraut\\n      Currency: Euro', additional_kwargs={}, response_metadata={'finish_reason': 'stop', 'model_name': 'gpt-3.5-turbo-0125'}, id='run--1692c0a4-eb2a-48dc-9bc0-f0e62b1bf047-0')"
      ]
     },
     "execution_count": 15,
     "metadata": {},
     "output_type": "execute_result"
    }
   ],
   "source": [
    "chain.invoke({\n",
    "    'country': \"Germany\"\n",
    "})"
   ]
  },
  {
   "cell_type": "code",
   "execution_count": 16,
   "id": "394c4248-66d6-417e-abc0-31dfffeb5e52",
   "metadata": {},
   "outputs": [
    {
     "name": "stdout",
     "output_type": "stream",
     "text": [
      "AI: \n",
      "      Here is what I know:\n",
      "      Capital: Ankara\n",
      "      Language: Turkish\n",
      "      Food: Kebab and Baklava\n",
      "      Currency: Turkish Lira"
     ]
    },
    {
     "data": {
      "text/plain": [
       "AIMessage(content='AI: \\n      Here is what I know:\\n      Capital: Ankara\\n      Language: Turkish\\n      Food: Kebab and Baklava\\n      Currency: Turkish Lira', additional_kwargs={}, response_metadata={'finish_reason': 'stop', 'model_name': 'gpt-3.5-turbo-0125'}, id='run--8040fcc2-f7f6-4d18-b588-e5ae7008f0b4-0')"
      ]
     },
     "execution_count": 16,
     "metadata": {},
     "output_type": "execute_result"
    }
   ],
   "source": [
    "chain.invoke({\n",
    "    'country': \"Turkey\"\n",
    "})"
   ]
  },
  {
   "cell_type": "markdown",
   "id": "68a335a7-cd56-4521-b6f2-80410dfd57c5",
   "metadata": {},
   "source": [
    "# FewShotChatMessagePromptTemplate"
   ]
  },
  {
   "cell_type": "code",
   "execution_count": 17,
   "id": "95e9c2ec-15f5-4ea9-8b73-aecdacedd7b3",
   "metadata": {},
   "outputs": [],
   "source": [
    "# v0.3\n",
    "from langchain_core.prompts.few_shot import FewShotChatMessagePromptTemplate\n",
    "# https://python.langchain.com/api_reference/core/prompts/langchain_core.prompts.few_shot.FewShotChatMessagePromptTemplate.html\n",
    "\n",
    "# v0.3\n",
    "from langchain_core.prompts.chat import ChatPromptTemplate\n",
    "# https://python.langchain.com/api_reference/core/prompts/langchain_core.prompts.chat.ChatPromptTemplate.html"
   ]
  },
  {
   "cell_type": "code",
   "execution_count": 18,
   "id": "377336b2-79ba-45ff-a8c1-fc6c51180105",
   "metadata": {},
   "outputs": [],
   "source": [
    "examples = [\n",
    "  {\n",
    "    \"country\": \"France\",\n",
    "\n",
    "    # ↓ 원하는 형식의 답변 이다..\n",
    "    \"answer\": \"\"\"\n",
    "      Here is what I know:\n",
    "      Capital: Paris\n",
    "      Language: French\n",
    "      Food: Wine and Cheese\n",
    "      Currency: Euro\n",
    "      \"\"\",\n",
    "  },\n",
    "  {\n",
    "    \"country\": \"Italy\",\n",
    "    \"answer\": \"\"\"\n",
    "      I know this:\n",
    "      Capital: Rome\n",
    "      Language: Italian\n",
    "      Food: Pizza and Pasta\n",
    "      Currency: Euro\n",
    "      \"\"\",\n",
    "  },\n",
    "  {\n",
    "    \"country\": \"Greece\",\n",
    "    \"answer\": \"\"\"\n",
    "      I know this:\n",
    "      Capital: Athens\n",
    "      Language: Greek\n",
    "      Food: Souvlaki and Feta Cheese\n",
    "      Currency: Euro\n",
    "      \"\"\",\n",
    "  },    \n",
    "]"
   ]
  },
  {
   "cell_type": "code",
   "execution_count": 19,
   "id": "434e0017-6c01-4c97-94f8-89470b6831ec",
   "metadata": {},
   "outputs": [],
   "source": [
    "example_prompt = ChatPromptTemplate.from_messages([\n",
    "    (\"human\", \"What do you know abount {country}?\"),\n",
    "    (\"ai\", \"{answer}\"),\n",
    "])\n",
    "\n",
    "\n",
    "example_prompt = FewShotChatMessagePromptTemplate(\n",
    "    example_prompt= example_prompt,\n",
    "    examples=examples,\n",
    "    # suffix 필요 없다.\n",
    ")\n",
    "\n",
    "final_prompt = ChatPromptTemplate.from_messages([\n",
    "    (\"system\", \"You are a geography expert, you give short answers.\"),\n",
    "    example_prompt,\n",
    "    ('human', \"What do you know abount {country}?\"),\n",
    "])\n",
    "\n",
    "\n"
   ]
  },
  {
   "cell_type": "code",
   "execution_count": 20,
   "id": "6825695d-b22e-4d28-80a6-3ef43d19330c",
   "metadata": {},
   "outputs": [],
   "source": [
    "chain = final_prompt | chat"
   ]
  },
  {
   "cell_type": "code",
   "execution_count": 21,
   "id": "36bfdd52-008c-405d-b14b-cfb184b0e033",
   "metadata": {},
   "outputs": [
    {
     "name": "stdout",
     "output_type": "stream",
     "text": [
      "\n",
      "      I know this:\n",
      "      Capital: Berlin\n",
      "      Language: German\n",
      "      Food: Bratwurst and Sauerkraut\n",
      "      Currency: Euro\n",
      "      "
     ]
    },
    {
     "data": {
      "text/plain": [
       "AIMessage(content='\\n      I know this:\\n      Capital: Berlin\\n      Language: German\\n      Food: Bratwurst and Sauerkraut\\n      Currency: Euro\\n      ', additional_kwargs={}, response_metadata={'finish_reason': 'stop', 'model_name': 'gpt-3.5-turbo-0125'}, id='run--04c550fa-f879-488e-8a44-810308059db0-0')"
      ]
     },
     "execution_count": 21,
     "metadata": {},
     "output_type": "execute_result"
    }
   ],
   "source": [
    "chain.invoke({'country': 'Germany'})"
   ]
  },
  {
   "cell_type": "code",
   "execution_count": 22,
   "id": "2689505b-aef5-45fa-9887-27a2fa7c94cb",
   "metadata": {},
   "outputs": [
    {
     "name": "stdout",
     "output_type": "stream",
     "text": [
      "\n",
      "      I know this:\n",
      "      Capital: Seoul\n",
      "      Language: Korean\n",
      "      Food: Kimchi and Bibimbap\n",
      "      Currency: South Korean Won\n",
      "      "
     ]
    },
    {
     "data": {
      "text/plain": [
       "AIMessage(content='\\n      I know this:\\n      Capital: Seoul\\n      Language: Korean\\n      Food: Kimchi and Bibimbap\\n      Currency: South Korean Won\\n      ', additional_kwargs={}, response_metadata={'finish_reason': 'stop', 'model_name': 'gpt-3.5-turbo-0125'}, id='run--d218b99d-3869-4d83-a385-8d6c8a64f149-0')"
      ]
     },
     "execution_count": 22,
     "metadata": {},
     "output_type": "execute_result"
    }
   ],
   "source": [
    "chain.invoke({'country': 'South Korea'})"
   ]
  },
  {
   "cell_type": "markdown",
   "id": "a05649ee-6ecf-4e96-a034-899039d41a1d",
   "metadata": {},
   "source": [
    "# LengthBasedExampleSelector"
   ]
  },
  {
   "cell_type": "code",
   "execution_count": 27,
   "id": "7742f43f-8cce-4e8f-936b-8304adbaf471",
   "metadata": {},
   "outputs": [],
   "source": [
    "# v0.3\n",
    "from langchain_core.example_selectors.length_based import LengthBasedExampleSelector\n",
    "# https://python.langchain.com/api_reference/core/example_selectors/langchain_core.example_selectors.length_based.LengthBasedExampleSelector.html#langchain_core.example_selectors.length_based.LengthBasedExampleSelector"
   ]
  },
  {
   "cell_type": "code",
   "execution_count": 24,
   "id": "3b800f40-204d-4b3f-b80a-d44d892b7d73",
   "metadata": {},
   "outputs": [],
   "source": [
    "examples = [\n",
    "    {\n",
    "        \"country\": \"France\",\n",
    "        \"answer\": \"\"\"\n",
    "        Here is what I know:\n",
    "        Capital: Paris\n",
    "        Language: French\n",
    "        Food: Wine and Cheese\n",
    "        Currency: Euro\n",
    "        \"\"\",\n",
    "    },\n",
    "    {\n",
    "        \"country\": \"Italy\",\n",
    "        \"answer\": \"\"\"\n",
    "        I know this:\n",
    "        Capital: Rome\n",
    "        Language: Italian\n",
    "        Food: Pizza and Pasta\n",
    "        Currency: Euro\n",
    "        \"\"\",\n",
    "    },\n",
    "    {\n",
    "        \"country\": \"Greece\",\n",
    "        \"answer\": \"\"\"\n",
    "        I know this:\n",
    "        Capital: Athens\n",
    "        Language: Greek\n",
    "        Food: Souvlaki and Feta Cheese\n",
    "        Currency: Euro\n",
    "        \"\"\",\n",
    "    },\n",
    "]"
   ]
  },
  {
   "cell_type": "code",
   "execution_count": 26,
   "id": "f52c2167-a612-41db-aa49-bca6ffddb81b",
   "metadata": {},
   "outputs": [],
   "source": [
    "example_prompt = PromptTemplate.from_template(\"Human: {country}\\nAI: {answer}\")"
   ]
  },
  {
   "cell_type": "code",
   "execution_count": 28,
   "id": "2943614a-bf8c-4298-821e-2608fb07a67d",
   "metadata": {},
   "outputs": [],
   "source": [
    "example_selector = LengthBasedExampleSelector(\n",
    "    examples=examples, \n",
    "    example_prompt=example_prompt,\n",
    "    max_length=10,   # 예제의 양을 얼마나 허용할지 정함.\n",
    ")\n",
    "\n",
    "prompt = FewShotPromptTemplate(\n",
    "    example_prompt=example_prompt,\n",
    "    # examples= 대신 example_selector= 지정.\n",
    "    example_selector=example_selector,  # <- max_length= 값에 따라 예제의 양을 정해줄 수 있다.\n",
    "    suffix=\"Human: What do you know about {country}?\",\n",
    "    input_variables=['country']    \n",
    ")"
   ]
  },
  {
   "cell_type": "code",
   "execution_count": 29,
   "id": "46b00d6b-383a-4a38-b6df-ac699e105866",
   "metadata": {},
   "outputs": [
    {
     "data": {
      "text/plain": [
       "'Human: What do you know about Brazil?'"
      ]
     },
     "execution_count": 29,
     "metadata": {},
     "output_type": "execute_result"
    }
   ],
   "source": [
    "prompt.format(country = 'Brazil')"
   ]
  },
  {
   "cell_type": "code",
   "execution_count": null,
   "id": "7f429950-e78e-4cb5-83a2-bce38cbba74c",
   "metadata": {},
   "outputs": [],
   "source": [
    "# ↑ 예제가 하나도 선택이 안되었다?"
   ]
  },
  {
   "cell_type": "code",
   "execution_count": 30,
   "id": "bb1f301a-56a7-4c21-a4c7-2d768525cdd4",
   "metadata": {},
   "outputs": [
    {
     "name": "stdout",
     "output_type": "stream",
     "text": [
      "Human: France\n",
      "AI: \n",
      "        Here is what I know:\n",
      "        Capital: Paris\n",
      "        Language: French\n",
      "        Food: Wine and Cheese\n",
      "        Currency: Euro\n",
      "        \n",
      "\n",
      "Human: What do you know about Brazil?\n"
     ]
    }
   ],
   "source": [
    "# 위에서 코드 복붙\n",
    "\n",
    "examples = [\n",
    "    {\n",
    "        \"country\": \"France\",\n",
    "        \"answer\": \"\"\"\n",
    "        Here is what I know:\n",
    "        Capital: Paris\n",
    "        Language: French\n",
    "        Food: Wine and Cheese\n",
    "        Currency: Euro\n",
    "        \"\"\",\n",
    "    },\n",
    "    {\n",
    "        \"country\": \"Italy\",\n",
    "        \"answer\": \"\"\"\n",
    "        I know this:\n",
    "        Capital: Rome\n",
    "        Language: Italian\n",
    "        Food: Pizza and Pasta\n",
    "        Currency: Euro\n",
    "        \"\"\",\n",
    "    },\n",
    "    {\n",
    "        \"country\": \"Greece\",\n",
    "        \"answer\": \"\"\"\n",
    "        I know this:\n",
    "        Capital: Athens\n",
    "        Language: Greek\n",
    "        Food: Souvlaki and Feta Cheese\n",
    "        Currency: Euro\n",
    "        \"\"\",\n",
    "    },\n",
    "]\n",
    "\n",
    "example_selector = LengthBasedExampleSelector(\n",
    "    examples=examples,\n",
    "    example_prompt = example_prompt,\n",
    "    max_length=80,  # <-- max_length= 값을 변경!\n",
    ")\n",
    "\n",
    "prompt = FewShotPromptTemplate(\n",
    "    example_prompt=example_prompt,\n",
    "    example_selector=example_selector,\n",
    "    suffix=\"Human: What do you know about {country}?\",\n",
    "    input_variables=['country']\n",
    ")\n",
    "\n",
    "print(prompt.format(country=\"Brazil\"))"
   ]
  },
  {
   "cell_type": "code",
   "execution_count": 31,
   "id": "be8a3285-4fa6-42bc-ac33-c1d1b1ca7062",
   "metadata": {},
   "outputs": [
    {
     "name": "stdout",
     "output_type": "stream",
     "text": [
      "Human: France\n",
      "AI: \n",
      "        Here is what I know:\n",
      "        Capital: Paris\n",
      "        Language: French\n",
      "        Food: Wine and Cheese\n",
      "        Currency: Euro\n",
      "        \n",
      "\n",
      "Human: Italy\n",
      "AI: \n",
      "        I know this:\n",
      "        Capital: Rome\n",
      "        Language: Italian\n",
      "        Food: Pizza and Pasta\n",
      "        Currency: Euro\n",
      "        \n",
      "\n",
      "Human: What do you know about Brazil?\n"
     ]
    }
   ],
   "source": [
    "example_selector = LengthBasedExampleSelector(\n",
    "    examples=examples,\n",
    "    example_prompt = example_prompt,\n",
    "    max_length=180,  # <-- max_length= 값을 변경!\n",
    ")\n",
    "\n",
    "prompt = FewShotPromptTemplate(\n",
    "    example_prompt=example_prompt,\n",
    "    example_selector=example_selector,\n",
    "    suffix=\"Human: What do you know about {country}?\",\n",
    "    input_variables=['country']\n",
    ")\n",
    "\n",
    "print(prompt.format(country=\"Brazil\"))"
   ]
  },
  {
   "cell_type": "markdown",
   "id": "d6d0900f-df03-4672-897d-45128e1479f3",
   "metadata": {},
   "source": [
    "## CustomExampleSelector (BaseExampleSelector)"
   ]
  },
  {
   "cell_type": "code",
   "execution_count": 32,
   "id": "6232247b-a0e8-4407-a918-ca1aa1e8b439",
   "metadata": {},
   "outputs": [],
   "source": [
    "# v0.3\n",
    "from langchain_core.example_selectors.base import BaseExampleSelector"
   ]
  },
  {
   "cell_type": "code",
   "execution_count": 35,
   "id": "f1079f73-e2cc-408c-b5c7-934b27cdb6e1",
   "metadata": {},
   "outputs": [],
   "source": [
    "# BaseExampleSelector 의 구현객체를 만드려면\n",
    "#  상속 받은뒤 select_examples() 과 add_example() 을 반드시 오버라이딩 해주어야 한다.\n",
    "\n",
    "class RandomExampleSelector(BaseExampleSelector):\n",
    "\n",
    "    def __init__(self, examples):\n",
    "        self.examples = examples\n",
    "\n",
    "    # select_examples()\n",
    "    # 입력에 따라 어떠한 샘플을 사용할지 select 함.\n",
    "    \n",
    "    # 이번 예제에서는 examples 리스트 에서 random 으로 선택하게 하려 함.\n",
    "    # ※ 이는 얼마든지 복잡하게 만들어 볼수도 있다.\n",
    "    def select_examples(self, input_variables):\n",
    "        from random import choice\n",
    "        return [choice(self.examples)]\n",
    "\n",
    "    # 이미 존재하는 example 에 example 을 추가하는 method\n",
    "    def add_example(self, example):\n",
    "        self.examples.append(example)\n",
    "\n"
   ]
  },
  {
   "cell_type": "code",
   "execution_count": 103,
   "id": "b2067c06-4684-4592-8a03-dccf266ad4f0",
   "metadata": {},
   "outputs": [
    {
     "name": "stdout",
     "output_type": "stream",
     "text": [
      "Human: Italy\n",
      "AI: \n",
      "        I know this:\n",
      "        Capital: Rome\n",
      "        Language: Italian\n",
      "        Food: Pizza and Pasta\n",
      "        Currency: Euro\n",
      "        \n",
      "\n",
      "Human: What do you know about Brazil?\n"
     ]
    }
   ],
   "source": [
    "example_selector = RandomExampleSelector(\n",
    "    examples=examples,\n",
    ")\n",
    "\n",
    "prompt = FewShotPromptTemplate(\n",
    "    example_prompt=example_prompt,\n",
    "    example_selector=example_selector,\n",
    "    suffix=\"Human: What do you know about {country}?\",\n",
    "    input_variables=['country']\n",
    ")\n",
    "\n",
    "print(prompt.format(country=\"Brazil\"))"
   ]
  },
  {
   "cell_type": "markdown",
   "id": "0d5264ba-91a2-4e98-879f-3a48db4fb42f",
   "metadata": {},
   "source": [
    "# Prompt Template 저장 / 읽기 load_prompt()"
   ]
  },
  {
   "cell_type": "code",
   "execution_count": null,
   "id": "90022b3a-4b23-4cf7-818f-e903db03bc51",
   "metadata": {},
   "outputs": [],
   "source": [
    "# prompt 를 파일로 다룰 경우\n",
    "#   'JSON' 파일  혹은 'YAML' 파일 로 만들수 있다"
   ]
  },
  {
   "cell_type": "markdown",
   "id": "fd3ef8ca-badb-46c4-90b8-ed185adfcb38",
   "metadata": {},
   "source": [
    "## JSON 파일"
   ]
  },
  {
   "cell_type": "code",
   "execution_count": 104,
   "id": "d547735a-1366-40df-b3c6-33be2ee84e73",
   "metadata": {},
   "outputs": [],
   "source": [
    "with open('prompt.json', 'w') as f:\n",
    "    f.write(\"\"\"\n",
    "      {\n",
    "        \"_type\":\"prompt\",\n",
    "        \"template\":\"What is the capital of {country}\",\n",
    "        \"input_variables\":[\"country\"]\n",
    "      }    \n",
    "    \"\"\")"
   ]
  },
  {
   "cell_type": "code",
   "execution_count": 105,
   "id": "b92d7d3c-74d2-44f0-be56-123cd4814399",
   "metadata": {},
   "outputs": [
    {
     "name": "stdout",
     "output_type": "stream",
     "text": [
      " D 드라이브의 볼륨: 새 볼륨\n",
      " 볼륨 일련 번호: 02B1-19A2\n",
      "\n",
      " D:\\Lang2505\\LangWork\\02_ModelIO 디렉터리\n",
      "\n",
      "2025-07-07  오후 08:22    <DIR>          .\n",
      "2025-07-07  오후 08:22    <DIR>          ..\n",
      "2025-07-07  오후 07:06    <DIR>          .ipynb_checkpoints\n",
      "2025-07-07  오후 08:21            35,772 02 Model IO.ipynb\n",
      "2025-07-07  오후 08:22               150 prompt.json\n",
      "               2개 파일              35,922 바이트\n",
      "               3개 디렉터리  460,478,287,872 바이트 남음\n"
     ]
    }
   ],
   "source": [
    "!dir"
   ]
  },
  {
   "cell_type": "code",
   "execution_count": 106,
   "id": "2fcd04b7-0177-4699-ad7c-92a554d3f87e",
   "metadata": {},
   "outputs": [],
   "source": [
    "# v0.3\n",
    "from langchain_core.prompts.loading import load_prompt\n",
    "# https://python.langchain.com/api_reference/core/prompts/langchain_core.prompts.loading.load_prompt.html\n",
    "# Unified method for loading a prompt from LangChainHub or local fs."
   ]
  },
  {
   "cell_type": "code",
   "execution_count": 107,
   "id": "36450d25-dcda-4146-90b8-cdc5385294ed",
   "metadata": {},
   "outputs": [
    {
     "data": {
      "text/plain": [
       "PromptTemplate(input_variables=['country'], input_types={}, partial_variables={}, template='What is the capital of {country}')"
      ]
     },
     "execution_count": 107,
     "metadata": {},
     "output_type": "execute_result"
    }
   ],
   "source": [
    "prompt = load_prompt('./prompt.json')\n",
    "\n",
    "prompt"
   ]
  },
  {
   "cell_type": "code",
   "execution_count": 108,
   "id": "f8194da2-13cc-4a45-9f6e-a3ce207561de",
   "metadata": {},
   "outputs": [
    {
     "data": {
      "text/plain": [
       "'What is the capital of Germany'"
      ]
     },
     "execution_count": 108,
     "metadata": {},
     "output_type": "execute_result"
    }
   ],
   "source": [
    "prompt.format(country='Germany')"
   ]
  },
  {
   "cell_type": "markdown",
   "id": "d5f67a4f-b7d2-47ec-8a22-27b77922707b",
   "metadata": {},
   "source": [
    "## yaml 파일"
   ]
  },
  {
   "cell_type": "code",
   "execution_count": 109,
   "id": "a71bc278-1328-458c-951d-b33fa27cd6f8",
   "metadata": {},
   "outputs": [],
   "source": [
    "with open('prompt.yaml', 'w') as f:\n",
    "    f.write(\"\"\"\n",
    "_type: \"prompt\"\n",
    "template: \"What is the capital of {country}\"\n",
    "input_variables: [\"country\"]    \n",
    "    \"\"\")"
   ]
  },
  {
   "cell_type": "code",
   "execution_count": 110,
   "id": "1cba68d9-7e3a-45a1-8742-aca7f3f2fb32",
   "metadata": {},
   "outputs": [
    {
     "name": "stdout",
     "output_type": "stream",
     "text": [
      "input_variables=['country'] input_types={} partial_variables={} template='What is the capital of {country}'\n"
     ]
    },
    {
     "data": {
      "text/plain": [
       "'What is the capital of Germany'"
      ]
     },
     "execution_count": 110,
     "metadata": {},
     "output_type": "execute_result"
    }
   ],
   "source": [
    "prompt = load_prompt('./prompt.yaml')\n",
    "print(prompt)\n",
    "prompt.format(country = 'Germany')"
   ]
  },
  {
   "cell_type": "markdown",
   "id": "ff5509a3-7763-495e-9b50-8079981754f3",
   "metadata": {},
   "source": [
    "# Caching"
   ]
  },
  {
   "cell_type": "markdown",
   "id": "a9c36840-7737-4508-bf49-7e4cbd55bbc2",
   "metadata": {},
   "source": [
    "## set_llm_cache(), InMemoryCache"
   ]
  },
  {
   "cell_type": "code",
   "execution_count": 111,
   "id": "73edf7c6-f27d-46dc-8794-2af417ce80ad",
   "metadata": {},
   "outputs": [],
   "source": [
    "# v0.3\n",
    "from langchain_core.globals import set_llm_cache\n",
    "# https://python.langchain.com/api_reference/core/globals/langchain_core.globals.set_llm_cache.html#set-llm-cache\n",
    "# Set a new LLM cache, overwriting the previous value, if any.\n",
    "\n",
    "# v0.3\n",
    "from langchain_core.caches import InMemoryCache\n",
    "# https://python.langchain.com/api_reference/core/caches/langchain_core.caches.InMemoryCache.html\n",
    "\n",
    "# Cache that stores things in 'memory'.\n",
    "# Initialize with empty cache."
   ]
  },
  {
   "cell_type": "code",
   "execution_count": 112,
   "id": "5c6d9bf4-4e7d-4500-8b47-895bbb97de3e",
   "metadata": {},
   "outputs": [],
   "source": [
    "set_llm_cache(InMemoryCache())   # LLM 의 모든 response 가 '메모리' 에 저장된다."
   ]
  },
  {
   "cell_type": "code",
   "execution_count": 113,
   "id": "c741f120-35f9-4040-862f-5aa84fe85467",
   "metadata": {},
   "outputs": [],
   "source": [
    "chat = ChatOpenAI(temperature=0.1)"
   ]
  },
  {
   "cell_type": "code",
   "execution_count": 114,
   "id": "4d1b3c19-cd6b-4d08-bf77-1b8ff0b78960",
   "metadata": {},
   "outputs": [],
   "source": [
    "# 동일한 질문을 두번 해볼거다.  시간측정하는 함수를 준비해보자\n",
    "import time\n",
    "from datetime import timedelta\n",
    "\n",
    "def check_laptime(message):\n",
    "    start_time = time.time()\n",
    "    response = chat.invoke(message)\n",
    "    end_time = time.time()\n",
    "    elapsed_time = end_time - start_time # 경과시간\n",
    "    print('▶ 경과시간 %s' % (str(timedelta(seconds = elapsed_time))))\n",
    "    print(f'{len(response.content)} 글자: {response.content}\\n')"
   ]
  },
  {
   "cell_type": "code",
   "execution_count": 115,
   "id": "28466c22-b92d-4064-9d7e-9e6088e8c9e2",
   "metadata": {},
   "outputs": [
    {
     "name": "stdout",
     "output_type": "stream",
     "text": [
      "▶ 경과시간 0:00:03.707091\n",
      "897 글자: To make Italian pasta, you will need the following ingredients:\n",
      "\n",
      "- 2 cups of all-purpose flour\n",
      "- 2 large eggs\n",
      "- Pinch of salt\n",
      "\n",
      "Here is a step-by-step guide to making Italian pasta:\n",
      "\n",
      "1. On a clean work surface, pour the flour and create a well in the center.\n",
      "2. Crack the eggs into the well and add a pinch of salt.\n",
      "3. Using a fork, gradually mix the eggs into the flour until a dough forms.\n",
      "4. Knead the dough for about 10 minutes until it is smooth and elastic.\n",
      "5. Wrap the dough in plastic wrap and let it rest for at least 30 minutes.\n",
      "6. After resting, roll out the dough using a pasta machine or a rolling pin until it is thin.\n",
      "7. Cut the dough into desired shapes, such as fettuccine or spaghetti.\n",
      "8. Cook the pasta in a large pot of boiling salted water for 2-3 minutes, or until al dente.\n",
      "9. Drain the pasta and toss with your favorite sauce or toppings.\n",
      "\n",
      "Enjoy your homemade Italian pasta!\n",
      "\n"
     ]
    }
   ],
   "source": [
    "check_laptime(\"How do you make italian pasta\")"
   ]
  },
  {
   "cell_type": "code",
   "execution_count": 116,
   "id": "45af848f-4efd-4f66-a955-1ffaaf1d874f",
   "metadata": {},
   "outputs": [
    {
     "name": "stdout",
     "output_type": "stream",
     "text": [
      "▶ 경과시간 0:00:00\n",
      "897 글자: To make Italian pasta, you will need the following ingredients:\n",
      "\n",
      "- 2 cups of all-purpose flour\n",
      "- 2 large eggs\n",
      "- Pinch of salt\n",
      "\n",
      "Here is a step-by-step guide to making Italian pasta:\n",
      "\n",
      "1. On a clean work surface, pour the flour and create a well in the center.\n",
      "2. Crack the eggs into the well and add a pinch of salt.\n",
      "3. Using a fork, gradually mix the eggs into the flour until a dough forms.\n",
      "4. Knead the dough for about 10 minutes until it is smooth and elastic.\n",
      "5. Wrap the dough in plastic wrap and let it rest for at least 30 minutes.\n",
      "6. After resting, roll out the dough using a pasta machine or a rolling pin until it is thin.\n",
      "7. Cut the dough into desired shapes, such as fettuccine or spaghetti.\n",
      "8. Cook the pasta in a large pot of boiling salted water for 2-3 minutes, or until al dente.\n",
      "9. Drain the pasta and toss with your favorite sauce or toppings.\n",
      "\n",
      "Enjoy your homemade Italian pasta!\n",
      "\n"
     ]
    }
   ],
   "source": [
    "check_laptime(\"How do you make italian pasta\")"
   ]
  },
  {
   "cell_type": "markdown",
   "id": "39987023-538d-4e10-9bb2-892fe62ca089",
   "metadata": {},
   "source": [
    "## set_debug()"
   ]
  },
  {
   "cell_type": "code",
   "execution_count": 117,
   "id": "b30c19df-394e-4863-a8c6-5c226c17ba1c",
   "metadata": {},
   "outputs": [],
   "source": [
    "# v0.3\n",
    "from langchain_core.globals import set_debug\n",
    "# https://python.langchain.com/api_reference/core/globals/langchain_core.globals.set_debug.html#langchain_core.globals.set_debug\n",
    "# Set a new value for the debug global setting."
   ]
  },
  {
   "cell_type": "code",
   "execution_count": 118,
   "id": "dcc10d78-ef4c-451a-8daf-3da98b9dedc8",
   "metadata": {},
   "outputs": [],
   "source": [
    "set_debug(True)"
   ]
  },
  {
   "cell_type": "code",
   "execution_count": 119,
   "id": "4aded714-0a09-43f3-a7e7-fd3f9cdd2dae",
   "metadata": {},
   "outputs": [
    {
     "name": "stdout",
     "output_type": "stream",
     "text": [
      "\u001b[32;1m\u001b[1;3m[llm/start]\u001b[0m \u001b[1m[llm:ChatOpenAI] Entering LLM run with input:\n",
      "\u001b[0m{\n",
      "  \"prompts\": [\n",
      "    \"Human: How do yo make italian pasta\"\n",
      "  ]\n",
      "}\n",
      "\u001b[36;1m\u001b[1;3m[llm/end]\u001b[0m \u001b[1m[llm:ChatOpenAI] [4.60s] Exiting LLM run with output:\n",
      "\u001b[0m{\n",
      "  \"generations\": [\n",
      "    [\n",
      "      {\n",
      "        \"generation_info\": {\n",
      "          \"finish_reason\": \"stop\",\n",
      "          \"logprobs\": null\n",
      "        },\n",
      "        \"type\": \"ChatGeneration\",\n",
      "        \"message\": {\n",
      "          \"lc\": 1,\n",
      "          \"type\": \"constructor\",\n",
      "          \"id\": [\n",
      "            \"langchain\",\n",
      "            \"schema\",\n",
      "            \"messages\",\n",
      "            \"AIMessage\"\n",
      "          ],\n",
      "          \"kwargs\": {\n",
      "            \"content\": \"To make Italian pasta, you will need the following ingredients:\\n\\n- 2 cups of all-purpose flour\\n- 2 large eggs\\n- 1/2 teaspoon of salt\\n- Water (if needed)\\n\\nHere is a step-by-step guide to making Italian pasta:\\n\\n1. On a clean work surface, pour the flour and make a well in the center.\\n2. Crack the eggs into the well and add the salt.\\n3. Using a fork, gradually mix the eggs into the flour until a dough forms.\\n4. Knead the dough for about 10 minutes until it is smooth and elastic. If the dough is too dry, add a little water. If it is too wet, add a little more flour.\\n5. Wrap the dough in plastic wrap and let it rest for at least 30 minutes.\\n6. After resting, roll out the dough using a pasta machine or a rolling pin until it is thin.\\n7. Cut the dough into your desired shape, such as fettuccine or spaghetti.\\n8. Cook the pasta in a large pot of boiling salted water for 2-3 minutes, or until al dente.\\n9. Drain the pasta and toss it with your favorite sauce or toppings.\\n\\nEnjoy your homemade Italian pasta!\",\n",
      "            \"additional_kwargs\": {\n",
      "              \"refusal\": null\n",
      "            },\n",
      "            \"response_metadata\": {\n",
      "              \"token_usage\": {\n",
      "                \"completion_tokens\": 255,\n",
      "                \"prompt_tokens\": 13,\n",
      "                \"total_tokens\": 268,\n",
      "                \"completion_tokens_details\": {\n",
      "                  \"accepted_prediction_tokens\": 0,\n",
      "                  \"audio_tokens\": 0,\n",
      "                  \"reasoning_tokens\": 0,\n",
      "                  \"rejected_prediction_tokens\": 0\n",
      "                },\n",
      "                \"prompt_tokens_details\": {\n",
      "                  \"audio_tokens\": 0,\n",
      "                  \"cached_tokens\": 0\n",
      "                }\n",
      "              },\n",
      "              \"model_name\": \"gpt-3.5-turbo-0125\",\n",
      "              \"system_fingerprint\": null,\n",
      "              \"id\": \"chatcmpl-BqeR5H9YTZkyiylMUigc7XPjWKwpG\",\n",
      "              \"finish_reason\": \"stop\",\n",
      "              \"logprobs\": null\n",
      "            },\n",
      "            \"type\": \"ai\",\n",
      "            \"id\": \"run--aebcf336-7068-40cf-bf08-99745901f573-0\",\n",
      "            \"usage_metadata\": {\n",
      "              \"input_tokens\": 13,\n",
      "              \"output_tokens\": 255,\n",
      "              \"total_tokens\": 268,\n",
      "              \"input_token_details\": {\n",
      "                \"audio\": 0,\n",
      "                \"cache_read\": 0\n",
      "              },\n",
      "              \"output_token_details\": {\n",
      "                \"audio\": 0,\n",
      "                \"reasoning\": 0\n",
      "              }\n",
      "            },\n",
      "            \"tool_calls\": [],\n",
      "            \"invalid_tool_calls\": []\n",
      "          }\n",
      "        },\n",
      "        \"text\": \"To make Italian pasta, you will need the following ingredients:\\n\\n- 2 cups of all-purpose flour\\n- 2 large eggs\\n- 1/2 teaspoon of salt\\n- Water (if needed)\\n\\nHere is a step-by-step guide to making Italian pasta:\\n\\n1. On a clean work surface, pour the flour and make a well in the center.\\n2. Crack the eggs into the well and add the salt.\\n3. Using a fork, gradually mix the eggs into the flour until a dough forms.\\n4. Knead the dough for about 10 minutes until it is smooth and elastic. If the dough is too dry, add a little water. If it is too wet, add a little more flour.\\n5. Wrap the dough in plastic wrap and let it rest for at least 30 minutes.\\n6. After resting, roll out the dough using a pasta machine or a rolling pin until it is thin.\\n7. Cut the dough into your desired shape, such as fettuccine or spaghetti.\\n8. Cook the pasta in a large pot of boiling salted water for 2-3 minutes, or until al dente.\\n9. Drain the pasta and toss it with your favorite sauce or toppings.\\n\\nEnjoy your homemade Italian pasta!\"\n",
      "      }\n",
      "    ]\n",
      "  ],\n",
      "  \"llm_output\": {\n",
      "    \"token_usage\": {\n",
      "      \"completion_tokens\": 255,\n",
      "      \"prompt_tokens\": 13,\n",
      "      \"total_tokens\": 268,\n",
      "      \"completion_tokens_details\": {\n",
      "        \"accepted_prediction_tokens\": 0,\n",
      "        \"audio_tokens\": 0,\n",
      "        \"reasoning_tokens\": 0,\n",
      "        \"rejected_prediction_tokens\": 0\n",
      "      },\n",
      "      \"prompt_tokens_details\": {\n",
      "        \"audio_tokens\": 0,\n",
      "        \"cached_tokens\": 0\n",
      "      }\n",
      "    },\n",
      "    \"model_name\": \"gpt-3.5-turbo-0125\",\n",
      "    \"system_fingerprint\": null,\n",
      "    \"id\": \"chatcmpl-BqeR5H9YTZkyiylMUigc7XPjWKwpG\"\n",
      "  },\n",
      "  \"run\": null,\n",
      "  \"type\": \"LLMResult\"\n",
      "}\n"
     ]
    },
    {
     "data": {
      "text/plain": [
       "AIMessage(content='To make Italian pasta, you will need the following ingredients:\\n\\n- 2 cups of all-purpose flour\\n- 2 large eggs\\n- 1/2 teaspoon of salt\\n- Water (if needed)\\n\\nHere is a step-by-step guide to making Italian pasta:\\n\\n1. On a clean work surface, pour the flour and make a well in the center.\\n2. Crack the eggs into the well and add the salt.\\n3. Using a fork, gradually mix the eggs into the flour until a dough forms.\\n4. Knead the dough for about 10 minutes until it is smooth and elastic. If the dough is too dry, add a little water. If it is too wet, add a little more flour.\\n5. Wrap the dough in plastic wrap and let it rest for at least 30 minutes.\\n6. After resting, roll out the dough using a pasta machine or a rolling pin until it is thin.\\n7. Cut the dough into your desired shape, such as fettuccine or spaghetti.\\n8. Cook the pasta in a large pot of boiling salted water for 2-3 minutes, or until al dente.\\n9. Drain the pasta and toss it with your favorite sauce or toppings.\\n\\nEnjoy your homemade Italian pasta!', additional_kwargs={'refusal': None}, response_metadata={'token_usage': {'completion_tokens': 255, 'prompt_tokens': 13, 'total_tokens': 268, 'completion_tokens_details': {'accepted_prediction_tokens': 0, 'audio_tokens': 0, 'reasoning_tokens': 0, 'rejected_prediction_tokens': 0}, 'prompt_tokens_details': {'audio_tokens': 0, 'cached_tokens': 0}}, 'model_name': 'gpt-3.5-turbo-0125', 'system_fingerprint': None, 'id': 'chatcmpl-BqeR5H9YTZkyiylMUigc7XPjWKwpG', 'finish_reason': 'stop', 'logprobs': None}, id='run--aebcf336-7068-40cf-bf08-99745901f573-0', usage_metadata={'input_tokens': 13, 'output_tokens': 255, 'total_tokens': 268, 'input_token_details': {'audio': 0, 'cache_read': 0}, 'output_token_details': {'audio': 0, 'reasoning': 0}})"
      ]
     },
     "execution_count": 119,
     "metadata": {},
     "output_type": "execute_result"
    }
   ],
   "source": [
    "chat.invoke(\"How do yo make italian pasta\")"
   ]
  },
  {
   "cell_type": "code",
   "execution_count": 120,
   "id": "2d1ac1ab-46a1-4586-9034-f78a10cde384",
   "metadata": {},
   "outputs": [],
   "source": [
    "set_debug(False)"
   ]
  },
  {
   "cell_type": "markdown",
   "id": "fb32f7ed-c393-4061-9633-bfbb87cfbd59",
   "metadata": {},
   "source": [
    "## SQLiteCache"
   ]
  },
  {
   "cell_type": "code",
   "execution_count": 121,
   "id": "2d5c2903-b05b-4ff3-9058-f9e26a9a1e67",
   "metadata": {},
   "outputs": [],
   "source": [
    "# v0.3\n",
    "from langchain_community.cache import SQLiteCache\n",
    "# Cache that uses SQLite as a backend.\n",
    "# Initialize by creating the engine and all tables.\n",
    "# https://python.langchain.com/api_reference/community/cache/langchain_community.cache.SQLiteCache.html"
   ]
  },
  {
   "cell_type": "code",
   "execution_count": 122,
   "id": "d0b9f3c1-1ddf-467d-80c5-ef9e1090f2ca",
   "metadata": {},
   "outputs": [],
   "source": [
    "set_llm_cache(SQLiteCache('cache.db'))"
   ]
  },
  {
   "cell_type": "code",
   "execution_count": 123,
   "id": "4ae5d695-2553-4394-86c1-53431f522625",
   "metadata": {},
   "outputs": [
    {
     "name": "stdout",
     "output_type": "stream",
     "text": [
      " D 드라이브의 볼륨: 새 볼륨\n",
      " 볼륨 일련 번호: 02B1-19A2\n",
      "\n",
      " D:\\Lang2505\\LangWork\\02_ModelIO 디렉터리\n",
      "\n",
      "2025-07-07  오후 08:40    <DIR>          .\n",
      "2025-07-07  오후 08:40    <DIR>          ..\n",
      "2025-07-07  오후 07:06    <DIR>          .ipynb_checkpoints\n",
      "2025-07-07  오후 08:39            52,820 02 Model IO.ipynb\n",
      "2025-07-07  오후 08:40            32,768 cache.db\n",
      "2025-07-07  오후 08:22               150 prompt.json\n",
      "2025-07-07  오후 08:26               103 prompt.yaml\n",
      "               4개 파일              85,841 바이트\n",
      "               3개 디렉터리  460,478,238,720 바이트 남음\n"
     ]
    }
   ],
   "source": [
    "!dir"
   ]
  },
  {
   "cell_type": "code",
   "execution_count": 124,
   "id": "03b2c81c-5a51-4ea9-aaf4-5faa6dac8994",
   "metadata": {},
   "outputs": [
    {
     "data": {
      "text/plain": [
       "AIMessage(content='To make Italian pasta, you will need the following ingredients:\\n\\n- 2 cups of all-purpose flour\\n- 2 large eggs\\n- 1/2 teaspoon of salt\\n- Water (if needed)\\n\\nHere is a step-by-step guide to making Italian pasta:\\n\\n1. On a clean work surface, pour the flour and make a well in the center.\\n2. Crack the eggs into the well and add the salt.\\n3. Using a fork, gradually mix the eggs into the flour until a dough starts to form.\\n4. Use your hands to knead the dough until it is smooth and elastic. If the dough is too dry, add a little water. If it is too wet, add a little more flour.\\n5. Once the dough is ready, cover it with a damp cloth and let it rest for about 30 minutes.\\n6. After resting, divide the dough into smaller portions and roll each portion out into a thin sheet using a pasta machine or a rolling pin.\\n7. Cut the pasta sheets into your desired shape, such as fettuccine or spaghetti.\\n8. Cook the pasta in a large pot of boiling salted water for about 2-3 minutes, or until al dente.\\n9. Drain the pasta and toss it with your favorite sauce or toppings.\\n\\nEnjoy your homemade Italian pasta!', additional_kwargs={'refusal': None}, response_metadata={'token_usage': {'completion_tokens': 269, 'prompt_tokens': 13, 'total_tokens': 282, 'completion_tokens_details': {'accepted_prediction_tokens': 0, 'audio_tokens': 0, 'reasoning_tokens': 0, 'rejected_prediction_tokens': 0}, 'prompt_tokens_details': {'audio_tokens': 0, 'cached_tokens': 0}}, 'model_name': 'gpt-3.5-turbo-0125', 'system_fingerprint': None, 'id': 'chatcmpl-BqeVqGwHnVaHfn9lZx46a96PUT4ox', 'finish_reason': 'stop', 'logprobs': None}, id='run--f0122b1d-cd12-4d3a-8537-5fb9e5f33ce4-0', usage_metadata={'input_tokens': 13, 'output_tokens': 269, 'total_tokens': 282, 'input_token_details': {'audio': 0, 'cache_read': 0}, 'output_token_details': {'audio': 0, 'reasoning': 0}})"
      ]
     },
     "execution_count": 124,
     "metadata": {},
     "output_type": "execute_result"
    }
   ],
   "source": [
    "chat.invoke(\"How do yo make italian pasta\")"
   ]
  },
  {
   "cell_type": "code",
   "execution_count": 125,
   "id": "6b9b2e50-26b3-40dd-a8a8-50e77f97fe66",
   "metadata": {},
   "outputs": [
    {
     "data": {
      "text/plain": [
       "AIMessage(content='To make Italian pasta, you will need the following ingredients:\\n\\n- 2 cups of all-purpose flour\\n- 2 large eggs\\n- 1/2 teaspoon of salt\\n- Water (if needed)\\n\\nHere is a step-by-step guide to making Italian pasta:\\n\\n1. On a clean work surface, pour the flour and make a well in the center.\\n2. Crack the eggs into the well and add the salt.\\n3. Using a fork, gradually mix the eggs into the flour until a dough starts to form.\\n4. Use your hands to knead the dough until it is smooth and elastic. If the dough is too dry, add a little water. If it is too wet, add a little more flour.\\n5. Once the dough is ready, cover it with a damp cloth and let it rest for about 30 minutes.\\n6. After resting, divide the dough into smaller portions and roll each portion out into a thin sheet using a pasta machine or a rolling pin.\\n7. Cut the pasta sheets into your desired shape, such as fettuccine or spaghetti.\\n8. Cook the pasta in a large pot of boiling salted water for about 2-3 minutes, or until al dente.\\n9. Drain the pasta and toss it with your favorite sauce or toppings.\\n\\nEnjoy your homemade Italian pasta!', additional_kwargs={'refusal': None}, response_metadata={'token_usage': {'completion_tokens': 269, 'prompt_tokens': 13, 'total_tokens': 282, 'completion_tokens_details': {'accepted_prediction_tokens': 0, 'audio_tokens': 0, 'reasoning_tokens': 0, 'rejected_prediction_tokens': 0}, 'prompt_tokens_details': {'audio_tokens': 0, 'cached_tokens': 0}}, 'model_name': 'gpt-3.5-turbo-0125', 'system_fingerprint': None, 'id': 'chatcmpl-BqeVqGwHnVaHfn9lZx46a96PUT4ox', 'finish_reason': 'stop', 'logprobs': None}, id='run--f0122b1d-cd12-4d3a-8537-5fb9e5f33ce4-0', usage_metadata={'input_tokens': 13, 'output_tokens': 269, 'total_tokens': 282, 'input_token_details': {'audio': 0, 'cache_read': 0}, 'output_token_details': {'audio': 0, 'reasoning': 0}})"
      ]
     },
     "execution_count": 125,
     "metadata": {},
     "output_type": "execute_result"
    }
   ],
   "source": [
    "chat.invoke(\"How do yo make italian pasta\")"
   ]
  },
  {
   "cell_type": "markdown",
   "id": "58b9f4f6-34ad-4671-ba3a-1c7f01e6b022",
   "metadata": {},
   "source": [
    "## debug, cache 끄려면.."
   ]
  },
  {
   "cell_type": "code",
   "execution_count": 126,
   "id": "54b15230-a949-4be5-bcd4-823be3701cad",
   "metadata": {},
   "outputs": [],
   "source": [
    "set_debug(False)\n",
    "set_llm_cache(None)"
   ]
  },
  {
   "cell_type": "code",
   "execution_count": null,
   "id": "3464544d-f959-4c17-bed5-53b77a01ef5f",
   "metadata": {},
   "outputs": [],
   "source": []
  },
  {
   "cell_type": "markdown",
   "id": "e7fbcc98-3aaa-4951-bf3b-e87011899079",
   "metadata": {},
   "source": [
    "# OpenAI 모델 비용 확인"
   ]
  },
  {
   "cell_type": "code",
   "execution_count": 127,
   "id": "08ee0984-d151-4780-828c-8b65a99628df",
   "metadata": {},
   "outputs": [],
   "source": [
    "# v0.3\n",
    "from langchain_community.callbacks.manager import get_openai_callback\n",
    "# Get the OpenAI callback handler in a context manager.\n",
    "# which conveniently exposes token and cost information.\n",
    "# Returns: The OpenAI callback handler.\n",
    "# https://python.langchain.com/api_reference/community/callbacks/langchain_community.callbacks.manager.get_openai_callback.html#get-openai-callback"
   ]
  },
  {
   "cell_type": "code",
   "execution_count": 128,
   "id": "60508c21-9584-4a5b-843f-4f96c61afdde",
   "metadata": {},
   "outputs": [
    {
     "name": "stdout",
     "output_type": "stream",
     "text": [
      "Tokens Used: 181\n",
      "\tPrompt Tokens: 14\n",
      "\t\tPrompt Tokens Cached: 0\n",
      "\tCompletion Tokens: 167\n",
      "\t\tReasoning Tokens: 0\n",
      "Successful Requests: 1\n",
      "Total Cost (USD): $0.0002575\n"
     ]
    }
   ],
   "source": [
    "with get_openai_callback() as usage:\n",
    "    chat.invoke(\"What is the recipe for soju\")\n",
    "    print(usage)"
   ]
  },
  {
   "cell_type": "code",
   "execution_count": 129,
   "id": "12a8e752-7b40-4894-94d9-67b5820530fb",
   "metadata": {},
   "outputs": [
    {
     "name": "stdout",
     "output_type": "stream",
     "text": [
      "🧑🏼\n",
      " Ingredients:\n",
      "- 1 cup of rice\n",
      "- 1 cup of water\n",
      "- 1 tablespoon of nuruk (fermentation starter)\n",
      "- 1 tablespoon of yeast\n",
      "\n",
      "Instructions:\n",
      "1. Rinse the rice under cold water until the water runs clear.\n",
      "2. In a large pot, combine the rice and water and bring to a boil. Reduce heat to low and simmer for 20 minutes, or until the rice is cooked.\n",
      "3. Remove the pot from heat and let it cool to room temperature.\n",
      "4. In a separate bowl, mix the nuruk and yeast with a little bit of warm water to form a paste.\n",
      "5. Add the paste to the cooled rice and mix well.\n",
      "6. Cover the pot with a clean cloth and let it ferment in a warm, dark place for 3-4 days.\n",
      "7. After fermentation, strain the mixture through a cheesecloth to remove any solids.\n",
      "8. Transfer the liquid to a clean bottle and store in the refrigerator.\n",
      "9. Serve chilled and enjoy your homemade soju!\n",
      "🧑🏼\n",
      " Ingredients:\n",
      "- 3 1/2 cups all-purpose flour\n",
      "- 1 packet active dry yeast\n",
      "- 1 1/2 cups warm water\n",
      "- 2 tablespoons sugar\n",
      "- 1 teaspoon salt\n",
      "- 2 tablespoons olive oil\n",
      "\n",
      "Instructions:\n",
      "1. In a large mixing bowl, combine the warm water, sugar, and yeast. Let it sit for about 5-10 minutes until the yeast is foamy.\n",
      "2. Add the flour, salt, and olive oil to the yeast mixture. Mix until a dough forms.\n",
      "3. Knead the dough on a floured surface for about 5-10 minutes until it is smooth and elastic.\n",
      "4. Place the dough in a greased bowl, cover with a clean towel, and let it rise in a warm place for about 1-2 hours or until doubled in size.\n",
      "5. Punch down the dough and shape it into a loaf. Place the loaf in a greased loaf pan.\n",
      "6. Cover the loaf with a clean towel and let it rise for another 30-45 minutes.\n",
      "7. Preheat the oven to 375°F (190°C).\n",
      "8. Bake the bread for 25-30 minutes or until golden brown and sounds hollow when tapped on the bottom.\n",
      "9. Let the bread cool before slicing and serving. Enjoy!\n",
      "Tokens Used: 508\n",
      "\tPrompt Tokens: 27\n",
      "\t\tPrompt Tokens Cached: 0\n",
      "\tCompletion Tokens: 481\n",
      "\t\tReasoning Tokens: 0\n",
      "Successful Requests: 2\n",
      "Total Cost (USD): $0.000735\n"
     ]
    }
   ],
   "source": [
    "with get_openai_callback() as usage:\n",
    "    a = chat.invoke(\"What is the recipe for soju\")\n",
    "    b = chat.invoke(\"What is the recipe for bread\")\n",
    "    print(\"🧑🏼\\n\", a.content)\n",
    "    print(\"🧑🏼\\n\", b.content)\n",
    "    print(usage)  # 위 두번의 LLM 호출에 대한 전체 비용이 출력된다"
   ]
  },
  {
   "cell_type": "code",
   "execution_count": 130,
   "id": "3c04f109-6e27-41f5-89e5-b930aac2a63c",
   "metadata": {},
   "outputs": [
    {
     "name": "stdout",
     "output_type": "stream",
     "text": [
      "0.000735\n",
      "508\n"
     ]
    }
   ],
   "source": [
    "print(usage.total_cost)\n",
    "print(usage.total_tokens)"
   ]
  },
  {
   "cell_type": "code",
   "execution_count": null,
   "id": "ce271761-3ecc-4d3b-b9cb-c740f06b0dd4",
   "metadata": {},
   "outputs": [],
   "source": []
  },
  {
   "cell_type": "markdown",
   "id": "6cb6fd6c-c2f1-4622-86e6-203e2be24e4f",
   "metadata": {},
   "source": [
    "# Model Config 저장 / 불러오기"
   ]
  },
  {
   "cell_type": "code",
   "execution_count": 131,
   "id": "b91f4772-98c8-4e1f-8d1f-5e4e1811ec7c",
   "metadata": {},
   "outputs": [],
   "source": [
    "# v0.3\n",
    "from langchain_openai.llms.base import OpenAI\n",
    "# https://python.langchain.com/api_reference/openai/llms/langchain_openai.llms.base.OpenAI.html#langchain_openai.llms.base.OpenAI\n"
   ]
  },
  {
   "cell_type": "code",
   "execution_count": 132,
   "id": "355fbb7b-417c-407a-bd04-081cd1dd4650",
   "metadata": {},
   "outputs": [],
   "source": [
    "llm = OpenAI(\n",
    "    temperature=0.1,\n",
    "    max_tokens=450,\n",
    "    model=\"gpt-4-turbo\",\n",
    ")\n",
    "\n",
    "# 모델 (config) 저장\n",
    "llm.save('model.json')"
   ]
  },
  {
   "cell_type": "code",
   "execution_count": 133,
   "id": "0762cbcc-7821-4e03-ad2a-250d4c44570e",
   "metadata": {},
   "outputs": [
    {
     "name": "stdout",
     "output_type": "stream",
     "text": [
      "{\n",
      "    \"model_name\": \"gpt-4-turbo\",\n",
      "    \"temperature\": 0.1,\n",
      "    \"top_p\": 1,\n",
      "    \"frequency_penalty\": 0,\n",
      "    \"presence_penalty\": 0,\n",
      "    \"n\": 1,\n",
      "    \"seed\": null,\n",
      "    \"logprobs\": null,\n",
      "    \"max_tokens\": 450,\n",
      "    \"_type\": \"openai\"\n",
      "}\n"
     ]
    }
   ],
   "source": [
    "!type model.json"
   ]
  },
  {
   "cell_type": "code",
   "execution_count": 134,
   "id": "b8586936-2cf0-4cd9-8193-8932bd659e7f",
   "metadata": {},
   "outputs": [],
   "source": [
    "# v0.3\n",
    "from langchain_community.llms.loading import load_llm\n",
    "# Load LLM from a file.\n",
    "# https://python.langchain.com/api_reference/community/llms/langchain_community.llms.loading.load_llm.html#langchain_community.llms.loading.load_llm"
   ]
  },
  {
   "cell_type": "code",
   "execution_count": 135,
   "id": "48bc5460-ff5c-4a41-ae62-2ab19f1c4031",
   "metadata": {},
   "outputs": [
    {
     "name": "stderr",
     "output_type": "stream",
     "text": [
      "D:\\Lang2505\\LangWork\\.venv\\Lib\\site-packages\\langchain_community\\llms\\openai.py:255: UserWarning: You are trying to use a chat model. This way of initializing it is no longer supported. Instead, please use: `from langchain_community.chat_models import ChatOpenAI`\n",
      "  warnings.warn(\n",
      "D:\\Lang2505\\LangWork\\.venv\\Lib\\site-packages\\langchain_community\\llms\\openai.py:1089: UserWarning: You are trying to use a chat model. This way of initializing it is no longer supported. Instead, please use: `from langchain_community.chat_models import ChatOpenAI`\n",
      "  warnings.warn(\n"
     ]
    }
   ],
   "source": [
    "llm = load_llm('model.json')"
   ]
  },
  {
   "cell_type": "code",
   "execution_count": 136,
   "id": "8b181936-f89e-464c-b47f-eb4fe73fb352",
   "metadata": {},
   "outputs": [
    {
     "data": {
      "text/plain": [
       "OpenAIChat(client=APIRemovedInV1Proxy, model_kwargs={'model_name': 'gpt-4-turbo', 'temperature': 0.1, 'top_p': 1, 'frequency_penalty': 0, 'presence_penalty': 0, 'n': 1, 'seed': None, 'logprobs': None, 'max_tokens': 450}, prefix_messages=[])"
      ]
     },
     "execution_count": 136,
     "metadata": {},
     "output_type": "execute_result"
    }
   ],
   "source": [
    "llm"
   ]
  },
  {
   "cell_type": "code",
   "execution_count": null,
   "id": "29188806-0261-4419-b0f0-fd93c48e1822",
   "metadata": {},
   "outputs": [],
   "source": []
  },
  {
   "cell_type": "code",
   "execution_count": null,
   "id": "31723c4f-6331-4fcc-9f18-06e2c6203727",
   "metadata": {},
   "outputs": [],
   "source": []
  },
  {
   "cell_type": "code",
   "execution_count": null,
   "id": "2f50f0ef-074d-4992-a955-f950e71303e7",
   "metadata": {},
   "outputs": [],
   "source": []
  },
  {
   "cell_type": "code",
   "execution_count": null,
   "id": "d4dad0b0-bbd6-4737-b729-34ec3aff7f7e",
   "metadata": {},
   "outputs": [],
   "source": []
  },
  {
   "cell_type": "code",
   "execution_count": null,
   "id": "90444e04-2fb6-407b-b03c-dea84d719c07",
   "metadata": {},
   "outputs": [],
   "source": []
  },
  {
   "cell_type": "code",
   "execution_count": null,
   "id": "b6eb3dbd-688b-43e2-9fb7-d3cb68ada51a",
   "metadata": {},
   "outputs": [],
   "source": []
  },
  {
   "cell_type": "code",
   "execution_count": null,
   "id": "b796a7e1-0236-4d29-a135-bd84ebbedca6",
   "metadata": {},
   "outputs": [],
   "source": []
  },
  {
   "cell_type": "code",
   "execution_count": null,
   "id": "42b9f172-2b5b-4da9-a3ff-f034c280b1e6",
   "metadata": {},
   "outputs": [],
   "source": []
  },
  {
   "cell_type": "code",
   "execution_count": null,
   "id": "04010bed-4ef4-4a35-873c-3ff2fce22c64",
   "metadata": {},
   "outputs": [],
   "source": []
  },
  {
   "cell_type": "code",
   "execution_count": null,
   "id": "60e9f1cb-8dda-4fef-a866-8749541ffb5d",
   "metadata": {},
   "outputs": [],
   "source": []
  },
  {
   "cell_type": "code",
   "execution_count": null,
   "id": "7e53b92d-4021-49cb-b42f-1ffa222831f3",
   "metadata": {},
   "outputs": [],
   "source": []
  },
  {
   "cell_type": "code",
   "execution_count": null,
   "id": "422741bd-6d0e-49fe-a901-a3d05fd54bdc",
   "metadata": {},
   "outputs": [],
   "source": []
  }
 ],
 "metadata": {
  "kernelspec": {
   "display_name": "Python 3 (ipykernel)",
   "language": "python",
   "name": "python3"
  },
  "language_info": {
   "codemirror_mode": {
    "name": "ipython",
    "version": 3
   },
   "file_extension": ".py",
   "mimetype": "text/x-python",
   "name": "python",
   "nbconvert_exporter": "python",
   "pygments_lexer": "ipython3",
   "version": "3.12.7"
  }
 },
 "nbformat": 4,
 "nbformat_minor": 5
}
