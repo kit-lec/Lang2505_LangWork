{
 "cells": [
  {
   "cell_type": "markdown",
   "id": "bdd6dc21-dbb5-4d6a-869e-fccb91242e3c",
   "metadata": {},
   "source": [
    "# RAG\n",
    "Retrieval Augmented Generation (검색증강생성)"
   ]
  },
  {
   "cell_type": "code",
   "execution_count": null,
   "id": "e1572259-9499-440a-bd5a-a5b9fe83ed60",
   "metadata": {},
   "outputs": [],
   "source": [
    "# 사전학습된 모델은 이미 많은 데이터를 통해 학습한 상태이긴 하나..\n",
    "# 개인 DB 나 회사내 문서 와 같이 'private 한 데이터' 들에는 접근할수 없다\n",
    "# 그래서 RAG 를 사용한다!"
   ]
  },
  {
   "cell_type": "markdown",
   "id": "a720bebf-a8da-41db-b8ce-8956b0770e7f",
   "metadata": {},
   "source": [
    "# 다양한 RAG 기법들\n",
    "- ppt 참조"
   ]
  },
  {
   "cell_type": "code",
   "execution_count": null,
   "id": "9db41199-f69a-4432-8d3b-13428900262f",
   "metadata": {},
   "outputs": [],
   "source": [
    "\"\"\"\n",
    "어떤 방식으로 RAG 를 구현할른지는\n",
    "\n",
    "- 우리가 얼마나 많은 문서들을 가지고 있는지\n",
    "- 우리가 얼마나 많은 비용으로 운영할지 (어떤 모델, 가용한 token 개수등..)\n",
    "\n",
    "등에 따라 결정될 문제다.\n",
    "\n",
    "\"\"\"\n",
    "None"
   ]
  },
  {
   "cell_type": "markdown",
   "id": "0218d1f6-b658-457d-80d7-faf3a8023c7a",
   "metadata": {},
   "source": [
    "# Retrieve 란\n",
    "\n",
    "https://python.langchain.com/v0.1/docs/modules/data_connection/\n",
    "\n",
    "![](https://python.langchain.com/v0.1/assets/images/data_connection-95ff2033a8faa5f3ba41376c0f6dd32a.jpg)\n"
   ]
  },
  {
   "cell_type": "code",
   "execution_count": null,
   "id": "88fea3db-c3e4-4176-a420-6c663f0e81b9",
   "metadata": {},
   "outputs": [],
   "source": [
    "# RAG 의 첫번째 단계인 Retrieval 의 일반적인 과정\n",
    "# - data source 에서 데이터 load\n",
    "# - 데이터는 split 하면서 transform\n",
    "# - transform 한 데이터를 embed.\n",
    "# - embed 된 데이터를 store 에 저장."
   ]
  },
  {
   "cell_type": "markdown",
   "id": "e6ba0520-b232-4ee7-9106-d9050b5689b5",
   "metadata": {},
   "source": [
    "# Data Loader"
   ]
  },
  {
   "cell_type": "code",
   "execution_count": 1,
   "id": "3c278d36-492b-45c9-8b99-1f24d2eba290",
   "metadata": {},
   "outputs": [],
   "source": [
    "# 랭체인에서 제공하는 다양한 document loader 들이 있다\n",
    "# CSV, File Directory, HTML, JSON, Markdown, PDF 등\n",
    "# ※그 밖에서도 3rd party loader 들도 있다."
   ]
  },
  {
   "cell_type": "code",
   "execution_count": null,
   "id": "54de9a45-4514-4f14-9205-bab8530a5437",
   "metadata": {},
   "outputs": [],
   "source": [
    "\"\"\"\n",
    "Data Loader 는 소스에서 데이터를 추출하고 langchain 에 가져다 주는 코드다.\n",
    "\n",
    "정말 많은 document loader source 들이 제공된다. (함 보자 ↓)\n",
    "https://python.langchain.com/docs/integrations/document_loaders/#all-document-loaders\n",
    "\n",
    "GitHub, Figma, Facebook Caht, MS power point, slack, telegram, trello, Twitter 등..\n",
    "전부다 랭체인에서 활용해볼수 있다는 것이다.\n",
    "\n",
    "다양한 Data Loader 이지만 거의 동일한 API 인터페이스로 설계되어 있다.\n",
    "\"\"\"\n",
    "None"
   ]
  },
  {
   "cell_type": "markdown",
   "id": "b5a43a60-5118-47bb-8a57-ebc3a7e34a69",
   "metadata": {},
   "source": [
    "## 파일 준비"
   ]
  },
  {
   "cell_type": "code",
   "execution_count": null,
   "id": "e7792827-8a10-4651-9b28-3f3abca1f4fe",
   "metadata": {},
   "outputs": [],
   "source": [
    "# 아래와 같이 파일들을 준비합니다\n",
    "# 구글드라이브 사용자는 자신의 구글드라이브 공간에 생성해두시길 바랍니다\n",
    "\n",
    "# 출처는  조지오웰의 소설 '1984' Part1 Chapter1\n",
    "#  http://www.george-orwell.org/1984/0.html\n",
    "\n",
    "# 너무 길거나, 너무 짧지 않으면 좋습니다\n",
    "# 파일이 너무 길면 나중에 임베딩 과정에서 비용지출이 발생."
   ]
  },
  {
   "cell_type": "code",
   "execution_count": 1,
   "id": "816a3ea3-5cb4-47f8-9777-9896c5c89932",
   "metadata": {},
   "outputs": [],
   "source": [
    "import os\n",
    "from langchain_openai.chat_models.base import ChatOpenAI\n",
    "llm = ChatOpenAI(temperature=0.1)"
   ]
  },
  {
   "cell_type": "code",
   "execution_count": 2,
   "id": "c3c78606-8aae-4468-ace5-5a286537d604",
   "metadata": {},
   "outputs": [],
   "source": [
    "base_path = r'D:\\Lang2505\\dataset\\files'"
   ]
  },
  {
   "cell_type": "markdown",
   "id": "d0f37498-21c1-494f-ac6b-16c008f8f35e",
   "metadata": {},
   "source": [
    "## TextLoader"
   ]
  },
  {
   "cell_type": "code",
   "execution_count": 3,
   "id": "17d9566c-99ad-455e-b78c-f5b73ac45383",
   "metadata": {},
   "outputs": [],
   "source": [
    "# v0.3\n",
    "from langchain_community.document_loaders.text import TextLoader\n",
    "# https://python.langchain.com/api_reference/community/document_loaders/langchain_community.document_loaders.text.TextLoader.html\n",
    "# Load text file.\n"
   ]
  },
  {
   "cell_type": "code",
   "execution_count": 5,
   "id": "333adc17-a960-4822-a58b-9f4867c947ae",
   "metadata": {},
   "outputs": [],
   "source": [
    "loader = TextLoader(os.path.join(base_path, 'chapter_one.txt'))"
   ]
  },
  {
   "cell_type": "code",
   "execution_count": 7,
   "id": "2fd59127-051c-4bf8-b572-e789ffc48c8d",
   "metadata": {},
   "outputs": [
    {
     "data": {
      "text/plain": [
       "[Document(metadata={'source': 'D:\\\\Lang2505\\\\dataset\\\\files\\\\chapter_one.txt'}, page_content=\"Part 1, Chapter 1\\n\\nPart One\\n\\n\\n1\\nIt was a bright cold day in April, and the clocks were striking thirteen. Winston Smith, his chin nuzzled into his breast in an effort to escape the vile wind, slipped quickly through the glass doors of Victory Mansions, though not quickly enough to prevent a swirl of gritty dust from entering along with him.\\n\\nThe hallway smelt of boiled cabbage and old rag mats. At one end of it a coloured poster, too large for indoor display, had been tacked to the wall. It depicted simply an enormous face, more than a metre wide: the face of a man of about forty-five, with a heavy black moustache and ruggedly handsome features. Winston made for the stairs. It was no use trying the lift. Even at the best of times it was seldom working, and at present the electric current was cut off during daylight hours. It was part of the economy drive in preparation for Hate Week. The flat was seven flights up, and Winston, who was thirty-nine and had a varicose ulcer above his right ankle, went slowly, resting several times on the way. On each landing, opposite the lift-shaft, the poster with the enormous face gazed from the wall. It was one of those pictures which are so contrived that the eyes follow you about when you move. BIG BROTHER IS WATCHING YOU, the caption beneath it ran.\\n\\nInside the flat a fruity voice was reading out a list of figures which had something to do with the production of pig-iron. The voice came from an oblong metal plaque like a dulled mirror which formed part of the surface of the right-hand wall. Winston turned a switch and the voice sank somewhat, though the words were still distinguishable. The instrument (the telescreen, it was called) could be dimmed, but there was no way of shutting it off completely. He moved over to the window: a smallish, frail figure, the meagreness of his body merely emphasized by the blue overalls which were the uniform of the party. His hair was very fair, his face naturally sanguine, his skin roughened by coarse soap and blunt razor blades and the cold of the winter that had just ended.\\n\\nOutside, even through the shut window-pane, the world looked cold. Down in the street little eddies of wind were whirling dust and torn paper into spirals, and though the sun was shining and the sky a harsh blue, there seemed to be no colour in anything, except the posters that were plastered everywhere. The blackmoustachio'd face gazed down from every commanding corner. There was one on the house-front immediately opposite. BIG BROTHER IS WATCHING YOU, the caption said, while the dark eyes looked deep into Winston's own. Down at streetlevel another poster, torn at one corner, flapped fitfully in the wind, alternately covering and uncovering the single word INGSOC. In the far distance a helicopter skimmed down between the roofs, hovered for an instant like a bluebottle, and darted away again with a curving flight. It was the police patrol, snooping into people's windows. The patrols did not matter, however. Only the Thought Police mattered.\\n\\nBehind Winston's back the voice from the telescreen was still babbling away about pig-iron and the overfulfilment of the Ninth Three-Year Plan. The telescreen received and transmitted simultaneously. Any sound that Winston made, above the level of a very low whisper, would be picked up by it, moreover, so long as he remained within the field of vision which the metal plaque commanded, he could be seen as well as heard. There was of course no way of knowing whether you were being watched at any given moment. How often, or on what system, the Thought Police plugged in on any individual wire was guesswork. It was even conceivable that they watched everybody all the time. But at any rate they could plug in your wire whenever they wanted to. You had to live -- did live, from habit that became instinct -- in the assumption that every sound you made was overheard, and, except in darkness, every movement scrutinized.\\n\\nWinston kept his back turned to the telescreen. It was safer, though, as he well knew, even a back can be revealing. A kilometre away the Ministry of Truth, his place of work, towered vast and white above the grimy landscape. This, he thought with a sort of vague distaste -- this was London, chief city of Airstrip One, itself the third most populous of the provinces of Oceania. He tried to squeeze out some childhood memory that should tell him whether London had always been quite like this. Were there always these vistas of rotting nineteenth-century houses, their sides shored up with baulks of timber, their windows patched with cardboard and their roofs with corrugated iron, their crazy garden walls sagging in all directions? And the bombed sites where the plaster dust swirled in the air and the willow-herb straggled over the heaps of rubble; and the places where the bombs had cleared a larger patch and there had sprung up sordid colonies of wooden dwellings like chicken-houses? But it was no use, he could not remember: nothing remained of his childhood except a series of bright-lit tableaux occurring against no background and mostly unintelligible.\\n\\nThe Ministry of Truth -- Minitrue, in Newspeak -- was startlingly different from any other object in sight. It was an enormous pyramidal structure of glittering white concrete, soaring up, terrace after terrace, 300 metres into the air. From where Winston stood it was just possible to read, picked out on its white face in elegant lettering, the three slogans of the Party:\\n\\nWAR IS PEACE\\n\\nFREEDOM IS SLAVERY\\n\\nIGNORANCE IS STRENGTH\\n\\nThe Ministry of Truth contained, it was said, three thousand rooms above ground level, and corresponding ramifications below. Scattered about London there were just three other buildings of similar appearance and size. So completely did they dwarf the surrounding architecture that from the roof of Victory Mansions you could see all four of them simultaneously. They were the homes of the four Ministries between which the entire apparatus of government was divided. The Ministry of Truth, which concerned itself with news, entertainment, education, and the fine arts. The Ministry of Peace, which concerned itself with war. The Ministry of Love, which maintained law and order. And the Ministry of Plenty, which was responsible for economic affairs. Their names, in Newspeak: Minitrue, Minipax, Miniluv, and Miniplenty.\\n\\nThe Ministry of Love was the really frightening one. There were no windows in it at all. Winston had never been inside the Ministry of Love, nor within half a kilometre of it. It was a place impossible to enter except on official business, and then only by penetrating through a maze of barbed-wire entanglements, steel doors, and hidden machine-gun nests. Even the streets leading up to its outer barriers were roamed by gorilla-faced guards in black uniforms, armed with jointed truncheons.\\n\\nWinston turned round abruptly. He had set his features into the expression of quiet optimism which it was advisable to wear when facing the telescreen. He crossed the room into the tiny kitchen. By leaving the Ministry at this time of day he had sacrificed his lunch in the canteen, and he was aware that there was no food in the kitchen except a hunk of dark-coloured bread which had got to be saved for tomorrow's breakfast. He took down from the shelf a bottle of colourless liquid with a plain white label marked VICTORY GIN. It gave off a sickly, oily smell, as of Chinese ricespirit. Winston poured out nearly a teacupful, nerved himself for a shock, and gulped it down like a dose of medicine.\\n\\nInstantly his face turned scarlet and the water ran out of his eyes. The stuff was like nitric acid, and moreover, in swallowing it one had the sensation of being hit on the back of the head with a rubber club. The next moment, however, the burning in his belly died down and the world began to look more cheerful. He took a cigarette from a crumpled packet marked VICTORY CIGARETTES and incautiously held it upright, whereupon the tobacco fell out on to the floor. With the next he was more successful. He went back to the living-room and sat down at a small table that stood to the left of the telescreen. From the table drawer he took out a penholder, a bottle of ink, and a thick, quarto-sized blank book with a red back and a marbled cover.\\n\\nFor some reason the telescreen in the living-room was in an unusual position. Instead of being placed, as was normal, in the end wall, where it could command the whole room, it was in the longer wall, opposite the window. To one side of it there was a shallow alcove in which Winston was now sitting, and which, when the flats were built, had probably been intended to hold bookshelves. By sitting in the alcove, and keeping well back, Winston was able to remain outside the range of the telescreen, so far as sight went. He could be heard, of course, but so long as he stayed in his present position he could not be seen. It was partly the unusual geography of the room that had suggested to him the thing that he was now about to do.\\n\\nBut it had also been suggested by the book that he had just taken out of the drawer. It was a peculiarly beautiful book. Its smooth creamy paper, a little yellowed by age, was of a kind that had not been manufactured for at least forty years past. He could guess, however, that the book was much older than that. He had seen it lying in the window of a frowsy little junk-shop in a slummy quarter of the town (just what quarter he did not now remember) and had been stricken immediately by an overwhelming desire to possess it. Party members were supposed not to go into ordinary shops ('dealing on the free market', it was called), but the rule was not strictly kept, because there were various things, such as shoelaces and razor blades, which it was impossible to get hold of in any other way. He had given a quick glance up and down the street and then had slipped inside and bought the book for two dollars fifty. At the time he was not conscious of wanting it for any particular purpose. He had carried it guiltily home in his briefcase. Even with nothing written in it, it was a compromising possession.\\n\\nThe thing that he was about to do was to open a diary. This was not illegal (nothing was illegal, since there were no longer any laws), but if detected it was reasonably certain that it would be punished by death, or at least by twenty-five years in a forced-labour camp. Winston fitted a nib into the penholder and sucked it to get the grease off. The pen was an archaic instrument, seldom used even for signatures, and he had procured one, furtively and with some difficulty, simply because of a feeling that the beautiful creamy paper deserved to be written on with a real nib instead of being scratched with an ink-pencil. Actually he was not used to writing by hand. Apart from very short notes, it was usual to dictate everything into the speakwrite which was of course impossible for his present purpose. He dipped the pen into the ink and then faltered for just a second. A tremor had gone through his bowels. To mark the paper was the decisive act. In small clumsy letters he wrote:\\n\\nApril 4th, 1984.\\n\\nHe sat back. A sense of complete helplessness had descended upon him. To begin with, he did not know with any certainty that this was 1984. It must be round about that date, since he was fairly sure that his age was thirty-nine, and he believed that he had been born in 1944 or 1945; but it was never possible nowadays to pin down any date within a year or two.\\n\\nFor whom, it suddenly occurred to him to wonder, was he writing this diary? For the future, for the unborn. His mind hovered for a moment round the doubtful date on the page, and then fetched up with a bump against the Newspeak word doublethink. For the first time the magnitude of what he had undertaken came home to him. How could you communicate with the future? It was of its nature impossible. Either the future would resemble the present, in which case it would not listen to him: or it would be different from it, and his predicament would be meaningless.\\n\\nFor some time he sat gazing stupidly at the paper. The telescreen had changed over to strident military music. It was curious that he seemed not merely to have lost the power of expressing himself, but even to have forgotten what it was that he had originally intended to say. For weeks past he had been making ready for this moment, and it had never crossed his mind that anything would be needed except courage. The actual writing would be easy. All he had to do was to transfer to paper the interminable restless monologue that had been running inside his head, literally for years. At this moment, however, even the monologue had dried up. Moreover his varicose ulcer had begun itching unbearably. He dared not scratch it, because if he did so it always became inflamed. The seconds were ticking by. He was conscious of nothing except the blankness of the page in front of him, the itching of the skin above his ankle, the blaring of the music, and a slight booziness caused by the gin.\\n\\nSuddenly he began writing in sheer panic, only imperfectly aware of what he was setting down. His small but childish handwriting straggled up and down the page, shedding first its capital letters and finally even its full stops:\\n\\nApril 4th, 1984. Last night to the flicks. All war films. One very good one of a ship full of refugees being bombed somewhere in the Mediterranean. Audience much amused by shots of a great huge fat man trying to swim away with a helicopter after him, first you saw him wallowing along in the water like a porpoise, then you saw him through the helicopters gunsights, then he was full of holes and the sea round him turned pink and he sank as suddenly as though the holes had let in the water, audience shouting with laughter when he sank. then you saw a lifeboat full of children with a helicopter hovering over it. there was a middle-aged woman might have been a jewess sitting up in the bow with a little boy about three years old in her arms. little boy screaming with fright and hiding his head between her breasts as if he was trying to burrow right into her and the woman putting her arms round him and comforting him although she was blue with fright herself, all the time covering him up as much as possible as if she thought her arms could keep the bullets off him. then the helicopter planted a 20 kilo bomb in among them terrific flash and the boat went all to matchwood. then there was a wonderful shot of a child's arm going up up up right up into the air a helicopter with a camera in its nose must have followed it up and there was a lot of applause from the party seats but a woman down in the prole part of the house suddenly started kicking up a fuss and shouting they didnt oughter of showed it not in front of kids they didnt it aint right not in front of kids it aint until the police turned her turned her out i dont suppose anything happened to her nobody cares what the proles say typical prole reaction they never --\\n\\nWinston stopped writing, partly because he was suffering from cramp. He did not know what had made him pour out this stream of rubbish. But the curious thing was that while he was doing so a totally different memory had clarified itself in his mind, to the point where he almost felt equal to writing it down. It was, he now realized, because of this other incident that he had suddenly decided to come home and begin the diary today.\\n\\nIt had happened that morning at the Ministry, if anything so nebulous could be said to happen.\\n\\nIt was nearly eleven hundred, and in the Records Department, where Winston worked, they were dragging the chairs out of the cubicles and grouping them in the centre of the hall opposite the big telescreen, in preparation for the Two Minutes Hate. Winston was just taking his place in one of the middle rows when two people whom he knew by sight, but had never spoken to, came unexpectedly into the room. One of them was a girl whom he often passed in the corridors. He did not know her name, but he knew that she worked in the Fiction Department. Presumably -- since he had sometimes seen her with oily hands and carrying a spanner she had some mechanical job on one of the novel-writing machines. She was a bold-looking girl, of about twenty-seven, with thick hair, a freckled face, and swift, athletic movements. A narrow scarlet sash, emblem of the Junior Anti-Sex League, was wound several times round the waist of her overalls, just tightly enough to bring out the shapeliness of her hips. Winston had disliked her from the very first moment of seeing her. He knew the reason. It was because of the atmosphere of hockey-fields and cold baths and community hikes and general clean-mindedness which she managed to carry about with her. He disliked nearly all women, and especially the young and pretty ones. It was always the women, and above all the young ones, who were the most bigoted adherents of the Party, the swallowers of slogans, the amateur spies and nosers-out of unorthodoxy. But this particular girl gave him the impression of being more dangerous than most. Once when they passed in the corridor she gave him a quick sidelong glance which seemed to pierce right into him and for a moment had filled him with black terror. The idea had even crossed his mind that she might be an agent of the Thought Police. That, it was true, was very unlikely. Still, he continued to feel a peculiar uneasiness, which had fear mixed up in it as well as hostility, whenever she was anywhere near him.\\n\\nThe other person was a man named O'Brien, a member of the Inner Party and holder of some post so important and remote that Winston had only a dim idea of its nature. A momentary hush passed over the group of people round the chairs as they saw the black overalls of an Inner Party member approaching. O'Brien was a large, burly man with a thick neck and a coarse, humorous, brutal face. In spite of his formidable appearance he had a certain charm of manner. He had a trick of resettling his spectacles on his nose which was curiously disarming -- in some indefinable way, curiously civilized. It was a gesture which, if anyone had still thought in such terms, might have recalled an eighteenth-century nobleman offering his snuffbox. Winston had seen O'Brien perhaps a dozen times in almost as many years. He felt deeply drawn to him, and not solely because he was intrigued by the contrast between O'Brien's urbane manner and his prize-fighter's physique. Much more it was because of a secretly held belief -- or perhaps not even a belief, merely a hope -- that O'Brien's political orthodoxy was not perfect. Something in his face suggested it irresistibly. And again, perhaps it was not even unorthodoxy that was written in his face, but simply intelligence. But at any rate he had the appearance of being a person that you could talk to if somehow you could cheat the telescreen and get him alone. Winston had never made the smallest effort to verify this guess: indeed, there was no way of doing so. At this moment O'Brien glanced at his wrist-watch, saw that it was nearly eleven hundred, and evidently decided to stay in the Records Department until the Two Minutes Hate was over. He took a chair in the same row as Winston, a couple of places away. A small, sandy-haired woman who worked in the next cubicle to Winston was between them. The girl with dark hair was sitting immediately behind.\\n\\nThe next moment a hideous, grinding speech, as of some monstrous machine running without oil, burst from the big telescreen at the end of the room. It was a noise that set one's teeth on edge and bristled the hair at the back of one's neck. The Hate had started.\\n\\nAs usual, the face of Emmanuel Goldstein, the Enemy of the People, had flashed on to the screen. There were hisses here and there among the audience. The little sandy-haired woman gave a squeak of mingled fear and disgust. Goldstein was the renegade and backslider who once, long ago (how long ago, nobody quite remembered), had been one of the leading figures of the Party, almost on a level with Big Brother himself, and then had engaged in counter-revolutionary activities, had been condemned to death, and had mysteriously escaped and disappeared. The programmes of the Two Minutes Hate varied from day to day, but there was none in which Goldstein was not the principal figure. He was the primal traitor, the earliest defiler of the Party's purity. All subsequent crimes against the Party, all treacheries, acts of sabotage, heresies, deviations, sprang directly out of his teaching. Somewhere or other he was still alive and hatching his conspiracies: perhaps somewhere beyond the sea, under the protection of his foreign paymasters, perhaps even -- so it was occasionally rumoured -- in some hiding-place in Oceania itself.\\n\\nWinston's diaphragm was constricted. He could never see the face of Goldstein without a painful mixture of emotions. It was a lean Jewish face, with a great fuzzy aureole of white hair and a small goatee beard -- a clever face, and yet somehow inherently despicable, with a kind of senile silliness in the long thin nose, near the end of which a pair of spectacles was perched. It resembled the face of a sheep, and the voice, too, had a sheep-like quality. Goldstein was delivering his usual venomous attack upon the doctrines of the Party -- an attack so exaggerated and perverse that a child should have been able to see through it, and yet just plausible enough to fill one with an alarmed feeling that other people, less level-headed than oneself, might be taken in by it. He was abusing Big Brother, he was denouncing the dictatorship of the Party, he was demanding the immediate conclusion of peace with Eurasia, he was advocating freedom of speech, freedom of the Press, freedom of assembly, freedom of thought, he was crying hysterically that the revolution had been betrayed -- and all this in rapid polysyllabic speech which was a sort of parody of the habitual style of the orators of the Party, and even contained Newspeak words: more Newspeak words, indeed, than any Party member would normally use in real life. And all the while, lest one should be in any doubt as to the reality which Goldstein's specious claptrap covered, behind his head on the telescreen there marched the endless columns of the Eurasian army -- row after row of solid-looking men with expressionless Asiatic faces, who swam up to the surface of the screen and vanished, to be replaced by others exactly similar. The dull rhythmic tramp of the soldiers' boots formed the background to Goldstein's bleating voice.\\n\\nBefore the Hate had proceeded for thirty seconds, uncontrollable exclamations of rage were breaking out from half the people in the room. The self-satisfied sheep-like face on the screen, and the terrifying power of the Eurasian army behind it, were too much to be borne: besides, the sight or even the thought of Goldstein produced fear and anger automatically. He was an object of hatred more constant than either Eurasia or Eastasia, since when Oceania was at war with one of these Powers it was generally at peace with the other. But what was strange was that although Goldstein was hated and despised by everybody, although every day and a thousand times a day, on platforms, on the telescreen, in newspapers, in books, his theories were refuted, smashed, ridiculed, held up to the general gaze for the pitiful rubbish that they were in spite of all this, his influence never seemed to grow less. Always there were fresh dupes waiting to be seduced by him. A day never passed when spies and saboteurs acting under his directions were not unmasked by the Thought Police. He was the commander of a vast shadowy army, an underground network of conspirators dedicated to the overthrow of the State. The Brotherhood, its name was supposed to be. There were also whispered stories of a terrible book, a compendium of all the heresies, of which Goldstein was the author and which circulated clandestinely here and there. It was a book without a title. People referred to it, if at all, simply as the book. But one knew of such things only through vague rumours. Neither the Brotherhood nor the book was a subject that any ordinary Party member would mention if there was a way of avoiding it.\\n\\nIn its second minute the Hate rose to a frenzy. People were leaping up and down in their places and shouting at the tops of their voices in an effort to drown the maddening bleating voice that came from the screen. The little sandy-haired woman had turned bright pink, and her mouth was opening and shutting like that of a landed fish. Even O'Brien's heavy face was flushed. He was sitting very straight in his chair, his powerful chest swelling and quivering as though he were standing up to the assault of a wave. The dark-haired girl behind Winston had begun crying out 'Swine! Swine! Swine!' and suddenly she picked up a heavy Newspeak dictionary and flung it at the screen. It struck Goldstein's nose and bounced off; the voice continued inexorably. In a lucid moment Winston found that he was shouting with the others and kicking his heel violently against the rung of his chair. The horrible thing about the Two Minutes Hate was not that one was obliged to act a part, but, on the contrary, that it was impossible to avoid joining in. Within thirty seconds any pretence was always unnecessary. A hideous ecstasy of fear and vindictiveness, a desire to kill, to torture, to smash faces in with a sledge-hammer, seemed to flow through the whole group of people like an electric current, turning one even against one's will into a grimacing, screaming lunatic. And yet the rage that one felt was an abstract, undirected emotion which could be switched from one object to another like the flame of a blowlamp. Thus, at one moment Winston's hatred was not turned against Goldstein at all, but, on the contrary, against Big Brother, the Party, and the Thought Police; and at such moments his heart went out to the lonely, derided heretic on the screen, sole guardian of truth and sanity in a world of lies. And yet the very next instant he was at one with the people about him, and all that was said of Goldstein seemed to him to be true. At those moments his secret loathing of Big Brother changed into adoration, and Big Brother seemed to tower up, an invincible, fearless protector, standing like a rock against the hordes of Asia, and Goldstein, in spite of his isolation, his helplessness, and the doubt that hung about his very existence, seemed like some sinister enchanter, capable by the mere power of his voice of wrecking the structure of civilization.\\n\\nIt was even possible, at moments, to switch one's hatred this way or that by a voluntary act. Suddenly, by the sort of violent effort with which one wrenches one's head away from the pillow in a nightmare, Winston succeeded in transferring his hatred from the face on the screen to the dark-haired girl behind him. Vivid, beautiful hallucinations flashed through his mind. He would flog her to death with a rubber truncheon. He would tie her naked to a stake and shoot her full of arrows like Saint Sebastian. He would ravish her and cut her throat at the moment of climax. Better than before, moreover, he realized why it was that he hated her. He hated her because she was young and pretty and sexless, because he wanted to go to bed with her and would never do so, because round her sweet supple waist, which seemed to ask you to encircle it with your arm, there was only the odious scarlet sash, aggressive symbol of chastity.\\n\\nThe Hate rose to its climax. The voice of Goldstein had become an actual sheep's bleat, and for an instant the face changed into that of a sheep. Then the sheep-face melted into the figure of a Eurasian soldier who seemed to be advancing, huge and terrible, his sub-machine gun roaring, and seeming to spring out of the surface of the screen, so that some of the people in the front row actually flinched backwards in their seats. But in the same moment, drawing a deep sigh of relief from everybody, the hostile figure melted into the face of Big Brother, black-haired, black-moustachio'd, full of power and mysterious calm, and so vast that it almost filled up the screen. Nobody heard what Big Brother was saying. It was merely a few words of encouragement, the sort of words that are uttered in the din of battle, not distinguishable individually but restoring confidence by the fact of being spoken. Then the face of Big Brother faded away again, and instead the three slogans of the Party stood out in bold capitals:\\n\\nWAR IS PEACE\\n\\nFREEDOM IS SLAVERY\\n\\nIGNORANCE IS STRENGTH\\n\\nBut the face of Big Brother seemed to persist for several seconds on the screen, as though the impact that it had made on everyone's eyeballs was too vivid to wear off immediately. The little sandyhaired woman had flung herself forward over the back of the chair in front of her. With a tremulous murmur that sounded like 'My Saviour!' she extended her arms towards the screen. Then she buried her face in her hands. It was apparent that she was uttering a prayer.\\n\\nAt this moment the entire group of people broke into a deep, slow, rhythmical chant of 'B-B! ...B-B!' -- over and over again, very slowly, with a long pause between the first 'B' and the second-a heavy, murmurous sound, somehow curiously savage, in the background of which one seemed to hear the stamp of naked feet and the throbbing of tom-toms. For perhaps as much as thirty seconds they kept it up. It was a refrain that was often heard in moments of overwhelming emotion. Partly it was a sort of hymn to the wisdom and majesty of Big Brother, but still more it was an act of self-hypnosis, a deliberate drowning of consciousness by means of rhythmic noise. Winston's entrails seemed to grow cold. In the Two Minutes Hate he could not help sharing in the general delirium, but this sub-human chanting of 'B-B! ...B-B!' always filled him with horror. Of course he chanted with the rest: it was impossible to do otherwise. To dissemble your feelings, to control your face, to do what everyone else was doing, was an instinctive reaction. But there was a space of a couple of seconds during which the expression of his eyes might conceivably have betrayed him. And it was exactly at this moment that the significant thing happened -- if, indeed, it did happen.\\n\\nMomentarily he caught O'Brien's eye. O'Brien had stood up. He had taken off his spectacles and was in the act of resettling them on his nose with his characteristic gesture. But there was a fraction of a second when their eyes met, and for as long as it took to happen Winston knew-yes, he knew!-that O'Brien was thinking the same thing as himself. An unmistakable message had passed. It was as though their two minds had opened and the thoughts were flowing from one into the other through their eyes. 'I am with you,' O'Brien seemed to be saying to him. 'I know precisely what you are feeling. I know all about your contempt, your hatred, your disgust. But don't worry, I am on your side!' And then the flash of intelligence was gone, and O'Brien's face was as inscrutable as everybody else's.\\n\\nThat was all, and he was already uncertain whether it had happened. Such incidents never had any sequel. All that they did was to keep alive in him the belief, or hope, that others besides himself were the enemies of the Party. Perhaps the rumours of vast underground conspiracies were true after all -- perhaps the Brotherhood really existed! It was impossible, in spite of the endless arrests and confessions and executions, to be sure that the Brotherhood was not simply a myth. Some days he believed in it, some days not. There was no evidence, only fleeting glimpses that might mean anything or nothing: snatches of overheard conversation, faint scribbles on lavatory walls -- once, even, when two strangers met, a small movement of the hand which had looked as though it might be a signal of recognition. It was all guesswork: very likely he had imagined everything. He had gone back to his cubicle without looking at O'Brien again. The idea of following up their momentary contact hardly crossed his mind. It would have been inconceivably dangerous even if he had known how to set about doing it. For a second, two seconds, they had exchanged an equivocal glance, and that was the end of the story. But even that was a memorable event, in the locked loneliness in which one had to live.\\n\\nWinston roused himself and sat up straighter. He let out a belch. The gin was rising from his stomach.\\n\\nHis eyes re-focused on the page. He discovered that while he sat helplessly musing he had also been writing, as though by automatic action. And it was no longer the same cramped, awkward handwriting as before. His pen had slid voluptuously over the smooth paper, printing in large neat capitals -\\n\\nDOWN WITH BIG BROTHER\\n\\nDOWN WITH BIG BROTHER\\n\\nDOWN WITH BIG BROTHER\\n\\nDOWN WITH BIG BROTHER\\n\\nDOWN WITH BIG BROTHER\\n\\nover and over again, filling half a page.\\n\\nHe could not help feeling a twinge of panic. It was absurd, since the writing of those particular words was not more dangerous than the initial act of opening the diary, but for a moment he was tempted to tear out the spoiled pages and abandon the enterprise altogether.\\n\\nHe did not do so, however, because he knew that it was useless. Whether he wrote DOWN WITH BIG BROTHER, or whether he refrained from writing it, made no difference. Whether he went on with the diary, or whether he did not go on with it, made no difference. The Thought Police would get him just the same. He had committed -- would still have committed, even if he had never set pen to paper -- the essential crime that contained all others in itself. Thoughtcrime, they called it. Thoughtcrime was not a thing that could be concealed for ever. You might dodge successfully for a while, even for years, but sooner or later they were bound to get you.\\n\\nIt was always at night -- the arrests invariably happened at night. The sudden jerk out of sleep, the rough hand shaking your shoulder, the lights glaring in your eyes, the ring of hard faces round the bed. In the vast majority of cases there was no trial, no report of the arrest. People simply disappeared, always during the night. Your name was removed from the registers, every record of everything you had ever done was wiped out, your one-time existence was denied and then forgotten. You were abolished, annihilated: vaporized was the usual word.\\n\\nFor a moment he was seized by a kind of hysteria. He began writing in a hurried untidy scrawl:\\n\\ntheyll shoot me i don't care theyll shoot me in the back of the neck i dont care down with big brother they always shoot you in the back of the neck i dont care down with big brother --\\n\\nHe sat back in his chair, slightly ashamed of himself, and laid down the pen. The next moment he started violently. There was a knocking at the door.\\n\\nAlready! He sat as still as a mouse, in the futile hope that whoever it was might go away after a single attempt. But no, the knocking was repeated. The worst thing of all would be to delay. His heart was thumping like a drum, but his face, from long habit, was probably expressionless. He got up and moved heavily towards the door.\")]"
      ]
     },
     "execution_count": 7,
     "metadata": {},
     "output_type": "execute_result"
    }
   ],
   "source": [
    "docs = loader.load() # -> List[Document] 리턴\n",
    "docs"
   ]
  },
  {
   "cell_type": "code",
   "execution_count": 8,
   "id": "d4460c09-ace9-4a6a-9588-bd3bc3341e12",
   "metadata": {},
   "outputs": [
    {
     "data": {
      "text/plain": [
       "1"
      ]
     },
     "execution_count": 8,
     "metadata": {},
     "output_type": "execute_result"
    }
   ],
   "source": [
    "len(docs)"
   ]
  },
  {
   "cell_type": "markdown",
   "id": "b729d39c-c4c2-4db8-ba06-4a210d48da64",
   "metadata": {},
   "source": [
    "# PyPDFLoader"
   ]
  },
  {
   "cell_type": "code",
   "execution_count": 4,
   "id": "2e7d25d5-fcd5-473d-a289-b5f9d1c46205",
   "metadata": {},
   "outputs": [],
   "source": [
    "# v0.3\n",
    "from langchain_community.document_loaders.pdf import PyPDFLoader\n",
    "\n",
    "# https://python.langchain.com/api_reference/community/document_loaders/langchain_community.document_loaders.pdf.PyPDFLoader.html\n",
    "# PyPDFLoader document loader integration"
   ]
  },
  {
   "cell_type": "code",
   "execution_count": 10,
   "id": "9adaa745-d459-47f0-888b-aafccbbb70b4",
   "metadata": {},
   "outputs": [
    {
     "name": "stdout",
     "output_type": "stream",
     "text": [
      "15\n"
     ]
    },
    {
     "data": {
      "text/plain": [
       "[Document(metadata={'producer': 'Microsoft® Word 2016', 'creator': 'Microsoft® Word 2016', 'creationdate': '2025-01-30T23:19:00+09:00', 'author': 'Yeonchul Sung', 'moddate': '2025-01-30T23:19:00+09:00', 'source': 'D:\\\\Lang2505\\\\dataset\\\\files\\\\chapter_one.pdf', 'total_pages': 15, 'page': 0, 'page_label': '1'}, page_content='Part 1, Chapter 1 \\n \\n \\nPart One \\n \\n \\n1 \\nIt was a bright cold day in April, and the clocks were striking thirteen. Winston Smith, his \\nchin nuzzled into his breast in an effort to escape the vile wind, slipped quickly through \\nthe glass doors of Victory Mansions, though not quickly enough to prevent a swirl of \\ngritty dust from entering along with him. \\n \\nThe hallway smelt of boiled cabbage and old rag mats. At one end of it a coloured \\nposter, too large for indoor display, had been tacked to the wall. It depicted simply an \\nenormous face, more than a metre wide: the face of a man of about forty-five, with a \\nheavy black moustache and ruggedly handsome features. Winston made for the stairs. It \\nwas no use trying the lift. Even at the best of times it was seldom working, and at \\npresent the electric current was cut off during daylight hours. It was part of the economy \\ndrive in preparation for Hate Week. The flat was seven flights up, and Winston, who was \\nthirty-nine and had a varicose ulcer above his right ankle, went slowly, resting several \\ntimes on the way. On each landing, opposite the lift-shaft, the poster with the enormous \\nface gazed from the wall. It was one of those pictures which are so contrived that the \\neyes follow you about when you move. BIG BROTHER IS WATCHING YOU, the caption \\nbeneath it ran. \\n \\nInside the flat a fruity voice was reading out a list of figures which had something to do \\nwith the production of pig-iron. The voice came from an oblong metal plaque like a \\ndulled mirror which formed part of the surface of the right-hand wall. Winston turned a \\nswitch and the voice sank somewhat, though the words were still distinguishable. The \\ninstrument (the telescreen, it was called) could be dimmed, but there was no way of \\nshutting it off completely. He moved over to the window: a smallish, frail figure, the \\nmeagreness of his body merely emphasized by the blue overalls which were the uniform \\nof the party. His hair was very fair, his face naturally sanguine, his skin roughened by \\ncoarse soap and blunt razor blades and the cold of the winter that had just ended.'),\n",
       " Document(metadata={'producer': 'Microsoft® Word 2016', 'creator': 'Microsoft® Word 2016', 'creationdate': '2025-01-30T23:19:00+09:00', 'author': 'Yeonchul Sung', 'moddate': '2025-01-30T23:19:00+09:00', 'source': 'D:\\\\Lang2505\\\\dataset\\\\files\\\\chapter_one.pdf', 'total_pages': 15, 'page': 1, 'page_label': '2'}, page_content=\"Outside, even through the shut window-pane, the world looked cold. Down in the street \\nlittle eddies of wind were whirling dust and torn paper into spirals, and though the sun \\nwas shining and the sky a harsh blue, there seemed to be no colour in anything, except \\nthe posters that were plastered everywhere. The blackmoustachio'd face gazed down \\nfrom every commanding corner. There was one on the house-front immediately \\nopposite. BIG BROTHER IS WATCHING YOU, the caption said, while the dark eyes looked \\ndeep into Winston's own. Down at streetlevel another poster, torn at one corner, flapped \\nfitfully in the wind, alternately covering and uncovering the single word INGSOC. In the \\nfar distance a helicopter skimmed down between the roofs, hovered for an instant like a \\nbluebottle, and darted away again with a curving flight. It was the police patrol, \\nsnooping into people's windows. The patrols did not matter, however. Only the Thought \\nPolice mattered. \\n \\nBehind Winston's back the voice from the telescreen was still babbling away about pig-\\niron and the overfulfilment of the Ninth Three-Year Plan. The telescreen received and \\ntransmitted simultaneously. Any sound that Winston made, above the level of a very low \\nwhisper, would be picked up by it, moreover, so long as he remained within the field of \\nvision which the metal plaque commanded, he could be seen as well as heard. There was \\nof course no way of knowing whether you were being watched at any given moment. \\nHow often, or on what system, the Thought Police plugged in on any individual wire was \\nguesswork. It was even conceivable that they watched everybody all the time. But at any \\nrate they could plug in your wire whenever they wanted to. You had to live -- did live, \\nfrom habit that became instinct -- in the assumption that every sound you made was \\noverheard, and, except in darkness, every movement scrutinized. \\n \\nWinston kept his back turned to the telescreen. It was safer, though, as he well knew, \\neven a back can be revealing. A kilometre away the Ministry of Truth, his place of work, \\ntowered vast and white above the grimy landscape. This, he thought with a sort of vague \\ndistaste -- this was London, chief city of Airstrip One, itself the third most populous of \\nthe provinces of Oceania. He tried to squeeze out some childhood memory that should \\ntell him whether London had always been quite like this. Were there always these vistas \\nof rotting nineteenth-century houses, their sides shored up with baulks of timber, their \\nwindows patched with cardboard and their roofs with corrugated iron, their crazy garden \\nwalls sagging in all directions? And the bombed sites where the plaster dust swirled in \\nthe air and the willow-herb straggled over the heaps of rubble; and the places where the\"),\n",
       " Document(metadata={'producer': 'Microsoft® Word 2016', 'creator': 'Microsoft® Word 2016', 'creationdate': '2025-01-30T23:19:00+09:00', 'author': 'Yeonchul Sung', 'moddate': '2025-01-30T23:19:00+09:00', 'source': 'D:\\\\Lang2505\\\\dataset\\\\files\\\\chapter_one.pdf', 'total_pages': 15, 'page': 2, 'page_label': '3'}, page_content='bombs had cleared a larger patch and there had sprung up sordid colonies of wooden \\ndwellings like chicken-houses? But it was no use, he could not remember: nothing \\nremained of his childhood except a series of bright-lit tableaux occurring against no \\nbackground and mostly unintelligible. \\n \\nThe Ministry of Truth -- Minitrue, in Newspeak -- was startlingly different from any other \\nobject in sight. It was an enormous pyramidal structure of glittering white concrete, \\nsoaring up, terrace after terrace, 300 metres into the air. From where Winston stood it \\nwas just possible to read, picked out on its white face in elegant lettering, the three \\nslogans of the Party: \\n \\nWAR IS PEACE \\n \\nFREEDOM IS SLAVERY \\n \\nIGNORANCE IS STRENGTH \\n \\nThe Ministry of Truth contained, it was said, three thousand rooms above ground level, \\nand corresponding ramifications below. Scattered about London there were just three \\nother buildings of similar appearance and size. So completely did they dwarf the \\nsurrounding architecture that from the roof of Victory Mansions you could see all four of \\nthem simultaneously. They were the homes of the four Ministries between which the \\nentire apparatus of government was divided. The Ministry of Truth, which concerned \\nitself with news, entertainment, education, and the fine arts. The Ministry of Peace, which \\nconcerned itself with war. The Ministry of Love, which maintained law and order. And the \\nMinistry of Plenty, which was responsible for economic affairs. Their names, in Newspeak: \\nMinitrue, Minipax, Miniluv, and Miniplenty. \\n \\nThe Ministry of Love was the really frightening one. There were no windows in it at all. \\nWinston had never been inside the Ministry of Love, nor within half a kilometre of it. It \\nwas a place impossible to enter except on official business, and then only by penetrating \\nthrough a maze of barbed-wire entanglements, steel doors, and hidden machine-gun \\nnests. Even the streets leading up to its outer barriers were roamed by gorilla-faced \\nguards in black uniforms, armed with jointed truncheons.'),\n",
       " Document(metadata={'producer': 'Microsoft® Word 2016', 'creator': 'Microsoft® Word 2016', 'creationdate': '2025-01-30T23:19:00+09:00', 'author': 'Yeonchul Sung', 'moddate': '2025-01-30T23:19:00+09:00', 'source': 'D:\\\\Lang2505\\\\dataset\\\\files\\\\chapter_one.pdf', 'total_pages': 15, 'page': 3, 'page_label': '4'}, page_content=\"Winston turned round abruptly. He had set his features into the expression of quiet \\noptimism which it was advisable to wear when facing the telescreen. He crossed the \\nroom into the tiny kitchen. By leaving the Ministry at this time of day he had sacrificed \\nhis lunch in the canteen, and he was aware that there was no food in the kitchen except \\na hunk of dark-coloured bread which had got to be saved for tomorrow's breakfast. He \\ntook down from the shelf a bottle of colourless liquid with a plain white label marked \\nVICTORY GIN. It gave off a sickly, oily smell, as of Chinese ricespirit. Winston poured out \\nnearly a teacupful, nerved himself for a shock, and gulped it down like a dose of \\nmedicine. \\n \\nInstantly his face turned scarlet and the water ran out of his eyes. The stuff was like nitric \\nacid, and moreover, in swallowing it one had the sensation of being hit on the back of \\nthe head with a rubber club. The next moment, however, the burning in his belly died \\ndown and the world began to look more cheerful. He took a cigarette from a crumpled \\npacket marked VICTORY CIGARETTES and incautiously held it upright, whereupon the \\ntobacco fell out on to the floor. With the next he was more successful. He went back to \\nthe living-room and sat down at a small table that stood to the left of the telescreen. \\nFrom the table drawer he took out a penholder, a bottle of ink, and a thick, quarto-sized \\nblank book with a red back and a marbled cover. \\n \\nFor some reason the telescreen in the living-room was in an unusual position. Instead of \\nbeing placed, as was normal, in the end wall, where it could command the whole room, \\nit was in the longer wall, opposite the window. To one side of it there was a shallow \\nalcove in which Winston was now sitting, and which, when the flats were built, had \\nprobably been intended to hold bookshelves. By sitting in the alcove, and keeping well \\nback, Winston was able to remain outside the range of the telescreen, so far as sight \\nwent. He could be heard, of course, but so long as he stayed in his present position he \\ncould not be seen. It was partly the unusual geography of the room that had suggested \\nto him the thing that he was now about to do. \\n \\nBut it had also been suggested by the book that he had just taken out of the drawer. It \\nwas a peculiarly beautiful book. Its smooth creamy paper, a little yellowed by age, was of \\na kind that had not been manufactured for at least forty years past. He could guess, \\nhowever, that the book was much older than that. He had seen it lying in the window of \\na frowsy little junk-shop in a slummy quarter of the town (just what quarter he did not\"),\n",
       " Document(metadata={'producer': 'Microsoft® Word 2016', 'creator': 'Microsoft® Word 2016', 'creationdate': '2025-01-30T23:19:00+09:00', 'author': 'Yeonchul Sung', 'moddate': '2025-01-30T23:19:00+09:00', 'source': 'D:\\\\Lang2505\\\\dataset\\\\files\\\\chapter_one.pdf', 'total_pages': 15, 'page': 4, 'page_label': '5'}, page_content=\"now remember) and had been stricken immediately by an overwhelming desire to \\npossess it. Party members were supposed not to go into ordinary shops ('dealing on the \\nfree market', it was called), but the rule was not strictly kept, because there were various \\nthings, such as shoelaces and razor blades, which it was impossible to get hold of in any \\nother way. He had given a quick glance up and down the street and then had slipped \\ninside and bought the book for two dollars fifty. At the time he was not conscious of \\nwanting it for any particular purpose. He had carried it guiltily home in his briefcase. \\nEven with nothing written in it, it was a compromising possession. \\n \\nThe thing that he was about to do was to open a diary. This was not illegal (nothing was \\nillegal, since there were no longer any laws), but if detected it was reasonably certain \\nthat it would be punished by death, or at least by twenty-five years in a forced-labour \\ncamp. Winston fitted a nib into the penholder and sucked it to get the grease off. The \\npen was an archaic instrument, seldom used even for signatures, and he had procured \\none, furtively and with some difficulty, simply because of a feeling that the beautiful \\ncreamy paper deserved to be written on with a real nib instead of being scratched with \\nan ink-pencil. Actually he was not used to writing by hand. Apart from very short notes, \\nit was usual to dictate everything into the speakwrite which was of course impossible for \\nhis present purpose. He dipped the pen into the ink and then faltered for just a second. \\nA tremor had gone through his bowels. To mark the paper was the decisive act. In small \\nclumsy letters he wrote: \\n \\nApril 4th, 1984. \\n \\nHe sat back. A sense of complete helplessness had descended upon him. To begin with, \\nhe did not know with any certainty that this was 1984. It must be round about that date, \\nsince he was fairly sure that his age was thirty-nine, and he believed that he had been \\nborn in 1944 or 1945; but it was never possible nowadays to pin down any date within a \\nyear or two. \\n \\nFor whom, it suddenly occurred to him to wonder, was he writing this diary? For the \\nfuture, for the unborn. His mind hovered for a moment round the doubtful date on the \\npage, and then fetched up with a bump against the Newspeak word doublethink. For the \\nfirst time the magnitude of what he had undertaken came home to him. How could you \\ncommunicate with the future? It was of its nature impossible. Either the future would\"),\n",
       " Document(metadata={'producer': 'Microsoft® Word 2016', 'creator': 'Microsoft® Word 2016', 'creationdate': '2025-01-30T23:19:00+09:00', 'author': 'Yeonchul Sung', 'moddate': '2025-01-30T23:19:00+09:00', 'source': 'D:\\\\Lang2505\\\\dataset\\\\files\\\\chapter_one.pdf', 'total_pages': 15, 'page': 5, 'page_label': '6'}, page_content=\"resemble the present, in which case it would not listen to him: or it would be different \\nfrom it, and his predicament would be meaningless. \\n \\nFor some time he sat gazing stupidly at the paper. The telescreen had changed over to \\nstrident military music. It was curious that he seemed not merely to have lost the power \\nof expressing himself, but even to have forgotten what it was that he had originally \\nintended to say. For weeks past he had been making ready for this moment, and it had \\nnever crossed his mind that anything would be needed except courage. The actual \\nwriting would be easy. All he had to do was to transfer to paper the interminable restless \\nmonologue that had been running inside his head, literally for years. At this moment, \\nhowever, even the monologue had dried up. Moreover his varicose ulcer had begun \\nitching unbearably. He dared not scratch it, because if he did so it always became \\ninflamed. The seconds were ticking by. He was conscious of nothing except the \\nblankness of the page in front of him, the itching of the skin above his ankle, the blaring \\nof the music, and a slight booziness caused by the gin. \\n \\nSuddenly he began writing in sheer panic, only imperfectly aware of what he was setting \\ndown. His small but childish handwriting straggled up and down the page, shedding first \\nits capital letters and finally even its full stops: \\n \\nApril 4th, 1984. Last night to the flicks. All war films. One very good one of a ship full of \\nrefugees being bombed somewhere in the Mediterranean. Audience much amused by \\nshots of a great huge fat man trying to swim away with a helicopter after him, first you \\nsaw him wallowing along in the water like a porpoise, then you saw him through the \\nhelicopters gunsights, then he was full of holes and the sea round him turned pink and \\nhe sank as suddenly as though the holes had let in the water, audience shouting with \\nlaughter when he sank. then you saw a lifeboat full of children with a helicopter hovering \\nover it. there was a middle-aged woman might have been a jewess sitting up in the bow \\nwith a little boy about three years old in her arms. little boy screaming with fright and \\nhiding his head between her breasts as if he was trying to burrow right into her and the \\nwoman putting her arms round him and comforting him although she was blue with \\nfright herself, all the time covering him up as much as possible as if she thought her \\narms could keep the bullets off him. then the helicopter planted a 20 kilo bomb in \\namong them terrific flash and the boat went all to matchwood. then there was a \\nwonderful shot of a child's arm going up up up right up into the air a helicopter with a\"),\n",
       " Document(metadata={'producer': 'Microsoft® Word 2016', 'creator': 'Microsoft® Word 2016', 'creationdate': '2025-01-30T23:19:00+09:00', 'author': 'Yeonchul Sung', 'moddate': '2025-01-30T23:19:00+09:00', 'source': 'D:\\\\Lang2505\\\\dataset\\\\files\\\\chapter_one.pdf', 'total_pages': 15, 'page': 6, 'page_label': '7'}, page_content='camera in its nose must have followed it up and there was a lot of applause from the \\nparty seats but a woman down in the prole part of the house suddenly started kicking \\nup a fuss and shouting they didnt oughter of showed it not in front of kids they didnt it \\naint right not in front of kids it aint until the police turned her turned her out i dont \\nsuppose anything happened to her nobody cares what the proles say typical prole \\nreaction they never -- \\n \\nWinston stopped writing, partly because he was suffering from cramp. He did not know \\nwhat had made him pour out this stream of rubbish. But the curious thing was that while \\nhe was doing so a totally different memory had clarified itself in his mind, to the point \\nwhere he almost felt equal to writing it down. It was, he now realized, because of this \\nother incident that he had suddenly decided to come home and begin the diary today. \\n \\nIt had happened that morning at the Ministry, if anything so nebulous could be said to \\nhappen. \\n \\nIt was nearly eleven hundred, and in the Records Department, where Winston worked, \\nthey were dragging the chairs out of the cubicles and grouping them in the centre of \\nthe hall opposite the big telescreen, in preparation for the Two Minutes Hate. Winston \\nwas just taking his place in one of the middle rows when two people whom he knew by \\nsight, but had never spoken to, came unexpectedly into the room. One of them was a \\ngirl whom he often passed in the corridors. He did not know her name, but he knew that \\nshe worked in the Fiction Department. Presumably -- since he had sometimes seen her \\nwith oily hands and carrying a spanner she had some mechanical job on one of the \\nnovel-writing machines. She was a bold-looking girl, of about twenty-seven, with thick \\nhair, a freckled face, and swift, athletic movements. A narrow scarlet sash, emblem of the \\nJunior Anti-Sex League, was wound several times round the waist of her overalls, just \\ntightly enough to bring out the shapeliness of her hips. Winston had disliked her from \\nthe very first moment of seeing her. He knew the reason. It was because of the \\natmosphere of hockey-fields and cold baths and community hikes and general clean-\\nmindedness which she managed to carry about with her. He disliked nearly all women, \\nand especially the young and pretty ones. It was always the women, and above all the \\nyoung ones, who were the most bigoted adherents of the Party, the swallowers of \\nslogans, the amateur spies and nosers-out of unorthodoxy. But this particular girl gave \\nhim the impression of being more dangerous than most. Once when they passed in the'),\n",
       " Document(metadata={'producer': 'Microsoft® Word 2016', 'creator': 'Microsoft® Word 2016', 'creationdate': '2025-01-30T23:19:00+09:00', 'author': 'Yeonchul Sung', 'moddate': '2025-01-30T23:19:00+09:00', 'source': 'D:\\\\Lang2505\\\\dataset\\\\files\\\\chapter_one.pdf', 'total_pages': 15, 'page': 7, 'page_label': '8'}, page_content=\"corridor she gave him a quick sidelong glance which seemed to pierce right into him \\nand for a moment had filled him with black terror. The idea had even crossed his mind \\nthat she might be an agent of the Thought Police. That, it was true, was very unlikely. \\nStill, he continued to feel a peculiar uneasiness, which had fear mixed up in it as well as \\nhostility, whenever she was anywhere near him. \\n \\nThe other person was a man named O'Brien, a member of the Inner Party and holder of \\nsome post so important and remote that Winston had only a dim idea of its nature. A \\nmomentary hush passed over the group of people round the chairs as they saw the \\nblack overalls of an Inner Party member approaching. O'Brien was a large, burly man \\nwith a thick neck and a coarse, humorous, brutal face. In spite of his formidable \\nappearance he had a certain charm of manner. He had a trick of resettling his spectacles \\non his nose which was curiously disarming -- in some indefinable way, curiously civilized. \\nIt was a gesture which, if anyone had still thought in such terms, might have recalled an \\neighteenth-century nobleman offering his snuffbox. Winston had seen O'Brien perhaps a \\ndozen times in almost as many years. He felt deeply drawn to him, and not solely \\nbecause he was intrigued by the contrast between O'Brien's urbane manner and his \\nprize-fighter's physique. Much more it was because of a secretly held belief -- or perhaps \\nnot even a belief, merely a hope -- that O'Brien's political orthodoxy was not perfect. \\nSomething in his face suggested it irresistibly. And again, perhaps it was not even \\nunorthodoxy that was written in his face, but simply intelligence. But at any rate he had \\nthe appearance of being a person that you could talk to if somehow you could cheat the \\ntelescreen and get him alone. Winston had never made the smallest effort to verify this \\nguess: indeed, there was no way of doing so. At this moment O'Brien glanced at his \\nwrist-watch, saw that it was nearly eleven hundred, and evidently decided to stay in the \\nRecords Department until the Two Minutes Hate was over. He took a chair in the same \\nrow as Winston, a couple of places away. A small, sandy-haired woman who worked in \\nthe next cubicle to Winston was between them. The girl with dark hair was sitting \\nimmediately behind. \\n \\nThe next moment a hideous, grinding speech, as of some monstrous machine running \\nwithout oil, burst from the big telescreen at the end of the room. It was a noise that set \\none's teeth on edge and bristled the hair at the back of one's neck. The Hate had \\nstarted.\"),\n",
       " Document(metadata={'producer': 'Microsoft® Word 2016', 'creator': 'Microsoft® Word 2016', 'creationdate': '2025-01-30T23:19:00+09:00', 'author': 'Yeonchul Sung', 'moddate': '2025-01-30T23:19:00+09:00', 'source': 'D:\\\\Lang2505\\\\dataset\\\\files\\\\chapter_one.pdf', 'total_pages': 15, 'page': 8, 'page_label': '9'}, page_content=\"As usual, the face of Emmanuel Goldstein, the Enemy of the People, had flashed on to \\nthe screen. There were hisses here and there among the audience. The little sandy-haired \\nwoman gave a squeak of mingled fear and disgust. Goldstein was the renegade and \\nbackslider who once, long ago (how long ago, nobody quite remembered), had been \\none of the leading figures of the Party, almost on a level with Big Brother himself, and \\nthen had engaged in counter-revolutionary activities, had been condemned to death, \\nand had mysteriously escaped and disappeared. The programmes of the Two Minutes \\nHate varied from day to day, but there was none in which Goldstein was not the \\nprincipal figure. He was the primal traitor, the earliest defiler of the Party's purity. All \\nsubsequent crimes against the Party, all treacheries, acts of sabotage, heresies, \\ndeviations, sprang directly out of his teaching. Somewhere or other he was still alive and \\nhatching his conspiracies: perhaps somewhere beyond the sea, under the protection of \\nhis foreign paymasters, perhaps even -- so it was occasionally rumoured -- in some \\nhiding-place in Oceania itself. \\n \\nWinston's diaphragm was constricted. He could never see the face of Goldstein without a \\npainful mixture of emotions. It was a lean Jewish face, with a great fuzzy aureole of white \\nhair and a small goatee beard -- a clever face, and yet somehow inherently despicable, \\nwith a kind of senile silliness in the long thin nose, near the end of which a pair of \\nspectacles was perched. It resembled the face of a sheep, and the voice, too, had a \\nsheep-like quality. Goldstein was delivering his usual venomous attack upon the \\ndoctrines of the Party -- an attack so exaggerated and perverse that a child should have \\nbeen able to see through it, and yet just plausible enough to fill one with an alarmed \\nfeeling that other people, less level-headed than oneself, might be taken in by it. He was \\nabusing Big Brother, he was denouncing the dictatorship of the Party, he was demanding \\nthe immediate conclusion of peace with Eurasia, he was advocating freedom of speech, \\nfreedom of the Press, freedom of assembly, freedom of thought, he was crying \\nhysterically that the revolution had been betrayed -- and all this in rapid polysyllabic \\nspeech which was a sort of parody of the habitual style of the orators of the Party, and \\neven contained Newspeak words: more Newspeak words, indeed, than any Party member \\nwould normally use in real life. And all the while, lest one should be in any doubt as to \\nthe reality which Goldstein's specious claptrap covered, behind his head on the \\ntelescreen there marched the endless columns of the Eurasian army -- row after row of \\nsolid-looking men with expressionless Asiatic faces, who swam up to the surface of the \\nscreen and vanished, to be replaced by others exactly similar. The dull rhythmic tramp of\"),\n",
       " Document(metadata={'producer': 'Microsoft® Word 2016', 'creator': 'Microsoft® Word 2016', 'creationdate': '2025-01-30T23:19:00+09:00', 'author': 'Yeonchul Sung', 'moddate': '2025-01-30T23:19:00+09:00', 'source': 'D:\\\\Lang2505\\\\dataset\\\\files\\\\chapter_one.pdf', 'total_pages': 15, 'page': 9, 'page_label': '10'}, page_content=\"the soldiers' boots formed the background to Goldstein's bleating voice. \\n \\nBefore the Hate had proceeded for thirty seconds, uncontrollable exclamations of rage \\nwere breaking out from half the people in the room. The self-satisfied sheep-like face on \\nthe screen, and the terrifying power of the Eurasian army behind it, were too much to be \\nborne: besides, the sight or even the thought of Goldstein produced fear and anger \\nautomatically. He was an object of hatred more constant than either Eurasia or Eastasia, \\nsince when Oceania was at war with one of these Powers it was generally at peace with \\nthe other. But what was strange was that although Goldstein was hated and despised by \\neverybody, although every day and a thousand times a day, on platforms, on the \\ntelescreen, in newspapers, in books, his theories were refuted, smashed, ridiculed, held \\nup to the general gaze for the pitiful rubbish that they were in spite of all this, his \\ninfluence never seemed to grow less. Always there were fresh dupes waiting to be \\nseduced by him. A day never passed when spies and saboteurs acting under his \\ndirections were not unmasked by the Thought Police. He was the commander of a vast \\nshadowy army, an underground network of conspirators dedicated to the overthrow of \\nthe State. The Brotherhood, its name was supposed to be. There were also whispered \\nstories of a terrible book, a compendium of all the heresies, of which Goldstein was the \\nauthor and which circulated clandestinely here and there. It was a book without a title. \\nPeople referred to it, if at all, simply as the book. But one knew of such things only \\nthrough vague rumours. Neither the Brotherhood nor the book was a subject that any \\nordinary Party member would mention if there was a way of avoiding it. \\n \\nIn its second minute the Hate rose to a frenzy. People were leaping up and down in their \\nplaces and shouting at the tops of their voices in an effort to drown the maddening \\nbleating voice that came from the screen. The little sandy-haired woman had turned \\nbright pink, and her mouth was opening and shutting like that of a landed fish. Even \\nO'Brien's heavy face was flushed. He was sitting very straight in his chair, his powerful \\nchest swelling and quivering as though he were standing up to the assault of a wave. \\nThe dark-haired girl behind Winston had begun crying out 'Swine! Swine! Swine!' and \\nsuddenly she picked up a heavy Newspeak dictionary and flung it at the screen. It struck \\nGoldstein's nose and bounced off; the voice continued inexorably. In a lucid moment \\nWinston found that he was shouting with the others and kicking his heel violently \\nagainst the rung of his chair. The horrible thing about the Two Minutes Hate was not \\nthat one was obliged to act a part, but, on the contrary, that it was impossible to avoid\"),\n",
       " Document(metadata={'producer': 'Microsoft® Word 2016', 'creator': 'Microsoft® Word 2016', 'creationdate': '2025-01-30T23:19:00+09:00', 'author': 'Yeonchul Sung', 'moddate': '2025-01-30T23:19:00+09:00', 'source': 'D:\\\\Lang2505\\\\dataset\\\\files\\\\chapter_one.pdf', 'total_pages': 15, 'page': 10, 'page_label': '11'}, page_content=\"joining in. Within thirty seconds any pretence was always unnecessary. A hideous ecstasy \\nof fear and vindictiveness, a desire to kill, to torture, to smash faces in with a sledge-\\nhammer, seemed to flow through the whole group of people like an electric current, \\nturning one even against one's will into a grimacing, screaming lunatic. And yet the rage \\nthat one felt was an abstract, undirected emotion which could be switched from one \\nobject to another like the flame of a blowlamp. Thus, at one moment Winston's hatred \\nwas not turned against Goldstein at all, but, on the contrary, against Big Brother, the \\nParty, and the Thought Police; and at such moments his heart went out to the lonely, \\nderided heretic on the screen, sole guardian of truth and sanity in a world of lies. And \\nyet the very next instant he was at one with the people about him, and all that was said \\nof Goldstein seemed to him to be true. At those moments his secret loathing of Big \\nBrother changed into adoration, and Big Brother seemed to tower up, an invincible, \\nfearless protector, standing like a rock against the hordes of Asia, and Goldstein, in spite \\nof his isolation, his helplessness, and the doubt that hung about his very existence, \\nseemed like some sinister enchanter, capable by the mere power of his voice of wrecking \\nthe structure of civilization. \\n \\nIt was even possible, at moments, to switch one's hatred this way or that by a voluntary \\nact. Suddenly, by the sort of violent effort with which one wrenches one's head away \\nfrom the pillow in a nightmare, Winston succeeded in transferring his hatred from the \\nface on the screen to the dark-haired girl behind him. Vivid, beautiful hallucinations \\nflashed through his mind. He would flog her to death with a rubber truncheon. He would \\ntie her naked to a stake and shoot her full of arrows like Saint Sebastian. He would \\nravish her and cut her throat at the moment of climax. Better than before, moreover, he \\nrealized why it was that he hated her. He hated her because she was young and pretty \\nand sexless, because he wanted to go to bed with her and would never do so, because \\nround her sweet supple waist, which seemed to ask you to encircle it with your arm, \\nthere was only the odious scarlet sash, aggressive symbol of chastity. \\n \\nThe Hate rose to its climax. The voice of Goldstein had become an actual sheep's bleat, \\nand for an instant the face changed into that of a sheep. Then the sheep-face melted \\ninto the figure of a Eurasian soldier who seemed to be advancing, huge and terrible, his \\nsub-machine gun roaring, and seeming to spring out of the surface of the screen, so \\nthat some of the people in the front row actually flinched backwards in their seats. But in \\nthe same moment, drawing a deep sigh of relief from everybody, the hostile figure\"),\n",
       " Document(metadata={'producer': 'Microsoft® Word 2016', 'creator': 'Microsoft® Word 2016', 'creationdate': '2025-01-30T23:19:00+09:00', 'author': 'Yeonchul Sung', 'moddate': '2025-01-30T23:19:00+09:00', 'source': 'D:\\\\Lang2505\\\\dataset\\\\files\\\\chapter_one.pdf', 'total_pages': 15, 'page': 11, 'page_label': '12'}, page_content=\"melted into the face of Big Brother, black-haired, black-moustachio'd, full of power and \\nmysterious calm, and so vast that it almost filled up the screen. Nobody heard what Big \\nBrother was saying. It was merely a few words of encouragement, the sort of words that \\nare uttered in the din of battle, not distinguishable individually but restoring confidence \\nby the fact of being spoken. Then the face of Big Brother faded away again, and instead \\nthe three slogans of the Party stood out in bold capitals: \\n \\nWAR IS PEACE \\n \\nFREEDOM IS SLAVERY \\n \\nIGNORANCE IS STRENGTH \\n \\nBut the face of Big Brother seemed to persist for several seconds on the screen, as \\nthough the impact that it had made on everyone's eyeballs was too vivid to wear off \\nimmediately. The little sandyhaired woman had flung herself forward over the back of \\nthe chair in front of her. With a tremulous murmur that sounded like 'My Saviour!' she \\nextended her arms towards the screen. Then she buried her face in her hands. It was \\napparent that she was uttering a prayer. \\n \\nAt this moment the entire group of people broke into a deep, slow, rhythmical chant of \\n'B-B! ...B-B!' -- over and over again, very slowly, with a long pause between the first 'B' \\nand the second-a heavy, murmurous sound, somehow curiously savage, in the \\nbackground of which one seemed to hear the stamp of naked feet and the throbbing of \\ntom-toms. For perhaps as much as thirty seconds they kept it up. It was a refrain that \\nwas often heard in moments of overwhelming emotion. Partly it was a sort of hymn to \\nthe wisdom and majesty of Big Brother, but still more it was an act of self-hypnosis, a \\ndeliberate drowning of consciousness by means of rhythmic noise. Winston's entrails \\nseemed to grow cold. In the Two Minutes Hate he could not help sharing in the general \\ndelirium, but this sub-human chanting of 'B-B! ...B-B!' always filled him with horror. Of \\ncourse he chanted with the rest: it was impossible to do otherwise. To dissemble your \\nfeelings, to control your face, to do what everyone else was doing, was an instinctive \\nreaction. But there was a space of a couple of seconds during which the expression of \\nhis eyes might conceivably have betrayed him. And it was exactly at this moment that \\nthe significant thing happened -- if, indeed, it did happen.\"),\n",
       " Document(metadata={'producer': 'Microsoft® Word 2016', 'creator': 'Microsoft® Word 2016', 'creationdate': '2025-01-30T23:19:00+09:00', 'author': 'Yeonchul Sung', 'moddate': '2025-01-30T23:19:00+09:00', 'source': 'D:\\\\Lang2505\\\\dataset\\\\files\\\\chapter_one.pdf', 'total_pages': 15, 'page': 12, 'page_label': '13'}, page_content=\"Momentarily he caught O'Brien's eye. O'Brien had stood up. He had taken off his \\nspectacles and was in the act of resettling them on his nose with his characteristic \\ngesture. But there was a fraction of a second when their eyes met, and for as long as it \\ntook to happen Winston knew-yes, he knew!-that O'Brien was thinking the same thing as \\nhimself. An unmistakable message had passed. It was as though their two minds had \\nopened and the thoughts were flowing from one into the other through their eyes. 'I am \\nwith you,' O'Brien seemed to be saying to him. 'I know precisely what you are feeling. I \\nknow all about your contempt, your hatred, your disgust. But don't worry, I am on your \\nside!' And then the flash of intelligence was gone, and O'Brien's face was as inscrutable \\nas everybody else's. \\n \\nThat was all, and he was already uncertain whether it had happened. Such incidents \\nnever had any sequel. All that they did was to keep alive in him the belief, or hope, that \\nothers besides himself were the enemies of the Party. Perhaps the rumours of vast \\nunderground conspiracies were true after all -- perhaps the Brotherhood really existed! It \\nwas impossible, in spite of the endless arrests and confessions and executions, to be sure \\nthat the Brotherhood was not simply a myth. Some days he believed in it, some days \\nnot. There was no evidence, only fleeting glimpses that might mean anything or nothing: \\nsnatches of overheard conversation, faint scribbles on lavatory walls -- once, even, when \\ntwo strangers met, a small movement of the hand which had looked as though it might \\nbe a signal of recognition. It was all guesswork: very likely he had imagined everything. \\nHe had gone back to his cubicle without looking at O'Brien again. The idea of following \\nup their momentary contact hardly crossed his mind. It would have been inconceivably \\ndangerous even if he had known how to set about doing it. For a second, two seconds, \\nthey had exchanged an equivocal glance, and that was the end of the story. But even \\nthat was a memorable event, in the locked loneliness in which one had to live. \\n \\nWinston roused himself and sat up straighter. He let out a belch. The gin was rising from \\nhis stomach. \\n \\nHis eyes re-focused on the page. He discovered that while he sat helplessly musing he \\nhad also been writing, as though by automatic action. And it was no longer the same \\ncramped, awkward handwriting as before. His pen had slid voluptuously over the smooth \\npaper, printing in large neat capitals -\"),\n",
       " Document(metadata={'producer': 'Microsoft® Word 2016', 'creator': 'Microsoft® Word 2016', 'creationdate': '2025-01-30T23:19:00+09:00', 'author': 'Yeonchul Sung', 'moddate': '2025-01-30T23:19:00+09:00', 'source': 'D:\\\\Lang2505\\\\dataset\\\\files\\\\chapter_one.pdf', 'total_pages': 15, 'page': 13, 'page_label': '14'}, page_content='DOWN WITH BIG BROTHER \\n \\nDOWN WITH BIG BROTHER \\n \\nDOWN WITH BIG BROTHER \\n \\nDOWN WITH BIG BROTHER \\n \\nDOWN WITH BIG BROTHER \\n \\nover and over again, filling half a page. \\n \\nHe could not help feeling a twinge of panic. It was absurd, since the writing of those \\nparticular words was not more dangerous than the initial act of opening the diary, but \\nfor a moment he was tempted to tear out the spoiled pages and abandon the enterprise \\naltogether. \\n \\nHe did not do so, however, because he knew that it was useless. Whether he wrote \\nDOWN WITH BIG BROTHER, or whether he refrained from writing it, made no difference. \\nWhether he went on with the diary, or whether he did not go on with it, made no \\ndifference. The Thought Police would get him just the same. He had committed -- would \\nstill have committed, even if he had never set pen to paper -- the essential crime that \\ncontained all others in itself. Thoughtcrime, they called it. Thoughtcrime was not a thing \\nthat could be concealed for ever. You might dodge successfully for a while, even for \\nyears, but sooner or later they were bound to get you. \\n \\nIt was always at night -- the arrests invariably happened at night. The sudden jerk out of \\nsleep, the rough hand shaking your shoulder, the lights glaring in your eyes, the ring of \\nhard faces round the bed. In the vast majority of cases there was no trial, no report of \\nthe arrest. People simply disappeared, always during the night. Your name was removed \\nfrom the registers, every record of everything you had ever done was wiped out, your \\none-time existence was denied and then forgotten. You were abolished, annihilated: \\nvaporized was the usual word.'),\n",
       " Document(metadata={'producer': 'Microsoft® Word 2016', 'creator': 'Microsoft® Word 2016', 'creationdate': '2025-01-30T23:19:00+09:00', 'author': 'Yeonchul Sung', 'moddate': '2025-01-30T23:19:00+09:00', 'source': 'D:\\\\Lang2505\\\\dataset\\\\files\\\\chapter_one.pdf', 'total_pages': 15, 'page': 14, 'page_label': '15'}, page_content=\"For a moment he was seized by a kind of hysteria. He began writing in a hurried untidy \\nscrawl: \\n \\ntheyll shoot me i don't care theyll shoot me in the back of the neck i dont care down \\nwith big brother they always shoot you in the back of the neck i dont care down with \\nbig brother -- \\n \\nHe sat back in his chair, slightly ashamed of himself, and laid down the pen. The next \\nmoment he started violently. There was a knocking at the door. \\n \\nAlready! He sat as still as a mouse, in the futile hope that whoever it was might go away \\nafter a single attempt. But no, the knocking was repeated. The worst thing of all would \\nbe to delay. His heart was thumping like a drum, but his face, from long habit, was \\nprobably expressionless. He got up and moved heavily towards the door.\")]"
      ]
     },
     "execution_count": 10,
     "metadata": {},
     "output_type": "execute_result"
    }
   ],
   "source": [
    "loader = PyPDFLoader(os.path.join(base_path, 'chapter_one.pdf'))\n",
    "docs = loader.load()\n",
    "print(len(docs))\n",
    "docs"
   ]
  },
  {
   "cell_type": "markdown",
   "id": "66ccd9ee-6012-4cb9-9925-9d9bfe3bcd01",
   "metadata": {},
   "source": [
    "## UnstructuredFileLoader"
   ]
  },
  {
   "cell_type": "code",
   "execution_count": 11,
   "id": "d0acda5c-feee-4c4d-b53f-d28dc9ddd557",
   "metadata": {},
   "outputs": [],
   "source": [
    "\"\"\"\n",
    "매 타입마다 서로 다른 포맷의 데이터를 읽어오기 보다\n",
    "UnstructuredFileLoader 라는 것을 사용해볼수도 있다.\n",
    "\n",
    "이를 사용하면 다양한 파일들을 읽어올수 있다.\n",
    "\"\"\"\n",
    "None"
   ]
  },
  {
   "cell_type": "code",
   "execution_count": 5,
   "id": "6ff79bbc-ca91-4828-8abf-82686ee7c8d4",
   "metadata": {},
   "outputs": [],
   "source": [
    "# v0.3\n",
    "from langchain_community.document_loaders.unstructured import UnstructuredFileLoader\n",
    "\n",
    "# https://python.langchain.com/api_reference/community/document_loaders/langchain_community.document_loaders.unstructured.UnstructuredFileLoader.html\n",
    "# PyPDFLoader document loader integration"
   ]
  },
  {
   "cell_type": "code",
   "execution_count": 13,
   "id": "98a5a11c-1b20-4dc0-8910-96a83db1c48c",
   "metadata": {},
   "outputs": [
    {
     "name": "stderr",
     "output_type": "stream",
     "text": [
      "C:\\Users\\User\\AppData\\Local\\Temp\\ipykernel_28752\\4121315506.py:1: LangChainDeprecationWarning: The class `UnstructuredFileLoader` was deprecated in LangChain 0.2.8 and will be removed in 1.0. An updated version of the class exists in the :class:`~langchain-unstructured package and should be used instead. To use it run `pip install -U :class:`~langchain-unstructured` and import as `from :class:`~langchain_unstructured import UnstructuredLoader``.\n",
      "  loader = UnstructuredFileLoader(os.path.join(base_path, 'chapter_one.pdf'))\n",
      "CropBox missing from /Page, defaulting to MediaBox\n",
      "CropBox missing from /Page, defaulting to MediaBox\n",
      "CropBox missing from /Page, defaulting to MediaBox\n",
      "CropBox missing from /Page, defaulting to MediaBox\n",
      "CropBox missing from /Page, defaulting to MediaBox\n",
      "CropBox missing from /Page, defaulting to MediaBox\n",
      "CropBox missing from /Page, defaulting to MediaBox\n",
      "CropBox missing from /Page, defaulting to MediaBox\n",
      "CropBox missing from /Page, defaulting to MediaBox\n",
      "CropBox missing from /Page, defaulting to MediaBox\n",
      "CropBox missing from /Page, defaulting to MediaBox\n",
      "CropBox missing from /Page, defaulting to MediaBox\n",
      "CropBox missing from /Page, defaulting to MediaBox\n",
      "CropBox missing from /Page, defaulting to MediaBox\n",
      "CropBox missing from /Page, defaulting to MediaBox\n"
     ]
    },
    {
     "name": "stdout",
     "output_type": "stream",
     "text": [
      "1\n"
     ]
    },
    {
     "data": {
      "text/plain": [
       "[Document(metadata={'source': 'D:\\\\Lang2505\\\\dataset\\\\files\\\\chapter_one.pdf'}, page_content=\"Part 1, Chapter 1\\n\\nPart One\\n\\n1\\n\\nIt was a bright cold day in April, and the clocks were striking thirteen. Winston Smith, his\\n\\nchin nuzzled into his breast in an effort to escape the vile wind, slipped quickly through\\n\\nthe glass doors of Victory Mansions, though not quickly enough to prevent a swirl of\\n\\ngritty dust from entering along with him.\\n\\nThe hallway smelt of boiled cabbage and old rag mats. At one end of it a coloured\\n\\nposter, too large for indoor display, had been tacked to the wall. It depicted simply an\\n\\nenormous face, more than a metre wide: the face of a man of about forty-five, with a\\n\\nheavy black moustache and ruggedly handsome features. Winston made for the stairs. It\\n\\nwas no use trying the lift. Even at the best of times it was seldom working, and at\\n\\npresent the electric current was cut off during daylight hours. It was part of the economy\\n\\ndrive in preparation for Hate Week. The flat was seven flights up, and Winston, who was\\n\\nthirty-nine and had a varicose ulcer above his right ankle, went slowly, resting several\\n\\ntimes on the way. On each landing, opposite the lift-shaft, the poster with the enormous\\n\\nface gazed from the wall. It was one of those pictures which are so contrived that the\\n\\neyes follow you about when you move. BIG BROTHER IS WATCHING YOU, the caption\\n\\nbeneath it ran.\\n\\nInside the flat a fruity voice was reading out a list of figures which had something to do\\n\\nwith the production of pig-iron. The voice came from an oblong metal plaque like a\\n\\ndulled mirror which formed part of the surface of the right-hand wall. Winston turned a\\n\\nswitch and the voice sank somewhat, though the words were still distinguishable. The\\n\\ninstrument (the telescreen, it was called) could be dimmed, but there was no way of\\n\\nshutting it off completely. He moved over to the window: a smallish, frail figure, the\\n\\nmeagreness of his body merely emphasized by the blue overalls which were the uniform\\n\\nof the party. His hair was very fair, his face naturally sanguine, his skin roughened by\\n\\ncoarse soap and blunt razor blades and the cold of the winter that had just ended.\\n\\nOutside, even through the shut window-pane, the world looked cold. Down in the street\\n\\nlittle eddies of wind were whirling dust and torn paper into spirals, and though the sun\\n\\nwas shining and the sky a harsh blue, there seemed to be no colour in anything, except\\n\\nthe posters that were plastered everywhere. The blackmoustachio'd face gazed down\\n\\nfrom every commanding corner. There was one on the house-front immediately\\n\\nopposite. BIG BROTHER IS WATCHING YOU, the caption said, while the dark eyes looked\\n\\ndeep into Winston's own. Down at streetlevel another poster, torn at one corner, flapped\\n\\nfitfully in the wind, alternately covering and uncovering the single word INGSOC. In the\\n\\nfar distance a helicopter skimmed down between the roofs, hovered for an instant like a\\n\\nbluebottle, and darted away again with a curving flight. It was the police patrol,\\n\\nsnooping into people's windows. The patrols did not matter, however. Only the Thought\\n\\nPolice mattered.\\n\\nBehind Winston's back the voice from the telescreen was still babbling away about pig-\\n\\niron and the overfulfilment of the Ninth Three-Year Plan. The telescreen received and\\n\\ntransmitted simultaneously. Any sound that Winston made, above the level of a very low\\n\\nwhisper, would be picked up by it, moreover, so long as he remained within the field of\\n\\nvision which the metal plaque commanded, he could be seen as well as heard. There was\\n\\nof course no way of knowing whether you were being watched at any given moment.\\n\\nHow often, or on what system, the Thought Police plugged in on any individual wire was\\n\\nguesswork. It was even conceivable that they watched everybody all the time. But at any\\n\\nrate they could plug in your wire whenever they wanted to. You had to live -- did live,\\n\\nfrom habit that became instinct -- in the assumption that every sound you made was\\n\\noverheard, and, except in darkness, every movement scrutinized.\\n\\nWinston kept his back turned to the telescreen. It was safer, though, as he well knew,\\n\\neven a back can be revealing. A kilometre away the Ministry of Truth, his place of work,\\n\\ntowered vast and white above the grimy landscape. This, he thought with a sort of vague\\n\\ndistaste -- this was London, chief city of Airstrip One, itself the third most populous of\\n\\nthe provinces of Oceania. He tried to squeeze out some childhood memory that should\\n\\ntell him whether London had always been quite like this. Were there always these vistas\\n\\nof rotting nineteenth-century houses, their sides shored up with baulks of timber, their\\n\\nwindows patched with cardboard and their roofs with corrugated iron, their crazy garden\\n\\nwalls sagging in all directions? And the bombed sites where the plaster dust swirled in\\n\\nthe air and the willow-herb straggled over the heaps of rubble; and the places where the\\n\\nbombs had cleared a larger patch and there had sprung up sordid colonies of wooden\\n\\ndwellings like chicken-houses? But it was no use, he could not remember: nothing\\n\\nremained of his childhood except a series of bright-lit tableaux occurring against no\\n\\nbackground and mostly unintelligible.\\n\\nThe Ministry of Truth -- Minitrue, in Newspeak -- was startlingly different from any other\\n\\nobject in sight. It was an enormous pyramidal structure of glittering white concrete,\\n\\nsoaring up, terrace after terrace, 300 metres into the air. From where Winston stood it\\n\\nwas just possible to read, picked out on its white face in elegant lettering, the three\\n\\nslogans of the Party:\\n\\nWAR IS PEACE\\n\\nFREEDOM IS SLAVERY\\n\\nIGNORANCE IS STRENGTH\\n\\nThe Ministry of Truth contained, it was said, three thousand rooms above ground level,\\n\\nand corresponding ramifications below. Scattered about London there were just three\\n\\nother buildings of similar appearance and size. So completely did they dwarf the\\n\\nsurrounding architecture that from the roof of Victory Mansions you could see all four of\\n\\nthem simultaneously. They were the homes of the four Ministries between which the\\n\\nentire apparatus of government was divided. The Ministry of Truth, which concerned\\n\\nitself with news, entertainment, education, and the fine arts. The Ministry of Peace, which\\n\\nconcerned itself with war. The Ministry of Love, which maintained law and order. And the\\n\\nMinistry of Plenty, which was responsible for economic affairs. Their names, in Newspeak:\\n\\nMinitrue, Minipax, Miniluv, and Miniplenty.\\n\\nThe Ministry of Love was the really frightening one. There were no windows in it at all.\\n\\nWinston had never been inside the Ministry of Love, nor within half a kilometre of it. It\\n\\nwas a place impossible to enter except on official business, and then only by penetrating\\n\\nthrough a maze of barbed-wire entanglements, steel doors, and hidden machine-gun\\n\\nnests. Even the streets leading up to its outer barriers were roamed by gorilla-faced\\n\\nguards in black uniforms, armed with jointed truncheons.\\n\\nWinston turned round abruptly. He had set his features into the expression of quiet\\n\\noptimism which it was advisable to wear when facing the telescreen. He crossed the\\n\\nroom into the tiny kitchen. By leaving the Ministry at this time of day he had sacrificed\\n\\nhis lunch in the canteen, and he was aware that there was no food in the kitchen except\\n\\na hunk of dark-coloured bread which had got to be saved for tomorrow's breakfast. He\\n\\ntook down from the shelf a bottle of colourless liquid with a plain white label marked\\n\\nVICTORY GIN. It gave off a sickly, oily smell, as of Chinese ricespirit. Winston poured out\\n\\nnearly a teacupful, nerved himself for a shock, and gulped it down like a dose of\\n\\nmedicine.\\n\\nInstantly his face turned scarlet and the water ran out of his eyes. The stuff was like nitric\\n\\nacid, and moreover, in swallowing it one had the sensation of being hit on the back of\\n\\nthe head with a rubber club. The next moment, however, the burning in his belly died\\n\\ndown and the world began to look more cheerful. He took a cigarette from a crumpled\\n\\npacket marked VICTORY CIGARETTES and incautiously held it upright, whereupon the\\n\\ntobacco fell out on to the floor. With the next he was more successful. He went back to\\n\\nthe living-room and sat down at a small table that stood to the left of the telescreen.\\n\\nFrom the table drawer he took out a penholder, a bottle of ink, and a thick, quarto-sized\\n\\nblank book with a red back and a marbled cover.\\n\\nFor some reason the telescreen in the living-room was in an unusual position. Instead of\\n\\nbeing placed, as was normal, in the end wall, where it could command the whole room,\\n\\nit was in the longer wall, opposite the window. To one side of it there was a shallow\\n\\nalcove in which Winston was now sitting, and which, when the flats were built, had\\n\\nprobably been intended to hold bookshelves. By sitting in the alcove, and keeping well\\n\\nback, Winston was able to remain outside the range of the telescreen, so far as sight\\n\\nwent. He could be heard, of course, but so long as he stayed in his present position he\\n\\ncould not be seen. It was partly the unusual geography of the room that had suggested\\n\\nto him the thing that he was now about to do.\\n\\nBut it had also been suggested by the book that he had just taken out of the drawer. It\\n\\nwas a peculiarly beautiful book. Its smooth creamy paper, a little yellowed by age, was of\\n\\na kind that had not been manufactured for at least forty years past. He could guess,\\n\\nhowever, that the book was much older than that. He had seen it lying in the window of\\n\\na frowsy little junk-shop in a slummy quarter of the town (just what quarter he did not\\n\\nnow remember) and had been stricken immediately by an overwhelming desire to\\n\\npossess it. Party members were supposed not to go into ordinary shops ('dealing on the\\n\\nfree market', it was called), but the rule was not strictly kept, because there were various\\n\\nthings, such as shoelaces and razor blades, which it was impossible to get hold of in any\\n\\nother way. He had given a quick glance up and down the street and then had slipped\\n\\ninside and bought the book for two dollars fifty. At the time he was not conscious of\\n\\nwanting it for any particular purpose. He had carried it guiltily home in his briefcase.\\n\\nEven with nothing written in it, it was a compromising possession.\\n\\nThe thing that he was about to do was to open a diary. This was not illegal (nothing was\\n\\nillegal, since there were no longer any laws), but if detected it was reasonably certain\\n\\nthat it would be punished by death, or at least by twenty-five years in a forced-labour\\n\\ncamp. Winston fitted a nib into the penholder and sucked it to get the grease off. The\\n\\npen was an archaic instrument, seldom used even for signatures, and he had procured\\n\\none, furtively and with some difficulty, simply because of a feeling that the beautiful\\n\\ncreamy paper deserved to be written on with a real nib instead of being scratched with\\n\\nan ink-pencil. Actually he was not used to writing by hand. Apart from very short notes,\\n\\nit was usual to dictate everything into the speakwrite which was of course impossible for\\n\\nhis present purpose. He dipped the pen into the ink and then faltered for just a second.\\n\\nA tremor had gone through his bowels. To mark the paper was the decisive act. In small\\n\\nclumsy letters he wrote:\\n\\nApril 4th, 1984.\\n\\nHe sat back. A sense of complete helplessness had descended upon him. To begin with,\\n\\nhe did not know with any certainty that this was 1984. It must be round about that date,\\n\\nsince he was fairly sure that his age was thirty-nine, and he believed that he had been\\n\\nborn in 1944 or 1945; but it was never possible nowadays to pin down any date within a\\n\\nyear or two.\\n\\nFor whom, it suddenly occurred to him to wonder, was he writing this diary? For the\\n\\nfuture, for the unborn. His mind hovered for a moment round the doubtful date on the\\n\\npage, and then fetched up with a bump against the Newspeak word doublethink. For the\\n\\nfirst time the magnitude of what he had undertaken came home to him. How could you\\n\\ncommunicate with the future? It was of its nature impossible. Either the future would\\n\\nresemble the present, in which case it would not listen to him: or it would be different\\n\\nfrom it, and his predicament would be meaningless.\\n\\nFor some time he sat gazing stupidly at the paper. The telescreen had changed over to\\n\\nstrident military music. It was curious that he seemed not merely to have lost the power\\n\\nof expressing himself, but even to have forgotten what it was that he had originally\\n\\nintended to say. For weeks past he had been making ready for this moment, and it had\\n\\nnever crossed his mind that anything would be needed except courage. The actual\\n\\nwriting would be easy. All he had to do was to transfer to paper the interminable restless\\n\\nmonologue that had been running inside his head, literally for years. At this moment,\\n\\nhowever, even the monologue had dried up. Moreover his varicose ulcer had begun\\n\\nitching unbearably. He dared not scratch it, because if he did so it always became\\n\\ninflamed. The seconds were ticking by. He was conscious of nothing except the\\n\\nblankness of the page in front of him, the itching of the skin above his ankle, the blaring\\n\\nof the music, and a slight booziness caused by the gin.\\n\\nSuddenly he began writing in sheer panic, only imperfectly aware of what he was setting\\n\\ndown. His small but childish handwriting straggled up and down the page, shedding first\\n\\nits capital letters and finally even its full stops:\\n\\nApril 4th, 1984. Last night to the flicks. All war films. One very good one of a ship full of\\n\\nrefugees being bombed somewhere in the Mediterranean. Audience much amused by\\n\\nshots of a great huge fat man trying to swim away with a helicopter after him, first you\\n\\nsaw him wallowing along in the water like a porpoise, then you saw him through the\\n\\nhelicopters gunsights, then he was full of holes and the sea round him turned pink and\\n\\nhe sank as suddenly as though the holes had let in the water, audience shouting with\\n\\nlaughter when he sank. then you saw a lifeboat full of children with a helicopter hovering\\n\\nover it. there was a middle-aged woman might have been a jewess sitting up in the bow\\n\\nwith a little boy about three years old in her arms. little boy screaming with fright and\\n\\nhiding his head between her breasts as if he was trying to burrow right into her and the\\n\\nwoman putting her arms round him and comforting him although she was blue with\\n\\nfright herself, all the time covering him up as much as possible as if she thought her\\n\\narms could keep the bullets off him. then the helicopter planted a 20 kilo bomb in\\n\\namong them terrific flash and the boat went all to matchwood. then there was a\\n\\nwonderful shot of a child's arm going up up up right up into the air a helicopter with a\\n\\ncamera in its nose must have followed it up and there was a lot of applause from the\\n\\nparty seats but a woman down in the prole part of the house suddenly started kicking\\n\\nup a fuss and shouting they didnt oughter of showed it not in front of kids they didnt it\\n\\naint right not in front of kids it aint until the police turned her turned her out i dont\\n\\nsuppose anything happened to her nobody cares what the proles say typical prole\\n\\nreaction they never --\\n\\nWinston stopped writing, partly because he was suffering from cramp. He did not know\\n\\nwhat had made him pour out this stream of rubbish. But the curious thing was that while\\n\\nhe was doing so a totally different memory had clarified itself in his mind, to the point\\n\\nwhere he almost felt equal to writing it down. It was, he now realized, because of this\\n\\nother incident that he had suddenly decided to come home and begin the diary today.\\n\\nIt had happened that morning at the Ministry, if anything so nebulous could be said to\\n\\nhappen.\\n\\nIt was nearly eleven hundred, and in the Records Department, where Winston worked,\\n\\nthey were dragging the chairs out of the cubicles and grouping them in the centre of\\n\\nthe hall opposite the big telescreen, in preparation for the Two Minutes Hate. Winston\\n\\nwas just taking his place in one of the middle rows when two people whom he knew by\\n\\nsight, but had never spoken to, came unexpectedly into the room. One of them was a\\n\\ngirl whom he often passed in the corridors. He did not know her name, but he knew that\\n\\nshe worked in the Fiction Department. Presumably -- since he had sometimes seen her\\n\\nwith oily hands and carrying a spanner she had some mechanical job on one of the\\n\\nnovel-writing machines. She was a bold-looking girl, of about twenty-seven, with thick\\n\\nhair, a freckled face, and swift, athletic movements. A narrow scarlet sash, emblem of the\\n\\nJunior Anti-Sex League, was wound several times round the waist of her overalls, just\\n\\ntightly enough to bring out the shapeliness of her hips. Winston had disliked her from\\n\\nthe very first moment of seeing her. He knew the reason. It was because of the\\n\\natmosphere of hockey-fields and cold baths and community hikes and general clean-\\n\\nmindedness which she managed to carry about with her. He disliked nearly all women,\\n\\nand especially the young and pretty ones. It was always the women, and above all the\\n\\nyoung ones, who were the most bigoted adherents of the Party, the swallowers of\\n\\nslogans, the amateur spies and nosers-out of unorthodoxy. But this particular girl gave\\n\\nhim the impression of being more dangerous than most. Once when they passed in the\\n\\ncorridor she gave him a quick sidelong glance which seemed to pierce right into him\\n\\nand for a moment had filled him with black terror. The idea had even crossed his mind\\n\\nthat she might be an agent of the Thought Police. That, it was true, was very unlikely.\\n\\nStill, he continued to feel a peculiar uneasiness, which had fear mixed up in it as well as\\n\\nhostility, whenever she was anywhere near him.\\n\\nThe other person was a man named O'Brien, a member of the Inner Party and holder of\\n\\nsome post so important and remote that Winston had only a dim idea of its nature. A\\n\\nmomentary hush passed over the group of people round the chairs as they saw the\\n\\nblack overalls of an Inner Party member approaching. O'Brien was a large, burly man\\n\\nwith a thick neck and a coarse, humorous, brutal face. In spite of his formidable\\n\\nappearance he had a certain charm of manner. He had a trick of resettling his spectacles\\n\\non his nose which was curiously disarming -- in some indefinable way, curiously civilized.\\n\\nIt was a gesture which, if anyone had still thought in such terms, might have recalled an\\n\\neighteenth-century nobleman offering his snuffbox. Winston had seen O'Brien perhaps a\\n\\ndozen times in almost as many years. He felt deeply drawn to him, and not solely\\n\\nbecause he was intrigued by the contrast between O'Brien's urbane manner and his\\n\\nprize-fighter's physique. Much more it was because of a secretly held belief -- or perhaps\\n\\nnot even a belief, merely a hope -- that O'Brien's political orthodoxy was not perfect.\\n\\nSomething in his face suggested it irresistibly. And again, perhaps it was not even\\n\\nunorthodoxy that was written in his face, but simply intelligence. But at any rate he had\\n\\nthe appearance of being a person that you could talk to if somehow you could cheat the\\n\\ntelescreen and get him alone. Winston had never made the smallest effort to verify this\\n\\nguess: indeed, there was no way of doing so. At this moment O'Brien glanced at his\\n\\nwrist-watch, saw that it was nearly eleven hundred, and evidently decided to stay in the\\n\\nRecords Department until the Two Minutes Hate was over. He took a chair in the same\\n\\nrow as Winston, a couple of places away. A small, sandy-haired woman who worked in\\n\\nthe next cubicle to Winston was between them. The girl with dark hair was sitting\\n\\nimmediately behind.\\n\\nThe next moment a hideous, grinding speech, as of some monstrous machine running\\n\\nwithout oil, burst from the big telescreen at the end of the room. It was a noise that set\\n\\none's teeth on edge and bristled the hair at the back of one's neck. The Hate had\\n\\nstarted.\\n\\nAs usual, the face of Emmanuel Goldstein, the Enemy of the People, had flashed on to\\n\\nthe screen. There were hisses here and there among the audience. The little sandy-haired\\n\\nwoman gave a squeak of mingled fear and disgust. Goldstein was the renegade and\\n\\nbackslider who once, long ago (how long ago, nobody quite remembered), had been\\n\\none of the leading figures of the Party, almost on a level with Big Brother himself, and\\n\\nthen had engaged in counter-revolutionary activities, had been condemned to death,\\n\\nand had mysteriously escaped and disappeared. The programmes of the Two Minutes\\n\\nHate varied from day to day, but there was none in which Goldstein was not the\\n\\nprincipal figure. He was the primal traitor, the earliest defiler of the Party's purity. All\\n\\nsubsequent crimes against the Party, all treacheries, acts of sabotage, heresies,\\n\\ndeviations, sprang directly out of his teaching. Somewhere or other he was still alive and\\n\\nhatching his conspiracies: perhaps somewhere beyond the sea, under the protection of\\n\\nhis foreign paymasters, perhaps even -- so it was occasionally rumoured -- in some\\n\\nhiding-place in Oceania itself.\\n\\nWinston's diaphragm was constricted. He could never see the face of Goldstein without a\\n\\npainful mixture of emotions. It was a lean Jewish face, with a great fuzzy aureole of white\\n\\nhair and a small goatee beard -- a clever face, and yet somehow inherently despicable,\\n\\nwith a kind of senile silliness in the long thin nose, near the end of which a pair of\\n\\nspectacles was perched. It resembled the face of a sheep, and the voice, too, had a\\n\\nsheep-like quality. Goldstein was delivering his usual venomous attack upon the\\n\\ndoctrines of the Party -- an attack so exaggerated and perverse that a child should have\\n\\nbeen able to see through it, and yet just plausible enough to fill one with an alarmed\\n\\nfeeling that other people, less level-headed than oneself, might be taken in by it. He was\\n\\nabusing Big Brother, he was denouncing the dictatorship of the Party, he was demanding\\n\\nthe immediate conclusion of peace with Eurasia, he was advocating freedom of speech,\\n\\nfreedom of the Press, freedom of assembly, freedom of thought, he was crying\\n\\nhysterically that the revolution had been betrayed -- and all this in rapid polysyllabic\\n\\nspeech which was a sort of parody of the habitual style of the orators of the Party, and\\n\\neven contained Newspeak words: more Newspeak words, indeed, than any Party member\\n\\nwould normally use in real life. And all the while, lest one should be in any doubt as to\\n\\nthe reality which Goldstein's specious claptrap covered, behind his head on the\\n\\ntelescreen there marched the endless columns of the Eurasian army -- row after row of\\n\\nsolid-looking men with expressionless Asiatic faces, who swam up to the surface of the\\n\\nscreen and vanished, to be replaced by others exactly similar. The dull rhythmic tramp of\\n\\nthe soldiers' boots formed the background to Goldstein's bleating voice.\\n\\nBefore the Hate had proceeded for thirty seconds, uncontrollable exclamations of rage\\n\\nwere breaking out from half the people in the room. The self-satisfied sheep-like face on\\n\\nthe screen, and the terrifying power of the Eurasian army behind it, were too much to be\\n\\nborne: besides, the sight or even the thought of Goldstein produced fear and anger\\n\\nautomatically. He was an object of hatred more constant than either Eurasia or Eastasia,\\n\\nsince when Oceania was at war with one of these Powers it was generally at peace with\\n\\nthe other. But what was strange was that although Goldstein was hated and despised by\\n\\neverybody, although every day and a thousand times a day, on platforms, on the\\n\\ntelescreen, in newspapers, in books, his theories were refuted, smashed, ridiculed, held\\n\\nup to the general gaze for the pitiful rubbish that they were in spite of all this, his\\n\\ninfluence never seemed to grow less. Always there were fresh dupes waiting to be\\n\\nseduced by him. A day never passed when spies and saboteurs acting under his\\n\\ndirections were not unmasked by the Thought Police. He was the commander of a vast\\n\\nshadowy army, an underground network of conspirators dedicated to the overthrow of\\n\\nthe State. The Brotherhood, its name was supposed to be. There were also whispered\\n\\nstories of a terrible book, a compendium of all the heresies, of which Goldstein was the\\n\\nauthor and which circulated clandestinely here and there. It was a book without a title.\\n\\nPeople referred to it, if at all, simply as the book. But one knew of such things only\\n\\nthrough vague rumours. Neither the Brotherhood nor the book was a subject that any\\n\\nordinary Party member would mention if there was a way of avoiding it.\\n\\nIn its second minute the Hate rose to a frenzy. People were leaping up and down in their\\n\\nplaces and shouting at the tops of their voices in an effort to drown the maddening\\n\\nbleating voice that came from the screen. The little sandy-haired woman had turned\\n\\nbright pink, and her mouth was opening and shutting like that of a landed fish. Even\\n\\nO'Brien's heavy face was flushed. He was sitting very straight in his chair, his powerful\\n\\nchest swelling and quivering as though he were standing up to the assault of a wave.\\n\\nThe dark-haired girl behind Winston had begun crying out 'Swine! Swine! Swine!' and\\n\\nsuddenly she picked up a heavy Newspeak dictionary and flung it at the screen. It struck\\n\\nGoldstein's nose and bounced off; the voice continued inexorably. In a lucid moment\\n\\nWinston found that he was shouting with the others and kicking his heel violently\\n\\nagainst the rung of his chair. The horrible thing about the Two Minutes Hate was not\\n\\nthat one was obliged to act a part, but, on the contrary, that it was impossible to avoid\\n\\njoining in. Within thirty seconds any pretence was always unnecessary. A hideous ecstasy\\n\\nof fear and vindictiveness, a desire to kill, to torture, to smash faces in with a sledge-\\n\\nhammer, seemed to flow through the whole group of people like an electric current,\\n\\nturning one even against one's will into a grimacing, screaming lunatic. And yet the rage\\n\\nthat one felt was an abstract, undirected emotion which could be switched from one\\n\\nobject to another like the flame of a blowlamp. Thus, at one moment Winston's hatred\\n\\nwas not turned against Goldstein at all, but, on the contrary, against Big Brother, the\\n\\nParty, and the Thought Police; and at such moments his heart went out to the lonely,\\n\\nderided heretic on the screen, sole guardian of truth and sanity in a world of lies. And\\n\\nyet the very next instant he was at one with the people about him, and all that was said\\n\\nof Goldstein seemed to him to be true. At those moments his secret loathing of Big\\n\\nBrother changed into adoration, and Big Brother seemed to tower up, an invincible,\\n\\nfearless protector, standing like a rock against the hordes of Asia, and Goldstein, in spite\\n\\nof his isolation, his helplessness, and the doubt that hung about his very existence,\\n\\nseemed like some sinister enchanter, capable by the mere power of his voice of wrecking\\n\\nthe structure of civilization.\\n\\nIt was even possible, at moments, to switch one's hatred this way or that by a voluntary\\n\\nact. Suddenly, by the sort of violent effort with which one wrenches one's head away\\n\\nfrom the pillow in a nightmare, Winston succeeded in transferring his hatred from the\\n\\nface on the screen to the dark-haired girl behind him. Vivid, beautiful hallucinations\\n\\nflashed through his mind. He would flog her to death with a rubber truncheon. He would\\n\\ntie her naked to a stake and shoot her full of arrows like Saint Sebastian. He would\\n\\nravish her and cut her throat at the moment of climax. Better than before, moreover, he\\n\\nrealized why it was that he hated her. He hated her because she was young and pretty\\n\\nand sexless, because he wanted to go to bed with her and would never do so, because\\n\\nround her sweet supple waist, which seemed to ask you to encircle it with your arm,\\n\\nthere was only the odious scarlet sash, aggressive symbol of chastity.\\n\\nThe Hate rose to its climax. The voice of Goldstein had become an actual sheep's bleat,\\n\\nand for an instant the face changed into that of a sheep. Then the sheep-face melted\\n\\ninto the figure of a Eurasian soldier who seemed to be advancing, huge and terrible, his\\n\\nsub-machine gun roaring, and seeming to spring out of the surface of the screen, so\\n\\nthat some of the people in the front row actually flinched backwards in their seats. But in\\n\\nthe same moment, drawing a deep sigh of relief from everybody, the hostile figure\\n\\nmelted into the face of Big Brother, black-haired, black-moustachio'd, full of power and\\n\\nmysterious calm, and so vast that it almost filled up the screen. Nobody heard what Big\\n\\nBrother was saying. It was merely a few words of encouragement, the sort of words that\\n\\nare uttered in the din of battle, not distinguishable individually but restoring confidence\\n\\nby the fact of being spoken. Then the face of Big Brother faded away again, and instead\\n\\nthe three slogans of the Party stood out in bold capitals:\\n\\nWAR IS PEACE\\n\\nFREEDOM IS SLAVERY\\n\\nIGNORANCE IS STRENGTH\\n\\nBut the face of Big Brother seemed to persist for several seconds on the screen, as\\n\\nthough the impact that it had made on everyone's eyeballs was too vivid to wear off\\n\\nimmediately. The little sandyhaired woman had flung herself forward over the back of\\n\\nthe chair in front of her. With a tremulous murmur that sounded like 'My Saviour!' she\\n\\nextended her arms towards the screen. Then she buried her face in her hands. It was\\n\\napparent that she was uttering a prayer.\\n\\nAt this moment the entire group of people broke into a deep, slow, rhythmical chant of\\n\\n'B-B! ...B-B!' -- over and over again, very slowly, with a long pause between the first 'B'\\n\\nand the second-a heavy, murmurous sound, somehow curiously savage, in the\\n\\nbackground of which one seemed to hear the stamp of naked feet and the throbbing of\\n\\ntom-toms. For perhaps as much as thirty seconds they kept it up. It was a refrain that\\n\\nwas often heard in moments of overwhelming emotion. Partly it was a sort of hymn to\\n\\nthe wisdom and majesty of Big Brother, but still more it was an act of self-hypnosis, a\\n\\ndeliberate drowning of consciousness by means of rhythmic noise. Winston's entrails\\n\\nseemed to grow cold. In the Two Minutes Hate he could not help sharing in the general\\n\\ndelirium, but this sub-human chanting of 'B-B! ...B-B!' always filled him with horror. Of\\n\\ncourse he chanted with the rest: it was impossible to do otherwise. To dissemble your\\n\\nfeelings, to control your face, to do what everyone else was doing, was an instinctive\\n\\nreaction. But there was a space of a couple of seconds during which the expression of\\n\\nhis eyes might conceivably have betrayed him. And it was exactly at this moment that\\n\\nthe significant thing happened -- if, indeed, it did happen.\\n\\nMomentarily he caught O'Brien's eye. O'Brien had stood up. He had taken off his\\n\\nspectacles and was in the act of resettling them on his nose with his characteristic\\n\\ngesture. But there was a fraction of a second when their eyes met, and for as long as it\\n\\ntook to happen Winston knew-yes, he knew!-that O'Brien was thinking the same thing as\\n\\nhimself. An unmistakable message had passed. It was as though their two minds had\\n\\nopened and the thoughts were flowing from one into the other through their eyes. 'I am\\n\\nwith you,' O'Brien seemed to be saying to him. 'I know precisely what you are feeling. I\\n\\nknow all about your contempt, your hatred, your disgust. But don't worry, I am on your\\n\\nside!' And then the flash of intelligence was gone, and O'Brien's face was as inscrutable\\n\\nas everybody else's.\\n\\nThat was all, and he was already uncertain whether it had happened. Such incidents\\n\\nnever had any sequel. All that they did was to keep alive in him the belief, or hope, that\\n\\nothers besides himself were the enemies of the Party. Perhaps the rumours of vast\\n\\nunderground conspiracies were true after all -- perhaps the Brotherhood really existed! It\\n\\nwas impossible, in spite of the endless arrests and confessions and executions, to be sure\\n\\nthat the Brotherhood was not simply a myth. Some days he believed in it, some days\\n\\nnot. There was no evidence, only fleeting glimpses that might mean anything or nothing:\\n\\nsnatches of overheard conversation, faint scribbles on lavatory walls -- once, even, when\\n\\ntwo strangers met, a small movement of the hand which had looked as though it might\\n\\nbe a signal of recognition. It was all guesswork: very likely he had imagined everything.\\n\\nHe had gone back to his cubicle without looking at O'Brien again. The idea of following\\n\\nup their momentary contact hardly crossed his mind. It would have been inconceivably\\n\\ndangerous even if he had known how to set about doing it. For a second, two seconds,\\n\\nthey had exchanged an equivocal glance, and that was the end of the story. But even\\n\\nthat was a memorable event, in the locked loneliness in which one had to live.\\n\\nWinston roused himself and sat up straighter. He let out a belch. The gin was rising from\\n\\nhis stomach.\\n\\nHis eyes re-focused on the page. He discovered that while he sat helplessly musing he\\n\\nhad also been writing, as though by automatic action. And it was no longer the same\\n\\ncramped, awkward handwriting as before. His pen had slid voluptuously over the smooth\\n\\npaper, printing in large neat capitals -\\n\\nDOWN WITH BIG BROTHER\\n\\nDOWN WITH BIG BROTHER\\n\\nDOWN WITH BIG BROTHER\\n\\nDOWN WITH BIG BROTHER\\n\\nDOWN WITH BIG BROTHER\\n\\nover and over again, filling half a page.\\n\\nHe could not help feeling a twinge of panic. It was absurd, since the writing of those\\n\\nparticular words was not more dangerous than the initial act of opening the diary, but\\n\\nfor a moment he was tempted to tear out the spoiled pages and abandon the enterprise\\n\\naltogether.\\n\\nHe did not do so, however, because he knew that it was useless. Whether he wrote\\n\\nDOWN WITH BIG BROTHER, or whether he refrained from writing it, made no difference.\\n\\nWhether he went on with the diary, or whether he did not go on with it, made no\\n\\ndifference. The Thought Police would get him just the same. He had committed -- would\\n\\nstill have committed, even if he had never set pen to paper -- the essential crime that\\n\\ncontained all others in itself. Thoughtcrime, they called it. Thoughtcrime was not a thing\\n\\nthat could be concealed for ever. You might dodge successfully for a while, even for\\n\\nyears, but sooner or later they were bound to get you.\\n\\nIt was always at night -- the arrests invariably happened at night. The sudden jerk out of\\n\\nsleep, the rough hand shaking your shoulder, the lights glaring in your eyes, the ring of\\n\\nhard faces round the bed. In the vast majority of cases there was no trial, no report of\\n\\nthe arrest. People simply disappeared, always during the night. Your name was removed\\n\\nfrom the registers, every record of everything you had ever done was wiped out, your\\n\\none-time existence was denied and then forgotten. You were abolished, annihilated:\\n\\nvaporized was the usual word.\\n\\nFor a moment he was seized by a kind of hysteria. He began writing in a hurried untidy\\n\\nscrawl:\\n\\ntheyll shoot me i don't care theyll shoot me in the back of the neck i dont care down\\n\\nwith big brother they always shoot you in the back of the neck i dont care down with\\n\\nbig brother --\\n\\nHe sat back in his chair, slightly ashamed of himself, and laid down the pen. The next\\n\\nmoment he started violently. There was a knocking at the door.\\n\\nAlready! He sat as still as a mouse, in the futile hope that whoever it was might go away\\n\\nafter a single attempt. But no, the knocking was repeated. The worst thing of all would\\n\\nbe to delay. His heart was thumping like a drum, but his face, from long habit, was\\n\\nprobably expressionless. He got up and moved heavily towards the door.\")]"
      ]
     },
     "execution_count": 13,
     "metadata": {},
     "output_type": "execute_result"
    }
   ],
   "source": [
    "loader = UnstructuredFileLoader(os.path.join(base_path, 'chapter_one.pdf'))\n",
    "docs = loader.load()\n",
    "print(len(docs))\n",
    "docs"
   ]
  },
  {
   "cell_type": "code",
   "execution_count": 7,
   "id": "ab5285ac-d1aa-41f0-a851-39f1d95781b4",
   "metadata": {},
   "outputs": [
    {
     "name": "stderr",
     "output_type": "stream",
     "text": [
      "C:\\Users\\User\\AppData\\Local\\Temp\\ipykernel_25524\\2329631490.py:1: LangChainDeprecationWarning: The class `UnstructuredFileLoader` was deprecated in LangChain 0.2.8 and will be removed in 1.0. An updated version of the class exists in the :class:`~langchain-unstructured package and should be used instead. To use it run `pip install -U :class:`~langchain-unstructured` and import as `from :class:`~langchain_unstructured import UnstructuredLoader``.\n",
      "  loader = UnstructuredFileLoader(os.path.join(base_path, 'chapter_one.txt'))\n",
      "libmagic is unavailable but assists in filetype detection. Please consider installing libmagic for better results.\n"
     ]
    },
    {
     "name": "stdout",
     "output_type": "stream",
     "text": [
      "1\n"
     ]
    },
    {
     "data": {
      "text/plain": [
       "[Document(metadata={'source': 'D:\\\\Lang2505\\\\dataset\\\\files\\\\chapter_one.txt'}, page_content=\"Part 1, Chapter 1\\n\\nPart One\\n\\n1 It was a bright cold day in April, and the clocks were striking thirteen. Winston Smith, his chin nuzzled into his breast in an effort to escape the vile wind, slipped quickly through the glass doors of Victory Mansions, though not quickly enough to prevent a swirl of gritty dust from entering along with him.\\n\\nThe hallway smelt of boiled cabbage and old rag mats. At one end of it a coloured poster, too large for indoor display, had been tacked to the wall. It depicted simply an enormous face, more than a metre wide: the face of a man of about forty-five, with a heavy black moustache and ruggedly handsome features. Winston made for the stairs. It was no use trying the lift. Even at the best of times it was seldom working, and at present the electric current was cut off during daylight hours. It was part of the economy drive in preparation for Hate Week. The flat was seven flights up, and Winston, who was thirty-nine and had a varicose ulcer above his right ankle, went slowly, resting several times on the way. On each landing, opposite the lift-shaft, the poster with the enormous face gazed from the wall. It was one of those pictures which are so contrived that the eyes follow you about when you move. BIG BROTHER IS WATCHING YOU, the caption beneath it ran.\\n\\nInside the flat a fruity voice was reading out a list of figures which had something to do with the production of pig-iron. The voice came from an oblong metal plaque like a dulled mirror which formed part of the surface of the right-hand wall. Winston turned a switch and the voice sank somewhat, though the words were still distinguishable. The instrument (the telescreen, it was called) could be dimmed, but there was no way of shutting it off completely. He moved over to the window: a smallish, frail figure, the meagreness of his body merely emphasized by the blue overalls which were the uniform of the party. His hair was very fair, his face naturally sanguine, his skin roughened by coarse soap and blunt razor blades and the cold of the winter that had just ended.\\n\\nOutside, even through the shut window-pane, the world looked cold. Down in the street little eddies of wind were whirling dust and torn paper into spirals, and though the sun was shining and the sky a harsh blue, there seemed to be no colour in anything, except the posters that were plastered everywhere. The blackmoustachio'd face gazed down from every commanding corner. There was one on the house-front immediately opposite. BIG BROTHER IS WATCHING YOU, the caption said, while the dark eyes looked deep into Winston's own. Down at streetlevel another poster, torn at one corner, flapped fitfully in the wind, alternately covering and uncovering the single word INGSOC. In the far distance a helicopter skimmed down between the roofs, hovered for an instant like a bluebottle, and darted away again with a curving flight. It was the police patrol, snooping into people's windows. The patrols did not matter, however. Only the Thought Police mattered.\\n\\nBehind Winston's back the voice from the telescreen was still babbling away about pig-iron and the overfulfilment of the Ninth Three-Year Plan. The telescreen received and transmitted simultaneously. Any sound that Winston made, above the level of a very low whisper, would be picked up by it, moreover, so long as he remained within the field of vision which the metal plaque commanded, he could be seen as well as heard. There was of course no way of knowing whether you were being watched at any given moment. How often, or on what system, the Thought Police plugged in on any individual wire was guesswork. It was even conceivable that they watched everybody all the time. But at any rate they could plug in your wire whenever they wanted to. You had to live -- did live, from habit that became instinct -- in the assumption that every sound you made was overheard, and, except in darkness, every movement scrutinized.\\n\\nWinston kept his back turned to the telescreen. It was safer, though, as he well knew, even a back can be revealing. A kilometre away the Ministry of Truth, his place of work, towered vast and white above the grimy landscape. This, he thought with a sort of vague distaste -- this was London, chief city of Airstrip One, itself the third most populous of the provinces of Oceania. He tried to squeeze out some childhood memory that should tell him whether London had always been quite like this. Were there always these vistas of rotting nineteenth-century houses, their sides shored up with baulks of timber, their windows patched with cardboard and their roofs with corrugated iron, their crazy garden walls sagging in all directions? And the bombed sites where the plaster dust swirled in the air and the willow-herb straggled over the heaps of rubble; and the places where the bombs had cleared a larger patch and there had sprung up sordid colonies of wooden dwellings like chicken-houses? But it was no use, he could not remember: nothing remained of his childhood except a series of bright-lit tableaux occurring against no background and mostly unintelligible.\\n\\nThe Ministry of Truth -- Minitrue, in Newspeak -- was startlingly different from any other object in sight. It was an enormous pyramidal structure of glittering white concrete, soaring up, terrace after terrace, 300 metres into the air. From where Winston stood it was just possible to read, picked out on its white face in elegant lettering, the three slogans of the Party:\\n\\nWAR IS PEACE\\n\\nFREEDOM IS SLAVERY\\n\\nIGNORANCE IS STRENGTH\\n\\nThe Ministry of Truth contained, it was said, three thousand rooms above ground level, and corresponding ramifications below. Scattered about London there were just three other buildings of similar appearance and size. So completely did they dwarf the surrounding architecture that from the roof of Victory Mansions you could see all four of them simultaneously. They were the homes of the four Ministries between which the entire apparatus of government was divided. The Ministry of Truth, which concerned itself with news, entertainment, education, and the fine arts. The Ministry of Peace, which concerned itself with war. The Ministry of Love, which maintained law and order. And the Ministry of Plenty, which was responsible for economic affairs. Their names, in Newspeak: Minitrue, Minipax, Miniluv, and Miniplenty.\\n\\nThe Ministry of Love was the really frightening one. There were no windows in it at all. Winston had never been inside the Ministry of Love, nor within half a kilometre of it. It was a place impossible to enter except on official business, and then only by penetrating through a maze of barbed-wire entanglements, steel doors, and hidden machine-gun nests. Even the streets leading up to its outer barriers were roamed by gorilla-faced guards in black uniforms, armed with jointed truncheons.\\n\\nWinston turned round abruptly. He had set his features into the expression of quiet optimism which it was advisable to wear when facing the telescreen. He crossed the room into the tiny kitchen. By leaving the Ministry at this time of day he had sacrificed his lunch in the canteen, and he was aware that there was no food in the kitchen except a hunk of dark-coloured bread which had got to be saved for tomorrow's breakfast. He took down from the shelf a bottle of colourless liquid with a plain white label marked VICTORY GIN. It gave off a sickly, oily smell, as of Chinese ricespirit. Winston poured out nearly a teacupful, nerved himself for a shock, and gulped it down like a dose of medicine.\\n\\nInstantly his face turned scarlet and the water ran out of his eyes. The stuff was like nitric acid, and moreover, in swallowing it one had the sensation of being hit on the back of the head with a rubber club. The next moment, however, the burning in his belly died down and the world began to look more cheerful. He took a cigarette from a crumpled packet marked VICTORY CIGARETTES and incautiously held it upright, whereupon the tobacco fell out on to the floor. With the next he was more successful. He went back to the living-room and sat down at a small table that stood to the left of the telescreen. From the table drawer he took out a penholder, a bottle of ink, and a thick, quarto-sized blank book with a red back and a marbled cover.\\n\\nFor some reason the telescreen in the living-room was in an unusual position. Instead of being placed, as was normal, in the end wall, where it could command the whole room, it was in the longer wall, opposite the window. To one side of it there was a shallow alcove in which Winston was now sitting, and which, when the flats were built, had probably been intended to hold bookshelves. By sitting in the alcove, and keeping well back, Winston was able to remain outside the range of the telescreen, so far as sight went. He could be heard, of course, but so long as he stayed in his present position he could not be seen. It was partly the unusual geography of the room that had suggested to him the thing that he was now about to do.\\n\\nBut it had also been suggested by the book that he had just taken out of the drawer. It was a peculiarly beautiful book. Its smooth creamy paper, a little yellowed by age, was of a kind that had not been manufactured for at least forty years past. He could guess, however, that the book was much older than that. He had seen it lying in the window of a frowsy little junk-shop in a slummy quarter of the town (just what quarter he did not now remember) and had been stricken immediately by an overwhelming desire to possess it. Party members were supposed not to go into ordinary shops ('dealing on the free market', it was called), but the rule was not strictly kept, because there were various things, such as shoelaces and razor blades, which it was impossible to get hold of in any other way. He had given a quick glance up and down the street and then had slipped inside and bought the book for two dollars fifty. At the time he was not conscious of wanting it for any particular purpose. He had carried it guiltily home in his briefcase. Even with nothing written in it, it was a compromising possession.\\n\\nThe thing that he was about to do was to open a diary. This was not illegal (nothing was illegal, since there were no longer any laws), but if detected it was reasonably certain that it would be punished by death, or at least by twenty-five years in a forced-labour camp. Winston fitted a nib into the penholder and sucked it to get the grease off. The pen was an archaic instrument, seldom used even for signatures, and he had procured one, furtively and with some difficulty, simply because of a feeling that the beautiful creamy paper deserved to be written on with a real nib instead of being scratched with an ink-pencil. Actually he was not used to writing by hand. Apart from very short notes, it was usual to dictate everything into the speakwrite which was of course impossible for his present purpose. He dipped the pen into the ink and then faltered for just a second. A tremor had gone through his bowels. To mark the paper was the decisive act. In small clumsy letters he wrote:\\n\\nApril 4th, 1984.\\n\\nHe sat back. A sense of complete helplessness had descended upon him. To begin with, he did not know with any certainty that this was 1984. It must be round about that date, since he was fairly sure that his age was thirty-nine, and he believed that he had been born in 1944 or 1945; but it was never possible nowadays to pin down any date within a year or two.\\n\\nFor whom, it suddenly occurred to him to wonder, was he writing this diary? For the future, for the unborn. His mind hovered for a moment round the doubtful date on the page, and then fetched up with a bump against the Newspeak word doublethink. For the first time the magnitude of what he had undertaken came home to him. How could you communicate with the future? It was of its nature impossible. Either the future would resemble the present, in which case it would not listen to him: or it would be different from it, and his predicament would be meaningless.\\n\\nFor some time he sat gazing stupidly at the paper. The telescreen had changed over to strident military music. It was curious that he seemed not merely to have lost the power of expressing himself, but even to have forgotten what it was that he had originally intended to say. For weeks past he had been making ready for this moment, and it had never crossed his mind that anything would be needed except courage. The actual writing would be easy. All he had to do was to transfer to paper the interminable restless monologue that had been running inside his head, literally for years. At this moment, however, even the monologue had dried up. Moreover his varicose ulcer had begun itching unbearably. He dared not scratch it, because if he did so it always became inflamed. The seconds were ticking by. He was conscious of nothing except the blankness of the page in front of him, the itching of the skin above his ankle, the blaring of the music, and a slight booziness caused by the gin.\\n\\nSuddenly he began writing in sheer panic, only imperfectly aware of what he was setting down. His small but childish handwriting straggled up and down the page, shedding first its capital letters and finally even its full stops:\\n\\nApril 4th, 1984. Last night to the flicks. All war films. One very good one of a ship full of refugees being bombed somewhere in the Mediterranean. Audience much amused by shots of a great huge fat man trying to swim away with a helicopter after him, first you saw him wallowing along in the water like a porpoise, then you saw him through the helicopters gunsights, then he was full of holes and the sea round him turned pink and he sank as suddenly as though the holes had let in the water, audience shouting with laughter when he sank. then you saw a lifeboat full of children with a helicopter hovering over it. there was a middle-aged woman might have been a jewess sitting up in the bow with a little boy about three years old in her arms. little boy screaming with fright and hiding his head between her breasts as if he was trying to burrow right into her and the woman putting her arms round him and comforting him although she was blue with fright herself, all the time covering him up as much as possible as if she thought her arms could keep the bullets off him. then the helicopter planted a 20 kilo bomb in among them terrific flash and the boat went all to matchwood. then there was a wonderful shot of a child's arm going up up up right up into the air a helicopter with a camera in its nose must have followed it up and there was a lot of applause from the party seats but a woman down in the prole part of the house suddenly started kicking up a fuss and shouting they didnt oughter of showed it not in front of kids they didnt it aint right not in front of kids it aint until the police turned her turned her out i dont suppose anything happened to her nobody cares what the proles say typical prole reaction they never --\\n\\nWinston stopped writing, partly because he was suffering from cramp. He did not know what had made him pour out this stream of rubbish. But the curious thing was that while he was doing so a totally different memory had clarified itself in his mind, to the point where he almost felt equal to writing it down. It was, he now realized, because of this other incident that he had suddenly decided to come home and begin the diary today.\\n\\nIt had happened that morning at the Ministry, if anything so nebulous could be said to happen.\\n\\nIt was nearly eleven hundred, and in the Records Department, where Winston worked, they were dragging the chairs out of the cubicles and grouping them in the centre of the hall opposite the big telescreen, in preparation for the Two Minutes Hate. Winston was just taking his place in one of the middle rows when two people whom he knew by sight, but had never spoken to, came unexpectedly into the room. One of them was a girl whom he often passed in the corridors. He did not know her name, but he knew that she worked in the Fiction Department. Presumably -- since he had sometimes seen her with oily hands and carrying a spanner she had some mechanical job on one of the novel-writing machines. She was a bold-looking girl, of about twenty-seven, with thick hair, a freckled face, and swift, athletic movements. A narrow scarlet sash, emblem of the Junior Anti-Sex League, was wound several times round the waist of her overalls, just tightly enough to bring out the shapeliness of her hips. Winston had disliked her from the very first moment of seeing her. He knew the reason. It was because of the atmosphere of hockey-fields and cold baths and community hikes and general clean-mindedness which she managed to carry about with her. He disliked nearly all women, and especially the young and pretty ones. It was always the women, and above all the young ones, who were the most bigoted adherents of the Party, the swallowers of slogans, the amateur spies and nosers-out of unorthodoxy. But this particular girl gave him the impression of being more dangerous than most. Once when they passed in the corridor she gave him a quick sidelong glance which seemed to pierce right into him and for a moment had filled him with black terror. The idea had even crossed his mind that she might be an agent of the Thought Police. That, it was true, was very unlikely. Still, he continued to feel a peculiar uneasiness, which had fear mixed up in it as well as hostility, whenever she was anywhere near him.\\n\\nThe other person was a man named O'Brien, a member of the Inner Party and holder of some post so important and remote that Winston had only a dim idea of its nature. A momentary hush passed over the group of people round the chairs as they saw the black overalls of an Inner Party member approaching. O'Brien was a large, burly man with a thick neck and a coarse, humorous, brutal face. In spite of his formidable appearance he had a certain charm of manner. He had a trick of resettling his spectacles on his nose which was curiously disarming -- in some indefinable way, curiously civilized. It was a gesture which, if anyone had still thought in such terms, might have recalled an eighteenth-century nobleman offering his snuffbox. Winston had seen O'Brien perhaps a dozen times in almost as many years. He felt deeply drawn to him, and not solely because he was intrigued by the contrast between O'Brien's urbane manner and his prize-fighter's physique. Much more it was because of a secretly held belief -- or perhaps not even a belief, merely a hope -- that O'Brien's political orthodoxy was not perfect. Something in his face suggested it irresistibly. And again, perhaps it was not even unorthodoxy that was written in his face, but simply intelligence. But at any rate he had the appearance of being a person that you could talk to if somehow you could cheat the telescreen and get him alone. Winston had never made the smallest effort to verify this guess: indeed, there was no way of doing so. At this moment O'Brien glanced at his wrist-watch, saw that it was nearly eleven hundred, and evidently decided to stay in the Records Department until the Two Minutes Hate was over. He took a chair in the same row as Winston, a couple of places away. A small, sandy-haired woman who worked in the next cubicle to Winston was between them. The girl with dark hair was sitting immediately behind.\\n\\nThe next moment a hideous, grinding speech, as of some monstrous machine running without oil, burst from the big telescreen at the end of the room. It was a noise that set one's teeth on edge and bristled the hair at the back of one's neck. The Hate had started.\\n\\nAs usual, the face of Emmanuel Goldstein, the Enemy of the People, had flashed on to the screen. There were hisses here and there among the audience. The little sandy-haired woman gave a squeak of mingled fear and disgust. Goldstein was the renegade and backslider who once, long ago (how long ago, nobody quite remembered), had been one of the leading figures of the Party, almost on a level with Big Brother himself, and then had engaged in counter-revolutionary activities, had been condemned to death, and had mysteriously escaped and disappeared. The programmes of the Two Minutes Hate varied from day to day, but there was none in which Goldstein was not the principal figure. He was the primal traitor, the earliest defiler of the Party's purity. All subsequent crimes against the Party, all treacheries, acts of sabotage, heresies, deviations, sprang directly out of his teaching. Somewhere or other he was still alive and hatching his conspiracies: perhaps somewhere beyond the sea, under the protection of his foreign paymasters, perhaps even -- so it was occasionally rumoured -- in some hiding-place in Oceania itself.\\n\\nWinston's diaphragm was constricted. He could never see the face of Goldstein without a painful mixture of emotions. It was a lean Jewish face, with a great fuzzy aureole of white hair and a small goatee beard -- a clever face, and yet somehow inherently despicable, with a kind of senile silliness in the long thin nose, near the end of which a pair of spectacles was perched. It resembled the face of a sheep, and the voice, too, had a sheep-like quality. Goldstein was delivering his usual venomous attack upon the doctrines of the Party -- an attack so exaggerated and perverse that a child should have been able to see through it, and yet just plausible enough to fill one with an alarmed feeling that other people, less level-headed than oneself, might be taken in by it. He was abusing Big Brother, he was denouncing the dictatorship of the Party, he was demanding the immediate conclusion of peace with Eurasia, he was advocating freedom of speech, freedom of the Press, freedom of assembly, freedom of thought, he was crying hysterically that the revolution had been betrayed -- and all this in rapid polysyllabic speech which was a sort of parody of the habitual style of the orators of the Party, and even contained Newspeak words: more Newspeak words, indeed, than any Party member would normally use in real life. And all the while, lest one should be in any doubt as to the reality which Goldstein's specious claptrap covered, behind his head on the telescreen there marched the endless columns of the Eurasian army -- row after row of solid-looking men with expressionless Asiatic faces, who swam up to the surface of the screen and vanished, to be replaced by others exactly similar. The dull rhythmic tramp of the soldiers' boots formed the background to Goldstein's bleating voice.\\n\\nBefore the Hate had proceeded for thirty seconds, uncontrollable exclamations of rage were breaking out from half the people in the room. The self-satisfied sheep-like face on the screen, and the terrifying power of the Eurasian army behind it, were too much to be borne: besides, the sight or even the thought of Goldstein produced fear and anger automatically. He was an object of hatred more constant than either Eurasia or Eastasia, since when Oceania was at war with one of these Powers it was generally at peace with the other. But what was strange was that although Goldstein was hated and despised by everybody, although every day and a thousand times a day, on platforms, on the telescreen, in newspapers, in books, his theories were refuted, smashed, ridiculed, held up to the general gaze for the pitiful rubbish that they were in spite of all this, his influence never seemed to grow less. Always there were fresh dupes waiting to be seduced by him. A day never passed when spies and saboteurs acting under his directions were not unmasked by the Thought Police. He was the commander of a vast shadowy army, an underground network of conspirators dedicated to the overthrow of the State. The Brotherhood, its name was supposed to be. There were also whispered stories of a terrible book, a compendium of all the heresies, of which Goldstein was the author and which circulated clandestinely here and there. It was a book without a title. People referred to it, if at all, simply as the book. But one knew of such things only through vague rumours. Neither the Brotherhood nor the book was a subject that any ordinary Party member would mention if there was a way of avoiding it.\\n\\nIn its second minute the Hate rose to a frenzy. People were leaping up and down in their places and shouting at the tops of their voices in an effort to drown the maddening bleating voice that came from the screen. The little sandy-haired woman had turned bright pink, and her mouth was opening and shutting like that of a landed fish. Even O'Brien's heavy face was flushed. He was sitting very straight in his chair, his powerful chest swelling and quivering as though he were standing up to the assault of a wave. The dark-haired girl behind Winston had begun crying out 'Swine! Swine! Swine!' and suddenly she picked up a heavy Newspeak dictionary and flung it at the screen. It struck Goldstein's nose and bounced off; the voice continued inexorably. In a lucid moment Winston found that he was shouting with the others and kicking his heel violently against the rung of his chair. The horrible thing about the Two Minutes Hate was not that one was obliged to act a part, but, on the contrary, that it was impossible to avoid joining in. Within thirty seconds any pretence was always unnecessary. A hideous ecstasy of fear and vindictiveness, a desire to kill, to torture, to smash faces in with a sledge-hammer, seemed to flow through the whole group of people like an electric current, turning one even against one's will into a grimacing, screaming lunatic. And yet the rage that one felt was an abstract, undirected emotion which could be switched from one object to another like the flame of a blowlamp. Thus, at one moment Winston's hatred was not turned against Goldstein at all, but, on the contrary, against Big Brother, the Party, and the Thought Police; and at such moments his heart went out to the lonely, derided heretic on the screen, sole guardian of truth and sanity in a world of lies. And yet the very next instant he was at one with the people about him, and all that was said of Goldstein seemed to him to be true. At those moments his secret loathing of Big Brother changed into adoration, and Big Brother seemed to tower up, an invincible, fearless protector, standing like a rock against the hordes of Asia, and Goldstein, in spite of his isolation, his helplessness, and the doubt that hung about his very existence, seemed like some sinister enchanter, capable by the mere power of his voice of wrecking the structure of civilization.\\n\\nIt was even possible, at moments, to switch one's hatred this way or that by a voluntary act. Suddenly, by the sort of violent effort with which one wrenches one's head away from the pillow in a nightmare, Winston succeeded in transferring his hatred from the face on the screen to the dark-haired girl behind him. Vivid, beautiful hallucinations flashed through his mind. He would flog her to death with a rubber truncheon. He would tie her naked to a stake and shoot her full of arrows like Saint Sebastian. He would ravish her and cut her throat at the moment of climax. Better than before, moreover, he realized why it was that he hated her. He hated her because she was young and pretty and sexless, because he wanted to go to bed with her and would never do so, because round her sweet supple waist, which seemed to ask you to encircle it with your arm, there was only the odious scarlet sash, aggressive symbol of chastity.\\n\\nThe Hate rose to its climax. The voice of Goldstein had become an actual sheep's bleat, and for an instant the face changed into that of a sheep. Then the sheep-face melted into the figure of a Eurasian soldier who seemed to be advancing, huge and terrible, his sub-machine gun roaring, and seeming to spring out of the surface of the screen, so that some of the people in the front row actually flinched backwards in their seats. But in the same moment, drawing a deep sigh of relief from everybody, the hostile figure melted into the face of Big Brother, black-haired, black-moustachio'd, full of power and mysterious calm, and so vast that it almost filled up the screen. Nobody heard what Big Brother was saying. It was merely a few words of encouragement, the sort of words that are uttered in the din of battle, not distinguishable individually but restoring confidence by the fact of being spoken. Then the face of Big Brother faded away again, and instead the three slogans of the Party stood out in bold capitals:\\n\\nWAR IS PEACE\\n\\nFREEDOM IS SLAVERY\\n\\nIGNORANCE IS STRENGTH\\n\\nBut the face of Big Brother seemed to persist for several seconds on the screen, as though the impact that it had made on everyone's eyeballs was too vivid to wear off immediately. The little sandyhaired woman had flung herself forward over the back of the chair in front of her. With a tremulous murmur that sounded like 'My Saviour!' she extended her arms towards the screen. Then she buried her face in her hands. It was apparent that she was uttering a prayer.\\n\\nAt this moment the entire group of people broke into a deep, slow, rhythmical chant of 'B-B! ...B-B!' -- over and over again, very slowly, with a long pause between the first 'B' and the second-a heavy, murmurous sound, somehow curiously savage, in the background of which one seemed to hear the stamp of naked feet and the throbbing of tom-toms. For perhaps as much as thirty seconds they kept it up. It was a refrain that was often heard in moments of overwhelming emotion. Partly it was a sort of hymn to the wisdom and majesty of Big Brother, but still more it was an act of self-hypnosis, a deliberate drowning of consciousness by means of rhythmic noise. Winston's entrails seemed to grow cold. In the Two Minutes Hate he could not help sharing in the general delirium, but this sub-human chanting of 'B-B! ...B-B!' always filled him with horror. Of course he chanted with the rest: it was impossible to do otherwise. To dissemble your feelings, to control your face, to do what everyone else was doing, was an instinctive reaction. But there was a space of a couple of seconds during which the expression of his eyes might conceivably have betrayed him. And it was exactly at this moment that the significant thing happened -- if, indeed, it did happen.\\n\\nMomentarily he caught O'Brien's eye. O'Brien had stood up. He had taken off his spectacles and was in the act of resettling them on his nose with his characteristic gesture. But there was a fraction of a second when their eyes met, and for as long as it took to happen Winston knew-yes, he knew!-that O'Brien was thinking the same thing as himself. An unmistakable message had passed. It was as though their two minds had opened and the thoughts were flowing from one into the other through their eyes. 'I am with you,' O'Brien seemed to be saying to him. 'I know precisely what you are feeling. I know all about your contempt, your hatred, your disgust. But don't worry, I am on your side!' And then the flash of intelligence was gone, and O'Brien's face was as inscrutable as everybody else's.\\n\\nThat was all, and he was already uncertain whether it had happened. Such incidents never had any sequel. All that they did was to keep alive in him the belief, or hope, that others besides himself were the enemies of the Party. Perhaps the rumours of vast underground conspiracies were true after all -- perhaps the Brotherhood really existed! It was impossible, in spite of the endless arrests and confessions and executions, to be sure that the Brotherhood was not simply a myth. Some days he believed in it, some days not. There was no evidence, only fleeting glimpses that might mean anything or nothing: snatches of overheard conversation, faint scribbles on lavatory walls -- once, even, when two strangers met, a small movement of the hand which had looked as though it might be a signal of recognition. It was all guesswork: very likely he had imagined everything. He had gone back to his cubicle without looking at O'Brien again. The idea of following up their momentary contact hardly crossed his mind. It would have been inconceivably dangerous even if he had known how to set about doing it. For a second, two seconds, they had exchanged an equivocal glance, and that was the end of the story. But even that was a memorable event, in the locked loneliness in which one had to live.\\n\\nWinston roused himself and sat up straighter. He let out a belch. The gin was rising from his stomach.\\n\\nHis eyes re-focused on the page. He discovered that while he sat helplessly musing he had also been writing, as though by automatic action. And it was no longer the same cramped, awkward handwriting as before. His pen had slid voluptuously over the smooth paper, printing in large neat capitals -\\n\\nDOWN WITH BIG BROTHER\\n\\nDOWN WITH BIG BROTHER\\n\\nDOWN WITH BIG BROTHER\\n\\nDOWN WITH BIG BROTHER\\n\\nDOWN WITH BIG BROTHER\\n\\nover and over again, filling half a page.\\n\\nHe could not help feeling a twinge of panic. It was absurd, since the writing of those particular words was not more dangerous than the initial act of opening the diary, but for a moment he was tempted to tear out the spoiled pages and abandon the enterprise altogether.\\n\\nHe did not do so, however, because he knew that it was useless. Whether he wrote DOWN WITH BIG BROTHER, or whether he refrained from writing it, made no difference. Whether he went on with the diary, or whether he did not go on with it, made no difference. The Thought Police would get him just the same. He had committed -- would still have committed, even if he had never set pen to paper -- the essential crime that contained all others in itself. Thoughtcrime, they called it. Thoughtcrime was not a thing that could be concealed for ever. You might dodge successfully for a while, even for years, but sooner or later they were bound to get you.\\n\\nIt was always at night -- the arrests invariably happened at night. The sudden jerk out of sleep, the rough hand shaking your shoulder, the lights glaring in your eyes, the ring of hard faces round the bed. In the vast majority of cases there was no trial, no report of the arrest. People simply disappeared, always during the night. Your name was removed from the registers, every record of everything you had ever done was wiped out, your one-time existence was denied and then forgotten. You were abolished, annihilated: vaporized was the usual word.\\n\\nFor a moment he was seized by a kind of hysteria. He began writing in a hurried untidy scrawl:\\n\\ntheyll shoot me i don't care theyll shoot me in the back of the neck i dont care down with big brother they always shoot you in the back of the neck i dont care down with big brother --\\n\\nHe sat back in his chair, slightly ashamed of himself, and laid down the pen. The next moment he started violently. There was a knocking at the door.\\n\\nAlready! He sat as still as a mouse, in the futile hope that whoever it was might go away after a single attempt. But no, the knocking was repeated. The worst thing of all would be to delay. His heart was thumping like a drum, but his face, from long habit, was probably expressionless. He got up and moved heavily towards the door.\")]"
      ]
     },
     "execution_count": 7,
     "metadata": {},
     "output_type": "execute_result"
    }
   ],
   "source": [
    "loader = UnstructuredFileLoader(os.path.join(base_path, 'chapter_one.txt'))\n",
    "docs = loader.load()\n",
    "print(len(docs))\n",
    "docs"
   ]
  },
  {
   "cell_type": "code",
   "execution_count": 15,
   "id": "6948370d-a2eb-4dbe-8d9b-4e3bf6eda2d1",
   "metadata": {},
   "outputs": [
    {
     "name": "stdout",
     "output_type": "stream",
     "text": [
      "1\n"
     ]
    },
    {
     "data": {
      "text/plain": [
       "[Document(metadata={'source': 'D:\\\\Lang2505\\\\dataset\\\\files\\\\chapter_one.docx'}, page_content=\"Part 1, Chapter 1\\n\\nPart One\\n\\n\\n1\\nIt was a bright cold day in April, and the clocks were striking thirteen. Winston Smith, his chin nuzzled into his breast in an effort to escape the vile wind, slipped quickly through the glass doors of Victory Mansions, though not quickly enough to prevent a swirl of gritty dust from entering along with him.\\n\\nThe hallway smelt of boiled cabbage and old rag mats. At one end of it a coloured poster, too large for indoor display, had been tacked to the wall. It depicted simply an enormous face, more than a metre wide: the face of a man of about forty-five, with a heavy black moustache and ruggedly handsome features. Winston made for the stairs. It was no use trying the lift. Even at the best of times it was seldom working, and at present the electric current was cut off during daylight hours. It was part of the economy drive in preparation for Hate Week. The flat was seven flights up, and Winston, who was thirty-nine and had a varicose ulcer above his right ankle, went slowly, resting several times on the way. On each landing, opposite the lift-shaft, the poster with the enormous face gazed from the wall. It was one of those pictures which are so contrived that the eyes follow you about when you move. BIG BROTHER IS WATCHING YOU, the caption beneath it ran.\\n\\nInside the flat a fruity voice was reading out a list of figures which had something to do with the production of pig-iron. The voice came from an oblong metal plaque like a dulled mirror which formed part of the surface of the right-hand wall. Winston turned a switch and the voice sank somewhat, though the words were still distinguishable. The instrument (the telescreen, it was called) could be dimmed, but there was no way of shutting it off completely. He moved over to the window: a smallish, frail figure, the meagreness of his body merely emphasized by the blue overalls which were the uniform of the party. His hair was very fair, his face naturally sanguine, his skin roughened by coarse soap and blunt razor blades and the cold of the winter that had just ended.\\n\\n\\n\\n\\n\\nOutside, even through the shut window-pane, the world looked cold. Down in the street little eddies of wind were whirling dust and torn paper into spirals, and though the sun was shining and the sky a harsh blue, there seemed to be no colour in anything, except the posters that were plastered everywhere. The blackmoustachio'd face gazed down from every commanding corner. There was one on the house-front immediately opposite. BIG BROTHER IS WATCHING YOU, the caption said, while the dark eyes looked deep into Winston's own. Down at streetlevel another poster, torn at one corner, flapped fitfully in the wind, alternately covering and uncovering the single word INGSOC. In the far distance a helicopter skimmed down between the roofs, hovered for an instant like a bluebottle, and darted away again with a curving flight. It was the police patrol, snooping into people's windows. The patrols did not matter, however. Only the Thought Police mattered.\\n\\nBehind Winston's back the voice from the telescreen was still babbling away about pig-iron and the overfulfilment of the Ninth Three-Year Plan. The telescreen received and transmitted simultaneously. Any sound that Winston made, above the level of a very low whisper, would be picked up by it, moreover, so long as he remained within the field of vision which the metal plaque commanded, he could be seen as well as heard. There was of course no way of knowing whether you were being watched at any given moment. How often, or on what system, the Thought Police plugged in on any individual wire was guesswork. It was even conceivable that they watched everybody all the time. But at any rate they could plug in your wire whenever they wanted to. You had to live -- did live, from habit that became instinct -- in the assumption that every sound you made was overheard, and, except in darkness, every movement scrutinized.\\n\\nWinston kept his back turned to the telescreen. It was safer, though, as he well knew, even a back can be revealing. A kilometre away the Ministry of Truth, his place of work, towered vast and white above the grimy landscape. This, he thought with a sort of vague distaste -- this was London, chief city of Airstrip One, itself the third most populous of the provinces of Oceania. He tried to squeeze out some childhood memory that should tell him whether London had always been quite like this. Were there always these vistas of rotting nineteenth-century houses, their sides shored up with baulks of timber, their windows patched with cardboard and their roofs with corrugated iron, their crazy garden walls sagging in all directions? And the bombed sites where the plaster dust swirled in the air and the willow-herb straggled over the heaps of rubble; and the places where the \\n\\n\\n\\nbombs had cleared a larger patch and there had sprung up sordid colonies of wooden dwellings like chicken-houses? But it was no use, he could not remember: nothing remained of his childhood except a series of bright-lit tableaux occurring against no background and mostly unintelligible.\\n\\nThe Ministry of Truth -- Minitrue, in Newspeak -- was startlingly different from any other object in sight. It was an enormous pyramidal structure of glittering white concrete, soaring up, terrace after terrace, 300 metres into the air. From where Winston stood it was just possible to read, picked out on its white face in elegant lettering, the three slogans of the Party:\\n\\nWAR IS PEACE\\n\\nFREEDOM IS SLAVERY\\n\\nIGNORANCE IS STRENGTH\\n\\nThe Ministry of Truth contained, it was said, three thousand rooms above ground level, and corresponding ramifications below. Scattered about London there were just three other buildings of similar appearance and size. So completely did they dwarf the surrounding architecture that from the roof of Victory Mansions you could see all four of them simultaneously. They were the homes of the four Ministries between which the entire apparatus of government was divided. The Ministry of Truth, which concerned itself with news, entertainment, education, and the fine arts. The Ministry of Peace, which concerned itself with war. The Ministry of Love, which maintained law and order. And the Ministry of Plenty, which was responsible for economic affairs. Their names, in Newspeak: Minitrue, Minipax, Miniluv, and Miniplenty.\\n\\nThe Ministry of Love was the really frightening one. There were no windows in it at all. Winston had never been inside the Ministry of Love, nor within half a kilometre of it. It was a place impossible to enter except on official business, and then only by penetrating through a maze of barbed-wire entanglements, steel doors, and hidden machine-gun nests. Even the streets leading up to its outer barriers were roamed by gorilla-faced guards in black uniforms, armed with jointed truncheons.\\n\\n\\n\\n\\n\\nWinston turned round abruptly. He had set his features into the expression of quiet optimism which it was advisable to wear when facing the telescreen. He crossed the room into the tiny kitchen. By leaving the Ministry at this time of day he had sacrificed his lunch in the canteen, and he was aware that there was no food in the kitchen except a hunk of dark-coloured bread which had got to be saved for tomorrow's breakfast. He took down from the shelf a bottle of colourless liquid with a plain white label marked VICTORY GIN. It gave off a sickly, oily smell, as of Chinese ricespirit. Winston poured out nearly a teacupful, nerved himself for a shock, and gulped it down like a dose of medicine.\\n\\nInstantly his face turned scarlet and the water ran out of his eyes. The stuff was like nitric acid, and moreover, in swallowing it one had the sensation of being hit on the back of the head with a rubber club. The next moment, however, the burning in his belly died down and the world began to look more cheerful. He took a cigarette from a crumpled packet marked VICTORY CIGARETTES and incautiously held it upright, whereupon the tobacco fell out on to the floor. With the next he was more successful. He went back to the living-room and sat down at a small table that stood to the left of the telescreen. From the table drawer he took out a penholder, a bottle of ink, and a thick, quarto-sized blank book with a red back and a marbled cover.\\n\\nFor some reason the telescreen in the living-room was in an unusual position. Instead of being placed, as was normal, in the end wall, where it could command the whole room, it was in the longer wall, opposite the window. To one side of it there was a shallow alcove in which Winston was now sitting, and which, when the flats were built, had probably been intended to hold bookshelves. By sitting in the alcove, and keeping well back, Winston was able to remain outside the range of the telescreen, so far as sight went. He could be heard, of course, but so long as he stayed in his present position he could not be seen. It was partly the unusual geography of the room that had suggested to him the thing that he was now about to do.\\n\\nBut it had also been suggested by the book that he had just taken out of the drawer. It was a peculiarly beautiful book. Its smooth creamy paper, a little yellowed by age, was of a kind that had not been manufactured for at least forty years past. He could guess, however, that the book was much older than that. He had seen it lying in the window of a frowsy little junk-shop in a slummy quarter of the town (just what quarter he did not \\n\\n\\n\\nnow remember) and had been stricken immediately by an overwhelming desire to possess it. Party members were supposed not to go into ordinary shops ('dealing on the free market', it was called), but the rule was not strictly kept, because there were various things, such as shoelaces and razor blades, which it was impossible to get hold of in any other way. He had given a quick glance up and down the street and then had slipped inside and bought the book for two dollars fifty. At the time he was not conscious of wanting it for any particular purpose. He had carried it guiltily home in his briefcase. Even with nothing written in it, it was a compromising possession.\\n\\nThe thing that he was about to do was to open a diary. This was not illegal (nothing was illegal, since there were no longer any laws), but if detected it was reasonably certain that it would be punished by death, or at least by twenty-five years in a forced-labour camp. Winston fitted a nib into the penholder and sucked it to get the grease off. The pen was an archaic instrument, seldom used even for signatures, and he had procured one, furtively and with some difficulty, simply because of a feeling that the beautiful creamy paper deserved to be written on with a real nib instead of being scratched with an ink-pencil. Actually he was not used to writing by hand. Apart from very short notes, it was usual to dictate everything into the speakwrite which was of course impossible for his present purpose. He dipped the pen into the ink and then faltered for just a second. A tremor had gone through his bowels. To mark the paper was the decisive act. In small clumsy letters he wrote:\\n\\nApril 4th, 1984.\\n\\nHe sat back. A sense of complete helplessness had descended upon him. To begin with, he did not know with any certainty that this was 1984. It must be round about that date, since he was fairly sure that his age was thirty-nine, and he believed that he had been born in 1944 or 1945; but it was never possible nowadays to pin down any date within a year or two.\\n\\nFor whom, it suddenly occurred to him to wonder, was he writing this diary? For the future, for the unborn. His mind hovered for a moment round the doubtful date on the page, and then fetched up with a bump against the Newspeak word doublethink. For the first time the magnitude of what he had undertaken came home to him. How could you communicate with the future? It was of its nature impossible. Either the future would \\n\\n\\n\\nresemble the present, in which case it would not listen to him: or it would be different from it, and his predicament would be meaningless.\\n\\nFor some time he sat gazing stupidly at the paper. The telescreen had changed over to strident military music. It was curious that he seemed not merely to have lost the power of expressing himself, but even to have forgotten what it was that he had originally intended to say. For weeks past he had been making ready for this moment, and it had never crossed his mind that anything would be needed except courage. The actual writing would be easy. All he had to do was to transfer to paper the interminable restless monologue that had been running inside his head, literally for years. At this moment, however, even the monologue had dried up. Moreover his varicose ulcer had begun itching unbearably. He dared not scratch it, because if he did so it always became inflamed. The seconds were ticking by. He was conscious of nothing except the blankness of the page in front of him, the itching of the skin above his ankle, the blaring of the music, and a slight booziness caused by the gin.\\n\\nSuddenly he began writing in sheer panic, only imperfectly aware of what he was setting down. His small but childish handwriting straggled up and down the page, shedding first its capital letters and finally even its full stops:\\n\\nApril 4th, 1984. Last night to the flicks. All war films. One very good one of a ship full of refugees being bombed somewhere in the Mediterranean. Audience much amused by shots of a great huge fat man trying to swim away with a helicopter after him, first you saw him wallowing along in the water like a porpoise, then you saw him through the helicopters gunsights, then he was full of holes and the sea round him turned pink and he sank as suddenly as though the holes had let in the water, audience shouting with laughter when he sank. then you saw a lifeboat full of children with a helicopter hovering over it. there was a middle-aged woman might have been a jewess sitting up in the bow with a little boy about three years old in her arms. little boy screaming with fright and hiding his head between her breasts as if he was trying to burrow right into her and the woman putting her arms round him and comforting him although she was blue with fright herself, all the time covering him up as much as possible as if she thought her arms could keep the bullets off him. then the helicopter planted a 20 kilo bomb in among them terrific flash and the boat went all to matchwood. then there was a wonderful shot of a child's arm going up up up right up into the air a helicopter with a \\n\\n\\n\\ncamera in its nose must have followed it up and there was a lot of applause from the party seats but a woman down in the prole part of the house suddenly started kicking up a fuss and shouting they didnt oughter of showed it not in front of kids they didnt it aint right not in front of kids it aint until the police turned her turned her out i dont suppose anything happened to her nobody cares what the proles say typical prole reaction they never --\\n\\nWinston stopped writing, partly because he was suffering from cramp. He did not know what had made him pour out this stream of rubbish. But the curious thing was that while he was doing so a totally different memory had clarified itself in his mind, to the point where he almost felt equal to writing it down. It was, he now realized, because of this other incident that he had suddenly decided to come home and begin the diary today.\\n\\nIt had happened that morning at the Ministry, if anything so nebulous could be said to happen.\\n\\nIt was nearly eleven hundred, and in the Records Department, where Winston worked, they were dragging the chairs out of the cubicles and grouping them in the centre of the hall opposite the big telescreen, in preparation for the Two Minutes Hate. Winston was just taking his place in one of the middle rows when two people whom he knew by sight, but had never spoken to, came unexpectedly into the room. One of them was a girl whom he often passed in the corridors. He did not know her name, but he knew that she worked in the Fiction Department. Presumably -- since he had sometimes seen her with oily hands and carrying a spanner she had some mechanical job on one of the novel-writing machines. She was a bold-looking girl, of about twenty-seven, with thick hair, a freckled face, and swift, athletic movements. A narrow scarlet sash, emblem of the Junior Anti-Sex League, was wound several times round the waist of her overalls, just tightly enough to bring out the shapeliness of her hips. Winston had disliked her from the very first moment of seeing her. He knew the reason. It was because of the atmosphere of hockey-fields and cold baths and community hikes and general clean-mindedness which she managed to carry about with her. He disliked nearly all women, and especially the young and pretty ones. It was always the women, and above all the young ones, who were the most bigoted adherents of the Party, the swallowers of slogans, the amateur spies and nosers-out of unorthodoxy. But this particular girl gave him the impression of being more dangerous than most. Once when they passed in the \\n\\n\\n\\ncorridor she gave him a quick sidelong glance which seemed to pierce right into him and for a moment had filled him with black terror. The idea had even crossed his mind that she might be an agent of the Thought Police. That, it was true, was very unlikely. Still, he continued to feel a peculiar uneasiness, which had fear mixed up in it as well as hostility, whenever she was anywhere near him.\\n\\nThe other person was a man named O'Brien, a member of the Inner Party and holder of some post so important and remote that Winston had only a dim idea of its nature. A momentary hush passed over the group of people round the chairs as they saw the black overalls of an Inner Party member approaching. O'Brien was a large, burly man with a thick neck and a coarse, humorous, brutal face. In spite of his formidable appearance he had a certain charm of manner. He had a trick of resettling his spectacles on his nose which was curiously disarming -- in some indefinable way, curiously civilized. It was a gesture which, if anyone had still thought in such terms, might have recalled an eighteenth-century nobleman offering his snuffbox. Winston had seen O'Brien perhaps a dozen times in almost as many years. He felt deeply drawn to him, and not solely because he was intrigued by the contrast between O'Brien's urbane manner and his prize-fighter's physique. Much more it was because of a secretly held belief -- or perhaps not even a belief, merely a hope -- that O'Brien's political orthodoxy was not perfect. Something in his face suggested it irresistibly. And again, perhaps it was not even unorthodoxy that was written in his face, but simply intelligence. But at any rate he had the appearance of being a person that you could talk to if somehow you could cheat the telescreen and get him alone. Winston had never made the smallest effort to verify this guess: indeed, there was no way of doing so. At this moment O'Brien glanced at his wrist-watch, saw that it was nearly eleven hundred, and evidently decided to stay in the Records Department until the Two Minutes Hate was over. He took a chair in the same row as Winston, a couple of places away. A small, sandy-haired woman who worked in the next cubicle to Winston was between them. The girl with dark hair was sitting immediately behind.\\n\\nThe next moment a hideous, grinding speech, as of some monstrous machine running without oil, burst from the big telescreen at the end of the room. It was a noise that set one's teeth on edge and bristled the hair at the back of one's neck. The Hate had started.\\n\\n\\n\\n\\n\\nAs usual, the face of Emmanuel Goldstein, the Enemy of the People, had flashed on to the screen. There were hisses here and there among the audience. The little sandy-haired woman gave a squeak of mingled fear and disgust. Goldstein was the renegade and backslider who once, long ago (how long ago, nobody quite remembered), had been one of the leading figures of the Party, almost on a level with Big Brother himself, and then had engaged in counter-revolutionary activities, had been condemned to death, and had mysteriously escaped and disappeared. The programmes of the Two Minutes Hate varied from day to day, but there was none in which Goldstein was not the principal figure. He was the primal traitor, the earliest defiler of the Party's purity. All subsequent crimes against the Party, all treacheries, acts of sabotage, heresies, deviations, sprang directly out of his teaching. Somewhere or other he was still alive and hatching his conspiracies: perhaps somewhere beyond the sea, under the protection of his foreign paymasters, perhaps even -- so it was occasionally rumoured -- in some hiding-place in Oceania itself.\\n\\nWinston's diaphragm was constricted. He could never see the face of Goldstein without a painful mixture of emotions. It was a lean Jewish face, with a great fuzzy aureole of white hair and a small goatee beard -- a clever face, and yet somehow inherently despicable, with a kind of senile silliness in the long thin nose, near the end of which a pair of spectacles was perched. It resembled the face of a sheep, and the voice, too, had a sheep-like quality. Goldstein was delivering his usual venomous attack upon the doctrines of the Party -- an attack so exaggerated and perverse that a child should have been able to see through it, and yet just plausible enough to fill one with an alarmed feeling that other people, less level-headed than oneself, might be taken in by it. He was abusing Big Brother, he was denouncing the dictatorship of the Party, he was demanding the immediate conclusion of peace with Eurasia, he was advocating freedom of speech, freedom of the Press, freedom of assembly, freedom of thought, he was crying hysterically that the revolution had been betrayed -- and all this in rapid polysyllabic speech which was a sort of parody of the habitual style of the orators of the Party, and even contained Newspeak words: more Newspeak words, indeed, than any Party member would normally use in real life. And all the while, lest one should be in any doubt as to the reality which Goldstein's specious claptrap covered, behind his head on the telescreen there marched the endless columns of the Eurasian army -- row after row of solid-looking men with expressionless Asiatic faces, who swam up to the surface of the screen and vanished, to be replaced by others exactly similar. The dull rhythmic tramp of \\n\\n\\n\\nthe soldiers' boots formed the background to Goldstein's bleating voice.\\n\\nBefore the Hate had proceeded for thirty seconds, uncontrollable exclamations of rage were breaking out from half the people in the room. The self-satisfied sheep-like face on the screen, and the terrifying power of the Eurasian army behind it, were too much to be borne: besides, the sight or even the thought of Goldstein produced fear and anger automatically. He was an object of hatred more constant than either Eurasia or Eastasia, since when Oceania was at war with one of these Powers it was generally at peace with the other. But what was strange was that although Goldstein was hated and despised by everybody, although every day and a thousand times a day, on platforms, on the telescreen, in newspapers, in books, his theories were refuted, smashed, ridiculed, held up to the general gaze for the pitiful rubbish that they were in spite of all this, his influence never seemed to grow less. Always there were fresh dupes waiting to be seduced by him. A day never passed when spies and saboteurs acting under his directions were not unmasked by the Thought Police. He was the commander of a vast shadowy army, an underground network of conspirators dedicated to the overthrow of the State. The Brotherhood, its name was supposed to be. There were also whispered stories of a terrible book, a compendium of all the heresies, of which Goldstein was the author and which circulated clandestinely here and there. It was a book without a title. People referred to it, if at all, simply as the book. But one knew of such things only through vague rumours. Neither the Brotherhood nor the book was a subject that any ordinary Party member would mention if there was a way of avoiding it.\\n\\nIn its second minute the Hate rose to a frenzy. People were leaping up and down in their places and shouting at the tops of their voices in an effort to drown the maddening bleating voice that came from the screen. The little sandy-haired woman had turned bright pink, and her mouth was opening and shutting like that of a landed fish. Even O'Brien's heavy face was flushed. He was sitting very straight in his chair, his powerful chest swelling and quivering as though he were standing up to the assault of a wave. The dark-haired girl behind Winston had begun crying out 'Swine! Swine! Swine!' and suddenly she picked up a heavy Newspeak dictionary and flung it at the screen. It struck Goldstein's nose and bounced off; the voice continued inexorably. In a lucid moment Winston found that he was shouting with the others and kicking his heel violently against the rung of his chair. The horrible thing about the Two Minutes Hate was not that one was obliged to act a part, but, on the contrary, that it was impossible to avoid \\n\\n\\n\\njoining in. Within thirty seconds any pretence was always unnecessary. A hideous ecstasy of fear and vindictiveness, a desire to kill, to torture, to smash faces in with a sledge-hammer, seemed to flow through the whole group of people like an electric current, turning one even against one's will into a grimacing, screaming lunatic. And yet the rage that one felt was an abstract, undirected emotion which could be switched from one object to another like the flame of a blowlamp. Thus, at one moment Winston's hatred was not turned against Goldstein at all, but, on the contrary, against Big Brother, the Party, and the Thought Police; and at such moments his heart went out to the lonely, derided heretic on the screen, sole guardian of truth and sanity in a world of lies. And yet the very next instant he was at one with the people about him, and all that was said of Goldstein seemed to him to be true. At those moments his secret loathing of Big Brother changed into adoration, and Big Brother seemed to tower up, an invincible, fearless protector, standing like a rock against the hordes of Asia, and Goldstein, in spite of his isolation, his helplessness, and the doubt that hung about his very existence, seemed like some sinister enchanter, capable by the mere power of his voice of wrecking the structure of civilization.\\n\\nIt was even possible, at moments, to switch one's hatred this way or that by a voluntary act. Suddenly, by the sort of violent effort with which one wrenches one's head away from the pillow in a nightmare, Winston succeeded in transferring his hatred from the face on the screen to the dark-haired girl behind him. Vivid, beautiful hallucinations flashed through his mind. He would flog her to death with a rubber truncheon. He would tie her naked to a stake and shoot her full of arrows like Saint Sebastian. He would ravish her and cut her throat at the moment of climax. Better than before, moreover, he realized why it was that he hated her. He hated her because she was young and pretty and sexless, because he wanted to go to bed with her and would never do so, because round her sweet supple waist, which seemed to ask you to encircle it with your arm, there was only the odious scarlet sash, aggressive symbol of chastity.\\n\\nThe Hate rose to its climax. The voice of Goldstein had become an actual sheep's bleat, and for an instant the face changed into that of a sheep. Then the sheep-face melted into the figure of a Eurasian soldier who seemed to be advancing, huge and terrible, his sub-machine gun roaring, and seeming to spring out of the surface of the screen, so that some of the people in the front row actually flinched backwards in their seats. But in the same moment, drawing a deep sigh of relief from everybody, the hostile figure \\n\\n\\n\\nmelted into the face of Big Brother, black-haired, black-moustachio'd, full of power and mysterious calm, and so vast that it almost filled up the screen. Nobody heard what Big Brother was saying. It was merely a few words of encouragement, the sort of words that are uttered in the din of battle, not distinguishable individually but restoring confidence by the fact of being spoken. Then the face of Big Brother faded away again, and instead the three slogans of the Party stood out in bold capitals:\\n\\nWAR IS PEACE\\n\\nFREEDOM IS SLAVERY\\n\\nIGNORANCE IS STRENGTH\\n\\nBut the face of Big Brother seemed to persist for several seconds on the screen, as though the impact that it had made on everyone's eyeballs was too vivid to wear off immediately. The little sandyhaired woman had flung herself forward over the back of the chair in front of her. With a tremulous murmur that sounded like 'My Saviour!' she extended her arms towards the screen. Then she buried her face in her hands. It was apparent that she was uttering a prayer.\\n\\nAt this moment the entire group of people broke into a deep, slow, rhythmical chant of 'B-B! ...B-B!' -- over and over again, very slowly, with a long pause between the first 'B' and the second-a heavy, murmurous sound, somehow curiously savage, in the background of which one seemed to hear the stamp of naked feet and the throbbing of tom-toms. For perhaps as much as thirty seconds they kept it up. It was a refrain that was often heard in moments of overwhelming emotion. Partly it was a sort of hymn to the wisdom and majesty of Big Brother, but still more it was an act of self-hypnosis, a deliberate drowning of consciousness by means of rhythmic noise. Winston's entrails seemed to grow cold. In the Two Minutes Hate he could not help sharing in the general delirium, but this sub-human chanting of 'B-B! ...B-B!' always filled him with horror. Of course he chanted with the rest: it was impossible to do otherwise. To dissemble your feelings, to control your face, to do what everyone else was doing, was an instinctive reaction. But there was a space of a couple of seconds during which the expression of his eyes might conceivably have betrayed him. And it was exactly at this moment that the significant thing happened -- if, indeed, it did happen.\\n\\n\\n\\n\\n\\nMomentarily he caught O'Brien's eye. O'Brien had stood up. He had taken off his spectacles and was in the act of resettling them on his nose with his characteristic gesture. But there was a fraction of a second when their eyes met, and for as long as it took to happen Winston knew-yes, he knew!-that O'Brien was thinking the same thing as himself. An unmistakable message had passed. It was as though their two minds had opened and the thoughts were flowing from one into the other through their eyes. 'I am with you,' O'Brien seemed to be saying to him. 'I know precisely what you are feeling. I know all about your contempt, your hatred, your disgust. But don't worry, I am on your side!' And then the flash of intelligence was gone, and O'Brien's face was as inscrutable as everybody else's.\\n\\nThat was all, and he was already uncertain whether it had happened. Such incidents never had any sequel. All that they did was to keep alive in him the belief, or hope, that others besides himself were the enemies of the Party. Perhaps the rumours of vast underground conspiracies were true after all -- perhaps the Brotherhood really existed! It was impossible, in spite of the endless arrests and confessions and executions, to be sure that the Brotherhood was not simply a myth. Some days he believed in it, some days not. There was no evidence, only fleeting glimpses that might mean anything or nothing: snatches of overheard conversation, faint scribbles on lavatory walls -- once, even, when two strangers met, a small movement of the hand which had looked as though it might be a signal of recognition. It was all guesswork: very likely he had imagined everything. He had gone back to his cubicle without looking at O'Brien again. The idea of following up their momentary contact hardly crossed his mind. It would have been inconceivably dangerous even if he had known how to set about doing it. For a second, two seconds, they had exchanged an equivocal glance, and that was the end of the story. But even that was a memorable event, in the locked loneliness in which one had to live.\\n\\nWinston roused himself and sat up straighter. He let out a belch. The gin was rising from his stomach.\\n\\nHis eyes re-focused on the page. He discovered that while he sat helplessly musing he had also been writing, as though by automatic action. And it was no longer the same cramped, awkward handwriting as before. His pen had slid voluptuously over the smooth paper, printing in large neat capitals -\\n\\n\\n\\n\\n\\nDOWN WITH BIG BROTHER\\n\\nDOWN WITH BIG BROTHER\\n\\nDOWN WITH BIG BROTHER\\n\\nDOWN WITH BIG BROTHER\\n\\nDOWN WITH BIG BROTHER\\n\\nover and over again, filling half a page.\\n\\nHe could not help feeling a twinge of panic. It was absurd, since the writing of those particular words was not more dangerous than the initial act of opening the diary, but for a moment he was tempted to tear out the spoiled pages and abandon the enterprise altogether.\\n\\nHe did not do so, however, because he knew that it was useless. Whether he wrote DOWN WITH BIG BROTHER, or whether he refrained from writing it, made no difference. Whether he went on with the diary, or whether he did not go on with it, made no difference. The Thought Police would get him just the same. He had committed -- would still have committed, even if he had never set pen to paper -- the essential crime that contained all others in itself. Thoughtcrime, they called it. Thoughtcrime was not a thing that could be concealed for ever. You might dodge successfully for a while, even for years, but sooner or later they were bound to get you.\\n\\nIt was always at night -- the arrests invariably happened at night. The sudden jerk out of sleep, the rough hand shaking your shoulder, the lights glaring in your eyes, the ring of hard faces round the bed. In the vast majority of cases there was no trial, no report of the arrest. People simply disappeared, always during the night. Your name was removed from the registers, every record of everything you had ever done was wiped out, your one-time existence was denied and then forgotten. You were abolished, annihilated: vaporized was the usual word.\\n\\n\\n\\n\\n\\nFor a moment he was seized by a kind of hysteria. He began writing in a hurried untidy scrawl:\\n\\ntheyll shoot me i don't care theyll shoot me in the back of the neck i dont care down with big brother they always shoot you in the back of the neck i dont care down with big brother --\\n\\nHe sat back in his chair, slightly ashamed of himself, and laid down the pen. The next moment he started violently. There was a knocking at the door.\\n\\nAlready! He sat as still as a mouse, in the futile hope that whoever it was might go away after a single attempt. But no, the knocking was repeated. The worst thing of all would be to delay. His heart was thumping like a drum, but his face, from long habit, was probably expressionless. He got up and moved heavily towards the door.\")]"
      ]
     },
     "execution_count": 15,
     "metadata": {},
     "output_type": "execute_result"
    }
   ],
   "source": [
    "loader = UnstructuredFileLoader(os.path.join(base_path, 'chapter_one.docx'))\n",
    "docs = loader.load()\n",
    "print(len(docs))\n",
    "docs"
   ]
  },
  {
   "cell_type": "markdown",
   "id": "0b57470f-1d8d-4bdb-986c-08571cf64c84",
   "metadata": {},
   "source": [
    "# Splitter"
   ]
  },
  {
   "cell_type": "markdown",
   "id": "3a60d601-ec61-4768-adea-6289051254bf",
   "metadata": {},
   "source": [
    "## data를 split 해야 하는 이유"
   ]
  },
  {
   "cell_type": "code",
   "execution_count": null,
   "id": "dce3b631-ff11-42f7-a7c9-7141f906ac60",
   "metadata": {},
   "outputs": [],
   "source": [
    "# 특정 질문에 답해야 하기 위해서, 필요한 '파일의 일부분' 만들 전달해야 할 수도 있다.\n",
    "\n",
    "#  그래서 문서를 쪼개두어야(split) 한다\n",
    "\n",
    "# 가령: \"Ministry of peace\" 를 찾고자 한다면.\n",
    "# 해당 키워드가 있는 문서(들)만 모델에 넘겨주면 된다.\n",
    "\n",
    "# 작은 조각들로 쪼개어 두면 필요한 것들을 찾기가 용이해진다.\n"
   ]
  },
  {
   "cell_type": "markdown",
   "id": "12060418-6b56-431c-9183-2d9c51f70caa",
   "metadata": {},
   "source": [
    "## RecursiveCharacterTextSplitter"
   ]
  },
  {
   "cell_type": "code",
   "execution_count": 6,
   "id": "04c2e463-ba09-464b-9dba-8f40de74e686",
   "metadata": {},
   "outputs": [],
   "source": [
    "# v0.3\n",
    "from langchain_text_splitters.character import RecursiveCharacterTextSplitter\n",
    "# https://python.langchain.com/api_reference/text_splitters/character/langchain_text_splitters.character.RecursiveCharacterTextSplitter.html\n",
    "\n",
    "# Splitting text by recursively look at characters.\n",
    "# Recursively tries to split by different characters to find one that works.\n",
    "# Create a new TextSplitter."
   ]
  },
  {
   "cell_type": "code",
   "execution_count": 19,
   "id": "bfb4012a-1944-4198-9608-631edff0803b",
   "metadata": {},
   "outputs": [],
   "source": [
    "splitter = RecursiveCharacterTextSplitter()\n",
    "# RecursiveCharacterTextSplitter 는 파일을 split 해주는데\n",
    "# 문장의 끝이나, 문단의 끝부분마다 끊어준다.\n",
    "# 문장 중간을 끊지는 않는다.  최대한 문장 중간에서 split 되지 않도록 하려 한다.\n",
    "# 문장 중간에 짤림으로 의미있는 문장들을 잃고 싶지 않다.\n",
    "\n",
    "# ↓ splitter 사용방법은 두가지 가 있다."
   ]
  },
  {
   "cell_type": "code",
   "execution_count": 20,
   "id": "b7d09bab-3528-4ea8-8b18-50bf71745cb4",
   "metadata": {},
   "outputs": [],
   "source": [
    "docs = loader.load()"
   ]
  },
  {
   "cell_type": "code",
   "execution_count": 21,
   "id": "c63e3e6c-b260-4ad2-a085-aae79a2e1cc8",
   "metadata": {},
   "outputs": [
    {
     "name": "stdout",
     "output_type": "stream",
     "text": [
      "11\n"
     ]
    },
    {
     "data": {
      "text/plain": [
       "[Document(metadata={'source': 'D:\\\\Lang2505\\\\dataset\\\\files\\\\chapter_one.docx'}, page_content=\"Part 1, Chapter 1\\n\\nPart One\\n\\n\\n1\\nIt was a bright cold day in April, and the clocks were striking thirteen. Winston Smith, his chin nuzzled into his breast in an effort to escape the vile wind, slipped quickly through the glass doors of Victory Mansions, though not quickly enough to prevent a swirl of gritty dust from entering along with him.\\n\\nThe hallway smelt of boiled cabbage and old rag mats. At one end of it a coloured poster, too large for indoor display, had been tacked to the wall. It depicted simply an enormous face, more than a metre wide: the face of a man of about forty-five, with a heavy black moustache and ruggedly handsome features. Winston made for the stairs. It was no use trying the lift. Even at the best of times it was seldom working, and at present the electric current was cut off during daylight hours. It was part of the economy drive in preparation for Hate Week. The flat was seven flights up, and Winston, who was thirty-nine and had a varicose ulcer above his right ankle, went slowly, resting several times on the way. On each landing, opposite the lift-shaft, the poster with the enormous face gazed from the wall. It was one of those pictures which are so contrived that the eyes follow you about when you move. BIG BROTHER IS WATCHING YOU, the caption beneath it ran.\\n\\nInside the flat a fruity voice was reading out a list of figures which had something to do with the production of pig-iron. The voice came from an oblong metal plaque like a dulled mirror which formed part of the surface of the right-hand wall. Winston turned a switch and the voice sank somewhat, though the words were still distinguishable. The instrument (the telescreen, it was called) could be dimmed, but there was no way of shutting it off completely. He moved over to the window: a smallish, frail figure, the meagreness of his body merely emphasized by the blue overalls which were the uniform of the party. His hair was very fair, his face naturally sanguine, his skin roughened by coarse soap and blunt razor blades and the cold of the winter that had just ended.\\n\\n\\n\\n\\n\\nOutside, even through the shut window-pane, the world looked cold. Down in the street little eddies of wind were whirling dust and torn paper into spirals, and though the sun was shining and the sky a harsh blue, there seemed to be no colour in anything, except the posters that were plastered everywhere. The blackmoustachio'd face gazed down from every commanding corner. There was one on the house-front immediately opposite. BIG BROTHER IS WATCHING YOU, the caption said, while the dark eyes looked deep into Winston's own. Down at streetlevel another poster, torn at one corner, flapped fitfully in the wind, alternately covering and uncovering the single word INGSOC. In the far distance a helicopter skimmed down between the roofs, hovered for an instant like a bluebottle, and darted away again with a curving flight. It was the police patrol, snooping into people's windows. The patrols did not matter, however. Only the Thought Police mattered.\\n\\nBehind Winston's back the voice from the telescreen was still babbling away about pig-iron and the overfulfilment of the Ninth Three-Year Plan. The telescreen received and transmitted simultaneously. Any sound that Winston made, above the level of a very low whisper, would be picked up by it, moreover, so long as he remained within the field of vision which the metal plaque commanded, he could be seen as well as heard. There was of course no way of knowing whether you were being watched at any given moment. How often, or on what system, the Thought Police plugged in on any individual wire was guesswork. It was even conceivable that they watched everybody all the time. But at any rate they could plug in your wire whenever they wanted to. You had to live -- did live, from habit that became instinct -- in the assumption that every sound you made was overheard, and, except in darkness, every movement scrutinized.\"),\n",
       " Document(metadata={'source': 'D:\\\\Lang2505\\\\dataset\\\\files\\\\chapter_one.docx'}, page_content=\"Winston kept his back turned to the telescreen. It was safer, though, as he well knew, even a back can be revealing. A kilometre away the Ministry of Truth, his place of work, towered vast and white above the grimy landscape. This, he thought with a sort of vague distaste -- this was London, chief city of Airstrip One, itself the third most populous of the provinces of Oceania. He tried to squeeze out some childhood memory that should tell him whether London had always been quite like this. Were there always these vistas of rotting nineteenth-century houses, their sides shored up with baulks of timber, their windows patched with cardboard and their roofs with corrugated iron, their crazy garden walls sagging in all directions? And the bombed sites where the plaster dust swirled in the air and the willow-herb straggled over the heaps of rubble; and the places where the \\n\\n\\n\\nbombs had cleared a larger patch and there had sprung up sordid colonies of wooden dwellings like chicken-houses? But it was no use, he could not remember: nothing remained of his childhood except a series of bright-lit tableaux occurring against no background and mostly unintelligible.\\n\\nThe Ministry of Truth -- Minitrue, in Newspeak -- was startlingly different from any other object in sight. It was an enormous pyramidal structure of glittering white concrete, soaring up, terrace after terrace, 300 metres into the air. From where Winston stood it was just possible to read, picked out on its white face in elegant lettering, the three slogans of the Party:\\n\\nWAR IS PEACE\\n\\nFREEDOM IS SLAVERY\\n\\nIGNORANCE IS STRENGTH\\n\\nThe Ministry of Truth contained, it was said, three thousand rooms above ground level, and corresponding ramifications below. Scattered about London there were just three other buildings of similar appearance and size. So completely did they dwarf the surrounding architecture that from the roof of Victory Mansions you could see all four of them simultaneously. They were the homes of the four Ministries between which the entire apparatus of government was divided. The Ministry of Truth, which concerned itself with news, entertainment, education, and the fine arts. The Ministry of Peace, which concerned itself with war. The Ministry of Love, which maintained law and order. And the Ministry of Plenty, which was responsible for economic affairs. Their names, in Newspeak: Minitrue, Minipax, Miniluv, and Miniplenty.\\n\\nThe Ministry of Love was the really frightening one. There were no windows in it at all. Winston had never been inside the Ministry of Love, nor within half a kilometre of it. It was a place impossible to enter except on official business, and then only by penetrating through a maze of barbed-wire entanglements, steel doors, and hidden machine-gun nests. Even the streets leading up to its outer barriers were roamed by gorilla-faced guards in black uniforms, armed with jointed truncheons.\\n\\n\\n\\n\\n\\nWinston turned round abruptly. He had set his features into the expression of quiet optimism which it was advisable to wear when facing the telescreen. He crossed the room into the tiny kitchen. By leaving the Ministry at this time of day he had sacrificed his lunch in the canteen, and he was aware that there was no food in the kitchen except a hunk of dark-coloured bread which had got to be saved for tomorrow's breakfast. He took down from the shelf a bottle of colourless liquid with a plain white label marked VICTORY GIN. It gave off a sickly, oily smell, as of Chinese ricespirit. Winston poured out nearly a teacupful, nerved himself for a shock, and gulped it down like a dose of medicine.\"),\n",
       " Document(metadata={'source': 'D:\\\\Lang2505\\\\dataset\\\\files\\\\chapter_one.docx'}, page_content=\"Instantly his face turned scarlet and the water ran out of his eyes. The stuff was like nitric acid, and moreover, in swallowing it one had the sensation of being hit on the back of the head with a rubber club. The next moment, however, the burning in his belly died down and the world began to look more cheerful. He took a cigarette from a crumpled packet marked VICTORY CIGARETTES and incautiously held it upright, whereupon the tobacco fell out on to the floor. With the next he was more successful. He went back to the living-room and sat down at a small table that stood to the left of the telescreen. From the table drawer he took out a penholder, a bottle of ink, and a thick, quarto-sized blank book with a red back and a marbled cover.\\n\\nFor some reason the telescreen in the living-room was in an unusual position. Instead of being placed, as was normal, in the end wall, where it could command the whole room, it was in the longer wall, opposite the window. To one side of it there was a shallow alcove in which Winston was now sitting, and which, when the flats were built, had probably been intended to hold bookshelves. By sitting in the alcove, and keeping well back, Winston was able to remain outside the range of the telescreen, so far as sight went. He could be heard, of course, but so long as he stayed in his present position he could not be seen. It was partly the unusual geography of the room that had suggested to him the thing that he was now about to do.\\n\\nBut it had also been suggested by the book that he had just taken out of the drawer. It was a peculiarly beautiful book. Its smooth creamy paper, a little yellowed by age, was of a kind that had not been manufactured for at least forty years past. He could guess, however, that the book was much older than that. He had seen it lying in the window of a frowsy little junk-shop in a slummy quarter of the town (just what quarter he did not \\n\\n\\n\\nnow remember) and had been stricken immediately by an overwhelming desire to possess it. Party members were supposed not to go into ordinary shops ('dealing on the free market', it was called), but the rule was not strictly kept, because there were various things, such as shoelaces and razor blades, which it was impossible to get hold of in any other way. He had given a quick glance up and down the street and then had slipped inside and bought the book for two dollars fifty. At the time he was not conscious of wanting it for any particular purpose. He had carried it guiltily home in his briefcase. Even with nothing written in it, it was a compromising possession.\\n\\nThe thing that he was about to do was to open a diary. This was not illegal (nothing was illegal, since there were no longer any laws), but if detected it was reasonably certain that it would be punished by death, or at least by twenty-five years in a forced-labour camp. Winston fitted a nib into the penholder and sucked it to get the grease off. The pen was an archaic instrument, seldom used even for signatures, and he had procured one, furtively and with some difficulty, simply because of a feeling that the beautiful creamy paper deserved to be written on with a real nib instead of being scratched with an ink-pencil. Actually he was not used to writing by hand. Apart from very short notes, it was usual to dictate everything into the speakwrite which was of course impossible for his present purpose. He dipped the pen into the ink and then faltered for just a second. A tremor had gone through his bowels. To mark the paper was the decisive act. In small clumsy letters he wrote:\\n\\nApril 4th, 1984.\\n\\nHe sat back. A sense of complete helplessness had descended upon him. To begin with, he did not know with any certainty that this was 1984. It must be round about that date, since he was fairly sure that his age was thirty-nine, and he believed that he had been born in 1944 or 1945; but it was never possible nowadays to pin down any date within a year or two.\"),\n",
       " Document(metadata={'source': 'D:\\\\Lang2505\\\\dataset\\\\files\\\\chapter_one.docx'}, page_content=\"For whom, it suddenly occurred to him to wonder, was he writing this diary? For the future, for the unborn. His mind hovered for a moment round the doubtful date on the page, and then fetched up with a bump against the Newspeak word doublethink. For the first time the magnitude of what he had undertaken came home to him. How could you communicate with the future? It was of its nature impossible. Either the future would \\n\\n\\n\\nresemble the present, in which case it would not listen to him: or it would be different from it, and his predicament would be meaningless.\\n\\nFor some time he sat gazing stupidly at the paper. The telescreen had changed over to strident military music. It was curious that he seemed not merely to have lost the power of expressing himself, but even to have forgotten what it was that he had originally intended to say. For weeks past he had been making ready for this moment, and it had never crossed his mind that anything would be needed except courage. The actual writing would be easy. All he had to do was to transfer to paper the interminable restless monologue that had been running inside his head, literally for years. At this moment, however, even the monologue had dried up. Moreover his varicose ulcer had begun itching unbearably. He dared not scratch it, because if he did so it always became inflamed. The seconds were ticking by. He was conscious of nothing except the blankness of the page in front of him, the itching of the skin above his ankle, the blaring of the music, and a slight booziness caused by the gin.\\n\\nSuddenly he began writing in sheer panic, only imperfectly aware of what he was setting down. His small but childish handwriting straggled up and down the page, shedding first its capital letters and finally even its full stops:\\n\\nApril 4th, 1984. Last night to the flicks. All war films. One very good one of a ship full of refugees being bombed somewhere in the Mediterranean. Audience much amused by shots of a great huge fat man trying to swim away with a helicopter after him, first you saw him wallowing along in the water like a porpoise, then you saw him through the helicopters gunsights, then he was full of holes and the sea round him turned pink and he sank as suddenly as though the holes had let in the water, audience shouting with laughter when he sank. then you saw a lifeboat full of children with a helicopter hovering over it. there was a middle-aged woman might have been a jewess sitting up in the bow with a little boy about three years old in her arms. little boy screaming with fright and hiding his head between her breasts as if he was trying to burrow right into her and the woman putting her arms round him and comforting him although she was blue with fright herself, all the time covering him up as much as possible as if she thought her arms could keep the bullets off him. then the helicopter planted a 20 kilo bomb in among them terrific flash and the boat went all to matchwood. then there was a wonderful shot of a child's arm going up up up right up into the air a helicopter with a \\n\\n\\n\\ncamera in its nose must have followed it up and there was a lot of applause from the party seats but a woman down in the prole part of the house suddenly started kicking up a fuss and shouting they didnt oughter of showed it not in front of kids they didnt it aint right not in front of kids it aint until the police turned her turned her out i dont suppose anything happened to her nobody cares what the proles say typical prole reaction they never --\\n\\nWinston stopped writing, partly because he was suffering from cramp. He did not know what had made him pour out this stream of rubbish. But the curious thing was that while he was doing so a totally different memory had clarified itself in his mind, to the point where he almost felt equal to writing it down. It was, he now realized, because of this other incident that he had suddenly decided to come home and begin the diary today.\"),\n",
       " Document(metadata={'source': 'D:\\\\Lang2505\\\\dataset\\\\files\\\\chapter_one.docx'}, page_content='It had happened that morning at the Ministry, if anything so nebulous could be said to happen.\\n\\nIt was nearly eleven hundred, and in the Records Department, where Winston worked, they were dragging the chairs out of the cubicles and grouping them in the centre of the hall opposite the big telescreen, in preparation for the Two Minutes Hate. Winston was just taking his place in one of the middle rows when two people whom he knew by sight, but had never spoken to, came unexpectedly into the room. One of them was a girl whom he often passed in the corridors. He did not know her name, but he knew that she worked in the Fiction Department. Presumably -- since he had sometimes seen her with oily hands and carrying a spanner she had some mechanical job on one of the novel-writing machines. She was a bold-looking girl, of about twenty-seven, with thick hair, a freckled face, and swift, athletic movements. A narrow scarlet sash, emblem of the Junior Anti-Sex League, was wound several times round the waist of her overalls, just tightly enough to bring out the shapeliness of her hips. Winston had disliked her from the very first moment of seeing her. He knew the reason. It was because of the atmosphere of hockey-fields and cold baths and community hikes and general clean-mindedness which she managed to carry about with her. He disliked nearly all women, and especially the young and pretty ones. It was always the women, and above all the young ones, who were the most bigoted adherents of the Party, the swallowers of slogans, the amateur spies and nosers-out of unorthodoxy. But this particular girl gave him the impression of being more dangerous than most. Once when they passed in the \\n\\n\\n\\ncorridor she gave him a quick sidelong glance which seemed to pierce right into him and for a moment had filled him with black terror. The idea had even crossed his mind that she might be an agent of the Thought Police. That, it was true, was very unlikely. Still, he continued to feel a peculiar uneasiness, which had fear mixed up in it as well as hostility, whenever she was anywhere near him.'),\n",
       " Document(metadata={'source': 'D:\\\\Lang2505\\\\dataset\\\\files\\\\chapter_one.docx'}, page_content=\"The other person was a man named O'Brien, a member of the Inner Party and holder of some post so important and remote that Winston had only a dim idea of its nature. A momentary hush passed over the group of people round the chairs as they saw the black overalls of an Inner Party member approaching. O'Brien was a large, burly man with a thick neck and a coarse, humorous, brutal face. In spite of his formidable appearance he had a certain charm of manner. He had a trick of resettling his spectacles on his nose which was curiously disarming -- in some indefinable way, curiously civilized. It was a gesture which, if anyone had still thought in such terms, might have recalled an eighteenth-century nobleman offering his snuffbox. Winston had seen O'Brien perhaps a dozen times in almost as many years. He felt deeply drawn to him, and not solely because he was intrigued by the contrast between O'Brien's urbane manner and his prize-fighter's physique. Much more it was because of a secretly held belief -- or perhaps not even a belief, merely a hope -- that O'Brien's political orthodoxy was not perfect. Something in his face suggested it irresistibly. And again, perhaps it was not even unorthodoxy that was written in his face, but simply intelligence. But at any rate he had the appearance of being a person that you could talk to if somehow you could cheat the telescreen and get him alone. Winston had never made the smallest effort to verify this guess: indeed, there was no way of doing so. At this moment O'Brien glanced at his wrist-watch, saw that it was nearly eleven hundred, and evidently decided to stay in the Records Department until the Two Minutes Hate was over. He took a chair in the same row as Winston, a couple of places away. A small, sandy-haired woman who worked in the next cubicle to Winston was between them. The girl with dark hair was sitting immediately behind.\\n\\nThe next moment a hideous, grinding speech, as of some monstrous machine running without oil, burst from the big telescreen at the end of the room. It was a noise that set one's teeth on edge and bristled the hair at the back of one's neck. The Hate had started.\\n\\n\\n\\n\\n\\nAs usual, the face of Emmanuel Goldstein, the Enemy of the People, had flashed on to the screen. There were hisses here and there among the audience. The little sandy-haired woman gave a squeak of mingled fear and disgust. Goldstein was the renegade and backslider who once, long ago (how long ago, nobody quite remembered), had been one of the leading figures of the Party, almost on a level with Big Brother himself, and then had engaged in counter-revolutionary activities, had been condemned to death, and had mysteriously escaped and disappeared. The programmes of the Two Minutes Hate varied from day to day, but there was none in which Goldstein was not the principal figure. He was the primal traitor, the earliest defiler of the Party's purity. All subsequent crimes against the Party, all treacheries, acts of sabotage, heresies, deviations, sprang directly out of his teaching. Somewhere or other he was still alive and hatching his conspiracies: perhaps somewhere beyond the sea, under the protection of his foreign paymasters, perhaps even -- so it was occasionally rumoured -- in some hiding-place in Oceania itself.\"),\n",
       " Document(metadata={'source': 'D:\\\\Lang2505\\\\dataset\\\\files\\\\chapter_one.docx'}, page_content=\"Winston's diaphragm was constricted. He could never see the face of Goldstein without a painful mixture of emotions. It was a lean Jewish face, with a great fuzzy aureole of white hair and a small goatee beard -- a clever face, and yet somehow inherently despicable, with a kind of senile silliness in the long thin nose, near the end of which a pair of spectacles was perched. It resembled the face of a sheep, and the voice, too, had a sheep-like quality. Goldstein was delivering his usual venomous attack upon the doctrines of the Party -- an attack so exaggerated and perverse that a child should have been able to see through it, and yet just plausible enough to fill one with an alarmed feeling that other people, less level-headed than oneself, might be taken in by it. He was abusing Big Brother, he was denouncing the dictatorship of the Party, he was demanding the immediate conclusion of peace with Eurasia, he was advocating freedom of speech, freedom of the Press, freedom of assembly, freedom of thought, he was crying hysterically that the revolution had been betrayed -- and all this in rapid polysyllabic speech which was a sort of parody of the habitual style of the orators of the Party, and even contained Newspeak words: more Newspeak words, indeed, than any Party member would normally use in real life. And all the while, lest one should be in any doubt as to the reality which Goldstein's specious claptrap covered, behind his head on the telescreen there marched the endless columns of the Eurasian army -- row after row of solid-looking men with expressionless Asiatic faces, who swam up to the surface of the screen and vanished, to be replaced by others exactly similar. The dull rhythmic tramp of \\n\\n\\n\\nthe soldiers' boots formed the background to Goldstein's bleating voice.\\n\\nBefore the Hate had proceeded for thirty seconds, uncontrollable exclamations of rage were breaking out from half the people in the room. The self-satisfied sheep-like face on the screen, and the terrifying power of the Eurasian army behind it, were too much to be borne: besides, the sight or even the thought of Goldstein produced fear and anger automatically. He was an object of hatred more constant than either Eurasia or Eastasia, since when Oceania was at war with one of these Powers it was generally at peace with the other. But what was strange was that although Goldstein was hated and despised by everybody, although every day and a thousand times a day, on platforms, on the telescreen, in newspapers, in books, his theories were refuted, smashed, ridiculed, held up to the general gaze for the pitiful rubbish that they were in spite of all this, his influence never seemed to grow less. Always there were fresh dupes waiting to be seduced by him. A day never passed when spies and saboteurs acting under his directions were not unmasked by the Thought Police. He was the commander of a vast shadowy army, an underground network of conspirators dedicated to the overthrow of the State. The Brotherhood, its name was supposed to be. There were also whispered stories of a terrible book, a compendium of all the heresies, of which Goldstein was the author and which circulated clandestinely here and there. It was a book without a title. People referred to it, if at all, simply as the book. But one knew of such things only through vague rumours. Neither the Brotherhood nor the book was a subject that any ordinary Party member would mention if there was a way of avoiding it.\"),\n",
       " Document(metadata={'source': 'D:\\\\Lang2505\\\\dataset\\\\files\\\\chapter_one.docx'}, page_content=\"In its second minute the Hate rose to a frenzy. People were leaping up and down in their places and shouting at the tops of their voices in an effort to drown the maddening bleating voice that came from the screen. The little sandy-haired woman had turned bright pink, and her mouth was opening and shutting like that of a landed fish. Even O'Brien's heavy face was flushed. He was sitting very straight in his chair, his powerful chest swelling and quivering as though he were standing up to the assault of a wave. The dark-haired girl behind Winston had begun crying out 'Swine! Swine! Swine!' and suddenly she picked up a heavy Newspeak dictionary and flung it at the screen. It struck Goldstein's nose and bounced off; the voice continued inexorably. In a lucid moment Winston found that he was shouting with the others and kicking his heel violently against the rung of his chair. The horrible thing about the Two Minutes Hate was not that one was obliged to act a part, but, on the contrary, that it was impossible to avoid \\n\\n\\n\\njoining in. Within thirty seconds any pretence was always unnecessary. A hideous ecstasy of fear and vindictiveness, a desire to kill, to torture, to smash faces in with a sledge-hammer, seemed to flow through the whole group of people like an electric current, turning one even against one's will into a grimacing, screaming lunatic. And yet the rage that one felt was an abstract, undirected emotion which could be switched from one object to another like the flame of a blowlamp. Thus, at one moment Winston's hatred was not turned against Goldstein at all, but, on the contrary, against Big Brother, the Party, and the Thought Police; and at such moments his heart went out to the lonely, derided heretic on the screen, sole guardian of truth and sanity in a world of lies. And yet the very next instant he was at one with the people about him, and all that was said of Goldstein seemed to him to be true. At those moments his secret loathing of Big Brother changed into adoration, and Big Brother seemed to tower up, an invincible, fearless protector, standing like a rock against the hordes of Asia, and Goldstein, in spite of his isolation, his helplessness, and the doubt that hung about his very existence, seemed like some sinister enchanter, capable by the mere power of his voice of wrecking the structure of civilization.\\n\\nIt was even possible, at moments, to switch one's hatred this way or that by a voluntary act. Suddenly, by the sort of violent effort with which one wrenches one's head away from the pillow in a nightmare, Winston succeeded in transferring his hatred from the face on the screen to the dark-haired girl behind him. Vivid, beautiful hallucinations flashed through his mind. He would flog her to death with a rubber truncheon. He would tie her naked to a stake and shoot her full of arrows like Saint Sebastian. He would ravish her and cut her throat at the moment of climax. Better than before, moreover, he realized why it was that he hated her. He hated her because she was young and pretty and sexless, because he wanted to go to bed with her and would never do so, because round her sweet supple waist, which seemed to ask you to encircle it with your arm, there was only the odious scarlet sash, aggressive symbol of chastity.\\n\\nThe Hate rose to its climax. The voice of Goldstein had become an actual sheep's bleat, and for an instant the face changed into that of a sheep. Then the sheep-face melted into the figure of a Eurasian soldier who seemed to be advancing, huge and terrible, his sub-machine gun roaring, and seeming to spring out of the surface of the screen, so that some of the people in the front row actually flinched backwards in their seats. But in the same moment, drawing a deep sigh of relief from everybody, the hostile figure\"),\n",
       " Document(metadata={'source': 'D:\\\\Lang2505\\\\dataset\\\\files\\\\chapter_one.docx'}, page_content=\"melted into the face of Big Brother, black-haired, black-moustachio'd, full of power and mysterious calm, and so vast that it almost filled up the screen. Nobody heard what Big Brother was saying. It was merely a few words of encouragement, the sort of words that are uttered in the din of battle, not distinguishable individually but restoring confidence by the fact of being spoken. Then the face of Big Brother faded away again, and instead the three slogans of the Party stood out in bold capitals:\\n\\nWAR IS PEACE\\n\\nFREEDOM IS SLAVERY\\n\\nIGNORANCE IS STRENGTH\\n\\nBut the face of Big Brother seemed to persist for several seconds on the screen, as though the impact that it had made on everyone's eyeballs was too vivid to wear off immediately. The little sandyhaired woman had flung herself forward over the back of the chair in front of her. With a tremulous murmur that sounded like 'My Saviour!' she extended her arms towards the screen. Then she buried her face in her hands. It was apparent that she was uttering a prayer.\\n\\nAt this moment the entire group of people broke into a deep, slow, rhythmical chant of 'B-B! ...B-B!' -- over and over again, very slowly, with a long pause between the first 'B' and the second-a heavy, murmurous sound, somehow curiously savage, in the background of which one seemed to hear the stamp of naked feet and the throbbing of tom-toms. For perhaps as much as thirty seconds they kept it up. It was a refrain that was often heard in moments of overwhelming emotion. Partly it was a sort of hymn to the wisdom and majesty of Big Brother, but still more it was an act of self-hypnosis, a deliberate drowning of consciousness by means of rhythmic noise. Winston's entrails seemed to grow cold. In the Two Minutes Hate he could not help sharing in the general delirium, but this sub-human chanting of 'B-B! ...B-B!' always filled him with horror. Of course he chanted with the rest: it was impossible to do otherwise. To dissemble your feelings, to control your face, to do what everyone else was doing, was an instinctive reaction. But there was a space of a couple of seconds during which the expression of his eyes might conceivably have betrayed him. And it was exactly at this moment that the significant thing happened -- if, indeed, it did happen.\\n\\n\\n\\n\\n\\nMomentarily he caught O'Brien's eye. O'Brien had stood up. He had taken off his spectacles and was in the act of resettling them on his nose with his characteristic gesture. But there was a fraction of a second when their eyes met, and for as long as it took to happen Winston knew-yes, he knew!-that O'Brien was thinking the same thing as himself. An unmistakable message had passed. It was as though their two minds had opened and the thoughts were flowing from one into the other through their eyes. 'I am with you,' O'Brien seemed to be saying to him. 'I know precisely what you are feeling. I know all about your contempt, your hatred, your disgust. But don't worry, I am on your side!' And then the flash of intelligence was gone, and O'Brien's face was as inscrutable as everybody else's.\"),\n",
       " Document(metadata={'source': 'D:\\\\Lang2505\\\\dataset\\\\files\\\\chapter_one.docx'}, page_content=\"That was all, and he was already uncertain whether it had happened. Such incidents never had any sequel. All that they did was to keep alive in him the belief, or hope, that others besides himself were the enemies of the Party. Perhaps the rumours of vast underground conspiracies were true after all -- perhaps the Brotherhood really existed! It was impossible, in spite of the endless arrests and confessions and executions, to be sure that the Brotherhood was not simply a myth. Some days he believed in it, some days not. There was no evidence, only fleeting glimpses that might mean anything or nothing: snatches of overheard conversation, faint scribbles on lavatory walls -- once, even, when two strangers met, a small movement of the hand which had looked as though it might be a signal of recognition. It was all guesswork: very likely he had imagined everything. He had gone back to his cubicle without looking at O'Brien again. The idea of following up their momentary contact hardly crossed his mind. It would have been inconceivably dangerous even if he had known how to set about doing it. For a second, two seconds, they had exchanged an equivocal glance, and that was the end of the story. But even that was a memorable event, in the locked loneliness in which one had to live.\\n\\nWinston roused himself and sat up straighter. He let out a belch. The gin was rising from his stomach.\\n\\nHis eyes re-focused on the page. He discovered that while he sat helplessly musing he had also been writing, as though by automatic action. And it was no longer the same cramped, awkward handwriting as before. His pen had slid voluptuously over the smooth paper, printing in large neat capitals -\\n\\n\\n\\n\\n\\nDOWN WITH BIG BROTHER\\n\\nDOWN WITH BIG BROTHER\\n\\nDOWN WITH BIG BROTHER\\n\\nDOWN WITH BIG BROTHER\\n\\nDOWN WITH BIG BROTHER\\n\\nover and over again, filling half a page.\\n\\nHe could not help feeling a twinge of panic. It was absurd, since the writing of those particular words was not more dangerous than the initial act of opening the diary, but for a moment he was tempted to tear out the spoiled pages and abandon the enterprise altogether.\\n\\nHe did not do so, however, because he knew that it was useless. Whether he wrote DOWN WITH BIG BROTHER, or whether he refrained from writing it, made no difference. Whether he went on with the diary, or whether he did not go on with it, made no difference. The Thought Police would get him just the same. He had committed -- would still have committed, even if he had never set pen to paper -- the essential crime that contained all others in itself. Thoughtcrime, they called it. Thoughtcrime was not a thing that could be concealed for ever. You might dodge successfully for a while, even for years, but sooner or later they were bound to get you.\\n\\nIt was always at night -- the arrests invariably happened at night. The sudden jerk out of sleep, the rough hand shaking your shoulder, the lights glaring in your eyes, the ring of hard faces round the bed. In the vast majority of cases there was no trial, no report of the arrest. People simply disappeared, always during the night. Your name was removed from the registers, every record of everything you had ever done was wiped out, your one-time existence was denied and then forgotten. You were abolished, annihilated: vaporized was the usual word.\\n\\n\\n\\n\\n\\nFor a moment he was seized by a kind of hysteria. He began writing in a hurried untidy scrawl:\\n\\ntheyll shoot me i don't care theyll shoot me in the back of the neck i dont care down with big brother they always shoot you in the back of the neck i dont care down with big brother --\\n\\nHe sat back in his chair, slightly ashamed of himself, and laid down the pen. The next moment he started violently. There was a knocking at the door.\"),\n",
       " Document(metadata={'source': 'D:\\\\Lang2505\\\\dataset\\\\files\\\\chapter_one.docx'}, page_content='He sat back in his chair, slightly ashamed of himself, and laid down the pen. The next moment he started violently. There was a knocking at the door.\\n\\nAlready! He sat as still as a mouse, in the futile hope that whoever it was might go away after a single attempt. But no, the knocking was repeated. The worst thing of all would be to delay. His heart was thumping like a drum, but his face, from long habit, was probably expressionless. He got up and moved heavily towards the door.')]"
      ]
     },
     "execution_count": 21,
     "metadata": {},
     "output_type": "execute_result"
    }
   ],
   "source": [
    "# 방법1\n",
    "documents = splitter.split_documents(docs)  # -> List[Document]\n",
    "\n",
    "print(len(documents))\n",
    "documents"
   ]
  },
  {
   "cell_type": "code",
   "execution_count": 23,
   "id": "87431488-a340-469f-a0d1-af929abc2f63",
   "metadata": {},
   "outputs": [
    {
     "name": "stdout",
     "output_type": "stream",
     "text": [
      "Part 1, Chapter 1\n",
      "\n",
      "Part One\n",
      "\n",
      "\n",
      "1\n",
      "It was a bright cold day in April, and the clocks were striking thirteen. Winston Smith, his chin nuzzled into his breast in an effort to escape the vile wind, slipped quickly through the glass doors of Victory Mansions, though not quickly enough to prevent a swirl of gritty dust from entering along with him.\n",
      "\n",
      "The hallway smelt of boiled cabbage and old rag mats. At one end of it a coloured poster, too large for indoor display, had been tacked to the wall. It depicted simply an enormous face, more than a metre wide: the face of a man of about forty-five, with a heavy black moustache and ruggedly handsome features. Winston made for the stairs. It was no use trying the lift. Even at the best of times it was seldom working, and at present the electric current was cut off during daylight hours. It was part of the economy drive in preparation for Hate Week. The flat was seven flights up, and Winston, who was thirty-nine and had a varicose ulcer above his right ankle, went slowly, resting several times on the way. On each landing, opposite the lift-shaft, the poster with the enormous face gazed from the wall. It was one of those pictures which are so contrived that the eyes follow you about when you move. BIG BROTHER IS WATCHING YOU, the caption beneath it ran.\n",
      "\n",
      "Inside the flat a fruity voice was reading out a list of figures which had something to do with the production of pig-iron. The voice came from an oblong metal plaque like a dulled mirror which formed part of the surface of the right-hand wall. Winston turned a switch and the voice sank somewhat, though the words were still distinguishable. The instrument (the telescreen, it was called) could be dimmed, but there was no way of shutting it off completely. He moved over to the window: a smallish, frail figure, the meagreness of his body merely emphasized by the blue overalls which were the uniform of the party. His hair was very fair, his face naturally sanguine, his skin roughened by coarse soap and blunt razor blades and the cold of the winter that had just ended.\n",
      "\n",
      "\n",
      "\n",
      "\n",
      "\n",
      "Outside, even through the shut window-pane, the world looked cold. Down in the street little eddies of wind were whirling dust and torn paper into spirals, and though the sun was shining and the sky a harsh blue, there seemed to be no colour in anything, except the posters that were plastered everywhere. The blackmoustachio'd face gazed down from every commanding corner. There was one on the house-front immediately opposite. BIG BROTHER IS WATCHING YOU, the caption said, while the dark eyes looked deep into Winston's own. Down at streetlevel another poster, torn at one corner, flapped fitfully in the wind, alternately covering and uncovering the single word INGSOC. In the far distance a helicopter skimmed down between the roofs, hovered for an instant like a bluebottle, and darted away again with a curving flight. It was the police patrol, snooping into people's windows. The patrols did not matter, however. Only the Thought Police mattered.\n",
      "\n",
      "Behind Winston's back the voice from the telescreen was still babbling away about pig-iron and the overfulfilment of the Ninth Three-Year Plan. The telescreen received and transmitted simultaneously. Any sound that Winston made, above the level of a very low whisper, would be picked up by it, moreover, so long as he remained within the field of vision which the metal plaque commanded, he could be seen as well as heard. There was of course no way of knowing whether you were being watched at any given moment. How often, or on what system, the Thought Police plugged in on any individual wire was guesswork. It was even conceivable that they watched everybody all the time. But at any rate they could plug in your wire whenever they wanted to. You had to live -- did live, from habit that became instinct -- in the assumption that every sound you made was overheard, and, except in darkness, every movement scrutinized.\n"
     ]
    }
   ],
   "source": [
    "print(documents[0].page_content)"
   ]
  },
  {
   "cell_type": "code",
   "execution_count": null,
   "id": "7e9d963b-7beb-4683-8114-f2d46e159f09",
   "metadata": {},
   "outputs": [],
   "source": [
    "# splitter 를 사용하면 문장, 문단의 구조를 유지하면서 문서 분할."
   ]
  },
  {
   "cell_type": "markdown",
   "id": "bda92953-84b2-4c28-8e47-51e4f068c651",
   "metadata": {},
   "source": [
    "### chunk_size="
   ]
  },
  {
   "cell_type": "code",
   "execution_count": null,
   "id": "997c274c-efaf-4f3e-bf0b-0b6d97145dfc",
   "metadata": {},
   "outputs": [],
   "source": [
    "# 좀 더 작은 Document 를 만들 필요가 있다.\n",
    "# 모델의 Context Window 가 크지 않은 경우라든지..\n",
    "# chunk_size= 값으로 조정해보자"
   ]
  },
  {
   "cell_type": "code",
   "execution_count": 24,
   "id": "2e019e3b-d608-4dec-a570-44a82ab08a85",
   "metadata": {},
   "outputs": [
    {
     "name": "stdout",
     "output_type": "stream",
     "text": [
      "3498\n"
     ]
    },
    {
     "data": {
      "text/plain": [
       "[Document(metadata={'source': 'D:\\\\Lang2505\\\\dataset\\\\files\\\\chapter_one.docx'}, page_content='Part 1, Chapter 1\\n\\nPart One'),\n",
       " Document(metadata={'source': 'D:\\\\Lang2505\\\\dataset\\\\files\\\\chapter_one.docx'}, page_content='1'),\n",
       " Document(metadata={'source': 'D:\\\\Lang2505\\\\dataset\\\\files\\\\chapter_one.docx'}, page_content='It was a bright cold day in April, and the clocks were striking thirteen. Winston Smith, his chin nuzzled into his breast in an effort to escape the vile wind, slipped quickly through the glass doors'),\n",
       " Document(metadata={'source': 'D:\\\\Lang2505\\\\dataset\\\\files\\\\chapter_one.docx'}, page_content='was a bright cold day in April, and the clocks were striking thirteen. Winston Smith, his chin nuzzled into his breast in an effort to escape the vile wind, slipped quickly through the glass doors of'),\n",
       " Document(metadata={'source': 'D:\\\\Lang2505\\\\dataset\\\\files\\\\chapter_one.docx'}, page_content='cold day in April, and the clocks were striking thirteen. Winston Smith, his chin nuzzled into his breast in an effort to escape the vile wind, slipped quickly through the glass doors of Victory')]"
      ]
     },
     "execution_count": 24,
     "metadata": {},
     "output_type": "execute_result"
    }
   ],
   "source": [
    "splitter = RecursiveCharacterTextSplitter(\n",
    "    chunk_size=200,  \n",
    ")\n",
    "# 방법2\n",
    "documents = loader.load_and_split(text_splitter=splitter)\n",
    "print(len(documents))\n",
    "\n",
    "documents[:5]"
   ]
  },
  {
   "cell_type": "code",
   "execution_count": null,
   "id": "07d2695d-9ebe-436c-81ee-234d60b1ccd2",
   "metadata": {},
   "outputs": [],
   "source": [
    "\"\"\"\n",
    "↑ 보다시피 Document 한 덩어리가 작아진 걸 확인할수 있다.\n",
    "\n",
    "그러나 자세히 보라!  문제가 발생했다! => 문단의 중간을 잘라버렸다.\n",
    "아런식으로 잘라먹으면 그닥 쓸만하지 않다. <- 문장을 파괴해버린셈이다. (의미상 말이 안되는 문장들이 나온다)\n",
    "\n",
    "작은 덩어리이면서도 중간을 잘라먹지 않는 방법은 없을까?\n",
    "=> chunk_overlap=\n",
    "    이 속성은 문장이나 문단을 분할할 때 앞 조각 일부분을 가져오게 만든다.\n",
    "    앞 조각의 끝부분을 조금 가져와서 다음 조각에 연결시키는 거다.\n",
    "    이 경우 Document 사이ㅐ에는 곂치는 부분이 생길수 있다. (중복된 부분)\n",
    "    어떤 Document 의 끝부분이 다른 Document 의 시작점이 되는 거다.\n",
    "\"\"\"\n",
    "None"
   ]
  },
  {
   "cell_type": "markdown",
   "id": "ae319fd9-440f-4b46-acd3-1853067d5877",
   "metadata": {},
   "source": [
    "### chunk_overlap="
   ]
  },
  {
   "cell_type": "code",
   "execution_count": 25,
   "id": "4c95f3a7-493c-4c41-80fe-13d560a06254",
   "metadata": {},
   "outputs": [
    {
     "name": "stdout",
     "output_type": "stream",
     "text": [
      "250\n",
      "🔷 move. BIG BROTHER IS WATCHING YOU, the caption beneath it ran.\n",
      "🔷 Inside the flat a fruity voice was reading out a list of figures which had something to do with the production of pig-iron. The voice came from an oblong metal plaque like a dulled mirror which\n",
      "🔷 an oblong metal plaque like a dulled mirror which formed part of the surface of the right-hand wall. Winston turned a switch and the voice sank somewhat, though the words were still distinguishable.\n",
      "🔷 though the words were still distinguishable. The instrument (the telescreen, it was called) could be dimmed, but there was no way of shutting it off completely. He moved over to the window: a\n",
      "🔷 it off completely. He moved over to the window: a smallish, frail figure, the meagreness of his body merely emphasized by the blue overalls which were the uniform of the party. His hair was very\n"
     ]
    }
   ],
   "source": [
    "splitter = RecursiveCharacterTextSplitter(\n",
    "    chunk_size=200,  \n",
    "    chunk_overlap=50,\n",
    ")\n",
    "\n",
    "documents = loader.load_and_split(text_splitter=splitter)\n",
    "print(len(documents))\n",
    "\n",
    "# 대력 겹치는 부분 확인\n",
    "for document in documents[10:15]:\n",
    "    print('🔷', document.page_content)"
   ]
  },
  {
   "cell_type": "markdown",
   "id": "5e1a0e41-eb06-4241-a152-58dfff5dc199",
   "metadata": {},
   "source": [
    "## CharacterTextSplitter"
   ]
  },
  {
   "cell_type": "code",
   "execution_count": 8,
   "id": "52353a3c-c2dc-4eba-a380-5342ac1a6f8f",
   "metadata": {},
   "outputs": [],
   "source": [
    "# v0.3\n",
    "from langchain_text_splitters.character import CharacterTextSplitter\n",
    "# https://python.langchain.com/api_reference/text_splitters/character/langchain_text_splitters.character.CharacterTextSplitter.html\n",
    "\n",
    "# Splitting text that looks at characters.\n",
    "# Create a new TextSplitter."
   ]
  },
  {
   "cell_type": "code",
   "execution_count": 27,
   "id": "b60228eb-eeb2-4ce6-a58e-3ceb6b45c493",
   "metadata": {},
   "outputs": [
    {
     "name": "stderr",
     "output_type": "stream",
     "text": [
      "Created a chunk of size 963, which is longer than the specified 600\n",
      "Created a chunk of size 774, which is longer than the specified 600\n",
      "Created a chunk of size 954, which is longer than the specified 600\n",
      "Created a chunk of size 922, which is longer than the specified 600\n",
      "Created a chunk of size 881, which is longer than the specified 600\n",
      "Created a chunk of size 821, which is longer than the specified 600\n",
      "Created a chunk of size 700, which is longer than the specified 600\n",
      "Created a chunk of size 745, which is longer than the specified 600\n",
      "Created a chunk of size 735, which is longer than the specified 600\n",
      "Created a chunk of size 671, which is longer than the specified 600\n",
      "Created a chunk of size 991, which is longer than the specified 600\n",
      "Created a chunk of size 990, which is longer than the specified 600\n",
      "Created a chunk of size 1289, which is longer than the specified 600\n",
      "Created a chunk of size 1605, which is longer than the specified 600\n",
      "Created a chunk of size 1900, which is longer than the specified 600\n",
      "Created a chunk of size 1130, which is longer than the specified 600\n",
      "Created a chunk of size 1727, which is longer than the specified 600\n",
      "Created a chunk of size 1690, which is longer than the specified 600\n",
      "Created a chunk of size 1030, which is longer than the specified 600\n",
      "Created a chunk of size 1334, which is longer than the specified 600\n",
      "Created a chunk of size 930, which is longer than the specified 600\n",
      "Created a chunk of size 1260, which is longer than the specified 600\n",
      "Created a chunk of size 795, which is longer than the specified 600\n",
      "Created a chunk of size 1293, which is longer than the specified 600\n",
      "Created a chunk of size 649, which is longer than the specified 600\n"
     ]
    },
    {
     "name": "stdout",
     "output_type": "stream",
     "text": [
      "46\n",
      "🔷 Winston turned round abruptly. He had set his features into the expression of quiet optimism which it was advisable to wear when facing the telescreen. He crossed the room into the tiny kitchen. By leaving the Ministry at this time of day he had sacrificed his lunch in the canteen, and he was aware that there was no food in the kitchen except a hunk of dark-coloured bread which had got to be saved for tomorrow's breakfast. He took down from the shelf a bottle of colourless liquid with a plain white label marked VICTORY GIN. It gave off a sickly, oily smell, as of Chinese ricespirit. Winston poured out nearly a teacupful, nerved himself for a shock, and gulped it down like a dose of medicine.\n",
      "🔷 Instantly his face turned scarlet and the water ran out of his eyes. The stuff was like nitric acid, and moreover, in swallowing it one had the sensation of being hit on the back of the head with a rubber club. The next moment, however, the burning in his belly died down and the world began to look more cheerful. He took a cigarette from a crumpled packet marked VICTORY CIGARETTES and incautiously held it upright, whereupon the tobacco fell out on to the floor. With the next he was more successful. He went back to the living-room and sat down at a small table that stood to the left of the telescreen. From the table drawer he took out a penholder, a bottle of ink, and a thick, quarto-sized blank book with a red back and a marbled cover.\n",
      "🔷 For some reason the telescreen in the living-room was in an unusual position. Instead of being placed, as was normal, in the end wall, where it could command the whole room, it was in the longer wall, opposite the window. To one side of it there was a shallow alcove in which Winston was now sitting, and which, when the flats were built, had probably been intended to hold bookshelves. By sitting in the alcove, and keeping well back, Winston was able to remain outside the range of the telescreen, so far as sight went. He could be heard, of course, but so long as he stayed in his present position he could not be seen. It was partly the unusual geography of the room that had suggested to him the thing that he was now about to do.\n",
      "🔷 But it had also been suggested by the book that he had just taken out of the drawer. It was a peculiarly beautiful book. Its smooth creamy paper, a little yellowed by age, was of a kind that had not been manufactured for at least forty years past. He could guess, however, that the book was much older than that. He had seen it lying in the window of a frowsy little junk-shop in a slummy quarter of the town (just what quarter he did not\n",
      "🔷 now remember) and had been stricken immediately by an overwhelming desire to possess it. Party members were supposed not to go into ordinary shops ('dealing on the free market', it was called), but the rule was not strictly kept, because there were various things, such as shoelaces and razor blades, which it was impossible to get hold of in any other way. He had given a quick glance up and down the street and then had slipped inside and bought the book for two dollars fifty. At the time he was not conscious of wanting it for any particular purpose. He had carried it guiltily home in his briefcase. Even with nothing written in it, it was a compromising possession.\n"
     ]
    }
   ],
   "source": [
    "splitter = CharacterTextSplitter(\n",
    "    separator='\\n',  # 줄바꿈 단락별로 쪼개기\n",
    "    chunk_size=600,   # 최개 글자개수 600 이하로 쪼갬.\n",
    "    chunk_overlap=100,\n",
    ")\n",
    "\n",
    "documents = loader.load_and_split(text_splitter=splitter)\n",
    "print(len(documents))\n",
    "\n",
    "# 대력 겹치는 부분 확인\n",
    "for document in documents[10:15]:\n",
    "    print('🔷', document.page_content)"
   ]
  },
  {
   "cell_type": "markdown",
   "id": "417a7c09-35a1-4708-a191-4f3423b40c9f",
   "metadata": {},
   "source": [
    "# TikToken="
   ]
  },
  {
   "cell_type": "markdown",
   "id": "43b03bb1-ff41-4b0a-808a-e542ab274561",
   "metadata": {},
   "source": [
    "### length_function="
   ]
  },
  {
   "cell_type": "code",
   "execution_count": 28,
   "id": "f04663f0-8acf-4559-a2bc-47a19fa96a3d",
   "metadata": {},
   "outputs": [],
   "source": [
    "\"\"\"\n",
    "기본적으로 모든 splitter 들은 텍스트의 length 를 계산해서\n",
    "한 덩어리(chunk) 의 크기를 알아낸다.\n",
    "그 작업에는 파이썬 표준 라이브러리가 지원하는 표준 len() 함수를 사용한다. (디폴트)\n",
    "\n",
    "Splitter 에는 length 를 계산하는 함수를 제공해줄수도 있다\n",
    "  바로 length_function= 속성이다\n",
    "\"\"\"\n",
    "None"
   ]
  },
  {
   "cell_type": "code",
   "execution_count": null,
   "id": "b36e2671-baf7-4750-9ebb-226474aeeaef",
   "metadata": {},
   "outputs": [],
   "source": [
    "splitter = CharacterTextSplitter(\n",
    "    separator='\\n',  \n",
    "    chunk_size=600,   \n",
    "    chunk_overlap=100,\n",
    "    length_function=len,\n",
    ")\n"
   ]
  },
  {
   "cell_type": "code",
   "execution_count": null,
   "id": "5cbc0494-2257-43e6-bff1-4717cc5bce67",
   "metadata": {},
   "outputs": [],
   "source": [
    "# 디폴트로 len() 함수가 동작함. CharacterTextSplitter 에선 '글자의 개수'를 chunk 카운트 함.\n",
    "# 그러나 LLM 에서 말하는 token 은 문자(letter) 와는 다르다.\n",
    "# 어떤 경우에는 문자 두개, 혹은 세개...  가 한개의 token 으로 카운트 된다."
   ]
  },
  {
   "cell_type": "markdown",
   "id": "096a36db-a765-4207-95bd-3e84a3d11bcd",
   "metadata": {},
   "source": [
    "### 참고] OpenAI Tokenizer 예시"
   ]
  },
  {
   "cell_type": "code",
   "execution_count": null,
   "id": "133361a3-959d-466e-a763-fe0976f38962",
   "metadata": {},
   "outputs": [],
   "source": [
    "\"\"\"\n",
    "OpenAI 에서의 token 예시\n",
    "https://platform.openai.com/tokenizer\n",
    "↓ model 의 관점에서, 몇개의 token 을 사용하는지 확인해 볼수 있다.\n",
    "\"\"\"\n",
    "None"
   ]
  },
  {
   "cell_type": "code",
   "execution_count": 29,
   "id": "a4cd45a8-c344-4056-b761-5b23681716cb",
   "metadata": {},
   "outputs": [],
   "source": [
    "# OpanAI 모델의 tokenizer 를 우리의 splitter 에 사용할수 있다!!!"
   ]
  },
  {
   "cell_type": "markdown",
   "id": "f70c8e68-0726-4771-b72a-0a7d3f47c59d",
   "metadata": {},
   "source": [
    "## from_tiktoken_encoder()"
   ]
  },
  {
   "cell_type": "code",
   "execution_count": 30,
   "id": "31ba0e59-886a-4912-a5be-b0705cc4f847",
   "metadata": {},
   "outputs": [],
   "source": [
    "# tiktoken 은 OpenAI 에 의해 만들어진거다.\n",
    "# https://github.com/openai/tiktoken   <- 아까 위의 Tokenizer 페이지 하단에 보면 이 링크가 있다.\n",
    "\n",
    "# 아래의 from_tiktoken_encoder() 을 사용하면 tiktoken 패키지가 동작하는 것이다.\n",
    "\n",
    "splitter = CharacterTextSplitter.from_tiktoken_encoder(\n",
    "    separator='\\n',  \n",
    "    chunk_size=600,   \n",
    "    chunk_overlap=100,    \n",
    ")\n",
    "\n",
    "# 이제 '모델'이 텍스트를 세는 방법과 'splitter'가 텍스르를 세는 방법이 일치 하게 되었다.\n",
    "# model 에는 입력 limit 이 있기 때문에, 원하는 텍스트들을 모두 한번에 입력할 수는 없다.\n",
    "# 그래서 우리 텍스트를 길이 계산할때 model 과 같은 방법으로 계산하는게 더 좋다.\n",
    "\n",
    "\n"
   ]
  },
  {
   "cell_type": "markdown",
   "id": "c1568efe-19fe-4d6b-bfd8-0b90a219dfd3",
   "metadata": {},
   "source": [
    "# Vectors"
   ]
  },
  {
   "cell_type": "markdown",
   "id": "e2a7254e-3123-484c-b9e4-955b2d02cbf0",
   "metadata": {},
   "source": [
    "https://python.langchain.com/v0.1/docs/modules/data_connection/\n",
    "\n",
    "![](https://python.langchain.com/v0.1/assets/images/data_connection-95ff2033a8faa5f3ba41376c0f6dd32a.jpg)\n"
   ]
  },
  {
   "cell_type": "markdown",
   "id": "3192e158-3a68-4dfb-9980-462d3289c5b6",
   "metadata": {},
   "source": [
    "## Embedding 과 Vector "
   ]
  },
  {
   "cell_type": "code",
   "execution_count": 9,
   "id": "3cc35638-4e41-43d4-b1ac-9d519de61fc9",
   "metadata": {},
   "outputs": [],
   "source": [
    "# Embedding 은 사람이 읽는 텍스트를 컴퓨터가 이해(연산)할 수 있는 숫자들(벡터)로 변환하는 작업이다.\n",
    "# 우리가 만든 Document 마다 각각의 벡터를 만들어 주게 될겁니다.\n",
    "# OpenAI 는 크기가 최소 1000차원 이상!의 벡터를 제공해준다."
   ]
  },
  {
   "cell_type": "code",
   "execution_count": null,
   "id": "1ab6348c-107c-475d-b70a-762aa1271cb5",
   "metadata": {},
   "outputs": [],
   "source": [
    "\"\"\"\n",
    "3개의 차원을 정의해보자\n",
    "\n",
    "첫번째 차원을 Masculinity (남성성)\n",
    "두번째 차원을 Femininity (여성성)\n",
    "세번째 차원을 Royalty (왕족스러움)\n",
    "\n",
    "이제 특정 단어에 대한 차원 값(점수)를 줘보자\n",
    "\n",
    "        Masculinity | Femininity  | Royalty\n",
    "king   | 0.9        | 0.1         | 1.0\n",
    "queen  | 0.1        | 0.9         | 1.0\n",
    "man    | 0.9        | 0.1         | 0.0\n",
    "woman  | 0.1        | 0.9         | 0.0\n",
    "\n",
    "이렇게 3차원 벡터에 점수를 매겨 보았다.\n",
    "\n",
    "단어를 이렇게 벡터로 점수를 매기면 '연산'을 할수 있게 된다.\n",
    "\n",
    "king - man <- ?\n",
    "\n",
    "\n",
    "king - man = 0.0    |  0.0       | 1.0 ==> 이러면 'royal' 이 되겠네요 ㅋ\n",
    "royal + woman = 0.1  | 0.9 | 1.0 ==> 이러면 'queen' 이 되겠네요.\n",
    "\n",
    "단어를 숫자화(벡터화) 하니까 의미에 대한 연산이 가능해진다.\n",
    "\"\"\"\n",
    "None"
   ]
  },
  {
   "cell_type": "markdown",
   "id": "cd9adc73-8e15-48d3-be3d-f301b2aba3ea",
   "metadata": {},
   "source": [
    "![](https://miro.medium.com/v2/resize:fit:2000/1*SYiW1MUZul1NvL1kc1RxwQ.png)"
   ]
  },
  {
   "cell_type": "markdown",
   "id": "3af7ddb5-146d-4a5f-937f-efef3231d28a",
   "metadata": {},
   "source": [
    "## word2vec 예시\n",
    "\n",
    "https://turbomaze.github.io/word2vecjson/"
   ]
  },
  {
   "cell_type": "markdown",
   "id": "343589bf-2cdd-459d-a6ca-7a24c4da02dc",
   "metadata": {},
   "source": [
    "# Vector Store"
   ]
  },
  {
   "cell_type": "markdown",
   "id": "c6bd0691-88e5-466d-9704-09d3cb4b6c95",
   "metadata": {},
   "source": [
    "## OpenAIEmbeddings"
   ]
  },
  {
   "cell_type": "code",
   "execution_count": 10,
   "id": "dea03ecf-8593-4f60-a110-f85baf316562",
   "metadata": {},
   "outputs": [],
   "source": [
    "from langchain_openai.embeddings.base import OpenAIEmbeddings\n",
    "# https://python.langchain.com/api_reference/openai/embeddings/langchain_openai.embeddings.base.OpenAIEmbeddings.html#langchain_openai.embeddings.base.OpenAIEmbeddings\n",
    "# OpenAI embedding models."
   ]
  },
  {
   "cell_type": "code",
   "execution_count": 11,
   "id": "444a19d4-d775-4a36-a664-4f7be05fba57",
   "metadata": {},
   "outputs": [],
   "source": [
    "embedder = OpenAIEmbeddings()"
   ]
  },
  {
   "cell_type": "code",
   "execution_count": 12,
   "id": "6dc977a7-e748-4a80-b4e5-10900d108b2f",
   "metadata": {},
   "outputs": [
    {
     "name": "stdout",
     "output_type": "stream",
     "text": [
      "1536\n",
      "[-0.03629858046770096, -0.007224537897855043, -0.03371885418891907, -0.02866363152861595, -0.02686564065515995, 0.03460482135415077, -0.012318846769630909, -0.007752209436148405, 0.0019380523590371013, -0.0027018729597330093, 0.024781012907624245, -0.002477124100551009, -0.00573272630572319, -0.002905449829995632, 0.006677323020994663, -0.00303248199634254, 0.033849142491817474, -0.001503212028183043, 0.02109382674098015, -0.008996471762657166, -0.02171921543776989, 0.01038405206054449, 0.006244111340492964, 0.007081219926476479, -0.012312332168221474, 0.0008998099947348237, 0.005876044277101755, -0.009888952597975731, -0.0030731973238289356, -0.024572549387812614, 0.010742347687482834, -0.01381065882742405, -0.024429231882095337, -0.01411032397300005, 0.0024347801227122545, -0.018878910690546036, 0.0005618723225779831, -0.011270018294453621, 0.018110202625393867, -0.009967125952243805, 0.01302892342209816, -0.011328648775815964, -0.009133275598287582, -0.009654432535171509, -0.026539916172623634, 0.0070421332493424416, -0.009732605889439583, 0.004781614989042282, -0.016729136928915977, 0.024989474564790726, 0.0035243236925452948, 0.017862653359770775, -0.017328467220067978, -0.004377718083560467, -0.012859547510743141, -0.017927799373865128, -0.004201827570796013, 0.007823868654668331, 0.0025618120562285185, -0.03489145636558533, -0.006788068916648626, 0.015921344980597496, 0.002894049510359764, 0.005784842185676098, -0.003807702800258994, 0.006384172476828098, 0.018917996436357498, 0.005201797466725111, 0.016937600448727608, 0.012859547510743141, 0.027491027489304543, 0.026618091389536858, 0.011426365934312344, -0.009706547483801842, 0.018084146082401276, -0.020989594981074333, -0.0069704740308225155, 0.003719757543876767, -0.013602196238934994, -0.007315740454941988, 0.018409868702292442, -0.015856198966503143, -0.009882437996566296, 0.014996291138231754, 0.020012427121400833, 0.0060714781284332275, -0.012390506453812122, 0.021654071286320686, -0.013419791124761105, -0.0294193085283041, 0.018527129665017128, 0.024416202679276466, -0.0031774286180734634, 0.027126219123601913, -0.019035257399082184, -0.0010561570525169373, -0.022943934425711632, 0.023842928931117058, 0.00759586226195097, 0.0019201375544071198, 0.014175469055771828, 0.019400067627429962, -0.008468800224363804, -0.002338691847398877, -0.01855318620800972, -0.014800856821238995, -0.01972579024732113, -0.0072961971163749695, 0.01933492161333561, 0.0014991405187174678, -0.00719847995787859, 0.023751728236675262, -0.010520855896174908, -0.03731483593583107, -0.007634948939085007, -0.013419791124761105, -0.0017735621659085155, -0.0048174443654716015, -0.012462165206670761, -0.01874862052500248, 0.01895708404481411, 0.011015954427421093, 0.01678125374019146, -0.00166607357095927, 0.014813886024057865, 0.006257140543311834, -0.011895406991243362, -0.020585699006915092, -0.0002626142231747508, 0.006990017369389534, 0.03439635783433914, -0.0035210666246712208, -0.006455831695348024, -0.009107217192649841, -0.024950388818979263, 0.02544548735022545, -0.010325421579182148, 0.02627933770418167, -0.02728256583213806, -0.027178334072232246, -0.0040389662608504295, 0.028090359643101692, 0.0026546430308371782, -0.00936128105968237, -0.021484695374965668, 0.0004694483941420913, -0.009967125952243805, -0.016742166131734848, 0.011354707181453705, -0.0077326660975813866, -0.00020316978043410927, 0.015074464492499828, 0.010468740016222, 0.003553638933226466, 0.006113822106271982, 0.010892179794609547, -0.004260458052158356, 0.004791386425495148, -0.007556775584816933, -0.020064542070031166, -0.007778267376124859, 0.002190487692132592, 0.009113731794059277, -0.01352402288466692, -0.01035799365490675, 0.01196055207401514, 0.014240613207221031, 0.013484935276210308, -2.206264980486594e-05, 0.003869590349495411, 0.025419428944587708, 0.009348252788186073, -0.03390125930309296, 0.005250656045973301, -0.005586151033639908, 0.00681412685662508, 0.013693398796021938, 0.007387399673461914, -0.029758060351014137, -0.04122351482510567, -0.027934011071920395, 0.014761770144104958, 0.026526888832449913, 0.03322375565767288, -0.005459119100123644, 0.012214615941047668, 0.01601254753768444, 0.0014486534055322409, 0.02584938332438469, -0.014957204461097717, 0.014006092213094234, 0.022761529311537743, 0.023595379665493965, -0.01551744807511568, -0.7046041488647461, -0.009309166111052036, 0.02089839242398739, -0.0035634106025099754, 0.012937720865011215, 0.04070235788822174, 0.026943814009428024, 0.013771572150290012, -0.015921344980597496, 0.02965383045375347, 0.010175589472055435, 0.009439455345273018, 0.013497964479029179, -0.0005341858486644924, 0.0067164101637899876, 0.005758784245699644, 0.001008927240036428, -0.0011970322811976075, -0.011986609548330307, -0.0038630757480859756, -0.010051814839243889, 0.012800917029380798, -0.02212311141192913, 0.005921645555645227, 0.009726091288030148, -0.002381035825237632, 0.011914950795471668, -0.01186283491551876, -0.013836716301739216, 0.004358174744993448, -0.018461983650922775, 0.010957324877381325, 0.0033582050818949938, -0.013550080358982086, 0.06139228865504265, -0.007315740454941988, 0.006211539264768362, 0.015439273789525032, 0.00528322858735919, 0.03658521547913551, 0.0009413397056050599, -0.011524083092808723, 3.127450690953992e-05, -0.01037102285772562, 0.015322013758122921, 0.016937600448727608, -0.008631661534309387, 0.003843532409518957, 0.005312543362379074, 0.00387936201877892, 0.006608921568840742, 0.0058174142614007, -0.012305818498134613, 0.02629236690700054, 0.004384232684969902, 1.820741090341471e-05, 0.021484695374965668, -0.012377477250993252, 0.0022816902492195368, 0.01583014242351055, 0.00037763520958833396, -0.006507947109639645, -0.013289501890540123, -0.0012304189149290323, -0.02549760229885578, 0.0044917212799191475, -0.0171851497143507, -0.010032271035015583, -0.005218083970248699, 0.0035666676703840494, -0.013589167036116123, 0.013693398796021938, -0.01472268346697092, -0.00719847995787859, 0.018996169790625572, 0.0331716388463974, 0.013875802978873253, -0.02545851655304432, -0.016898512840270996, 0.0005940374685451388, 0.00023655638506170362, -0.006390687078237534, -0.004869560245424509, -0.01799294352531433, 0.03491751477122307, -0.030644027516245842, -0.02803824283182621, 0.0028403052128851414, -0.0009950840612873435, 0.008358054794371128, 0.00849485769867897, 0.046721719205379486, 0.006237597204744816, -0.009120246395468712, 0.0070095607079565525, 0.00030719759524799883, -0.030070755630731583, 0.01992122456431389, -0.004999849479645491, -0.024781012907624245, -0.0014616823755204678, -0.008051875047385693, -0.0030210816767066717, -0.0028126188553869724, 0.021784359589219093, 0.009322194382548332, -0.026162078604102135, 0.03848743811249733, 0.029106615111231804, -0.02149772271513939, -0.006185481324791908, 0.0015984860947355628, -0.011432880535721779, 0.012820460833609104, 0.007667521480470896, -0.034240011125802994, -0.016677021980285645, 0.0171851497143507, 0.02050752565264702, -0.02824670635163784, -0.0003774316282942891, -0.00035198451951146126, 0.02109382674098015, -0.015908315777778625, 0.006537262350320816, 0.023334801197052002, -0.005788099020719528, 0.0072961971163749695, -0.020025454461574554, 0.005472147837281227, 0.019634587690234184, -0.009302651509642601, 0.009960612282156944, -0.009335223585367203, 0.015686823055148125, -0.011888892389833927, 0.010032271035015583, -0.017302410677075386, -0.005670838989317417, -0.0018729077419266105, -0.0010081129148602486, 0.0195173267275095, -0.008436228148639202, -0.019647616893053055, -0.004814187064766884, -0.02075507491827011, -0.017067888751626015, -0.005810899659991264, -0.013061495497822762, 0.0014234099071472883, 0.0015691709704697132, 0.009257050231099129, -0.0039998795837163925, 0.019803963601589203, 0.0355689600110054, 9.008278721012175e-05, 0.004156226757913828, -0.016129806637763977, -0.028142474591732025, -0.010514341294765472, -0.00997364055365324, 0.03137364611029625, -0.013120125979185104, -0.005045450758188963, -0.00809096172451973, -0.024051392450928688, 0.0035145520232617855, 0.008130048401653767, -0.004100853577256203, -0.03650704398751259, 0.021237144246697426, -0.016051633283495903, -0.022136140614748, 0.014006092213094234, 0.015673795714974403, -0.00048247730592265725, -0.013967005535960197, 0.01095081027597189, 0.003977078944444656, -0.03040950745344162, 0.02785583771765232, -0.001258105388842523, -0.008240793831646442, 0.018904967233538628, 0.021784359589219093, 0.0035634106025099754, 0.020338149741292, 0.027491027489304543, -0.008664233610033989, 0.011471967212855816, 0.0072180237621068954, 0.007843411527574062, -0.029549598693847656, 0.0004771843086928129, 0.012677142396569252, 0.017667220905423164, 0.01695062965154648, -0.004175770096480846, 0.008599089458584785, 0.02467678114771843, 0.02569303661584854, 0.007185451220721006, 0.030904605984687805, -0.021614983677864075, -0.013367675244808197, -0.009843351319432259, -0.0031155413016676903, -0.005032421555370092, 0.02212311141192913, 0.013061495497822762, 0.0008163434686139226, -0.013497964479029179, -0.008683777414262295, 0.006420001853257418, 0.019634587690234184, 0.020299062132835388, 0.002216545632109046, 0.006553548388183117, -0.016650963574647903, -0.008318967185914516, 0.00340706342831254, -0.01422758400440216, 0.002604156034067273, -0.00819519255310297, 0.0044526346027851105, 0.029523540288209915, 0.00837759766727686, 0.02565395087003708, 0.0035796966403722763, -0.007954157888889313, -0.001089543686248362, 0.011901921592652798, -0.002395693212747574, 0.004068281501531601, -0.008963899686932564, -0.007517688907682896, 0.006087764631956816, -0.024325000122189522, 0.029888350516557693, -0.020442381501197815, -0.004296287428587675, 0.020429352298378944, 0.02902844175696373, -0.025002503767609596, 0.012501251883804798, 0.01954338513314724, 0.006742467638105154, 0.0017589046619832516, 0.025158850476145744, 0.022396719083189964, 0.0069379014894366264, 0.006801098119467497, -0.009165847674012184, 0.004514521919190884, 0.005332086700946093, -0.016468558460474014, -0.018032029271125793, 0.014084266498684883, 0.006996531970798969, 0.023986248299479485, -0.014462104998528957, 0.018514100462198257, 0.010677202604711056, -0.012064782902598381, 0.007472087629139423, 0.0005427360883913934, -0.002643242944031954, -0.01774539425969124, 0.00691184401512146, -0.0025471544358879328, 0.008546973578631878, -0.0006319027743302286, 0.026995928958058357, -0.013758542947471142, 0.024807069450616837, 0.015621678903698921, 0.0038630757480859756, 0.007954157888889313, -0.01775842346251011, -0.00940036866813898, -0.02368658222258091, -0.03296317532658577, 0.010123473592102528, 0.011491510085761547, -0.009270079433918, -0.00775872403755784, -0.043516602367162704, -5.4507723689312115e-05, -0.00030780831002630293, 0.021588925272226334, -0.006068221293389797, 0.004905389621853828, 0.014540278352797031, -0.013771572150290012, -0.013745513744652271, 0.011498024687170982, 0.037992339581251144, -0.003856561379507184, -0.011439395137131214, -6.98268850101158e-05, 0.007419971749186516, 0.01224718801677227, 0.00721150916069746, -0.015100521966814995, -0.005885816179215908, 0.012077812105417252, -0.016299182549118996, -0.019139489158988, -0.006807612255215645, -0.002827276475727558, -0.003371233819052577, 0.01027330569922924, -0.0029363937210291624, 0.006788068916648626, 0.0038923907559365034, 0.02091142162680626, -0.011458938010036945, -0.007706608157604933, 0.011172302067279816, -0.023048166185617447, -0.007576318923383951, -0.01936098001897335, -0.010090901516377926, 0.0076219202019274235, 0.0777566134929657, 0.02565395087003708, -0.011569684371352196, -0.004508007317781448, 0.009817293845117092, 0.024364085868000984, -0.0029771090485155582, -0.014866001904010773, -0.000859094609040767, -0.016520675271749496, 0.005188768729567528, -0.010677202604711056, -0.016677021980285645, 0.017615104094147682, 0.011419851332902908, -0.009745635092258453, 0.008540458977222443, -0.0067229242995381355, 0.008983442559838295, 0.008918298408389091, 0.001660373411141336, -0.009393854066729546, 0.00820822175592184, 0.020403293892741203, 0.02014271542429924, -0.006410230416804552, 0.009843351319432259, 0.02707410231232643, -0.002793075516819954, -0.006853213533759117, -0.00410411087796092, 0.004898875020444393, 0.006338571198284626, 0.015413216315209866, 0.016898512840270996, 0.011172302067279816, -0.01661187782883644, 0.016077691689133644, 0.015556534752249718, -0.0032653738744556904, 0.009504599496722221, 0.006012848112732172, 0.009830323047935963, -0.016898512840270996, 0.0033354044426232576, -0.012996351346373558, -0.012611998245120049, 0.019491270184516907, 0.0006795398076064885, 0.0012475193943828344, 0.019660646095871925, -0.00498682027682662, -0.022657297551631927, -0.016742166131734848, 0.002244231989607215, 0.014748740941286087, -0.013745513744652271, -0.010175589472055435, -0.010494797490537167, 0.011146243661642075, -0.0119344936683774, -0.014514220878481865, 0.0005366287659853697, 0.009413396939635277, -0.03530838340520859, -0.03866984322667122, -0.00997364055365324, -0.0008607232593931258, -0.009159333072602749, 0.007055161986500025, -0.007133335340768099, -0.001617215108126402, -0.0014926260337233543, -0.0024494375102221966, 0.0018468499183654785, 0.02170618623495102, 0.006742467638105154, -0.01442301832139492, 0.028924209997057915, 0.008859667927026749, -0.002078113378956914, -0.027569202706217766, 0.01382368803024292, -0.014032150618731976, -0.0012173900613561273, -5.1174149120924994e-05, -0.011980094946920872, 0.0020732274278998375, -0.002431522822007537, 0.012559882365167141, 0.024129565805196762, 0.0037132431752979755, 0.005983532872051001, 0.007530717644840479, 0.0036546129267662764, -0.011602256447076797, 0.012898634187877178, -0.002280061598867178, -0.01490508858114481, -0.00798021536320448, 0.0022621469106525183, -0.012136442586779594, -0.010045300237834454, -0.013419791124761105, 0.01472268346697092, 0.0006697680801153183, 0.0027491028886288404, 0.013354646041989326, 0.001718189218081534, 0.002455952111631632, 0.022175228223204613, -0.022631239145994186, 0.007413457613438368, -0.007107277866452932, 0.0006200953503139317, 0.01917857490479946, -0.003092740662395954, 0.029549598693847656, -0.03139970451593399, -0.018605303019285202, 0.007022589910775423, -0.03335404396057129, 0.01364128291606903, 0.0075828335247933865, 0.003056911053135991, -0.0037002142053097486, 0.01226021721959114, -0.011797689832746983, 0.011374250054359436, 0.005563350394368172, 0.0008073861245065928, 0.029132673516869545, -0.00563175231218338, -0.02016877382993698, -0.026969870552420616, -0.003641584189608693, -0.006205024663358927, -0.004517779219895601, -0.026318425312638283, -0.03377097100019455, -0.03460482135415077, -0.009042073041200638, 0.010247248224914074, -0.027777664363384247, -0.019009198993444443, -0.05076068639755249, -0.005452604498714209, 0.007426486350595951, -0.00046171247959136963, 0.0025357541162520647, -0.011380764655768871, 0.010820521041750908, -0.025328226387500763, -0.03356250748038292, -0.010331936180591583, -0.02879391983151436, -0.006944416090846062, 0.005687125027179718, 0.03530838340520859, 0.021172000095248222, 0.010468740016222, 0.004416805226355791, 0.013367675244808197, -0.004706698469817638, 0.01835775375366211, 0.007068190723657608, 0.002944536739960313, -0.00681412685662508, -0.0069313873536884785, 0.01242959313094616, 0.012084326706826687, 0.03549078851938248, -0.0021742016542702913, -0.0025210967287421227, 0.007498145569115877, 0.015048406086862087, -0.0034656936768442392, -0.01005832850933075, -0.00548191973939538, -0.02016877382993698, 0.003255602205172181, -0.007875984534621239, -0.0044526346027851105, 0.01698971539735794, 0.012357933446764946, -0.01224718801677227, 0.042786985635757446, 0.013445848599076271, 0.030696144327521324, 0.0033419188112020493, 0.0252891406416893, -0.004902132321149111, 0.025419428944587708, 0.016833368688821793, 0.013771572150290012, 0.02707410231232643, -0.01381065882742405, -0.02978411875665188, -0.010989896953105927, 0.012670627795159817, 0.0006245740223675966, 0.020833248272538185, -0.025914529338479042, 0.0056350091472268105, -0.005791356321424246, 0.030852491036057472, -0.0026986156590282917, -0.010351479984819889, -0.009120246395468712, -0.0015504418406635523, -0.006097536068409681, -0.0201166570186615, -0.01834472455084324, -0.013836716301739216, 0.008201707154512405, -0.015087493695318699, -0.013178756460547447, 0.03629858046770096, -0.02134137600660324, -0.012853032909333706, -0.01176511775702238, -0.0024624664802104235, 0.025771209970116615, -0.003644841257482767, 0.01794082671403885, 0.01679428294301033, -0.012983322143554688, -0.025145821273326874, -0.003599239978939295, -0.004996592178940773, -0.007804325316101313, 0.028767863288521767, -0.001817534794099629, 0.01392791885882616, -0.023947160691022873, 0.002314262557774782, -0.004494978580623865, -0.00947202742099762, -0.013113611377775669, 0.021263202652335167, 0.018058087676763535, -0.007120306603610516, -0.02607087604701519, 0.003797931130975485, -0.020220888778567314, 0.016077691689133644, 0.005553578492254019, -0.008286395110189915, -0.010644630528986454, 0.004068281501531601, -0.013940948061645031, 0.014436047524213791, -0.017432698979973793, 0.014240613207221031, 0.030331334099173546, -0.01095081027597189, -0.00949157029390335, 0.005012878216803074, -0.0024640951305627823, 0.010019241832196712, 0.00760889146476984, 0.015035377815365791, -0.009244021028280258, 0.005012878216803074, -0.0013126640114933252, -0.010931266471743584, -0.03038344904780388, -0.005654552951455116, 0.006996531970798969, 0.02707410231232643, -0.01655976101756096, 0.011478481814265251, 0.0067164101637899876, 0.0066447509452700615, 0.016442501917481422, -0.0030764546245336533, -0.01382368803024292, -0.023009078577160835, -0.014566336758434772, -0.004423319362103939, 0.04320390895009041, -0.001892451080493629, -0.018475012853741646, -0.007726151496171951, -0.025015532970428467, -0.02962777204811573, -0.03734089434146881, 0.0028598487842828035, 0.006403715815395117, -0.024142595008015633, -0.017445728182792664, -0.017732365056872368, 0.00641348771750927, 0.01856621541082859, 0.007413457613438368, -0.023204512894153595, 0.019504297524690628, 0.01814929023385048, -0.015400187112390995, 0.007237567100673914, 0.002879392122849822, -0.011445908807218075, -0.038643788546323776, 0.017654191702604294, 0.006827156059443951, -0.020077571272850037, 0.0024673524312675, -0.00936128105968237, -0.01857924461364746, 0.001718189218081534, 0.005413517821580172, 0.011380764655768871, 0.003273516893386841, 0.003156256629154086, -0.006498175673186779, 0.013706427067518234, -0.00039208916132338345, 0.0043321168050169945, -0.012416563928127289, 0.008729378692805767, -0.0018077631248161197, 0.009406882338225842, -0.011256990022957325, -0.01362825371325016, 0.016663992777466774, -0.014175469055771828, 0.01721120811998844, 0.011621799319982529, -0.01993425190448761, 0.00819519255310297, 0.01037102285772562, 0.008169135078787804, -0.008266852237284184, 0.000710483465809375, 0.0005895587964914739, -0.01580408401787281, -0.01893102563917637, -0.005853243637830019, 0.014813886024057865, -0.005921645555645227, 0.014462104998528957, 0.001881050760857761, -0.009921525605022907, 0.02134137600660324, -0.0006913472316227853, -0.008573031984269619, 0.008996471762657166, -0.008221250958740711, -0.009452483616769314, -0.0012344905408099294, -0.014826915226876736, 0.024246826767921448, 0.02801218442618847, -0.015335042960941792, -0.014618451707065105, 0.0047685857862234116, -0.009680490009486675, 0.002633471041917801, -0.00889224000275135, 0.004182284232228994, 0.01975184865295887, 0.018839823082089424, 0.008514401502907276, 0.01736755482852459, -0.014344844967126846, 0.010657659731805325, -0.02055964060127735, -0.018201405182480812, 0.008345025591552258, 0.0029510511085391045, 0.013888832181692123, -0.0159864891320467, -0.017445728182792664, -0.02523702383041382, 0.017054861411452293, -0.004749042447656393, -0.02170618623495102, 0.012286274693906307, -0.013758542947471142, -0.009745635092258453, -0.012807431630790234, 0.012188557535409927, -0.021862532943487167, -0.006775040179491043, 0.03668944910168648, -0.016937600448727608, -0.01116578746587038, 0.009413396939635277, -0.03283288702368736, 0.009204934351146221, -0.020702959969639778, -0.0037360438145697117, -0.00380444573238492, 0.008312453515827656, -0.00159115728456527, 0.005742498207837343, 0.010872636921703815, -0.02427288517355919, 0.018279580399394035, 0.010690231807529926, -0.009524143300950527, 0.03575136512517929, -0.006807612255215645, 0.002569955075159669, -0.017458757385611534, 0.011993124149739742, -0.006022620014846325, -0.011439395137131214, 0.02227945812046528, -0.013993063941597939, -0.01411032397300005, -0.030904605984687805, -0.013862774707376957, -0.028585458174347878, -0.0027605032082647085, -0.019191604107618332, -0.016820339486002922, -0.017667220905423164, 0.020038483664393425, 0.002205145312473178, -0.019061315804719925, -0.0014144524466246367, -0.01872256211936474, -0.021419549360871315, -0.0033109751529991627, -0.016116777434945107, 0.020246947184205055, 0.014188497327268124, 0.0017019030638039112, 0.014136381447315216, -0.018253521993756294, -0.01897011324763298, 0.0012760201934725046, 0.012820460833609104, -0.004830473568290472, 0.024012306705117226, 0.22555671632289886, -0.011686944402754307, -0.01104852743446827, 0.0481809601187706, 0.013732485473155975, 0.01361522451043129, 0.02644871361553669, 0.009217963553965092, -0.0064460597932338715, 0.021445607766509056, -0.01738058403134346, 0.0036643845960497856, -0.011289562098681927, 0.011198359541594982, 0.009628374129533768, -0.002252375241369009, -0.032885003834962845, -0.01817534863948822, -0.023256627842783928, -0.022774558514356613, -0.011198359541594982, -0.007752209436148405, -0.02605784684419632, 0.012911663390696049, 0.038617730140686035, 3.473531251074746e-05, -0.013406761921942234, 0.010129988193511963, 0.012840003706514835, -0.0009763549314811826, -0.01382368803024292, -0.032259613275527954, 0.008657719939947128, 0.019204633310437202, -0.00030455109663307667, -0.0031546279788017273, 0.008859667927026749, 0.012397021055221558, 0.018253521993756294, 0.0003053653927054256, -0.014696625992655754, 0.0008680520113557577, 0.002703501610085368, -0.025914529338479042, -0.00975866336375475, 0.0014991405187174678, 0.0007051904685795307, -0.013354646041989326, -0.01086612232029438, 0.025028562173247337, -0.01696365885436535, 0.006996531970798969, 0.03356250748038292, 0.04127562791109085, -0.0053418586030602455, -0.01123744621872902, 0.009322194382548332, 0.005674096290022135, -0.01797991432249546, 0.01294423546642065, -0.007035618647933006, 0.022566094994544983, -0.0033354044426232576, 0.01055342797189951, -0.019100401550531387, 0.0008236722787842155, -0.004042223561555147, -0.00423765741288662, 0.009901981800794601, -0.008338510990142822, -0.014357873238623142, -0.009901981800794601, 0.0014665682101622224, -0.004260458052158356, -0.014071237295866013, -0.026136020198464394, 0.02564092166721821, 0.014019121415913105, 0.02923690341413021, 0.004143197555094957, 0.0024510661605745554, 8.199060539482161e-05, -0.006260397844016552, -0.030930664390325546, -0.011993124149739742, -0.030644027516245842, 0.007178936619311571, 0.011341677978634834, 0.01155014056712389, 0.008149591274559498, -0.008501372300088406, -0.014579365029931068, -0.020194830372929573, -0.005250656045973301, 0.015608650632202625, 0.007889012806117535, 0.000600959116127342, 0.009465512819588184, 0.0028256478253751993, 0.014045179821550846, -0.01895708404481411, 0.015061435289680958, -0.011699973605573177, 0.02174527384340763, -0.0165858194231987, 0.014983261935412884, -0.0018419640837237239, 0.009765177965164185, 0.00013436077279038727, -0.0336146205663681, -0.02192767895758152, -0.012436107732355595, 0.006094278767704964, 0.002252375241369009, 0.01381065882742405, 0.01521778292953968, 0.0028989354614168406, -0.012155985459685326, 0.014175469055771828, 0.005211569368839264, 0.004566637799143791, -0.008416684344410896, 0.003723014844581485, 0.008533944375813007, -0.015230811201035976, -0.013191784732043743, -0.02428591251373291, -0.013497964479029179, 0.0053907171823084354, -0.021758301183581352, 0.011178816668689251, -0.01679428294301033, 0.01735452562570572, -0.00917236227542162, -0.010507826693356037, -0.01835775375366211, 0.004869560245424509, 0.0021204573567956686, -0.0024364087730646133, -0.0023728925734758377, -0.013087553903460503, -0.022839702665805817, 0.014696625992655754, 0.0201166570186615, -0.00394124910235405, -0.039217058569192886, 0.032858945429325104, -0.021445607766509056, -0.008136563003063202, 0.004872817546129227, -0.019647616893053055, -0.00022637753863818944, -0.022748500108718872, 0.006507947109639645, 0.034839339554309845, -0.016703080385923386, -0.031503938138484955, -0.007849926128983498, -0.017041832208633423, -0.006472117733210325, -0.009810779243707657, 0.008859667927026749, 0.022670326754450798, 0.0022214313503354788, -0.0077000935561954975, -0.011895406991243362, -0.16895908117294312, 0.040572065860033035, 0.010240733623504639, -0.021849503740668297, 0.01272925827652216, 0.006599149666726589, 0.019895166158676147, -0.0033777484204620123, -0.010748861357569695, 0.02152378112077713, 0.028116416186094284, 0.006859728135168552, -0.02095050923526287, -0.012885604985058308, -0.004540579859167337, -0.013113611377775669, 0.012559882365167141, 0.012136442586779594, 0.0043646893464028835, 0.03825291991233826, 0.018488042056560516, -0.01581711322069168, 0.02665717713534832, -0.018540158867836, 0.02031209133565426, -0.0018468499183654785, -0.0044428627006709576, 0.02251398004591465, 0.016442501917481422, -0.00019421239267103374, -0.013074524700641632, -0.009713062085211277, 0.010716289281845093, 0.014579365029931068, -0.0025732123758643866, 0.0028223905246704817, 0.007784781511873007, -0.024181682616472244, -0.013706427067518234, 0.012761830352246761, 0.019478240981698036, 0.02270941436290741, -0.001183189102448523, 0.00014067166193854064, -0.009765177965164185, 0.004820701666176319, 0.03238990530371666, 0.020429352298378944, 0.006377657875418663, -0.02861151657998562, 0.003996622283011675, -0.0035796966403722763, 0.0195173267275095, 0.014488162472844124, 0.009823808446526527, 0.017067888751626015, 0.0029868807177990675, 0.018618332222104073, 0.008442742750048637, -0.0025357541162520647, -0.006748982239514589, -0.0025145821273326874, 0.003709985874593258, -0.004670869093388319, -0.001171788782812655, -0.016155865043401718, -0.00033875199733301997, 0.02523702383041382, -0.020181803032755852, 0.010937781073153019, 0.005713182967156172, -0.03971215710043907, 0.01916554570198059, -0.0276213176548481, 0.016872456297278404, 0.014696625992655754, -0.00859257485717535, 0.012090841308236122, -0.005488433875143528, -0.006885786075145006, -0.020273005589842796, 3.147808092762716e-05, -0.014879030175507069, 0.005374430678784847, 0.02290484681725502, 0.0035210666246712208, 0.006524233613163233, -0.013654312118887901, -0.018852852284908295, -0.03869590163230896, 0.00927659310400486, -0.00744602968916297, -0.00898995716124773, -0.02861151657998562, 0.012025696225464344, 0.010501312091946602, 0.010227704420685768, 0.020781133323907852, 0.006735953502357006, -0.013289501890540123, 0.001089543686248362, -0.005257170647382736, -0.020885365083813667, 0.012240673415362835, 0.023061193525791168, -0.021758301183581352, 0.01184980571269989, 0.02879391983151436, 0.01912645995616913, -0.02767343260347843, -0.010240733623504639, 0.010690231807529926, -0.0018680219072848558, 0.029367193579673767, 0.01145242340862751, 0.0069379014894366264, 0.0005325572565197945, -0.0006652894080616534, 0.0031611425802111626, -0.018839823082089424, 0.03968610242009163, -0.013862774707376957, -0.009765177965164185, -0.017536930739879608, 0.0008566516917198896, -0.0016888742102310061, -0.12570305168628693, -0.026344483718276024, 0.009719576686620712, 0.02527611143887043, -0.016690051183104515, 0.023426003754138947, 0.0035796966403722763, 0.007472087629139423, -0.014592394232749939, 0.02782978117465973, -0.010800977237522602, -0.024038363248109818, -0.02608390524983406, 0.0005305215017870069, 0.021680127829313278, -0.015387158840894699, -0.019882136955857277, -0.019686702638864517, -0.01145242340862751, 0.008898754604160786, -0.005592665169388056, 0.007472087629139423, 0.009608831256628036, -0.01183677650988102, -0.0024005791638046503, -0.004703441169112921, -0.008742407895624638, 0.03116518445312977, 0.024377115070819855, -0.0003475058183539659, -0.0005032421904616058, -0.026709292083978653, 0.0207159873098135, -0.01814929023385048, -0.016885485500097275, 0.0069379014894366264, -0.031243357807397842, 0.00809096172451973, 0.004934704862535, -0.03176451474428177, 0.016729136928915977, 0.01937400922179222, 0.00839062687009573, -0.04792037978768349, 0.005387459881603718, -0.007244081236422062, -0.003234430216252804, 0.026917755603790283, 0.01176511775702238, 0.003420092398300767, -0.04028543084859848, -0.02191464975476265, -0.04539277032017708, -0.007165907882153988, 0.0343702994287014, 0.004644811153411865, 0.00013151069288142025, 0.03929523378610611, -0.013497964479029179, 0.0037425581831485033, 0.000907953071873635, -0.002232831669971347, -0.025197938084602356, 0.03283288702368736, -0.00488584628328681, -0.020781133323907852, -0.009146303869783878, -5.7968529290519655e-05, -0.00044339054147712886, -0.015178695321083069, -0.010722803883254528, -0.007419971749186516, -0.024038363248109818, 0.0034982659853994846, -0.02109382674098015, 0.021667100489139557, -0.038018397986888885, -0.0026106706354767084, 0.001127001829445362, -0.012103869579732418, -0.024976445361971855, -0.012572910636663437, 0.002327291527763009, -0.010292849503457546, 0.006227825302630663, -0.007602376863360405, -0.009745635092258453, 0.0026269566733390093, -0.007491630967706442, -0.01992122456431389, -0.013120125979185104, 0.005452604498714209, 0.005452604498714209, -0.009068130515515804, 0.009999698959290981, 0.029367193579673767, -0.008162620477378368, -0.010592514649033546, 0.003924963064491749, 0.008573031984269619, -0.008397141471505165, -0.013914890587329865, -0.06097536161541939, 0.02470283955335617, -0.0013208071468397975, 0.0006795398076064885, 0.012351419776678085, -0.0021139427553862333, 0.021458636969327927, -0.013953977264463902, -0.004540579859167337, -0.020833248272538185, -0.022175228223204613, -0.004706698469817638, -0.01134819258004427, -0.0032539735548198223, -0.029471425339579582, -0.0032246585469692945, 0.021979793906211853, 0.005911874119192362, 0.00867726281285286, 0.00907464511692524, 0.0030210816767066717, -0.014579365029931068, 0.01095081027597189, -0.010416624136269093, 0.005478662438690662, 0.01123744621872902, -0.02449437603354454, 0.015152637846767902, -0.0007646349258720875, -0.005498205777257681, 0.006996531970798969, -0.04130168631672859, 7.82244314905256e-05, 0.026122990995645523, -0.005810899659991264, -0.008071417920291424, 0.005211569368839264, 0.026917755603790283, 0.007862955331802368, 0.006218053866177797, -0.023347830399870872, -0.021758301183581352, 0.007139849942177534, -0.0019087372347712517, 0.007843411527574062, 0.007452544290572405, 0.009152818471193314, -0.0034982659853994846, 0.024963418021798134, 0.0024461804423481226, 0.003820731770247221, 0.011726031079888344, -0.018709534779191017, -0.0067164101637899876, -0.019282806664705276, 0.008507886901497841, -0.023009078577160835, -0.005348373204469681, -0.008462285622954369, -0.0013680369593203068, 0.021211087703704834, 0.008586060255765915, 0.010924751870334148, -0.006599149666726589, 0.01933492161333561, 0.008312453515827656, -0.009159333072602749, 0.0010480140335857868, 0.012123413383960724, -0.014514220878481865, -0.017315439879894257, 0.001291492022573948, -0.012553367763757706, 0.011882377788424492, 0.006775040179491043, 0.022136140614748, 0.002232831669971347, 0.02075507491827011, -0.02406442165374756, 0.03731483593583107, 0.0077000935561954975, 0.0055894083343446255, -0.05099520459771156, 0.00947202742099762, 0.02252700924873352, 0.019321894273161888, -0.016820339486002922, 0.0002927436144091189, -0.011081099510192871, 0.017067888751626015, -0.017133034765720367, -0.008338510990142822, -0.0017198178684338927, 0.0073352837935090065, -0.005354887340217829, -0.009732605889439583, -0.004107368178665638, -0.0012857918627560139, 0.02491130121052265, 0.027543144300580025, 0.008924812078475952, 0.007862955331802368, -0.011875864118337631, -0.003931477665901184, 0.014084266498684883, 0.00706167658790946, -0.021211087703704834, -0.051073379814624786, -0.007869469933211803, 0.010937781073153019, 0.020077571272850037, 0.005602437071502209, 0.014735712669789791, 0.02076810412108898, -0.02113291434943676, 0.0053092860616743565, -0.011302591301500797, -0.02311331033706665, -0.027178334072232246, 0.04091081768274307, 0.001209246926009655, 0.009556715376675129, 0.020103629678487778, -0.016703080385923386, -0.003433121368288994, 0.015087493695318699, 0.007602376863360405, -0.011126700788736343, 0.009778207167983055, -0.005071508232504129, 0.0019869108218699694, -0.01361522451043129, -0.010201646946370602, -0.014553307555615902, -0.013458877801895142, -0.0011465452844277024, -0.008266852237284184, 0.02668323554098606, -0.02312633953988552, 0.05909919738769531, -0.012768344953656197, -0.009055101312696934, 0.01618192344903946, 0.014019121415913105, 0.013322073966264725, 0.0008049431489780545, 0.0014584250748157501, -0.02151075191795826, -0.004397261422127485, -0.009445969015359879, -0.007667521480470896, -0.008468800224363804, 0.003117169952020049, 0.0013883946230635047, 0.010494797490537167, -0.010559942573308945, 0.006100793369114399, -0.023204512894153595, 0.0029771090485155582, 0.012664113193750381, -0.015869228169322014, 0.016494616866111755, 0.0024575807619839907, -0.0034656936768442392, -0.01176511775702238, 0.01637735590338707, 0.0003961606998927891, -0.016051633283495903, -0.011784661561250687, 0.00775872403755784, 0.007836897857487202, -0.02149772271513939, -0.01048176921904087, 0.017862653359770775, -0.029315076768398285, -0.00543306116014719, -0.029549598693847656, -0.004260458052158356, 0.012038725428283215, 0.010149531066417694, 0.010735833086073399, -0.028767863288521767, -0.01915251649916172, 0.02095050923526287, -0.005494948476552963, -0.019009198993444443, 0.0020455410704016685, -0.00016225081344600767]\n"
     ]
    }
   ],
   "source": [
    "vector = embedder.embed_query(\"Hi\")  # 모델 호출 발생!\n",
    "print(len(vector))\n",
    "print(vector)"
   ]
  },
  {
   "cell_type": "code",
   "execution_count": 13,
   "id": "95846077-6e2e-4a3c-b086-a3d0eb4b4d74",
   "metadata": {},
   "outputs": [],
   "source": [
    "vectors = embedder.embed_documents([\n",
    "    \"hi\",\n",
    "    \"how are you\",\n",
    "    \"good to meet you\",\n",
    "])"
   ]
  },
  {
   "cell_type": "code",
   "execution_count": 14,
   "id": "25112447-2e2e-4e59-bcdf-61796b3a36a6",
   "metadata": {},
   "outputs": [
    {
     "data": {
      "text/plain": [
       "3"
      ]
     },
     "execution_count": 14,
     "metadata": {},
     "output_type": "execute_result"
    }
   ],
   "source": [
    "len(vectors)"
   ]
  },
  {
   "cell_type": "code",
   "execution_count": 15,
   "id": "2995a062-ebda-4d81-9324-132b7a5222fd",
   "metadata": {},
   "outputs": [
    {
     "name": "stdout",
     "output_type": "stream",
     "text": [
      "1536\n",
      "1536\n",
      "1536\n"
     ]
    }
   ],
   "source": [
    "for vector in vectors:\n",
    "    print(len(vector))"
   ]
  },
  {
   "cell_type": "code",
   "execution_count": null,
   "id": "24ac54e8-2825-4521-b84e-63b83c547a38",
   "metadata": {},
   "outputs": [],
   "source": [
    "\"\"\"\n",
    "이제 실제 우리 문서를 embed 해볼거다\n",
    "(직접 embed_documents() 를 호출하진 않습니다)\n",
    "\n",
    "코드를 실행할때마다 '매번' 문서 embedding 을 반복해서 수행하는건 매우 비효율적이다\n",
    " => 시간 소요 + 또한 비용 지출\n",
    "\n",
    "대신! 그 embeded 된 결과들을 '저장'해 줄겁니다.\n",
    "LangChain 은 embedding 한것들을 캐싱하는 기능을 제공해준다  -> Vector Store!\n",
    "\n",
    "Document는 이와 같이 한번만 embedding 해주는게 좋다. (Document 가 변경되지 않는한.)\n",
    "\"\"\"\n",
    "None"
   ]
  },
  {
   "cell_type": "code",
   "execution_count": null,
   "id": "23e8fe58-cd22-4208-ad17-df1244d7b434",
   "metadata": {},
   "outputs": [],
   "source": [
    "# 일단 벡터를 만들고 나서, 그것들을 캐시해주고, vector store 에 넣어주면,\n",
    "# 우리가 검색을 할수 있다.\n",
    "# 그리하여, 관련있는 문서들만 찾아낼수 있게 되는 거다\n",
    "\n",
    "# 랭체인은 다양한 vector store 를 제공한다,  어떤거는 cloud 형태이고, 어떤건 유료이기도 하다. (ex:pinecone)\n",
    "\n",
    "# 우리는 예제에서 무료로 사용할수 있고 로컬로 저장되는 Chroma 라는 것을 사용해볼겁니다"
   ]
  },
  {
   "cell_type": "markdown",
   "id": "aaf887fa-c204-449b-bc28-9c12aa6cd6dc",
   "metadata": {},
   "source": [
    "## Chroma vector store"
   ]
  },
  {
   "cell_type": "code",
   "execution_count": 16,
   "id": "0ac5fb28-e686-4366-afa5-a4acf007a64e",
   "metadata": {},
   "outputs": [],
   "source": [
    "# v0.3\n",
    "from langchain_community.vectorstores.chroma import Chroma\n",
    "# https://python.langchain.com/api_reference/community/vectorstores/langchain_community.vectorstores.chroma.Chroma.html\n",
    "# https://python.langchain.com/docs/integrations/vectorstores/chroma/\n",
    "\n",
    "# ChromaDB vector store.\n",
    "# To use, you should have the chromadb python package installed.\n"
   ]
  },
  {
   "cell_type": "code",
   "execution_count": null,
   "id": "5427d0ee-e445-40d2-95d5-085e24676195",
   "metadata": {},
   "outputs": [],
   "source": [
    "# ↓이 ChromaDB 에 'split 된 문서' 와 'OpenAI embedding model' 을 전달해야 한다\n",
    "\n",
    "# OpenAIEmbeddings 의 옵션에 model= 이 있다. 여기에 원하는 모델 지정가능 (지정안하면 default 동작)\n",
    "\n",
    "# ★ embedding 모델을 사용하는것도 비용이 발생한다!\n",
    "\n",
    "# 참고) OpenAI 사에서 제공하는 embedding 모델 정보\n",
    "#   https://platform.openai.com/docs/guides/embeddings\n",
    "#   2025.1 현재 : text-embedding-3-small 과 text-embedding-3-large 이 최신 임베딩모델"
   ]
  },
  {
   "cell_type": "code",
   "execution_count": 17,
   "id": "c6d09c8f-4d24-42b9-9f4c-ebf4bd181de4",
   "metadata": {},
   "outputs": [],
   "source": [
    "splitter = CharacterTextSplitter.from_tiktoken_encoder(\n",
    "    separator='\\n',\n",
    "    chunk_size=600,\n",
    "    chunk_overlap=100,\n",
    ")\n",
    "\n",
    "loader = UnstructuredFileLoader(os.path.join(base_path, 'chapter_one.docx'))\n",
    "\n",
    "docs = loader.load_and_split(text_splitter=splitter)\n"
   ]
  },
  {
   "cell_type": "code",
   "execution_count": 20,
   "id": "a0a091d7-22a4-442a-bbd6-d170aa51e997",
   "metadata": {},
   "outputs": [],
   "source": [
    "embeddings = OpenAIEmbeddings()"
   ]
  },
  {
   "cell_type": "code",
   "execution_count": 21,
   "id": "87da917f-47d6-46b9-872a-431bcdf5f38d",
   "metadata": {},
   "outputs": [],
   "source": [
    "vectorstore = Chroma.from_documents(docs, embeddings)"
   ]
  },
  {
   "cell_type": "code",
   "execution_count": null,
   "id": "62a94a98-a1b3-4fd2-9963-1da184c169e7",
   "metadata": {},
   "outputs": [],
   "source": [
    "# ↑ ★★ 이 코드 실행하면 비용지출 발생함.\n",
    "#        문서의 크기가 클수록 당연히 비례해서 비용 발생\n",
    "#        우리 예제에서는 작은 파일을 사용하는 것이니 매우 적은 비용이 발생할 것이다."
   ]
  },
  {
   "cell_type": "code",
   "execution_count": 22,
   "id": "3aa582da-82a3-4fa8-b740-60427e18c663",
   "metadata": {},
   "outputs": [
    {
     "name": "stdout",
     "output_type": "stream",
     "text": [
      "4 개\n"
     ]
    },
    {
     "data": {
      "text/plain": [
       "[Document(metadata={'source': 'D:\\\\Lang2505\\\\dataset\\\\files\\\\chapter_one.docx'}, page_content=\"The Ministry of Love was the really frightening one. There were no windows in it at all. Winston had never been inside the Ministry of Love, nor within half a kilometre of it. It was a place impossible to enter except on official business, and then only by penetrating through a maze of barbed-wire entanglements, steel doors, and hidden machine-gun nests. Even the streets leading up to its outer barriers were roamed by gorilla-faced guards in black uniforms, armed with jointed truncheons.\\nWinston turned round abruptly. He had set his features into the expression of quiet optimism which it was advisable to wear when facing the telescreen. He crossed the room into the tiny kitchen. By leaving the Ministry at this time of day he had sacrificed his lunch in the canteen, and he was aware that there was no food in the kitchen except a hunk of dark-coloured bread which had got to be saved for tomorrow's breakfast. He took down from the shelf a bottle of colourless liquid with a plain white label marked VICTORY GIN. It gave off a sickly, oily smell, as of Chinese ricespirit. Winston poured out nearly a teacupful, nerved himself for a shock, and gulped it down like a dose of medicine.\\nInstantly his face turned scarlet and the water ran out of his eyes. The stuff was like nitric acid, and moreover, in swallowing it one had the sensation of being hit on the back of the head with a rubber club. The next moment, however, the burning in his belly died down and the world began to look more cheerful. He took a cigarette from a crumpled packet marked VICTORY CIGARETTES and incautiously held it upright, whereupon the tobacco fell out on to the floor. With the next he was more successful. He went back to the living-room and sat down at a small table that stood to the left of the telescreen. From the table drawer he took out a penholder, a bottle of ink, and a thick, quarto-sized blank book with a red back and a marbled cover.\"),\n",
       " Document(metadata={'source': 'D:\\\\Lang2505\\\\dataset\\\\files\\\\chapter_one.docx'}, page_content='Part 1, Chapter 1\\nPart One\\n1\\nIt was a bright cold day in April, and the clocks were striking thirteen. Winston Smith, his chin nuzzled into his breast in an effort to escape the vile wind, slipped quickly through the glass doors of Victory Mansions, though not quickly enough to prevent a swirl of gritty dust from entering along with him.\\nThe hallway smelt of boiled cabbage and old rag mats. At one end of it a coloured poster, too large for indoor display, had been tacked to the wall. It depicted simply an enormous face, more than a metre wide: the face of a man of about forty-five, with a heavy black moustache and ruggedly handsome features. Winston made for the stairs. It was no use trying the lift. Even at the best of times it was seldom working, and at present the electric current was cut off during daylight hours. It was part of the economy drive in preparation for Hate Week. The flat was seven flights up, and Winston, who was thirty-nine and had a varicose ulcer above his right ankle, went slowly, resting several times on the way. On each landing, opposite the lift-shaft, the poster with the enormous face gazed from the wall. It was one of those pictures which are so contrived that the eyes follow you about when you move. BIG BROTHER IS WATCHING YOU, the caption beneath it ran.\\nInside the flat a fruity voice was reading out a list of figures which had something to do with the production of pig-iron. The voice came from an oblong metal plaque like a dulled mirror which formed part of the surface of the right-hand wall. Winston turned a switch and the voice sank somewhat, though the words were still distinguishable. The instrument (the telescreen, it was called) could be dimmed, but there was no way of shutting it off completely. He moved over to the window: a smallish, frail figure, the meagreness of his body merely emphasized by the blue overalls which were the uniform of the party. His hair was very fair, his face naturally sanguine, his skin roughened by coarse soap and blunt razor blades and the cold of the winter that had just ended.'),\n",
       " Document(metadata={'source': 'D:\\\\Lang2505\\\\dataset\\\\files\\\\chapter_one.docx'}, page_content=\"For some reason the telescreen in the living-room was in an unusual position. Instead of being placed, as was normal, in the end wall, where it could command the whole room, it was in the longer wall, opposite the window. To one side of it there was a shallow alcove in which Winston was now sitting, and which, when the flats were built, had probably been intended to hold bookshelves. By sitting in the alcove, and keeping well back, Winston was able to remain outside the range of the telescreen, so far as sight went. He could be heard, of course, but so long as he stayed in his present position he could not be seen. It was partly the unusual geography of the room that had suggested to him the thing that he was now about to do.\\nBut it had also been suggested by the book that he had just taken out of the drawer. It was a peculiarly beautiful book. Its smooth creamy paper, a little yellowed by age, was of a kind that had not been manufactured for at least forty years past. He could guess, however, that the book was much older than that. He had seen it lying in the window of a frowsy little junk-shop in a slummy quarter of the town (just what quarter he did not \\nnow remember) and had been stricken immediately by an overwhelming desire to possess it. Party members were supposed not to go into ordinary shops ('dealing on the free market', it was called), but the rule was not strictly kept, because there were various things, such as shoelaces and razor blades, which it was impossible to get hold of in any other way. He had given a quick glance up and down the street and then had slipped inside and bought the book for two dollars fifty. At the time he was not conscious of wanting it for any particular purpose. He had carried it guiltily home in his briefcase. Even with nothing written in it, it was a compromising possession.\"),\n",
       " Document(metadata={'source': 'D:\\\\Lang2505\\\\dataset\\\\files\\\\chapter_one.docx'}, page_content='Winston kept his back turned to the telescreen. It was safer, though, as he well knew, even a back can be revealing. A kilometre away the Ministry of Truth, his place of work, towered vast and white above the grimy landscape. This, he thought with a sort of vague distaste -- this was London, chief city of Airstrip One, itself the third most populous of the provinces of Oceania. He tried to squeeze out some childhood memory that should tell him whether London had always been quite like this. Were there always these vistas of rotting nineteenth-century houses, their sides shored up with baulks of timber, their windows patched with cardboard and their roofs with corrugated iron, their crazy garden walls sagging in all directions? And the bombed sites where the plaster dust swirled in the air and the willow-herb straggled over the heaps of rubble; and the places where the \\nbombs had cleared a larger patch and there had sprung up sordid colonies of wooden dwellings like chicken-houses? But it was no use, he could not remember: nothing remained of his childhood except a series of bright-lit tableaux occurring against no background and mostly unintelligible.\\nThe Ministry of Truth -- Minitrue, in Newspeak -- was startlingly different from any other object in sight. It was an enormous pyramidal structure of glittering white concrete, soaring up, terrace after terrace, 300 metres into the air. From where Winston stood it was just possible to read, picked out on its white face in elegant lettering, the three slogans of the Party:\\nWAR IS PEACE\\nFREEDOM IS SLAVERY\\nIGNORANCE IS STRENGTH\\nThe Ministry of Truth contained, it was said, three thousand rooms above ground level, and corresponding ramifications below. Scattered about London there were just three other buildings of similar appearance and size. So completely did they dwarf the surrounding architecture that from the roof of Victory Mansions you could see all four of them simultaneously. They were the homes of the four Ministries between which the entire apparatus of government was divided. The Ministry of Truth, which concerned itself with news, entertainment, education, and the fine arts. The Ministry of Peace, which concerned itself with war. The Ministry of Love, which maintained law and order. And the Ministry of Plenty, which was responsible for economic affairs. Their names, in Newspeak: Minitrue, Minipax, Miniluv, and Miniplenty.')]"
      ]
     },
     "execution_count": 22,
     "metadata": {},
     "output_type": "execute_result"
    }
   ],
   "source": [
    "results = vectorstore.similarity_search(\"where does winston live\") # -> List[Document]\n",
    "\n",
    "print(len(results), '개')\n",
    "results"
   ]
  },
  {
   "cell_type": "code",
   "execution_count": 23,
   "id": "c77361eb-ee6f-4da1-9505-d7b66e856d6c",
   "metadata": {},
   "outputs": [
    {
     "name": "stdout",
     "output_type": "stream",
     "text": [
      "Part 1, Chapter 1\n",
      "Part One\n",
      "1\n",
      "It was a bright cold day in April, and the clocks were striking thirteen. Winston Smith, his chin nuzzled into his breast in an effort to escape the vile wind, slipped quickly through the glass doors of Victory Mansions, though not quickly enough to prevent a swirl of gritty dust from entering along with him.\n",
      "The hallway smelt of boiled cabbage and old rag mats. At one end of it a coloured poster, too large for indoor display, had been tacked to the wall. It depicted simply an enormous face, more than a metre wide: the face of a man of about forty-five, with a heavy black moustache and ruggedly handsome features. Winston made for the stairs. It was no use trying the lift. Even at the best of times it was seldom working, and at present the electric current was cut off during daylight hours. It was part of the economy drive in preparation for Hate Week. The flat was seven flights up, and Winston, who was thirty-nine and had a varicose ulcer above his right ankle, went slowly, resting several times on the way. On each landing, opposite the lift-shaft, the poster with the enormous face gazed from the wall. It was one of those pictures which are so contrived that the eyes follow you about when you move. BIG BROTHER IS WATCHING YOU, the caption beneath it ran.\n",
      "Inside the flat a fruity voice was reading out a list of figures which had something to do with the production of pig-iron. The voice came from an oblong metal plaque like a dulled mirror which formed part of the surface of the right-hand wall. Winston turned a switch and the voice sank somewhat, though the words were still distinguishable. The instrument (the telescreen, it was called) could be dimmed, but there was no way of shutting it off completely. He moved over to the window: a smallish, frail figure, the meagreness of his body merely emphasized by the blue overalls which were the uniform of the party. His hair was very fair, his face naturally sanguine, his skin roughened by coarse soap and blunt razor blades and the cold of the winter that had just ended.\n"
     ]
    }
   ],
   "source": [
    "print(results[1].page_content)"
   ]
  },
  {
   "cell_type": "markdown",
   "id": "e191a81f-6068-431a-85fe-7184a5d9b16f",
   "metadata": {},
   "source": [
    "## embedding cache"
   ]
  },
  {
   "cell_type": "code",
   "execution_count": 24,
   "id": "3e06fe63-1a25-47fc-942f-a29df5986454",
   "metadata": {},
   "outputs": [],
   "source": [
    "# 다시 실행하면 임베딩 결과는 다 사라진다. 재실행하면 다시 재계산 발생 (비용발생!)\n",
    "# 그래서 embedding 을 캐싱해주자"
   ]
  },
  {
   "cell_type": "code",
   "execution_count": 25,
   "id": "1996dab9-4a36-4dd5-b73a-7e47565d0c2b",
   "metadata": {},
   "outputs": [],
   "source": [
    "# v0.3\n",
    "from langchain.embeddings.cache import CacheBackedEmbeddings\n",
    "# https://python.langchain.com/api_reference/langchain/embeddings/langchain.embeddings.cache.CacheBackedEmbeddings.html\n",
    "\n",
    "# Interface for caching results from embedding models.\n",
    "# The interface allows works with any store that implements the abstract store interface accepting keys of type str and values of list of floats."
   ]
  },
  {
   "cell_type": "code",
   "execution_count": 26,
   "id": "5855945a-9519-4ae9-ae18-cb649cf6d9b9",
   "metadata": {},
   "outputs": [],
   "source": [
    "# v0.3\n",
    "from langchain.storage.file_system import LocalFileStore\n",
    "# https://python.langchain.com/api_reference/langchain/storage/langchain.storage.file_system.LocalFileStore.html\n",
    "# BaseStore interface that works on the local file system."
   ]
  },
  {
   "cell_type": "code",
   "execution_count": 27,
   "id": "b5fc8f44-8ef9-403d-be9d-bda3ffc037bc",
   "metadata": {},
   "outputs": [],
   "source": [
    "# 캐시 경로 지정\n",
    "cache_dir = LocalFileStore(os.path.join(base_path, '.cache'))\n",
    "\n",
    "cached_embeddings = CacheBackedEmbeddings.from_bytes_store(\n",
    "    embeddings,\n",
    "    cache_dir,\n",
    ")\n",
    "\n",
    "vectorstore = Chroma.from_documents(docs, cached_embeddings)\n"
   ]
  },
  {
   "cell_type": "code",
   "execution_count": 28,
   "id": "b3b404fb-df56-434c-b2ab-f701b883cf52",
   "metadata": {},
   "outputs": [
    {
     "data": {
      "text/plain": [
       "[Document(metadata={'source': 'D:\\\\Lang2505\\\\dataset\\\\files\\\\chapter_one.docx'}, page_content=\"The Ministry of Love was the really frightening one. There were no windows in it at all. Winston had never been inside the Ministry of Love, nor within half a kilometre of it. It was a place impossible to enter except on official business, and then only by penetrating through a maze of barbed-wire entanglements, steel doors, and hidden machine-gun nests. Even the streets leading up to its outer barriers were roamed by gorilla-faced guards in black uniforms, armed with jointed truncheons.\\nWinston turned round abruptly. He had set his features into the expression of quiet optimism which it was advisable to wear when facing the telescreen. He crossed the room into the tiny kitchen. By leaving the Ministry at this time of day he had sacrificed his lunch in the canteen, and he was aware that there was no food in the kitchen except a hunk of dark-coloured bread which had got to be saved for tomorrow's breakfast. He took down from the shelf a bottle of colourless liquid with a plain white label marked VICTORY GIN. It gave off a sickly, oily smell, as of Chinese ricespirit. Winston poured out nearly a teacupful, nerved himself for a shock, and gulped it down like a dose of medicine.\\nInstantly his face turned scarlet and the water ran out of his eyes. The stuff was like nitric acid, and moreover, in swallowing it one had the sensation of being hit on the back of the head with a rubber club. The next moment, however, the burning in his belly died down and the world began to look more cheerful. He took a cigarette from a crumpled packet marked VICTORY CIGARETTES and incautiously held it upright, whereupon the tobacco fell out on to the floor. With the next he was more successful. He went back to the living-room and sat down at a small table that stood to the left of the telescreen. From the table drawer he took out a penholder, a bottle of ink, and a thick, quarto-sized blank book with a red back and a marbled cover.\"),\n",
       " Document(metadata={'source': 'D:\\\\Lang2505\\\\dataset\\\\files\\\\chapter_one.docx'}, page_content=\"The Ministry of Love was the really frightening one. There were no windows in it at all. Winston had never been inside the Ministry of Love, nor within half a kilometre of it. It was a place impossible to enter except on official business, and then only by penetrating through a maze of barbed-wire entanglements, steel doors, and hidden machine-gun nests. Even the streets leading up to its outer barriers were roamed by gorilla-faced guards in black uniforms, armed with jointed truncheons.\\nWinston turned round abruptly. He had set his features into the expression of quiet optimism which it was advisable to wear when facing the telescreen. He crossed the room into the tiny kitchen. By leaving the Ministry at this time of day he had sacrificed his lunch in the canteen, and he was aware that there was no food in the kitchen except a hunk of dark-coloured bread which had got to be saved for tomorrow's breakfast. He took down from the shelf a bottle of colourless liquid with a plain white label marked VICTORY GIN. It gave off a sickly, oily smell, as of Chinese ricespirit. Winston poured out nearly a teacupful, nerved himself for a shock, and gulped it down like a dose of medicine.\\nInstantly his face turned scarlet and the water ran out of his eyes. The stuff was like nitric acid, and moreover, in swallowing it one had the sensation of being hit on the back of the head with a rubber club. The next moment, however, the burning in his belly died down and the world began to look more cheerful. He took a cigarette from a crumpled packet marked VICTORY CIGARETTES and incautiously held it upright, whereupon the tobacco fell out on to the floor. With the next he was more successful. He went back to the living-room and sat down at a small table that stood to the left of the telescreen. From the table drawer he took out a penholder, a bottle of ink, and a thick, quarto-sized blank book with a red back and a marbled cover.\"),\n",
       " Document(metadata={'source': 'D:\\\\Lang2505\\\\dataset\\\\files\\\\chapter_one.docx'}, page_content='Part 1, Chapter 1\\nPart One\\n1\\nIt was a bright cold day in April, and the clocks were striking thirteen. Winston Smith, his chin nuzzled into his breast in an effort to escape the vile wind, slipped quickly through the glass doors of Victory Mansions, though not quickly enough to prevent a swirl of gritty dust from entering along with him.\\nThe hallway smelt of boiled cabbage and old rag mats. At one end of it a coloured poster, too large for indoor display, had been tacked to the wall. It depicted simply an enormous face, more than a metre wide: the face of a man of about forty-five, with a heavy black moustache and ruggedly handsome features. Winston made for the stairs. It was no use trying the lift. Even at the best of times it was seldom working, and at present the electric current was cut off during daylight hours. It was part of the economy drive in preparation for Hate Week. The flat was seven flights up, and Winston, who was thirty-nine and had a varicose ulcer above his right ankle, went slowly, resting several times on the way. On each landing, opposite the lift-shaft, the poster with the enormous face gazed from the wall. It was one of those pictures which are so contrived that the eyes follow you about when you move. BIG BROTHER IS WATCHING YOU, the caption beneath it ran.\\nInside the flat a fruity voice was reading out a list of figures which had something to do with the production of pig-iron. The voice came from an oblong metal plaque like a dulled mirror which formed part of the surface of the right-hand wall. Winston turned a switch and the voice sank somewhat, though the words were still distinguishable. The instrument (the telescreen, it was called) could be dimmed, but there was no way of shutting it off completely. He moved over to the window: a smallish, frail figure, the meagreness of his body merely emphasized by the blue overalls which were the uniform of the party. His hair was very fair, his face naturally sanguine, his skin roughened by coarse soap and blunt razor blades and the cold of the winter that had just ended.'),\n",
       " Document(metadata={'source': 'D:\\\\Lang2505\\\\dataset\\\\files\\\\chapter_one.docx'}, page_content='Part 1, Chapter 1\\nPart One\\n1\\nIt was a bright cold day in April, and the clocks were striking thirteen. Winston Smith, his chin nuzzled into his breast in an effort to escape the vile wind, slipped quickly through the glass doors of Victory Mansions, though not quickly enough to prevent a swirl of gritty dust from entering along with him.\\nThe hallway smelt of boiled cabbage and old rag mats. At one end of it a coloured poster, too large for indoor display, had been tacked to the wall. It depicted simply an enormous face, more than a metre wide: the face of a man of about forty-five, with a heavy black moustache and ruggedly handsome features. Winston made for the stairs. It was no use trying the lift. Even at the best of times it was seldom working, and at present the electric current was cut off during daylight hours. It was part of the economy drive in preparation for Hate Week. The flat was seven flights up, and Winston, who was thirty-nine and had a varicose ulcer above his right ankle, went slowly, resting several times on the way. On each landing, opposite the lift-shaft, the poster with the enormous face gazed from the wall. It was one of those pictures which are so contrived that the eyes follow you about when you move. BIG BROTHER IS WATCHING YOU, the caption beneath it ran.\\nInside the flat a fruity voice was reading out a list of figures which had something to do with the production of pig-iron. The voice came from an oblong metal plaque like a dulled mirror which formed part of the surface of the right-hand wall. Winston turned a switch and the voice sank somewhat, though the words were still distinguishable. The instrument (the telescreen, it was called) could be dimmed, but there was no way of shutting it off completely. He moved over to the window: a smallish, frail figure, the meagreness of his body merely emphasized by the blue overalls which were the uniform of the party. His hair was very fair, his face naturally sanguine, his skin roughened by coarse soap and blunt razor blades and the cold of the winter that had just ended.')]"
      ]
     },
     "execution_count": 28,
     "metadata": {},
     "output_type": "execute_result"
    }
   ],
   "source": [
    "results = vectorstore.similarity_search(\"where does winston live\")\n",
    "results"
   ]
  },
  {
   "cell_type": "code",
   "execution_count": 29,
   "id": "171b0865-f88b-4e9a-90bb-fdc5e390816c",
   "metadata": {},
   "outputs": [],
   "source": [
    "vectorstore = Chroma.from_documents(docs, cached_embeddings)  \n",
    "# 두번째 호출될때는 cache 가 있기 때문에 모델 호출 안함."
   ]
  },
  {
   "cell_type": "code",
   "execution_count": 30,
   "id": "e6f537bd-8706-4d29-80d5-4c02abac4cef",
   "metadata": {},
   "outputs": [
    {
     "name": "stdout",
     "output_type": "stream",
     "text": [
      "[-0.023815609514713287, -0.009824610315263271, -0.0004901385400444269, -0.01809018664062023, -0.025858482345938683, 0.000790017656981945, -0.006427660584449768, -0.019797060638666153, -0.020374979823827744, -0.038196366280317307, -0.0031046306248754263, 0.04034676030278206, -0.003279350232332945, -0.01424635760486126, 0.012344603426754475, 0.017727306112647057, 0.04596466198563576, 0.02725623920559883, 0.030562467873096466, -0.03580405190587044, -0.01424635760486126, 0.0008416774799115956, -0.014340437017381191, 0.006179021671414375, -0.03204086422920227, -0.008796453475952148, 0.015899471938610077, -0.022955451160669327, 0.0020865537226200104, -0.00772125693038106, 0.003443989669904113, -0.022888250648975372, 0.0017219948349520564, 0.006585580296814442, -0.03975540027022362, -0.02638264186680317, -0.007741416804492474, -0.01804986596107483, 0.006817419547587633, -0.00946845207363367, 0.013977558352053165, -0.0013498759362846613, -0.004502386320382357, 0.0008462974801659584, -0.03064310923218727, 0.023452728986740112, -0.013843158259987831, -0.009119012393057346, -0.017122508957982063, 0.007714536972343922, 0.021947454661130905, 0.0381157249212265, 0.0021453534718602896, -0.010422688908874989, -0.00543982395902276, -0.0032810301054269075, 0.025025205686688423, 0.03220214322209358, -0.0003771588671952486, -0.009656610898673534, 0.01325180009007454, 0.004210067447274923, -0.023519929498434067, -0.013937238603830338, -0.00743901776149869, 0.004929105285555124, -0.021530816331505775, 0.006531820632517338, -0.024904245510697365, -0.00048089856863953173, 0.020979776978492737, 0.008655333891510963, -0.007835496217012405, -0.003722868859767914, 0.01233788300305605, -0.027713196352124214, -0.00925341248512268, -0.0028610313311219215, -0.011222366243600845, 0.0081244558095932, 0.004542706534266472, -0.012935961596667767, -0.01446139719337225, 0.007963175885379314, -0.003304550191387534, 0.019958339631557465, -0.0019286342430859804, 0.01806330680847168, 0.009239972569048405, -0.02354680933058262, 0.011894364841282368, 0.008433574810624123, 0.005900142248719931, 0.015550033189356327, -0.008594854734838009, 0.022202813997864723, -0.01821114495396614, 0.011948124505579472, -0.0011675965506583452, -0.005974062252789736, 0.012862041592597961, 0.008305895142257214, -0.028465835377573967, -0.0017908746376633644, -0.008393255062401295, 0.0018631144193932414, -0.008359654806554317, -0.0040084682404994965, 0.0109266871586442, -0.014770516194403172, -0.01736442744731903, 0.029379751533269882, 0.003961428068578243, -0.05437807738780975, 0.005295344162732363, -0.037470608949661255, 0.007983336225152016, -0.035508375614881516, -0.02806263603270054, -0.01874874345958233, -0.02667832002043724, 0.015603793784976006, 0.021342655643820763, 0.003042470896616578, 0.029137833043932915, -0.013540759682655334, -0.009784290567040443, 0.001228076289407909, -0.0040151881985366344, -0.005221424158662558, 0.053437281399965286, 0.01567099243402481, 0.030804388225078583, -0.005863182246685028, -0.011652445420622826, 0.027551917359232903, -0.01677306927740574, -0.0041563077829778194, -0.023237690329551697, -0.028815273195505142, 0.030669989064335823, 0.029621671885252, -0.002444392768666148, -0.01284188125282526, 0.003548149485141039, 0.013910358771681786, 0.004609906114637852, 0.019662661477923393, -0.005019824951887131, 0.00357838929630816, 0.008312615565955639, -0.011699484661221504, -0.011390365660190582, -0.021382976323366165, 0.0026795919984579086, 0.013292119838297367, -0.011403805576264858, 0.011067806743085384, -0.018694983795285225, 0.0176332276314497, 0.003059270791709423, 0.012324443086981773, -0.0030962307937443256, 0.0018664743984118104, 0.017256908118724823, 0.024877365678548813, 0.008447014726698399, 0.01692090928554535, -0.0008769573760218918, -0.013856598176062107, 0.004838385619223118, 0.03983604162931442, -0.03911028429865837, 0.003978228196501732, 0.025320883840322495, 0.01706874929368496, 0.03722868859767914, 0.021382976323366165, -0.010953566990792751, -0.027121838182210922, -0.024931125342845917, 0.023734968155622482, 0.033949337899684906, 0.010550368577241898, -0.007895976305007935, 0.006864459253847599, 0.005691823083907366, -0.0037867086939513683, 0.011538205668330193, 0.0020075940992683172, -0.00574558274820447, 0.01891002431511879, -0.00554062332957983, -0.03279350325465202, -0.6528595089912415, -0.008856933563947678, 0.009717090986669064, -0.005167664494365454, 0.009636451490223408, 0.0016505951061844826, 0.008655333891510963, 0.0004603186098393053, -0.0017421548254787922, 0.010140449739992619, -0.001493515563197434, -0.0006001782021485269, 0.014810835942626, 0.01192796416580677, -0.024783285334706306, -0.01607419177889824, -0.017673546448349953, 0.0003353689971845597, 0.0038908682763576508, 0.013211480341851711, 0.0003103790804743767, 0.01834554597735405, -0.01595323160290718, 0.0009063573088496923, 0.026893358677625656, -0.02002554014325142, 0.011753245256841183, -0.025065524503588676, 0.005003024823963642, 0.011807004921138287, -0.01459579635411501, 0.02001209929585457, 0.005103824660181999, 0.009851490147411823, 0.05276528373360634, -0.018439624458551407, -0.019246023148298264, 0.013910358771681786, 0.0225925724953413, -0.0018160745967179537, -0.030374309048056602, -0.007465897593647242, 0.0012793161440640688, 0.010785567574203014, 0.020509378984570503, -0.004717425908893347, 0.005782542750239372, -0.012431962415575981, -0.002871111501008272, -0.003833748633041978, 0.017955785617232323, -0.01071164757013321, 0.02580472268164158, -0.001311236061155796, 0.0028039116878062487, 0.00010079969797516242, 0.015281233936548233, -0.004650226328521967, -0.024191927164793015, 0.004925745073705912, 0.00016432450502179563, 0.017471948638558388, 0.004781265743076801, -0.014918355271220207, -0.013473560102283955, 0.0015674353344365954, -0.005664943251758814, 0.010019490495324135, 0.007385258097201586, 0.003302870085462928, 0.01122908666729927, 0.02001209929585457, -0.025414964184165, -0.017391307279467583, 0.006632620003074408, 0.00862173456698656, 0.038196366280317307, 0.0031365505419671535, 0.002896311227232218, 0.011477725580334663, -0.017176268622279167, -0.00897117331624031, -0.03601909056305885, 0.0035380693152546883, 0.0232780110090971, -0.02103353664278984, -0.02091257832944393, 0.013715478591620922, 0.01087964791804552, 0.0014750355621799827, -0.02018681913614273, 0.029997989535331726, -0.007835496217012405, 0.004092467948794365, -0.0002702691999729723, 0.02411128766834736, 0.005802702624350786, -0.009723810479044914, 0.01876218430697918, -0.013594519346952438, 0.009858210571110249, -0.028170155361294746, 0.007035818882286549, 0.011679325252771378, 0.01610107161104679, 0.008111015893518925, -0.010348768904805183, 0.006095021963119507, 0.03612661361694336, -0.02341241016983986, -0.001972314203158021, -0.010987167246639729, -0.00712317880243063, -0.0026661520823836327, -0.017606347799301147, -0.01804986596107483, 0.02554936334490776, 0.017270348966121674, 0.004989584907889366, -0.025347763672471046, 0.007990055717527866, 0.003978228196501732, -0.015334994532167912, 0.003958068322390318, 0.018157385289669037, 0.0014817555202171206, 0.014636116102337837, -0.008433574810624123, -0.011954843997955322, -0.016275791451334953, 0.0088233333081007, 0.015496273525059223, 0.003551509464159608, -0.0021251935977488756, 0.008218535222113132, -0.011665885336697102, 0.01766010746359825, -0.0119884442538023, 0.015429073944687843, -0.022915132343769073, -0.025643443688750267, -0.0033331101294606924, 0.0003523789346218109, 0.00995228998363018, -0.005315504036843777, -0.03768564760684967, -0.007143338676542044, -0.0025250324979424477, -0.020831936970353127, -0.001304516103118658, 0.006871179677546024, -0.0023889527656137943, 0.009683490730822086, -0.004404946696013212, -0.006531820632517338, -0.02468920685350895, 0.0003320090181659907, -0.01305692084133625, -0.03204086422920227, 0.0036052691284567118, 0.005701902788132429, 0.00627646129578352, -0.001362475915811956, -0.016692429780960083, -0.005070224869996309, -0.012102684006094933, 0.01622203178703785, 0.018802503123879433, -0.001372555852867663, -0.03658356890082359, 0.03204086422920227, -0.02725623920559883, -0.005335663910955191, 0.03171830624341965, -0.023372089490294456, 0.019232582300901413, -0.01778106763958931, -0.017014989629387856, 0.02114105597138405, -0.004845105577260256, -0.007519657723605633, -0.0005132384831085801, -0.009979169815778732, -0.02468920685350895, 0.04456690698862076, 0.0006392381037585437, 0.0018295145127922297, 0.002264633309096098, 0.016558030620217323, -0.002477992558851838, -0.008016936480998993, 0.01403131801635027, -0.002029433846473694, -9.108722588280216e-05, 0.012411803007125854, 0.030535588040947914, 0.030831268057227135, 0.02583160251379013, 0.02597944252192974, 0.019662661477923393, 0.006629260256886482, 0.0007475977763533592, 0.018157385289669037, 0.011047647334635258, 0.010919967666268349, -0.02665144018828869, 0.01086620707064867, -0.03045494854450226, 0.008016936480998993, -0.0005909382598474622, -0.00925341248512268, 0.004821585491299629, -0.02034809999167919, -0.013802838511765003, 0.016611790284514427, 0.022807611152529716, -0.007895976305007935, 0.0451045036315918, 0.01044956874102354, -0.0077615766786038876, -0.010321889072656631, -0.011108126491308212, 0.017471948638558388, 0.013843158259987831, -0.010772127658128738, 0.005675022955983877, 0.024756405502557755, -0.0028207115828990936, 0.025495603680610657, -0.014810835942626, -0.02595256268978119, -0.0020529539324343204, 0.005322223994880915, 0.005943822208791971, -0.006511660758405924, -0.014232917688786983, 0.027014318853616714, -0.006461260840296745, 0.026866478845477104, -0.02498488500714302, -0.008285734802484512, 0.016450511291623116, 0.0197298601269722, -0.0019101542420685291, 0.0021940735168755054, 0.016208590939641, 0.018022986128926277, -0.0001781844621291384, -0.020522817969322205, 0.008399974554777145, 0.004559506196528673, 0.01692090928554535, -0.00459310645237565, -0.005523823667317629, 0.004488946404308081, -0.023385530337691307, 0.01409851759672165, 0.00831933505833149, 0.019138501957058907, 0.03206774592399597, -0.005322223994880915, -0.008326055482029915, 0.022511932998895645, 0.01362139917910099, -0.020495938137173653, 0.028170155361294746, 0.005594383459538221, 0.025750963017344475, -0.014447956345975399, -0.003837108612060547, -0.0032474303152412176, -0.005130704492330551, -0.007459177635610104, -0.010140449739992619, 0.033492378890514374, -0.03303541988134384, 0.004717425908893347, 0.027189038693904877, 0.013722199015319347, 0.013177881017327309, -0.028546474874019623, -0.02343929000198841, -0.007170218508690596, 0.0352933332324028, -0.003178550396114588, -0.027135279029607773, -0.0169477891176939, -0.005466703791171312, 0.014125397428870201, 0.013950678519904613, -0.01283516176044941, -0.005046704784035683, 0.01544251386076212, -0.004969425033777952, -0.005943822208791971, -0.0109266871586442, -0.0020529539324343204, -0.046475380659103394, 0.01752570830285549, -0.008702374063432217, -0.007150058634579182, -0.009045093320310116, -0.015899471938610077, -0.013083800673484802, 0.017135947942733765, -0.007405417971313, -0.008359654806554317, -0.021100737154483795, 0.004243667237460613, -0.029460391029715538, -0.014434516429901123, 0.0013910358538851142, -0.03260534256696701, 0.004247027449309826, -0.016867149621248245, 0.011061087250709534, -0.02100665681064129, 0.012371483258903027, 0.041421957314014435, -0.01537531428039074, 0.012512602843344212, -0.022538812831044197, -0.014367316849529743, -0.01567099243402481, 0.12633562088012695, 0.0367179699242115, -0.005826222710311413, 0.010893087834119797, 0.013594519346952438, -0.000371698901290074, -0.0183724258095026, -0.05179760605096817, 0.035777173936367035, -0.004905585199594498, 0.004216787405312061, -0.004509106744080782, 0.02865399420261383, 0.01790202595293522, -0.019864261150360107, 0.00018910443759523332, 5.121359572513029e-05, -0.005399503745138645, 0.00288959126919508, -0.019111622124910355, 0.012290842831134796, 0.012801561504602432, -0.009905250743031502, 0.02428600750863552, -0.03233654424548149, -0.02412472851574421, 0.010375648736953735, 0.0022175933700054884, 0.024205368012189865, -0.017431627959012985, -0.021342655643820763, 0.011182046495378017, 0.0109468474984169, 0.0018345544813200831, -0.010651168413460255, -0.01494523510336876, -0.0008769573760218918, -0.00833949539810419, 0.010503328405320644, -0.024299446493387222, 0.007559977471828461, 0.01807674579322338, 0.022968892008066177, -0.01904442347586155, 0.002993751084432006, -0.01059740874916315, -0.0019840740133076906, 0.017283787950873375, -0.0018009545747190714, -0.008393255062401295, 0.030938787385821342, 6.179231422720477e-05, -0.014931795187294483, -0.037605006247758865, -0.022364092990756035, -0.007815336808562279, -0.0155097134411335, -0.004243667237460613, -0.00027509918436408043, 0.05585647374391556, -0.008218535222113132, -0.025025205686688423, 0.007559977471828461, -0.007297898177057505, 0.01592635177075863, -0.0010617568623274565, -0.007264298386871815, -0.005950542166829109, 0.010006049647927284, -0.01114844623953104, -0.027740076184272766, -0.021060416474938393, -0.0017522347625344992, 0.004841745365411043, 0.01240508258342743, 0.01610107161104679, 0.015590352937579155, -0.002180633367970586, 2.3218055503093638e-05, -0.019528262317180634, -0.03730932995676994, -0.02651704102754593, 0.00790269672870636, -0.02217593416571617, -0.00627646129578352, 0.003954708110541105, 0.0011776764877140522, -0.013063641265034676, -0.021409856155514717, 0.028304554522037506, 0.032363422214984894, 0.014071637764573097, 0.005648143123835325, -0.011934684589505196, 0.005127344746142626, -0.006810699589550495, -0.00031898904126137495, -0.00690813921391964, 0.004767825827002525, -0.009770850650966167, -0.003269270295277238, -0.024232247844338417, -0.025468723848462105, -0.015630673617124557, 0.01761978678405285, 0.010987167246639729, -0.0004997985088266432, 0.025643443688750267, -0.006881259381771088, -0.021813055500388145, 0.006746859755367041, -0.015240914188325405, -0.016867149621248245, 0.01932666264474392, 0.01677306927740574, 0.01792890578508377, 0.001056716893799603, 0.03233654424548149, 0.00521470420062542, -0.02608696185052395, 0.008205095306038857, -0.012808281928300858, 0.019944900646805763, 0.005423023831099272, -0.022538812831044197, 0.004727506078779697, 0.008581413887441158, -0.036207251250743866, 0.004031987860798836, -0.00833949539810419, -0.008520934730768204, 0.021947454661130905, 0.02608696185052395, -0.022538812831044197, -0.033949337899684906, 0.01348700001835823, 0.0015951552195474505, 0.002182313473895192, -0.007271018344908953, 0.006212621461600065, -0.014421076513826847, -2.15643103729235e-05, -0.02706807851791382, -0.0126873217523098, -0.005597743205726147, -0.02779383771121502, 0.0013675158843398094, 0.003438949817791581, 0.0006451180670410395, 0.012190043926239014, -0.012526042759418488, -0.012875481508672237, 0.008211815729737282, 0.018453065305948257, 0.00818493589758873, -0.024581685662269592, -0.020522817969322205, 0.006689739879220724, 0.021544255316257477, 0.015294673852622509, 0.01610107161104679, -0.001156676560640335, 0.022659773007035255, 0.03357302024960518, 0.001937034190632403, 0.011733084917068481, -0.006051342003047466, 0.00838653463870287, -0.022673211991786957, 0.04220147430896759, 0.029863590374588966, 0.004892145283520222, 0.02032122015953064, -0.005661583039909601, 0.006047981791198254, 0.03021303005516529, -0.009340772405266762, 0.0024309526197612286, -0.003207110334187746, -0.01692090928554535, -0.006619180087000132, 0.010846047662198544, 0.0018950343364849687, 0.013581079430878162, -0.025992881506681442, -0.024178488180041313, 0.027578797191381454, 0.005345744080841541, 0.002724951831623912, -0.0022461533080786467, 0.019998660311102867, 0.0021873535588383675, -0.017861707136034966, 0.005651502870023251, 0.027578797191381454, -0.003217190271243453, 0.0037598288618028164, 0.009623011574149132, 0.0024964725598692894, 0.022686652839183807, -0.007895976305007935, 0.007176938466727734, -0.02271353267133236, -0.022364092990756035, -0.0038135885260999203, 0.007143338676542044, -0.003561589401215315, -0.00013187959848437458, 0.012183323502540588, -0.023600568994879723, 0.0027031118515878916, -0.0003351589839439839, -0.026879919692873955, -0.01681338995695114, -0.017176268622279167, -0.003692629048600793, 0.003934548236429691, 0.019299782812595367, -0.0036691089626401663, -0.018103625625371933, -0.006471340544521809, -0.01580539345741272, 0.05660910904407501, -0.007680937182158232, 0.02385592833161354, 0.0022411132231354713, -0.011759964749217033, -0.010442848317325115, 0.01212284341454506, -0.015738192945718765, 0.01916538178920746, 0.017418187111616135, -0.0036086291074752808, -0.017283787950873375, 0.020966337993741035, -0.023385530337691307, 0.028707753866910934, -0.03311606124043465, -0.038169484585523605, 0.013218200765550137, -0.006199181545525789, -0.002598952269181609, 0.0031852705869823694, -0.006941739469766617, -0.01583227328956127, 0.009307172149419785, -0.03158390522003174, -0.00045275865704752505, 0.0015010754577815533, -0.008991332724690437, -0.035212695598602295, 0.014770516194403172, 0.006982059217989445, 0.04058867692947388, -0.024178488180041313, 0.012862041592597961, -0.004243667237460613, -0.020657218992710114, -0.018157385289669037, 0.02510584518313408, 0.001854714471846819, 0.015388754196465015, -0.01221020333468914, -0.03005175106227398, -0.003847188549116254, -0.02439352683722973, 0.00602782191708684, 0.0008047175942920148, -0.008487334474921227, 0.03034742921590805, -0.006619180087000132, -0.005722062662243843, -0.016867149621248245, -0.007580137345939875, 0.03709428757429123, -0.01678651012480259, -0.011417245492339134, -0.02076473832130432, 0.03636853024363518, -0.00515758479014039, -0.004273907281458378, 0.010543648153543472, -0.009992609731853008, -0.015334994532167912, -0.0003599389165174216, -0.011605405248701572, 0.0026997518725693226, -0.003944628406316042, 0.01318460050970316, -0.021503936499357224, -0.020401859655976295, -0.016060752794146538, -0.028008876368403435, -0.005402863956987858, -0.010409248992800713, -0.01227068342268467, 0.015214034356176853, 0.04187891632318497, -0.04730865731835365, 0.007183658424764872, -0.0015338354278355837, 0.009045093320310116, -0.015603793784976006, 0.014770516194403172, -0.0003845088358502835, 0.015267794020473957, 0.036637332290410995, -0.0130502013489604, -0.02088569663465023, -0.015482833608984947, 0.016584910452365875, 0.0015506353229284286, 0.014636116102337837, -0.01610107161104679, 0.020966337993741035, 0.02369464933872223, 0.016840269789099693, -0.011329886503517628, 0.0025687122251838446, -0.014703315682709217, 0.005355823785066605, 0.012505882419645786, 0.005624623037874699, -0.03467509523034096, -0.0012163163628429174, -0.013224920257925987, 0.005204624496400356, 0.0006228581187315285, -0.047201137989759445, 0.00522478437051177, -0.01023452915251255, 0.03459445759654045, 0.004996304865926504, -0.011652445420622826, 0.004656946286559105, 0.012593242339789867, -0.0018933543469756842, 0.034379418939352036, 0.009528931230306625, -0.014622676186263561, 0.012028764002025127, -0.0003391489735804498, 0.007815336808562279, -0.008520934730768204, 0.006988779176026583, 0.005997581873089075, -0.0007765776827000082, 0.001844634534791112, -0.03962100297212601, -0.02667832002043724, -0.0072239781729876995, 0.025630002841353416, 0.005826222710311413, -0.0005249984096735716, -0.010960287414491177, -0.004599826410412788, -0.019407302141189575, -0.001007996965199709, -0.017754187807440758, 0.021799614652991295, 0.038760844618082047, -0.0014405957190319896, 0.006491500418633223, 0.014730195514857769, 0.010980446822941303, 0.00342046981677413, -0.023923128843307495, 0.012216923758387566, 0.01991802081465721, -0.006750219967216253, 0.01596667245030403, 0.019716421142220497, -0.04752369970083237, 0.007895976305007935, -0.0039043084252625704, -0.009428131394088268, -0.006189101375639439, -0.0074860574677586555, -0.005248304456472397, 0.0116457249969244, -0.00613870145753026, -0.002267993288114667, 0.0010205969447270036, -0.0020865537226200104, -0.017969226464629173, -0.02483704499900341, 0.007230698596686125, 0.0013498759362846613, 0.021235136315226555, -0.031126946210861206, -0.004512466490268707, 0.00959613174200058, -0.0026678319554775953, -0.011040926910936832, -0.016262350603938103, -0.007049258798360825, -0.004132787697017193, -0.030562467873096466, 0.028976554051041603, 0.017673546448349953, -0.004734226036816835, 0.016907470300793648, 0.0015329953748732805, 0.007533097639679909, -0.006447820924222469, 0.022794172167778015, -0.024581685662269592, -0.004841745365411043, 0.016746189445257187, -0.02228345349431038, 0.027444398030638695, 0.00577918253839016, 0.025576243177056313, -0.048356976360082626, 0.029299112036824226, -0.013870038092136383, -0.015173714607954025, -0.029541032388806343, 0.023103291168808937, 0.00386062846519053, -0.01057724840939045, 0.011605405248701572, -0.004176467657089233, 0.002736711874604225, 0.014447956345975399, -0.032417181879282, -0.005019824951887131, -0.00441166665405035, 0.0028022315818816423, -0.007459177635610104, -0.004502386320382357, -0.03005175106227398, -0.0033935897517949343, 0.01877562329173088, -0.0011911164037883282, -0.008608294650912285, 0.20267459750175476, -0.0036052691284567118, 0.012089244090020657, 0.025025205686688423, -0.025146164000034332, -0.006293260958045721, 0.002425912767648697, 0.006427660584449768, 0.01320476084947586, 0.013654999434947968, -0.010086690075695515, -0.0029433511663228273, -0.012888921424746513, 0.010805727913975716, 0.00958269089460373, -0.007237418554723263, -0.03131510689854622, -0.02412472851574421, 0.012741082347929478, -0.0550231970846653, 0.008030376397073269, 0.0004493986489251256, -0.013413080014288425, -0.013097240589559078, 0.02951415255665779, -4.134362825425342e-06, -0.01567099243402481, -0.00960285123437643, 0.012163164094090462, -0.003438949817791581, -0.016342991963028908, -0.004317587241530418, 0.002892951248213649, -0.013567639514803886, -0.00430078711360693, -0.010530208237469196, -0.004751025699079037, -0.001868154387921095, 0.005036625079810619, 0.005997581873089075, -0.0029383113142102957, 0.005990861915051937, -0.009125732816755772, -0.0034742297139018774, 0.00577918253839016, 0.0239903274923563, 0.001799274585209787, 0.000426718732342124, -0.02538808435201645, 0.008897253312170506, -0.04144883528351784, -0.02256569266319275, 0.021100737154483795, 0.029621671885252, -0.004663666244596243, 0.008870373480021954, 0.010839327238500118, 0.009159333072602749, -0.012680602259933949, 0.02032122015953064, -0.01353403925895691, -0.002993751084432006, -0.0025720722042024136, 0.016584910452365875, 0.007465897593647242, 0.043652988970279694, -0.00719037838280201, -0.002598952269181609, -0.0003681289090309292, -0.007512937765568495, -0.007103018928319216, -0.016450511291623116, -0.026154162362217903, -0.002864391542971134, -0.04824945703148842, -0.0007341578020714223, 0.03779316693544388, 0.025509044528007507, 0.007707817014306784, 0.020415298640727997, -0.008373094722628593, -0.006158861797302961, 0.011222366243600845, 0.007559977471828461, -0.026879919692873955, -0.021275456994771957, 0.027981996536254883, -0.004522546660155058, -0.009327332489192486, 0.014273237437009811, -0.00959613174200058, -0.029541032388806343, -0.00011119466944364831, -0.009307172149419785, -0.009475171566009521, 0.005006385035812855, 0.036906130611896515, 0.008944293484091759, -0.015469393692910671, -0.0008626774069853127, -0.008702374063432217, -0.010852767154574394, 0.031960222870111465, 0.008420134894549847, -0.0023251131642609835, 0.003917748108506203, 0.010389088653028011, 0.009360931813716888, 0.000307229085592553, -0.025334324687719345, -0.01199516374617815, -0.04392178729176521, -0.013910358771681786, -0.0029030314180999994, 0.00627646129578352, 0.009676771238446236, -0.021248577162623405, -0.009488611482083797, 0.008507494814693928, 0.004105907864868641, 0.003433909732848406, -0.01651770994067192, 0.008097575977444649, -0.0013364360202103853, 0.00796989630907774, -0.011518045328557491, -0.019246023148298264, 0.025361204519867897, 0.00708957901224494, -0.0422821119427681, 0.026355762034654617, -0.017471948638558388, 0.01766010746359825, 0.005560783203691244, -0.0197567418217659, -0.011343326419591904, 0.018170826137065887, -0.015980111435055733, 0.0010466368403285742, 0.01580539345741272, 0.014353876933455467, -0.028116395696997643, 0.021544255316257477, -0.015052755363285542, 0.030831268057227135, -0.015267794020473957, 0.008231975138187408, 0.0011507965391501784, -0.01636987179517746, 0.001579195261001587, -0.01051676832139492, 0.019004102796316147, -0.0013565958943217993, -0.034943897277116776, -0.00578926270827651, -0.02694712020456791, -0.033653657883405685, -0.008722533471882343, 0.006464620586484671, 0.016020432114601135, -0.04018548130989075, 0.0007488577393814921, 0.015133394859731197, -0.018842823803424835, -0.006686380133032799, -0.019823940470814705, -0.17160139977931976, 0.007613737136125565, -0.0008248775266110897, -0.01835898496210575, 0.024796726182103157, 0.008164775557816029, 0.006118541583418846, 0.007707817014306784, -0.025052085518836975, 0.0025233523920178413, 0.006988779176026583, 0.013843158259987831, -0.028170155361294746, -0.026154162362217903, -0.006471340544521809, -0.007815336808562279, -0.025320883840322495, 0.024796726182103157, 0.015496273525059223, 0.01705530844628811, 0.019151942804455757, -0.014985554851591587, 0.005493583623319864, 0.03483637422323227, 0.010053089819848537, 0.024783285334706306, 0.0022343932650983334, 0.01665211096405983, -0.004784625489264727, -0.0409112386405468, 0.001435555750504136, -0.013829718343913555, 0.01086620707064867, 0.007378538139164448, 0.02665144018828869, 0.006521740462630987, -0.015429073944687843, -0.025737522169947624, -0.021813055500388145, 0.012895641848444939, 0.036771729588508606, 0.006189101375639439, -0.01114844623953104, -0.00373630877584219, -0.0176332276314497, 0.027578797191381454, 0.02354680933058262, -0.005859822500497103, 0.003974867984652519, -0.0030811107717454433, 0.012458843179047108, -0.022068414837121964, 0.011282846331596375, 0.004065587650984526, 0.03784692659974098, -0.015617233701050282, 0.024514487013220787, 0.008655333891510963, 0.011759964749217033, 0.013245080597698689, -0.01474363636225462, -0.02427256666123867, 0.002777031622827053, -0.011437405832111835, -0.008305895142257214, -0.01459579635411501, -0.006531820632517338, -0.014582356438040733, -0.02159801498055458, 0.008554534055292606, -0.02795511670410633, 0.018305225297808647, -0.006226061377674341, 0.005339024122804403, 0.01235804334282875, 0.023062970489263535, -0.0380619652569294, -0.006417580880224705, -0.0011709565296769142, 0.021813055500388145, -0.005470063537359238, 0.02087225764989853, -0.00897117331624031, -0.0018496745033189654, 0.0029635110404342413, 0.008870373480021954, 0.0019907939713448286, -0.00024107928038574755, -0.01016061007976532, -0.0077817365527153015, 0.01151132583618164, -0.01327196042984724, -0.02396344766020775, -0.020401859655976295, -0.012001884169876575, -0.0008618374122306705, 0.03007863089442253, 0.013661718927323818, 0.002061353763565421, -0.02653048001229763, 0.010852767154574394, -0.01333916001021862, 0.00866877380758524, 0.009549091570079327, 0.00967005081474781, 0.007055978756397963, 0.00451582670211792, 0.004243667237460613, 0.015334994532167912, -0.0007043379009701312, -0.02455480583012104, -0.01494523510336876, 0.014085077680647373, 0.0011062766425311565, -0.004220147151499987, 0.01893690414726734, 0.0012171564158052206, -0.025589684024453163, 0.0032423902302980423, -0.011531485244631767, 0.05591023340821266, 0.0030743908137083054, -0.012351322919130325, -0.0014817555202171206, -0.023748409003019333, -0.01905786246061325, -0.13525976240634918, -0.023372089490294456, 0.026288561522960663, 0.020240578800439835, 0.014085077680647373, 0.01424635760486126, -0.010624288581311703, 0.014931795187294483, 0.004287347197532654, 0.005806062836199999, 0.004925745073705912, -0.02710839919745922, -0.020657218992710114, 0.004724145866930485, 0.0072038182988762856, 0.004687185864895582, -0.0011835565092042089, -0.013171160593628883, -0.016127951443195343, 0.04545394331216812, 0.0023553529754281044, 0.01292252168059349, -0.0289227943867445, -0.0218936949968338, 0.006031182128936052, -0.005816142540425062, -0.021100737154483795, 0.023896249011158943, 0.014972114935517311, 0.024783285334706306, -0.0064982203766703606, -0.011591965332627296, 0.02114105597138405, -0.00881661381572485, -0.0034843096509575844, -0.004280627239495516, -0.02439352683722973, 0.012465562671422958, 0.001710234908387065, -0.02838519588112831, -0.0006539380410686135, 0.015281233936548233, 0.019286341965198517, -0.017404748126864433, -0.00218903343193233, 0.0020999936386942863, -0.028842153027653694, 0.013607959263026714, 0.01678651012480259, 0.0009937169961631298, 0.0004775385605171323, -0.0169343501329422, -0.013366039842367172, 0.0001057871850207448, 0.014689875766634941, 0.0005506183370016515, 0.02808951586484909, -0.0010373969562351704, -0.017566027119755745, 0.03432565554976463, 0.0003296990180388093, -0.001073516788892448, -0.010678048245608807, 0.00796989630907774, -0.009011493064463139, -0.0002259593311464414, -0.015214034356176853, 0.0007425578078255057, 0.021127616986632347, -0.02795511670410633, -0.008359654806554317, 0.00719037838280201, 0.005486863665282726, 0.02091257832944393, -0.02118137665092945, -0.01735098846256733, 0.0012557962909340858, -0.006390701048076153, 0.02198777347803116, -0.012761241756379604, -0.02315705083310604, -0.010389088653028011, 0.031557027250528336, -0.008662054315209389, -0.002726631937548518, 0.011833884753286839, 0.006293260958045721, -0.007869096472859383, -0.005234864540398121, -0.014326997101306915, -0.006659500300884247, 0.028842153027653694, 0.018829382956027985, -0.02737719751894474, -0.00596062233671546, 0.020710978657007217, -0.01593979261815548, -0.00275351176969707, 0.009629731066524982, 0.005816142540425062, -0.03163766488432884, -0.0012272363528609276, -0.033814940601587296, 0.03400309756398201, -0.025414964184165, -0.008702374063432217, 0.005493583623319864, -0.005406223703175783, 0.009374371729791164, -0.00719037838280201, -0.03263222426176071, -0.003995027858763933, -0.01778106763958931, 0.023036090657114983, -0.001930314232595265, -0.013171160593628883, -0.03905652463436127, -0.020926017314195633, 0.02497144602239132, 0.007539817597717047, 0.006095021963119507, 0.029164712876081467, -0.00014458457008004189, 0.0015271154697984457, 0.008326055482029915, 0.01610107161104679, -0.0022427933290600777, 0.0011936364462599158, -0.017592906951904297, 0.014259797520935535, -0.016853708773851395, -0.0069282990880310535, 0.020536258816719055, -0.01066460832953453, 0.00831933505833149, -0.010288288816809654, 0.008158056065440178, 0.007801896892488003, 0.01283516176044941, 0.001868154387921095, 0.007022378966212273, 0.03136886656284332, -0.013648279011249542, -0.02608696185052395, 0.011524765752255917, -0.011135006323456764, 0.000724497833289206, 0.011565085500478745, -0.027269678190350533, 0.008151335641741753, 0.008588134311139584, 0.024232247844338417, 0.012848601676523685, 0.02313017100095749, -0.025737522169947624, -0.0006598180043511093, -0.02878839336335659, -0.003309590043500066, 0.025992881506681442, -0.006098381709307432, -0.0018177545862272382, -0.00257375231012702, 0.018708424642682076, -0.011450845748186111, 0.010913247242569923, -0.0006010181969031692, 0.04642162099480629, 0.004959345329552889, 0.01001277007162571, -0.00737181818112731, 0.0034876696299761534, -0.03771252557635307, -0.015630673617124557, -0.01179356500506401, 0.027121838182210922, 0.041986435651779175, -0.004821585491299629, 0.007983336225152016, -0.003541429527103901, 0.015173714607954025, 0.0014397556660696864, 0.005863182246685028, 0.03206774592399597, 0.009132452309131622, -0.03432565554976463, 0.0031113505829125643, 0.027713196352124214, 0.03921780362725258, 0.0007257578545249999, -0.0013364360202103853, 0.017552588135004044, 0.01255292259156704, 0.035642772912979126, 0.0016094351885840297, -0.004431826528161764, -0.009569250978529453, 0.016060752794146538, 0.016826828941702843, -0.012801561504602432, 0.012169883586466312, 0.01638331077992916, 0.009058533236384392, 0.004472146742045879, -0.0018916743574663997, 0.0197701808065176, -0.006269741337746382, -0.02554936334490776, 0.021934013813734055, -0.008198375813663006, -0.014111957512795925, 0.006565420422703028, 0.011034207418560982, -0.003294470254331827, -0.012828441336750984, 0.024084407836198807, 0.014757076278328896, -0.03701364994049072, 0.026718640699982643, 0.02765943668782711, -0.021974334493279457, -0.027686316519975662, 0.04405618831515312, 0.01904442347586155, -0.0024729527067393064, 0.013097240589559078, -0.005392783787101507, 0.005056784953922033, -0.01240508258342743, 0.02044217847287655, -0.010987167246639729, -0.0069215791299939156, -0.02638264186680317, 0.0026560721453279257, -0.0381426066160202, -0.020710978657007217, 0.003062630770727992, 0.007828776724636555, -0.025750963017344475, 0.002593912184238434, 0.01735098846256733, -0.03330422192811966, 0.020778177306056023, 0.03569653257727623, -0.011605405248701572, 0.0006115181604400277, -0.01424635760486126, 0.00953565165400505, 0.0021319135557860136, 0.007257578428834677, -0.021907133981585503, -0.02131577581167221, 0.02171897515654564, -0.011820444837212563, 0.023775288835167885, -0.03397621959447861, -0.02284793183207512, 0.010261408984661102, -0.016477391123771667, 0.004445266909897327, -0.011471006087958813, -0.007869096472859383, 0.02300921082496643, 0.005265104118734598, 0.02808951586484909, -0.002987031126394868, -0.010536928661167622, -0.01214300375431776, 0.020643778145313263, 0.009226532652974129, -0.01991802081465721, -0.017270348966121674, -0.012868761084973812, -0.0010953567689284682, -0.03537397459149361, -0.018990663811564445, 0.012909081764519215, -0.012156443670392036, 0.004663666244596243, -0.007465897593647242, 0.02808951586484909, -0.00715677859261632, -0.005023185163736343, 0.014582356438040733, -0.014071637764573097, -0.048330094665288925, 0.016342991963028908, -0.00197567418217659, -0.007828776724636555, -0.01014716923236847, -0.009125732816755772]\n"
     ]
    }
   ],
   "source": [
    "# 첫번째 벡터 파일만 확인해보자\n",
    "import glob\n",
    "for cached_file in glob.glob(os.path.join(base_path, '.cache', '*')):\n",
    "  with open(cached_file, 'r') as f:\n",
    "    print(f.read())\n",
    "    break"
   ]
  },
  {
   "cell_type": "markdown",
   "id": "cb844303-a43e-477e-913a-590239c4d731",
   "metadata": {},
   "source": [
    "## OpenAI usage 확인\n",
    "\n",
    "로그인 후 확인해보세요\n",
    "https://platform.openai.com/usage/activity"
   ]
  },
  {
   "cell_type": "markdown",
   "id": "bda8b3ff-21b2-4d1a-ba19-e4e0cb411f86",
   "metadata": {},
   "source": [
    "# 5.Langsmith\n",
    "\n",
    "https://www.langchain.com/langsmith\n",
    "\n",
    "![](https://encrypted-tbn0.gstatic.com/images?q=tbn:ANd9GcRejzbKjev2a8d-EKtUU06p84fh5NX_S7dDLA&s)"
   ]
  },
  {
   "cell_type": "code",
   "execution_count": null,
   "id": "f1da8649-22a2-413d-b237-65978b163104",
   "metadata": {},
   "outputs": [],
   "source": [
    "\"\"\"\n",
    "↓ .env 파일에 환경변수 입력 (추가)\n",
    "\n",
    "OPENAI_API_KEY=xxxx\n",
    "LANGCHAIN_TRACING_V2=true\n",
    "LANGCHAIN_ENDPOINT=\"https://api.smith.langchain.com\"\n",
    "LANGCHAIN_API_KEY=xxxx\n",
    "\"\"\"\n",
    "None"
   ]
  },
  {
   "cell_type": "code",
   "execution_count": 1,
   "id": "a3cce4fd-ff95-4c7c-9954-011b15d1e71d",
   "metadata": {},
   "outputs": [
    {
     "name": "stderr",
     "output_type": "stream",
     "text": [
      "C:\\Users\\User\\AppData\\Local\\Temp\\ipykernel_25072\\1308439146.py:9: LangChainDeprecationWarning: Please see the migration guide at: https://python.langchain.com/docs/versions/migrating_memory/\n",
      "  memory = ConversationSummaryBufferMemory(\n"
     ]
    },
    {
     "name": "stdout",
     "output_type": "stream",
     "text": [
      "content='Hello John! How can I assist you today?' additional_kwargs={'refusal': None} response_metadata={'token_usage': {'completion_tokens': 10, 'prompt_tokens': 24, 'total_tokens': 34, 'completion_tokens_details': {'accepted_prediction_tokens': 0, 'audio_tokens': 0, 'reasoning_tokens': 0, 'rejected_prediction_tokens': 0}, 'prompt_tokens_details': {'audio_tokens': 0, 'cached_tokens': 0}}, 'model_name': 'gpt-3.5-turbo-0125', 'system_fingerprint': None, 'id': 'chatcmpl-BtuOzCDpdgOkYVrQLZg4ObJ7OfzqJ', 'finish_reason': 'stop', 'logprobs': None} id='run--90539d5f-6eb7-4c96-a272-f955d59003a4-0' usage_metadata={'input_tokens': 24, 'output_tokens': 10, 'total_tokens': 34, 'input_token_details': {'audio': 0, 'cache_read': 0}, 'output_token_details': {'audio': 0, 'reasoning': 0}}\n",
      "content='Your name is John.' additional_kwargs={'refusal': None} response_metadata={'token_usage': {'completion_tokens': 5, 'prompt_tokens': 47, 'total_tokens': 52, 'completion_tokens_details': {'accepted_prediction_tokens': 0, 'audio_tokens': 0, 'reasoning_tokens': 0, 'rejected_prediction_tokens': 0}, 'prompt_tokens_details': {'audio_tokens': 0, 'cached_tokens': 0}}, 'model_name': 'gpt-3.5-turbo-0125', 'system_fingerprint': None, 'id': 'chatcmpl-BtuP0KVcSXDC9OLbHc9M8shmexnwX', 'finish_reason': 'stop', 'logprobs': None} id='run--36d4051a-5c32-4335-8cd5-d62aa03f3358-0' usage_metadata={'input_tokens': 47, 'output_tokens': 5, 'total_tokens': 52, 'input_token_details': {'audio': 0, 'cache_read': 0}, 'output_token_details': {'audio': 0, 'reasoning': 0}}\n"
     ]
    }
   ],
   "source": [
    "from langchain_openai.chat_models import ChatOpenAI\n",
    "from langchain_core.prompts.chat import ChatPromptTemplate\n",
    "from langchain.memory.summary_buffer import ConversationSummaryBufferMemory\n",
    "from langchain_core.runnables.passthrough import RunnablePassthrough\n",
    "from langchain_core.prompts.chat import MessagesPlaceholder\n",
    "\n",
    "llm = ChatOpenAI(temperature=0.1)\n",
    "\n",
    "memory = ConversationSummaryBufferMemory(\n",
    "    llm=llm,\n",
    "    max_token_limit=120,\n",
    "    return_messages=True,\n",
    ")\n",
    "\n",
    "prompt = ChatPromptTemplate.from_messages(\n",
    "    [\n",
    "        (\"system\", \"You are a helpful AI talking to a human\"),\n",
    "        MessagesPlaceholder(variable_name=\"history\"),\n",
    "        (\"human\", \"{question}\"),\n",
    "    ]\n",
    ")\n",
    "\n",
    "def load_memory(_):\n",
    "    return memory.load_memory_variables({})[\"history\"]\n",
    "\n",
    "chain = RunnablePassthrough.assign(history=load_memory) | prompt | llm\n",
    "\n",
    "\n",
    "def invoke_chain(question):\n",
    "    result = chain.invoke({\"question\": question})  # ★ 체인 실행!\n",
    "    memory.save_context(\n",
    "        {\"input\": question},\n",
    "        {\"output\": result.content},\n",
    "    )\n",
    "    print(result)\n",
    "\n",
    "invoke_chain(\"My name is John\")\n",
    "invoke_chain(\"What is my name?\")\n"
   ]
  },
  {
   "cell_type": "markdown",
   "id": "aa7b02c1-6cea-498e-ae2c-d862d9ef8320",
   "metadata": {},
   "source": [
    "# RetrievalQA"
   ]
  },
  {
   "cell_type": "code",
   "execution_count": null,
   "id": "7badd590-9c9e-4338-93af-cc435351be16",
   "metadata": {},
   "outputs": [],
   "source": [
    "# 다양한 RAG 구현하는 document chain 을 사용\n",
    "# 방법1: RetrievalQA 사용 (off-the-shelf chain)  (현재는 deprecated)\n",
    "# 방법2: LCEL 직접 구현 (권장*)"
   ]
  },
  {
   "cell_type": "markdown",
   "id": "5493a494-7b03-4528-bca6-4b99f40714e6",
   "metadata": {},
   "source": [
    "## Stuff Documents chain"
   ]
  },
  {
   "cell_type": "markdown",
   "id": "a4cb72e4-0929-46d9-8aa2-503742cd9379",
   "metadata": {},
   "source": [
    "https://js.langchain.com/v0.1/docs/modules/chains/document/stuff/\n",
    "\n",
    "![](https://js.langchain.com/v0.1/assets/images/stuff-818da4c66ee17911bc8861c089316579.jpg)"
   ]
  },
  {
   "cell_type": "code",
   "execution_count": 2,
   "id": "ad2f7672-f348-49e9-9b97-ed20f3d6f6c0",
   "metadata": {},
   "outputs": [],
   "source": [
    "# v0.3\n",
    "from langchain.chains.retrieval_qa.base import RetrievalQA\n",
    "# https://python.langchain.com/api_reference/langchain/chains/langchain.chains.retrieval_qa.base.RetrievalQA.html\n",
    "# Chain for question-answering against an index.\n"
   ]
  },
  {
   "cell_type": "code",
   "execution_count": 5,
   "id": "2443d91b-3bdb-44e8-a8b4-c1d2e377e956",
   "metadata": {},
   "outputs": [
    {
     "name": "stderr",
     "output_type": "stream",
     "text": [
      "C:\\Users\\User\\AppData\\Local\\Temp\\ipykernel_25072\\3155588518.py:22: LangChainDeprecationWarning: The class `UnstructuredFileLoader` was deprecated in LangChain 0.2.8 and will be removed in 1.0. An updated version of the class exists in the :class:`~langchain-unstructured package and should be used instead. To use it run `pip install -U :class:`~langchain-unstructured` and import as `from :class:`~langchain_unstructured import UnstructuredLoader``.\n",
      "  loader = UnstructuredFileLoader(os.path.join(base_path, 'chapter_one.txt'))\n",
      "libmagic is unavailable but assists in filetype detection. Please consider installing libmagic for better results.\n"
     ]
    }
   ],
   "source": [
    "import os\n",
    "from langchain_community.document_loaders.unstructured import UnstructuredFileLoader\n",
    "from langchain_text_splitters.character import CharacterTextSplitter\n",
    "\n",
    "from langchain_openai.embeddings.base import OpenAIEmbeddings\n",
    "from langchain_community.vectorstores.chroma import Chroma\n",
    "from langchain.embeddings.cache import CacheBackedEmbeddings\n",
    "from langchain.storage.file_system import LocalFileStore\n",
    "\n",
    "base_path = r'D:\\Lang2505\\dataset\\files'\n",
    "\n",
    "llm = ChatOpenAI()\n",
    "\n",
    "cache_dir = LocalFileStore(os.path.join(base_path, \".cache\"))\n",
    "\n",
    "splitter = CharacterTextSplitter.from_tiktoken_encoder(\n",
    "    separator=\"\\n\",\n",
    "    chunk_size=600,\n",
    "    chunk_overlap=100,\n",
    ")\n",
    "\n",
    "loader = UnstructuredFileLoader(os.path.join(base_path, 'chapter_one.txt'))\n",
    "\n",
    "docs = loader.load_and_split(text_splitter=splitter)\n",
    "\n",
    "embeddings = OpenAIEmbeddings()\n",
    "\n",
    "cached_embeddings = CacheBackedEmbeddings.from_bytes_store(embeddings, cache_dir)\n",
    "\n",
    "vectorstore = Chroma.from_documents(docs, cached_embeddings)"
   ]
  },
  {
   "cell_type": "code",
   "execution_count": 6,
   "id": "7500fe9b-4b67-406a-a6a4-7066db0073d2",
   "metadata": {},
   "outputs": [
    {
     "data": {
      "text/plain": [
       "{'query': 'Where does Winston live?',\n",
       " 'result': 'Winston Smith lives in Victory Mansions, which is a dilapidated apartment building.'}"
      ]
     },
     "execution_count": 6,
     "metadata": {},
     "output_type": "execute_result"
    }
   ],
   "source": [
    "chain = RetrievalQA.from_chain_type(\n",
    "    llm=llm,\n",
    "    chain_type=\"stuff\",   # stuff document chain (디폴트)\n",
    "    retriever = vectorstore.as_retriever()\n",
    ")\n",
    "\n",
    "chain.invoke(\"Where does Winston live?\")"
   ]
  },
  {
   "cell_type": "code",
   "execution_count": 7,
   "id": "4a9c5c65-7bce-43fe-9ff2-259dd47f77bf",
   "metadata": {},
   "outputs": [
    {
     "data": {
      "text/plain": [
       "{'query': 'Describe Victory Mansions',\n",
       " 'result': 'Victory Mansions is the place where Winston Smith lives. It is a run-down, dilapidated building with a smell of boiled cabbage and old rag mats permeating the hallway. The elevator rarely works, the electric current is cut off during daylight hours, and the building is seven flights up. The hallway has a large colored poster tacked to the wall depicting an enormous face, with the caption \"BIG BROTHER IS WATCHING YOU.\" The place is grim and lacking in comfort, reflecting the austere and oppressive atmosphere of the society depicted in the novel \"1984\" by George Orwell.'}"
      ]
     },
     "execution_count": 7,
     "metadata": {},
     "output_type": "execute_result"
    }
   ],
   "source": [
    "chain.invoke(\"Describe Victory Mansions\")"
   ]
  },
  {
   "cell_type": "markdown",
   "id": "48ba9cc6-06a6-446d-ae79-fdef2ee46b95",
   "metadata": {},
   "source": [
    "## Refine Document Chain"
   ]
  },
  {
   "cell_type": "markdown",
   "id": "a9dc65fe-3f1c-49cb-b3ad-28ab40b2a5b3",
   "metadata": {},
   "source": [
    "https://js.langchain.com/v0.1/docs/modules/chains/document/refine/\n",
    "\n",
    "![](https://js.langchain.com/v0.1/assets/images/refine-a70f30dd7ada6fe5e3fcc40dd70de037.jpg)"
   ]
  },
  {
   "cell_type": "code",
   "execution_count": null,
   "id": "f7ebbcd1-3c1a-45ec-813c-7163bcb364c2",
   "metadata": {},
   "outputs": [],
   "source": [
    "\"\"\"\n",
    "(위 그림)\n",
    "질문을 하면 \"What is foo?\"\n",
    "그 질문을 사용해서 document 들을 search(검색) 할거다\n",
    "\n",
    "그리고 각각의 document 를 읽으면서, 질문에 대한 답변 생성을 시도한다! => for i in len(docs)\n",
    "\n",
    "생성된 답변과 다음 document 를 입력받아 업데이트된 답변생성을 반복하는 거다\n",
    "이 작업을 반복하면서, 모든 각 document 를 통해 question 을 개선시켜 나간다.\n",
    "이 과정을 Refine (정제, 가다듬기) 라고 한다.\n",
    "\n",
    "이 방법은 비용이 더 비싸질수도 있다.\n",
    "chain  내부에서 '각 Document' 에 대한 또 다른 작업들을 수행해야 하니까!\n",
    "만약 Document 가 x10개 있다면 개별적으로 하나의 답변을 생성해야 하니 x10번의 질문이 이루어지는거다\n",
    "\n",
    "\"\"\"\n",
    "None"
   ]
  },
  {
   "cell_type": "code",
   "execution_count": 8,
   "id": "3c3f8fd5-127d-462e-b1da-5ad602b3bf36",
   "metadata": {},
   "outputs": [
    {
     "name": "stdout",
     "output_type": "stream",
     "text": [
      "{'query': 'Where does Winston live?', 'result': \"Based on the new context provided, it is reinforced that Winston lives in Victory Mansions, which is under constant surveillance and control by the Party. He resides in a cramped apartment where he faces the telescreen, a symbol of the Party's invasive surveillance. The oppressive atmosphere of his living quarters is further emphasized by the scarcity of food and the necessity of saving even a small piece of bread for breakfast. Winston copes with his harsh reality by consuming Victory Gin, a low-quality alcohol that provides temporary relief from the grimness of his existence. His living conditions reflect the bleak and controlled nature of the dystopian society in which he resides.\"}\n",
      "🟨🟨🟨🟨🟨🟨🟨🟨🟨🟨🟨🟨🟨🟨🟨🟨🟨🟨🟨🟨\n",
      "{'query': 'Describe Victory Mansions', 'result': 'Victory Mansions is the fictional run-down apartment complex where Winston Smith, the main character in George Orwell\\'s novel \"1984,\" resides. The building is described as dilapidated, with no functioning lift, dimly-lit staircases, and a pervasive smell of boiled cabbage and old rag mats. The residents, like Winston, live under constant surveillance by the Thought Police and telescreens. Winston\\'s unit in the building has an unusual arrangement, with the telescreen placed in an unconventional position that allows him some privacy from its watchful gaze. The bleak setting of Victory Mansions serves as a stark contrast to the beauty and rarity of the book Winston discovers, which becomes a coveted possession despite the risks associated with owning it in a society where independent thought and individualism are forbidden. The building, adorned with propaganda posters and telescreens constantly broadcasting Party propaganda, reflects the oppressive and controlling nature of the dystopian regime ruling over the inhabitants.'}\n"
     ]
    }
   ],
   "source": [
    "chain = RetrievalQA.from_chain_type(\n",
    "    llm=llm,\n",
    "    chain_type=\"refine\",  # chain type 변경!\n",
    "    retriever=vectorstore.as_retriever(),\n",
    ")\n",
    "\n",
    "# chain 호출\n",
    "print(chain.invoke(\"Where does Winston live?\"))\n",
    "print('🟨' * 20)\n",
    "print(chain.invoke(\"Describe Victory Mansions\"))"
   ]
  },
  {
   "cell_type": "markdown",
   "id": "1d901cac-2c48-4270-8fc0-3c320d0b4ec1",
   "metadata": {},
   "source": [
    "## FAISS vector store\n",
    "\n",
    "- FAISS (Facebook AI Similarity Search) 는 Facebook AI에서 개발한 고속 벡터 검색 및 유사도 검색 라이브러리.\n",
    "- 대량의 고차원 벡터 데이터를 빠르게 검색할 수 있도록 최적화되어 있다,\n",
    "- AI, 자연어 처리(NLP), 이미지 검색, 추천 시스템 등에서 자주 사용됨."
   ]
  },
  {
   "cell_type": "code",
   "execution_count": 9,
   "id": "eadcad51-4a00-40c4-a3fb-a7bca65f33e4",
   "metadata": {},
   "outputs": [],
   "source": [
    "# v0.3\n",
    "from langchain_community.vectorstores.faiss import FAISS\n",
    "# FAISS vector store integration.\n",
    "\n",
    "# https://python.langchain.com/api_reference/community/vectorstores/langchain_community.vectorstores.faiss.FAISS.html"
   ]
  },
  {
   "cell_type": "code",
   "execution_count": 11,
   "id": "e65c90ce-903b-41b1-9392-9730062a900d",
   "metadata": {},
   "outputs": [],
   "source": [
    "vectorstore = FAISS.from_documents(docs, embeddings)"
   ]
  },
  {
   "cell_type": "code",
   "execution_count": 12,
   "id": "90eb3559-f3dc-4ec8-973f-9e4770622c13",
   "metadata": {},
   "outputs": [
    {
     "name": "stdout",
     "output_type": "stream",
     "text": [
      "{'query': 'Where does Winston live?', 'result': \"In addition to his residence in Victory Mansions, Winston also engages in daily activities such as facing the telescreen with an expression of quiet optimism to avoid suspicion from the Party. He sacrifices his lunch to leave the Ministry and returns home to a meager kitchen with scarce food supplies. Despite the bleak atmosphere, Winston turns to Victory Gin for solace, even though it tastes unpleasant and evokes a physical reaction. This glimpse into Winston's routine emphasizes the scarcity and oppression prevalent in his environment, further highlighting the suffocating control exerted by the Party over every aspect of his existence.\"}\n",
      "🟨🟨🟨🟨🟨🟨🟨🟨🟨🟨🟨🟨🟨🟨🟨🟨🟨🟨🟨🟨\n",
      "{'query': 'Describe Victory Mansions', 'result': 'The additional context provides a deeper understanding of the environment within Victory Mansions, specifically within Winston\\'s living space. The description of the unusual placement of the telescreen in Winston\\'s living room, along with his deliberate positioning to evade its gaze, adds to the sense of surveillance and control in the dystopian society of \"1984.\" This information underscores the oppressive nature of the Party\\'s monitoring of its citizens and the constant scrutiny under which they live.\\n\\nFurthermore, the introduction of the old, forbidden book that Winston acquires from a junk shop sheds light on the scarcity and censorship of information within this society. The contrast between the beautiful, forbidden book and the decrepit surroundings of Victory Mansions highlights the stark disparity in access to knowledge and resources between the ruling Party members and the general population.\\n\\nIn summary, Victory Mansions can be seen as a symbol of the oppressive regime\\'s control over citizens\\' lives, the scarcity of resources, and the constant surveillance and censorship that define the dystopian world of \"1984.\"'}\n"
     ]
    }
   ],
   "source": [
    "chain = RetrievalQA.from_chain_type(\n",
    "    llm=llm,\n",
    "    chain_type=\"refine\",\n",
    "    retriever=vectorstore.as_retriever(),\n",
    ")\n",
    "\n",
    "# chain 호출\n",
    "print(chain.invoke(\"Where does Winston live?\"))\n",
    "print('🟨' * 20)\n",
    "print(chain.invoke(\"Describe Victory Mansions\"))"
   ]
  },
  {
   "cell_type": "markdown",
   "id": "76eedced-31db-4020-89d0-10e47b9de45e",
   "metadata": {},
   "source": [
    "## Map Reduce document chain\n",
    "\n",
    "https://js.langchain.com/v0.1/docs/modules/chains/document/map_reduce/\n",
    "\n",
    "![](https://js.langchain.com/v0.1/assets/images/map_reduce-c65525a871b62f5cacef431625c4d133.jpg)\n",
    "\n"
   ]
  },
  {
   "cell_type": "code",
   "execution_count": 13,
   "id": "8713512b-6041-4d93-a0b7-02133c6deeea",
   "metadata": {},
   "outputs": [],
   "source": [
    "\"\"\"\n",
    "[Map 단게]\n",
    "- query 를 입력하면, documents 들을 입력받아서 각각의 요약작업을 수행함 -> 각각의 요약결과물 출력\n",
    "\n",
    "[Reduce 단계]\n",
    "- 체인 출력을 새 문서로 처리합니다.\n",
    "- 그런 다음 모든 새 문서를 별도의 결합 문서 체인으로 전달하여 단일 출력을 얻는다.\n",
    "\n",
    "굉장히 크고 많은 연산들이 수행된다.\n",
    "\n",
    "\"\"\"\n",
    "None"
   ]
  },
  {
   "cell_type": "code",
   "execution_count": 14,
   "id": "90a3262a-4d26-4f23-8c46-6f77124b2a86",
   "metadata": {},
   "outputs": [
    {
     "name": "stdout",
     "output_type": "stream",
     "text": [
      "{'query': 'Where does Winston live?', 'result': 'Winston lives in Victory Mansions on the seventh floor, in a meager flat characterized by a pervasive surveillance state.'}\n",
      "🟨🟨🟨🟨🟨🟨🟨🟨🟨🟨🟨🟨🟨🟨🟨🟨🟨🟨🟨🟨\n",
      "{'query': 'Describe Victory Mansions', 'result': 'Victory Mansions is a dilapidated and run-down apartment building, located in a gloomy urban setting. The building has a shabby appearance, with cramped and poorly maintained living spaces. The area surrounding Victory Mansions is bleak, with few amenities and a general sense of neglect. The hallway inside smells of boiled cabbage and old rag mats, with a faulty elevator that is often not working due to electricity cuts. The building has a large colored poster of \"BIG BROTHER IS WATCHING YOU\" in the hallway. From the roof, you can see the four towering ministries - the Ministry of Truth, the Ministry of Peace, the Ministry of Love, and the Ministry of Plenty. Unusual positioning of items, like a telescreen opposite the window, plays a significant role in Winston\\'s life within Victory Mansions.'}\n"
     ]
    }
   ],
   "source": [
    "chain = RetrievalQA.from_chain_type(\n",
    "    llm=llm,\n",
    "    chain_type=\"map_reduce\",\n",
    "    retriever=vectorstore.as_retriever(),\n",
    ")\n",
    "\n",
    "# chain 호출\n",
    "print(chain.invoke(\"Where does Winston live?\"))\n",
    "print('🟨' * 20)\n",
    "print(chain.invoke(\"Describe Victory Mansions\"))"
   ]
  },
  {
   "cell_type": "markdown",
   "id": "f8743917-456c-474d-b022-a5068a0293f7",
   "metadata": {},
   "source": [
    "## Map re-rank documents chain\n",
    "\n",
    "![](https://www.jiniai.biz/wp-content/uploads/2023/11/image-8-1024x380.png)"
   ]
  },
  {
   "cell_type": "code",
   "execution_count": null,
   "id": "6870226c-1ed6-488e-9b0e-a53a83390282",
   "metadata": {},
   "outputs": [],
   "source": [
    "\"\"\"\n",
    "질문 \"What's foo?\"\n",
    "\n",
    "관련된 document 들을 입력받아서\n",
    "\n",
    "그러면, 각 document를 통해 답변을 생성하고, 각 답변에 '점수(score)'를 매긴다.\n",
    "그리고 최종적으로 가장 높은 점수를 획득한 답변과 그 점수를 합께 리턴해준다.\n",
    "\n",
    "\"\"\"\n",
    "None"
   ]
  },
  {
   "cell_type": "code",
   "execution_count": 15,
   "id": "974c293e-2d1c-420e-9b9c-8763ab68f583",
   "metadata": {},
   "outputs": [
    {
     "name": "stderr",
     "output_type": "stream",
     "text": [
      "D:\\Lang2505\\LangWork\\.venv\\Lib\\site-packages\\langchain\\chains\\llm.py:369: UserWarning: The apply_and_parse method is deprecated, instead pass an output parser directly to LLMChain.\n",
      "  warnings.warn(\n"
     ]
    },
    {
     "name": "stdout",
     "output_type": "stream",
     "text": [
      "{'query': 'Where does Winston live?', 'result': 'Victory Mansions'}\n",
      "🟨🟨🟨🟨🟨🟨🟨🟨🟨🟨🟨🟨🟨🟨🟨🟨🟨🟨🟨🟨\n"
     ]
    },
    {
     "name": "stderr",
     "output_type": "stream",
     "text": [
      "D:\\Lang2505\\LangWork\\.venv\\Lib\\site-packages\\langchain\\chains\\llm.py:369: UserWarning: The apply_and_parse method is deprecated, instead pass an output parser directly to LLMChain.\n",
      "  warnings.warn(\n"
     ]
    },
    {
     "name": "stdout",
     "output_type": "stream",
     "text": [
      "{'query': 'Describe Victory Mansions', 'result': 'It is a building where Winston Smith lives, which has a gritty, unpleasant smell and is poorly maintained. The interior hallway smells of boiled cabbage and old rag mats. It is described as having a poster with an enormous face, and the building is damp and in disrepair with a non-functioning elevator. The building is under constant surveillance, with a telescreen monitoring the residents. Overall, it is a rundown and dreary place.'}\n"
     ]
    }
   ],
   "source": [
    "chain = RetrievalQA.from_chain_type(\n",
    "    llm=llm,\n",
    "    chain_type=\"map_rerank\",\n",
    "    retriever=vectorstore.as_retriever(),\n",
    ")\n",
    "\n",
    "# chain 호출\n",
    "print(chain.invoke(\"Where does Winston live?\"))\n",
    "print('🟨' * 20)\n",
    "print(chain.invoke(\"Describe Victory Mansions\"))"
   ]
  },
  {
   "cell_type": "markdown",
   "id": "09ae7b3b-45bc-44aa-b9e9-d860912dfeef",
   "metadata": {},
   "source": [
    "# Stuff LCEL Chain"
   ]
  },
  {
   "cell_type": "markdown",
   "id": "efde75ca-87ce-4105-acdd-acefe44f060c",
   "metadata": {},
   "source": [
    "## Retriever 의 입출력\n",
    "Retriever 도 Chain 을 구성하는 component 다\n",
    "\n",
    "https://python.langchain.com/docs/concepts/retrievers/\n",
    "\n",
    "- Retriever 의 입력\n",
    "  - 질문이나, 그와 관련성이 있는 Document 를 얻기위한 query (한개의 string)\n",
    "\n",
    "- Retriever 의 출력\n",
    "  - Document 들의 List\n",
    "\n",
    "![](https://python.langchain.com/assets/images/retriever_concept-1093f15a8f63ddb90bd23decbd249ea5.png)\n"
   ]
  },
  {
   "cell_type": "code",
   "execution_count": 18,
   "id": "2f9fd90c-ca5e-4e87-bc12-e158189d7c62",
   "metadata": {},
   "outputs": [],
   "source": [
    "retriever = vectorstore.as_retriever()"
   ]
  },
  {
   "cell_type": "code",
   "execution_count": 16,
   "id": "4cb6778c-8c0d-42cd-bafb-c0c1deeffd37",
   "metadata": {},
   "outputs": [],
   "source": [
    "prompt = ChatPromptTemplate.from_messages([\n",
    "    (\"system\", \"\"\"\n",
    "        You are a helpful assistant.\n",
    "        Answer questions using only the following context.\n",
    "        If you don't know the answer just say you don't know,\n",
    "        don't make it up:\\n\\n{context}    \n",
    "    \"\"\"),\n",
    "    (\"human\", \"{question}\")\n",
    "])"
   ]
  },
  {
   "cell_type": "code",
   "execution_count": 19,
   "id": "9b0f684f-8143-4a6c-b7cf-8df3d3f025b3",
   "metadata": {},
   "outputs": [
    {
     "ename": "TypeError",
     "evalue": "Expected mapping type as input to ChatPromptTemplate. Received <class 'list'>.\nFor troubleshooting, visit: https://python.langchain.com/docs/troubleshooting/errors/INVALID_PROMPT_INPUT ",
     "output_type": "error",
     "traceback": [
      "\u001b[31m---------------------------------------------------------------------------\u001b[39m",
      "\u001b[31mTypeError\u001b[39m                                 Traceback (most recent call last)",
      "\u001b[36mCell\u001b[39m\u001b[36m \u001b[39m\u001b[32mIn[19]\u001b[39m\u001b[32m, line 3\u001b[39m\n\u001b[32m      1\u001b[39m chain = retriever | prompt | llm\n\u001b[32m----> \u001b[39m\u001b[32m3\u001b[39m \u001b[43mchain\u001b[49m\u001b[43m.\u001b[49m\u001b[43minvoke\u001b[49m\u001b[43m(\u001b[49m\u001b[33;43m\"\u001b[39;49m\u001b[33;43mDescribe Victory Mansions\u001b[39;49m\u001b[33;43m\"\u001b[39;49m\u001b[43m)\u001b[49m\n",
      "\u001b[36mFile \u001b[39m\u001b[32mD:\\Lang2505\\LangWork\\.venv\\Lib\\site-packages\\langchain_core\\runnables\\base.py:3047\u001b[39m, in \u001b[36mRunnableSequence.invoke\u001b[39m\u001b[34m(self, input, config, **kwargs)\u001b[39m\n\u001b[32m   3045\u001b[39m                 input_ = context.run(step.invoke, input_, config, **kwargs)\n\u001b[32m   3046\u001b[39m             \u001b[38;5;28;01melse\u001b[39;00m:\n\u001b[32m-> \u001b[39m\u001b[32m3047\u001b[39m                 input_ = \u001b[43mcontext\u001b[49m\u001b[43m.\u001b[49m\u001b[43mrun\u001b[49m\u001b[43m(\u001b[49m\u001b[43mstep\u001b[49m\u001b[43m.\u001b[49m\u001b[43minvoke\u001b[49m\u001b[43m,\u001b[49m\u001b[43m \u001b[49m\u001b[43minput_\u001b[49m\u001b[43m,\u001b[49m\u001b[43m \u001b[49m\u001b[43mconfig\u001b[49m\u001b[43m)\u001b[49m\n\u001b[32m   3048\u001b[39m \u001b[38;5;66;03m# finish the root run\u001b[39;00m\n\u001b[32m   3049\u001b[39m \u001b[38;5;28;01mexcept\u001b[39;00m \u001b[38;5;167;01mBaseException\u001b[39;00m \u001b[38;5;28;01mas\u001b[39;00m e:\n",
      "\u001b[36mFile \u001b[39m\u001b[32mD:\\Lang2505\\LangWork\\.venv\\Lib\\site-packages\\langchain_core\\prompts\\base.py:216\u001b[39m, in \u001b[36mBasePromptTemplate.invoke\u001b[39m\u001b[34m(self, input, config, **kwargs)\u001b[39m\n\u001b[32m    214\u001b[39m \u001b[38;5;28;01mif\u001b[39;00m \u001b[38;5;28mself\u001b[39m.tags:\n\u001b[32m    215\u001b[39m     config[\u001b[33m\"\u001b[39m\u001b[33mtags\u001b[39m\u001b[33m\"\u001b[39m] = config[\u001b[33m\"\u001b[39m\u001b[33mtags\u001b[39m\u001b[33m\"\u001b[39m] + \u001b[38;5;28mself\u001b[39m.tags\n\u001b[32m--> \u001b[39m\u001b[32m216\u001b[39m \u001b[38;5;28;01mreturn\u001b[39;00m \u001b[38;5;28;43mself\u001b[39;49m\u001b[43m.\u001b[49m\u001b[43m_call_with_config\u001b[49m\u001b[43m(\u001b[49m\n\u001b[32m    217\u001b[39m \u001b[43m    \u001b[49m\u001b[38;5;28;43mself\u001b[39;49m\u001b[43m.\u001b[49m\u001b[43m_format_prompt_with_error_handling\u001b[49m\u001b[43m,\u001b[49m\n\u001b[32m    218\u001b[39m \u001b[43m    \u001b[49m\u001b[38;5;28;43minput\u001b[39;49m\u001b[43m,\u001b[49m\n\u001b[32m    219\u001b[39m \u001b[43m    \u001b[49m\u001b[43mconfig\u001b[49m\u001b[43m,\u001b[49m\n\u001b[32m    220\u001b[39m \u001b[43m    \u001b[49m\u001b[43mrun_type\u001b[49m\u001b[43m=\u001b[49m\u001b[33;43m\"\u001b[39;49m\u001b[33;43mprompt\u001b[39;49m\u001b[33;43m\"\u001b[39;49m\u001b[43m,\u001b[49m\n\u001b[32m    221\u001b[39m \u001b[43m    \u001b[49m\u001b[43mserialized\u001b[49m\u001b[43m=\u001b[49m\u001b[38;5;28;43mself\u001b[39;49m\u001b[43m.\u001b[49m\u001b[43m_serialized\u001b[49m\u001b[43m,\u001b[49m\n\u001b[32m    222\u001b[39m \u001b[43m\u001b[49m\u001b[43m)\u001b[49m\n",
      "\u001b[36mFile \u001b[39m\u001b[32mD:\\Lang2505\\LangWork\\.venv\\Lib\\site-packages\\langchain_core\\runnables\\base.py:1940\u001b[39m, in \u001b[36mRunnable._call_with_config\u001b[39m\u001b[34m(self, func, input_, config, run_type, serialized, **kwargs)\u001b[39m\n\u001b[32m   1936\u001b[39m     child_config = patch_config(config, callbacks=run_manager.get_child())\n\u001b[32m   1937\u001b[39m     \u001b[38;5;28;01mwith\u001b[39;00m set_config_context(child_config) \u001b[38;5;28;01mas\u001b[39;00m context:\n\u001b[32m   1938\u001b[39m         output = cast(\n\u001b[32m   1939\u001b[39m             \u001b[33m\"\u001b[39m\u001b[33mOutput\u001b[39m\u001b[33m\"\u001b[39m,\n\u001b[32m-> \u001b[39m\u001b[32m1940\u001b[39m             \u001b[43mcontext\u001b[49m\u001b[43m.\u001b[49m\u001b[43mrun\u001b[49m\u001b[43m(\u001b[49m\n\u001b[32m   1941\u001b[39m \u001b[43m                \u001b[49m\u001b[43mcall_func_with_variable_args\u001b[49m\u001b[43m,\u001b[49m\u001b[43m  \u001b[49m\u001b[38;5;66;43;03m# type: ignore[arg-type]\u001b[39;49;00m\n\u001b[32m   1942\u001b[39m \u001b[43m                \u001b[49m\u001b[43mfunc\u001b[49m\u001b[43m,\u001b[49m\n\u001b[32m   1943\u001b[39m \u001b[43m                \u001b[49m\u001b[43minput_\u001b[49m\u001b[43m,\u001b[49m\n\u001b[32m   1944\u001b[39m \u001b[43m                \u001b[49m\u001b[43mconfig\u001b[49m\u001b[43m,\u001b[49m\n\u001b[32m   1945\u001b[39m \u001b[43m                \u001b[49m\u001b[43mrun_manager\u001b[49m\u001b[43m,\u001b[49m\n\u001b[32m   1946\u001b[39m \u001b[43m                \u001b[49m\u001b[43m*\u001b[49m\u001b[43m*\u001b[49m\u001b[43mkwargs\u001b[49m\u001b[43m,\u001b[49m\n\u001b[32m   1947\u001b[39m \u001b[43m            \u001b[49m\u001b[43m)\u001b[49m,\n\u001b[32m   1948\u001b[39m         )\n\u001b[32m   1949\u001b[39m \u001b[38;5;28;01mexcept\u001b[39;00m \u001b[38;5;167;01mBaseException\u001b[39;00m \u001b[38;5;28;01mas\u001b[39;00m e:\n\u001b[32m   1950\u001b[39m     run_manager.on_chain_error(e)\n",
      "\u001b[36mFile \u001b[39m\u001b[32mD:\\Lang2505\\LangWork\\.venv\\Lib\\site-packages\\langchain_core\\runnables\\config.py:428\u001b[39m, in \u001b[36mcall_func_with_variable_args\u001b[39m\u001b[34m(func, input, config, run_manager, **kwargs)\u001b[39m\n\u001b[32m    426\u001b[39m \u001b[38;5;28;01mif\u001b[39;00m run_manager \u001b[38;5;129;01mis\u001b[39;00m \u001b[38;5;129;01mnot\u001b[39;00m \u001b[38;5;28;01mNone\u001b[39;00m \u001b[38;5;129;01mand\u001b[39;00m accepts_run_manager(func):\n\u001b[32m    427\u001b[39m     kwargs[\u001b[33m\"\u001b[39m\u001b[33mrun_manager\u001b[39m\u001b[33m\"\u001b[39m] = run_manager\n\u001b[32m--> \u001b[39m\u001b[32m428\u001b[39m \u001b[38;5;28;01mreturn\u001b[39;00m \u001b[43mfunc\u001b[49m\u001b[43m(\u001b[49m\u001b[38;5;28;43minput\u001b[39;49m\u001b[43m,\u001b[49m\u001b[43m \u001b[49m\u001b[43m*\u001b[49m\u001b[43m*\u001b[49m\u001b[43mkwargs\u001b[49m\u001b[43m)\u001b[49m\n",
      "\u001b[36mFile \u001b[39m\u001b[32mD:\\Lang2505\\LangWork\\.venv\\Lib\\site-packages\\langchain_core\\prompts\\base.py:189\u001b[39m, in \u001b[36mBasePromptTemplate._format_prompt_with_error_handling\u001b[39m\u001b[34m(self, inner_input)\u001b[39m\n\u001b[32m    188\u001b[39m \u001b[38;5;28;01mdef\u001b[39;00m\u001b[38;5;250m \u001b[39m\u001b[34m_format_prompt_with_error_handling\u001b[39m(\u001b[38;5;28mself\u001b[39m, inner_input: \u001b[38;5;28mdict\u001b[39m) -> PromptValue:\n\u001b[32m--> \u001b[39m\u001b[32m189\u001b[39m     _inner_input = \u001b[38;5;28;43mself\u001b[39;49m\u001b[43m.\u001b[49m\u001b[43m_validate_input\u001b[49m\u001b[43m(\u001b[49m\u001b[43minner_input\u001b[49m\u001b[43m)\u001b[49m\n\u001b[32m    190\u001b[39m     \u001b[38;5;28;01mreturn\u001b[39;00m \u001b[38;5;28mself\u001b[39m.format_prompt(**_inner_input)\n",
      "\u001b[36mFile \u001b[39m\u001b[32mD:\\Lang2505\\LangWork\\.venv\\Lib\\site-packages\\langchain_core\\prompts\\base.py:165\u001b[39m, in \u001b[36mBasePromptTemplate._validate_input\u001b[39m\u001b[34m(self, inner_input)\u001b[39m\n\u001b[32m    160\u001b[39m     \u001b[38;5;28;01melse\u001b[39;00m:\n\u001b[32m    161\u001b[39m         msg = (\n\u001b[32m    162\u001b[39m             \u001b[33mf\u001b[39m\u001b[33m\"\u001b[39m\u001b[33mExpected mapping type as input to \u001b[39m\u001b[38;5;132;01m{\u001b[39;00m\u001b[38;5;28mself\u001b[39m.\u001b[34m__class__\u001b[39m.\u001b[34m__name__\u001b[39m\u001b[38;5;132;01m}\u001b[39;00m\u001b[33m. \u001b[39m\u001b[33m\"\u001b[39m\n\u001b[32m    163\u001b[39m             \u001b[33mf\u001b[39m\u001b[33m\"\u001b[39m\u001b[33mReceived \u001b[39m\u001b[38;5;132;01m{\u001b[39;00m\u001b[38;5;28mtype\u001b[39m(inner_input)\u001b[38;5;132;01m}\u001b[39;00m\u001b[33m.\u001b[39m\u001b[33m\"\u001b[39m\n\u001b[32m    164\u001b[39m         )\n\u001b[32m--> \u001b[39m\u001b[32m165\u001b[39m         \u001b[38;5;28;01mraise\u001b[39;00m \u001b[38;5;167;01mTypeError\u001b[39;00m(\n\u001b[32m    166\u001b[39m             create_message(\n\u001b[32m    167\u001b[39m                 message=msg, error_code=ErrorCode.INVALID_PROMPT_INPUT\n\u001b[32m    168\u001b[39m             )\n\u001b[32m    169\u001b[39m         )\n\u001b[32m    170\u001b[39m missing = \u001b[38;5;28mset\u001b[39m(\u001b[38;5;28mself\u001b[39m.input_variables).difference(inner_input)\n\u001b[32m    171\u001b[39m \u001b[38;5;28;01mif\u001b[39;00m missing:\n",
      "\u001b[31mTypeError\u001b[39m: Expected mapping type as input to ChatPromptTemplate. Received <class 'list'>.\nFor troubleshooting, visit: https://python.langchain.com/docs/troubleshooting/errors/INVALID_PROMPT_INPUT "
     ]
    }
   ],
   "source": [
    "chain = retriever | prompt | llm\n",
    "\n",
    "# chain.invoke(\"Describe Victory Mansions\")\n",
    "\n",
    "# ↑↑↑↑↑↑\n",
    "# 1. 이 문자열 query기 retriever 에 전달되는거다.\n",
    "# 2. retriever 는 List[Document] 를 리턴할거고 prompt 의 {context} 로 전달된다.\n",
    "#    또한, query 는 prompt 의 {question}으로 입력되어야 하는데..\n",
    "\n",
    "#  당연히 지금은 작동하지 않는다.  (알아서 동작해주는게 아니다.)\n",
    "\n",
    "# TypeError: Expected mapping type as input to ChatPromptTemplate. Received <class 'list'>."
   ]
  },
  {
   "cell_type": "code",
   "execution_count": 20,
   "id": "a683850d-cba4-4afc-91c9-62fcb14b62ea",
   "metadata": {},
   "outputs": [],
   "source": [
    "#  prompt 의 {context} property 는 retriever 로부터 오도록 하고\n",
    "#  retriever 는 invoke 에 입력해준 query 를 받아 호출(call)되어야 한다\n",
    "\n",
    "# 또한 query 는 prompt 의 {question} property 로 전달되게 해줘야 한다\n",
    "# 어떻게? RunnablePassthrough 를 사용!\n",
    "\n",
    "from langchain_core.runnables.passthrough import RunnablePassthrough\n",
    "\n",
    "# RunnablePassthrough 는 간단한 기능의 class 다.\n",
    "#  입력값을 그대로 통과하게 (pass through) 해준다\n",
    "#  \"question\": RunnablePassthrough()  =>  \"question\": \"Descrive Victory Mansions\""
   ]
  },
  {
   "cell_type": "code",
   "execution_count": 21,
   "id": "48bde414-027d-4169-9510-ae8623b71571",
   "metadata": {},
   "outputs": [
    {
     "data": {
      "text/plain": [
       "AIMessage(content='Victory Mansions is a building that Winston Smith enters through glass doors. Inside, the hallway smells of boiled cabbage and old rag mats. It has a coloured poster of an enormous face with a caption that reads \"BIG BROTHER IS WATCHING YOU.\" The building is described as having a malfunctioning lift due to a cut-off of the electric current during daylight hours. Winston\\'s flat in Victory Mansions is seven flights up, and there are posters with enormous faces on each landing opposite the lift-shaft. The building appears to be a part of a grimy landscape, with Winston\\'s flat having a window that overlooks a view of London, the chief city of Airstrip One.', additional_kwargs={'refusal': None}, response_metadata={'token_usage': {'completion_tokens': 141, 'prompt_tokens': 2093, 'total_tokens': 2234, 'completion_tokens_details': {'accepted_prediction_tokens': 0, 'audio_tokens': 0, 'reasoning_tokens': 0, 'rejected_prediction_tokens': 0}, 'prompt_tokens_details': {'audio_tokens': 0, 'cached_tokens': 0}}, 'model_name': 'gpt-3.5-turbo-0125', 'system_fingerprint': None, 'id': 'chatcmpl-BtvZYveQCw8ykIH6EunkjwQs5t8uA', 'finish_reason': 'stop', 'logprobs': None}, id='run--3f3be69e-64f6-4f53-bb77-c641d149639e-0', usage_metadata={'input_tokens': 2093, 'output_tokens': 141, 'total_tokens': 2234, 'input_token_details': {'audio': 0, 'cache_read': 0}, 'output_token_details': {'audio': 0, 'reasoning': 0}})"
      ]
     },
     "execution_count": 21,
     "metadata": {},
     "output_type": "execute_result"
    }
   ],
   "source": [
    "chain =  {\"context\": retriever , \"question\": RunnablePassthrough() } | prompt | llm\n",
    "\n",
    "chain.invoke(\"Describe Victory Mansions\")"
   ]
  },
  {
   "cell_type": "code",
   "execution_count": 26,
   "id": "6f87f545-6395-4f0d-ae98-a06efd81aae8",
   "metadata": {},
   "outputs": [
    {
     "data": {
      "text/plain": [
       "AIMessage(content='Victory Mansions is a building where Winston Smith resides in George Orwell\\'s novel \"1984.\" The building has glass doors, a hallway smelling of boiled cabbage and old rag mats, and is seven flights up. The elevator rarely works, and the electricity is cut off during daylight hours as part of an economy drive for Hate Week. Inside the flat, there is a telescreen on the right-hand wall, and the building is adorned with a poster depicting an enormous face with the caption \"BIG BROTHER IS WATCHING YOU.\"', additional_kwargs={'refusal': None}, response_metadata={'token_usage': {'completion_tokens': 108, 'prompt_tokens': 2093, 'total_tokens': 2201, 'completion_tokens_details': {'accepted_prediction_tokens': 0, 'audio_tokens': 0, 'reasoning_tokens': 0, 'rejected_prediction_tokens': 0}, 'prompt_tokens_details': {'audio_tokens': 0, 'cached_tokens': 0}}, 'model_name': 'gpt-3.5-turbo-0125', 'system_fingerprint': None, 'id': 'chatcmpl-BtvcfyT6dWLJFFmhXNKzwjs0Hw8O8', 'finish_reason': 'stop', 'logprobs': None}, id='run--e395b3f7-1ad9-4ae7-9c7c-44c06c9c9475-0', usage_metadata={'input_tokens': 2093, 'output_tokens': 108, 'total_tokens': 2201, 'input_token_details': {'audio': 0, 'cache_read': 0}, 'output_token_details': {'audio': 0, 'reasoning': 0}})"
      ]
     },
     "execution_count": 26,
     "metadata": {},
     "output_type": "execute_result"
    }
   ],
   "source": [
    "chain = ( \n",
    "    {\n",
    "        \"context\": retriever , \n",
    "        \"question\": RunnablePassthrough(),\n",
    "        \"xxxxx\": RunnablePassthrough(),\n",
    "    } \n",
    "    | prompt \n",
    "    | llm\n",
    ")\n",
    "\n",
    "chain.invoke(\"Describe Victory Mansions\")"
   ]
  },
  {
   "cell_type": "markdown",
   "id": "ca7beeda-41d6-4e3b-bc21-7457379cfcc3",
   "metadata": {},
   "source": [
    "# 8.Map Reduce LCEL Chain\n",
    "\n",
    "https://js.langchain.com/v0.1/docs/modules/chains/document/map_reduce/\n",
    "\n",
    "![](https://js.langchain.com/v0.1/assets/images/map_reduce-c65525a871b62f5cacef431625c4d133.jpg)\n",
    "\n"
   ]
  },
  {
   "cell_type": "code",
   "execution_count": null,
   "id": "e8c89757-18ca-4d9c-9420-f5ae6b3cd763",
   "metadata": {},
   "outputs": [],
   "source": [
    "# [Map 단계]\n",
    "# - query 를 입력하면, documents 들을 입력받아서 각각의 요약작업을 수행함 -> '각각의 요약결과물' 출력\n",
    "\n",
    "# [Reduce 단계]\n",
    "# - 체인 출력을 새 문서로 처리합니다.\n",
    "# - 그런 다음 모든 새 문서를 별도의 결합 문서 체인으로 전달하여 '단일 출력'을 얻는다."
   ]
  },
  {
   "cell_type": "code",
   "execution_count": null,
   "id": "ef160a56-e5ab-4b5b-8a28-73b0b28f69e5",
   "metadata": {},
   "outputs": [],
   "source": [
    "\"\"\"\n",
    "> query 가 주어지면 retriever 로부터  List[Document] 를 얻어낸다\n",
    "  -> list of docs\n",
    "\n",
    "> 각각의 Document 를 위한 prompt 를 만들어 준뒤 llm 에 전달할거다.\n",
    "     for doc in list of docs | prompt | llm\n",
    "\n",
    "  ↑ 이때 prompt 는 '이 Document 를 읽고, 사용자의 질문에 답변하기에 적절한(관련있는) 정보를 추출하세요'\n",
    "  그러면, 이를 전달받은 LLM 은 응답을 출력할거다\n",
    "\n",
    "> 그리고 LLM 으로 부터 받은 'response 들'을 취합해 '하나의 Document' 를 만들어낼거다\n",
    "\n",
    "   for resposne in list of llms responee | put them all together\n",
    "\n",
    "> 그렇게 만들어진 단 하나의 최종 Document가, LLM 을 위한 prompt 로 전달될거다.\n",
    "\n",
    "  final doc | prompt | llm\n",
    "\n",
    "\"\"\"\n",
    "None"
   ]
  },
  {
   "cell_type": "code",
   "execution_count": null,
   "id": "6b12085d-5b44-40ab-99fb-de5e1cbf0f98",
   "metadata": {},
   "outputs": [],
   "source": []
  },
  {
   "cell_type": "code",
   "execution_count": null,
   "id": "9b310b1a-45aa-401b-b4d1-837e5302aef2",
   "metadata": {},
   "outputs": [],
   "source": [
    "# TODO\n",
    "\n",
    "# -----------------------------------------------------\n",
    "final_prompt = ChatPromptTemplate.from_messages([\n",
    "    (\n",
    "      \"system\",\n",
    "      \"\"\"\n",
    "      Given the following extracted parts of a long document and a question, create a final answer.\n",
    "      If you don't know the answer, just say that you don't know. Don't try to make up an answer.\n",
    "      ------\n",
    "      {context}\n",
    "      \"\"\",\n",
    "    ),\n",
    "    (\"human\", \"{question}\"),\n",
    "])\n",
    "\n",
    "# [Reduce]최종 chain! \n",
    "# {context} 에는 위에서 만든 map_chain 호출결과 output 이 넘겨진다.\n",
    "# map_chain 호출시 invoke(query) 의 query 가 map_chain 의 input 으로 넘겨진다는 사실을 잊지 말자.\n",
    "\n",
    "chain =  {\"context\": map_chain, \"question\": RunnablePassthrough()} | final_prompt | llm\n",
    "\n",
    "chain.invoke(\"Describe Victory Mansions\")  # <- chain 호출 query"
   ]
  },
  {
   "cell_type": "code",
   "execution_count": null,
   "id": "81795f99-6225-4e7e-b31f-c0251b45316e",
   "metadata": {},
   "outputs": [],
   "source": []
  },
  {
   "cell_type": "code",
   "execution_count": null,
   "id": "c1d4ab7c-a701-43c4-a803-04b4325f1a13",
   "metadata": {},
   "outputs": [],
   "source": []
  },
  {
   "cell_type": "code",
   "execution_count": null,
   "id": "92e5626c-f282-426a-9a6a-38a6ff992510",
   "metadata": {},
   "outputs": [],
   "source": []
  },
  {
   "cell_type": "code",
   "execution_count": null,
   "id": "8cba0a95-da36-492c-8a4d-dfe632074f30",
   "metadata": {},
   "outputs": [],
   "source": []
  },
  {
   "cell_type": "code",
   "execution_count": null,
   "id": "8215ff55-0548-43de-840d-cd6fe79a815a",
   "metadata": {},
   "outputs": [],
   "source": []
  },
  {
   "cell_type": "code",
   "execution_count": null,
   "id": "857d50c4-3603-4659-8f4c-fc78aad5d274",
   "metadata": {},
   "outputs": [],
   "source": []
  },
  {
   "cell_type": "code",
   "execution_count": null,
   "id": "164f71e9-6dc8-4a19-a77d-a977ca855530",
   "metadata": {},
   "outputs": [],
   "source": []
  },
  {
   "cell_type": "code",
   "execution_count": null,
   "id": "728d1f48-852c-49bf-a688-8e51fdeba6ce",
   "metadata": {},
   "outputs": [],
   "source": []
  },
  {
   "cell_type": "code",
   "execution_count": null,
   "id": "df33ea8f-df30-40e2-b0dd-31cd40aca0df",
   "metadata": {},
   "outputs": [],
   "source": []
  },
  {
   "cell_type": "code",
   "execution_count": null,
   "id": "a4bf32f8-1caa-4f17-aacd-c38308fcf99c",
   "metadata": {},
   "outputs": [],
   "source": []
  },
  {
   "cell_type": "code",
   "execution_count": null,
   "id": "af96d02a-6775-4070-a441-af41817eab1a",
   "metadata": {},
   "outputs": [],
   "source": []
  },
  {
   "cell_type": "code",
   "execution_count": null,
   "id": "f91b3aae-f09e-4e17-95d0-0c3b206197ae",
   "metadata": {},
   "outputs": [],
   "source": []
  }
 ],
 "metadata": {
  "kernelspec": {
   "display_name": "Python 3 (ipykernel)",
   "language": "python",
   "name": "python3"
  },
  "language_info": {
   "codemirror_mode": {
    "name": "ipython",
    "version": 3
   },
   "file_extension": ".py",
   "mimetype": "text/x-python",
   "name": "python",
   "nbconvert_exporter": "python",
   "pygments_lexer": "ipython3",
   "version": "3.12.7"
  }
 },
 "nbformat": 4,
 "nbformat_minor": 5
}
